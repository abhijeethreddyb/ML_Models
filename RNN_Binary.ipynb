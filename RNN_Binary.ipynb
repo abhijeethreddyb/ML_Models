{
 "cells": [
  {
   "cell_type": "markdown",
   "id": "732b9f6e",
   "metadata": {
    "canvas": {
     "comments": [],
     "componentType": "CodeCell",
     "copiedOriginId": "ec30e86c-b611-4744-9a65-d16a64821283",
     "diskcache": false,
     "headerColor": "transparent",
     "id": "470c2f0d-b11c-45b9-ac16-b54b45a021ac",
     "isComponent": false,
     "name": "",
     "parents": []
    },
    "tags": []
   },
   "source": [
    "# Wheat vs Non_Wheat Classifier"
   ]
  },
  {
   "cell_type": "markdown",
   "id": "ffcf282f",
   "metadata": {
    "canvas": {
     "comments": [],
     "componentType": "CodeCell",
     "copiedOriginId": "c2b5acbe-ad45-427d-a185-59a4064ccc80",
     "diskcache": false,
     "headerColor": "transparent",
     "id": "c04d9d6c-5b24-476b-9054-053ffdd66ffe",
     "isComponent": false,
     "name": "",
     "parents": []
    }
   },
   "source": [
    "## Basic Charateristic Check"
   ]
  },
  {
   "cell_type": "code",
   "execution_count": null,
   "id": "1d968870-5806-435b-b7af-a0f92015b70b",
   "metadata": {
    "canvas": {
     "comments": [],
     "componentType": "CodeCell",
     "copiedOriginId": "a6d547d7-ec12-4786-a1de-0ee3ae6f1a14",
     "diskcache": false,
     "headerColor": "transparent",
     "id": "0504252c-e45c-4902-bf5c-9d8731206c06",
     "isComponent": false,
     "name": "",
     "parents": []
    }
   },
   "outputs": [],
   "source": [
    "from glob import glob\n",
    "import geopandas as gp\n",
    "import numpy as np\n",
    "import pandas as pd\n",
    "import pickle\n",
    "from copy import deepcopy\n",
    "from sklearn.metrics import precision_recall_fscore_support as score\n",
    "from sklearn.metrics import confusion_matrix\n",
    "import seaborn as sns\n",
    "import matplotlib.pyplot as plt\n",
    "from sklearn.model_selection import train_test_split\n",
    "from sklearn.preprocessing import StandardScaler\n",
    "from sklearn.utils.class_weight import compute_sample_weight\n",
    "import torch\n",
    "from sklearn.model_selection import StratifiedKFold\n",
    "from torch.utils.data import TensorDataset, DataLoader\n",
    "from torch import nn\n",
    "import torch.optim as optim\n",
    "from torch.optim import lr_scheduler as lr_sc\n",
    "import random\n",
    "\n",
    "import warnings\n",
    "warnings.filterwarnings(\"ignore\")"
   ]
  },
  {
   "cell_type": "code",
   "execution_count": null,
   "id": "e9c3a360-dea8-4700-8698-062ac4a1c5d4",
   "metadata": {
    "canvas": {
     "comments": [],
     "componentType": "CodeCell",
     "copiedOriginId": "1dbe63d8-a776-4fff-b941-ac7196e28be1",
     "diskcache": false,
     "headerColor": "transparent",
     "id": "30a28739-4e4b-41cc-a76b-863252fefdb9",
     "isComponent": false,
     "name": "",
     "parents": []
    }
   },
   "outputs": [],
   "source": [
    "df1 = pd.read_csv(r'data_files/Copy of NDVI Wheat MP 5 periods 10 Bands - Sheet1.csv')\n",
    "df2 = pd.read_csv(r'data_files/Copy of NDVI Wheat MP 5 periods 10 Bands - Sheet2.csv')"
   ]
  },
  {
   "cell_type": "code",
   "execution_count": null,
   "id": "d88427d6-03cf-44b9-af79-a6f014d3b4d7",
   "metadata": {
    "canvas": {
     "comments": [],
     "componentType": "CodeCell",
     "copiedOriginId": "2c537fb4-70e7-4052-acaa-1f9d3ffe0e2d",
     "diskcache": false,
     "headerColor": "transparent",
     "id": "4a789849-f874-436e-bc8b-9f538809096d",
     "isComponent": false,
     "name": "",
     "parents": []
    }
   },
   "outputs": [],
   "source": [
    "wheat = pd.concat([df1, df2], axis=1)"
   ]
  },
  {
   "cell_type": "code",
   "execution_count": null,
   "id": "e39bb9e0-d10b-4fe7-a845-295f8b99571b",
   "metadata": {
    "canvas": {
     "comments": [],
     "componentType": "CodeCell",
     "copiedOriginId": "839dd848-34da-4cc4-9d35-a52a9e6eb3dd",
     "diskcache": false,
     "headerColor": "transparent",
     "id": "b8bd3e29-3314-4e90-bb60-fe14f6ee8ca4",
     "isComponent": false,
     "name": "",
     "parents": []
    }
   },
   "outputs": [
    {
     "data": {
      "text/html": [
       "<div>\n",
       "<style scoped>\n",
       "    .dataframe tbody tr th:only-of-type {\n",
       "        vertical-align: middle;\n",
       "    }\n",
       "\n",
       "    .dataframe tbody tr th {\n",
       "        vertical-align: top;\n",
       "    }\n",
       "\n",
       "    .dataframe thead th {\n",
       "        text-align: right;\n",
       "    }\n",
       "</style>\n",
       "<table border=\"1\" class=\"dataframe\">\n",
       "  <thead>\n",
       "    <tr style=\"text-align: right;\">\n",
       "      <th></th>\n",
       "      <th>0</th>\n",
       "      <th>1</th>\n",
       "      <th>2</th>\n",
       "      <th>3</th>\n",
       "      <th>4</th>\n",
       "      <th>5</th>\n",
       "      <th>6</th>\n",
       "      <th>7</th>\n",
       "      <th>8</th>\n",
       "      <th>9</th>\n",
       "      <th>Label</th>\n",
       "      <th>latitude</th>\n",
       "      <th>longitude</th>\n",
       "      <th>Dist</th>\n",
       "    </tr>\n",
       "  </thead>\n",
       "  <tbody>\n",
       "    <tr>\n",
       "      <th>0</th>\n",
       "      <td>117</td>\n",
       "      <td>154</td>\n",
       "      <td>185</td>\n",
       "      <td>186</td>\n",
       "      <td>191</td>\n",
       "      <td>191</td>\n",
       "      <td>185</td>\n",
       "      <td>177</td>\n",
       "      <td>131</td>\n",
       "      <td>120</td>\n",
       "      <td>0</td>\n",
       "      <td>23.22102420000</td>\n",
       "      <td>75.54814340000</td>\n",
       "      <td>UJJAIN</td>\n",
       "    </tr>\n",
       "    <tr>\n",
       "      <th>1</th>\n",
       "      <td>118</td>\n",
       "      <td>153</td>\n",
       "      <td>172</td>\n",
       "      <td>182</td>\n",
       "      <td>189</td>\n",
       "      <td>181</td>\n",
       "      <td>173</td>\n",
       "      <td>157</td>\n",
       "      <td>124</td>\n",
       "      <td>118</td>\n",
       "      <td>0</td>\n",
       "      <td>22.74924340000</td>\n",
       "      <td>76.28596060000</td>\n",
       "      <td>DEWAS</td>\n",
       "    </tr>\n",
       "  </tbody>\n",
       "</table>\n",
       "</div>"
      ],
      "text/plain": [
       "     0    1    2    3    4    5    6    7    8    9  Label        latitude  \\\n",
       "0  117  154  185  186  191  191  185  177  131  120      0  23.22102420000   \n",
       "1  118  153  172  182  189  181  173  157  124  118      0  22.74924340000   \n",
       "\n",
       "        longitude    Dist  \n",
       "0  75.54814340000  UJJAIN  \n",
       "1  76.28596060000   DEWAS  "
      ]
     },
     "execution_count": 78,
     "metadata": {},
     "output_type": "execute_result"
    }
   ],
   "source": [
    "wheat.head(2)"
   ]
  },
  {
   "cell_type": "code",
   "execution_count": null,
   "id": "32fc195a-62f7-496e-9089-dd61169f1388",
   "metadata": {
    "canvas": {
     "comments": [],
     "componentType": "CodeCell",
     "copiedOriginId": "9ce23ae0-1868-4b38-a820-ea3a7fb86197",
     "diskcache": false,
     "headerColor": "transparent",
     "id": "aa694a9d-c3bb-40a9-9f00-a05b2bfbc41f",
     "isComponent": false,
     "name": "",
     "parents": []
    }
   },
   "outputs": [],
   "source": [
    "wheat.rename({'0':'oct_2f', '1':'nov_1f', '2':'nov_2f', '3':'dec_1f', '4':'dec_2f', '5':'jan_1f', '6':'jan_2f', '7':'feb_1f', '8':'feb_2f', '9':'mar_1f', 'Label':'label', 'Dist':'district'}, axis=1, inplace=True)"
   ]
  },
  {
   "cell_type": "code",
   "execution_count": null,
   "id": "3a83c0ec-190d-4c47-97ff-75e99d0decb9",
   "metadata": {
    "canvas": {
     "comments": [],
     "componentType": "CodeCell",
     "copiedOriginId": "ac494643-0907-4f68-8028-cc7f6b0fb608",
     "diskcache": false,
     "headerColor": "transparent",
     "id": "fb251abe-4416-49f4-b8f7-85a3ffb0f28c",
     "isComponent": false,
     "name": "",
     "parents": []
    }
   },
   "outputs": [],
   "source": [
    "wheat.drop(['latitude', 'longitude'], axis=1, inplace=True)"
   ]
  },
  {
   "cell_type": "code",
   "execution_count": null,
   "id": "c482a71c-ac1a-4635-ae70-950d34574e9d",
   "metadata": {
    "canvas": {
     "comments": [],
     "componentType": "CodeCell",
     "copiedOriginId": "d100d357-0bd2-44ba-ba5c-be960c90e742",
     "diskcache": false,
     "headerColor": "transparent",
     "id": "69ce9542-f099-4d70-8adb-3c7541e230be",
     "isComponent": false,
     "name": "",
     "parents": []
    }
   },
   "outputs": [
    {
     "data": {
      "text/html": [
       "<div>\n",
       "<style scoped>\n",
       "    .dataframe tbody tr th:only-of-type {\n",
       "        vertical-align: middle;\n",
       "    }\n",
       "\n",
       "    .dataframe tbody tr th {\n",
       "        vertical-align: top;\n",
       "    }\n",
       "\n",
       "    .dataframe thead th {\n",
       "        text-align: right;\n",
       "    }\n",
       "</style>\n",
       "<table border=\"1\" class=\"dataframe\">\n",
       "  <thead>\n",
       "    <tr style=\"text-align: right;\">\n",
       "      <th></th>\n",
       "      <th>oct_2f</th>\n",
       "      <th>nov_1f</th>\n",
       "      <th>nov_2f</th>\n",
       "      <th>dec_1f</th>\n",
       "      <th>dec_2f</th>\n",
       "      <th>jan_1f</th>\n",
       "      <th>jan_2f</th>\n",
       "      <th>feb_1f</th>\n",
       "      <th>feb_2f</th>\n",
       "      <th>mar_1f</th>\n",
       "      <th>label</th>\n",
       "      <th>district</th>\n",
       "    </tr>\n",
       "  </thead>\n",
       "  <tbody>\n",
       "    <tr>\n",
       "      <th>0</th>\n",
       "      <td>117</td>\n",
       "      <td>154</td>\n",
       "      <td>185</td>\n",
       "      <td>186</td>\n",
       "      <td>191</td>\n",
       "      <td>191</td>\n",
       "      <td>185</td>\n",
       "      <td>177</td>\n",
       "      <td>131</td>\n",
       "      <td>120</td>\n",
       "      <td>0</td>\n",
       "      <td>UJJAIN</td>\n",
       "    </tr>\n",
       "    <tr>\n",
       "      <th>1</th>\n",
       "      <td>118</td>\n",
       "      <td>153</td>\n",
       "      <td>172</td>\n",
       "      <td>182</td>\n",
       "      <td>189</td>\n",
       "      <td>181</td>\n",
       "      <td>173</td>\n",
       "      <td>157</td>\n",
       "      <td>124</td>\n",
       "      <td>118</td>\n",
       "      <td>0</td>\n",
       "      <td>DEWAS</td>\n",
       "    </tr>\n",
       "  </tbody>\n",
       "</table>\n",
       "</div>"
      ],
      "text/plain": [
       "  oct_2f nov_1f nov_2f dec_1f dec_2f jan_1f jan_2f feb_1f feb_2f mar_1f  \\\n",
       "0    117    154    185    186    191    191    185    177    131    120   \n",
       "1    118    153    172    182    189    181    173    157    124    118   \n",
       "\n",
       "   label district  \n",
       "0      0   UJJAIN  \n",
       "1      0    DEWAS  "
      ]
     },
     "execution_count": 81,
     "metadata": {},
     "output_type": "execute_result"
    }
   ],
   "source": [
    "wheat.head(2)"
   ]
  },
  {
   "cell_type": "code",
   "execution_count": null,
   "id": "bc238f57-2645-4697-a417-9ca753b4ef83",
   "metadata": {
    "canvas": {
     "comments": [],
     "componentType": "CodeCell",
     "copiedOriginId": "a2b566c3-e6dd-456f-ae67-f0bc584853cd",
     "diskcache": false,
     "headerColor": "transparent",
     "id": "efcbe7d4-08c5-4894-9f11-be60e028a837",
     "isComponent": false,
     "name": "",
     "parents": []
    }
   },
   "outputs": [],
   "source": [
    "xlsx = pd.ExcelFile('data_files/MP_crop_profiles.xlsx')\n",
    "gram = pd.read_excel(xlsx, 'Gram')\n",
    "mustard = pd.read_excel(xlsx, 'Mustard')\n",
    "mustard1 = pd.read_excel(r'data_files/Mustard_GT_profiles_MP_30may23.xlsx')\n",
    "pulses = pd.read_excel(xlsx, 'pulses')"
   ]
  },
  {
   "cell_type": "code",
   "execution_count": null,
   "id": "d2a7fa37-f6a9-4f1f-b793-27b2d7591721",
   "metadata": {
    "canvas": {
     "comments": [],
     "componentType": "CodeCell",
     "copiedOriginId": "379ee7e4-1c7c-4dd0-be30-312c4e651e66",
     "diskcache": false,
     "headerColor": "transparent",
     "id": "09b09b20-be06-4a43-92b4-f8dbc40086e6",
     "isComponent": false,
     "name": "",
     "parents": []
    },
    "tags": []
   },
   "outputs": [
    {
     "data": {
      "text/html": [
       "<div>\n",
       "<style scoped>\n",
       "    .dataframe tbody tr th:only-of-type {\n",
       "        vertical-align: middle;\n",
       "    }\n",
       "\n",
       "    .dataframe tbody tr th {\n",
       "        vertical-align: top;\n",
       "    }\n",
       "\n",
       "    .dataframe thead th {\n",
       "        text-align: right;\n",
       "    }\n",
       "</style>\n",
       "<table border=\"1\" class=\"dataframe\">\n",
       "  <thead>\n",
       "    <tr style=\"text-align: right;\">\n",
       "      <th></th>\n",
       "      <th>lat</th>\n",
       "      <th>long</th>\n",
       "      <th>Crop_Nam_1</th>\n",
       "      <th>STATE_NAME</th>\n",
       "      <th>DISTRICT</th>\n",
       "      <th>Oct_2FN</th>\n",
       "      <th>Nov_1FN</th>\n",
       "      <th>Nov_2FN</th>\n",
       "      <th>Dec_1FN</th>\n",
       "      <th>Dec_2FN</th>\n",
       "      <th>Jan_1FN</th>\n",
       "      <th>Jan_2FN</th>\n",
       "      <th>Feb_1Fn</th>\n",
       "      <th>Feb_2Fn</th>\n",
       "      <th>Mar_1Fn</th>\n",
       "    </tr>\n",
       "  </thead>\n",
       "  <tbody>\n",
       "    <tr>\n",
       "      <th>0</th>\n",
       "      <td>24.031002</td>\n",
       "      <td>75.761473</td>\n",
       "      <td>2 Mustard</td>\n",
       "      <td>Madhya Pradesh</td>\n",
       "      <td>MANDSAUR</td>\n",
       "      <td>131</td>\n",
       "      <td>130</td>\n",
       "      <td>178</td>\n",
       "      <td>185</td>\n",
       "      <td>183</td>\n",
       "      <td>183</td>\n",
       "      <td>184</td>\n",
       "      <td>181</td>\n",
       "      <td>150</td>\n",
       "      <td>130</td>\n",
       "    </tr>\n",
       "    <tr>\n",
       "      <th>1</th>\n",
       "      <td>24.326160</td>\n",
       "      <td>75.020576</td>\n",
       "      <td>2 Mustard</td>\n",
       "      <td>Madhya Pradesh</td>\n",
       "      <td>MANDSAUR</td>\n",
       "      <td>118</td>\n",
       "      <td>130</td>\n",
       "      <td>174</td>\n",
       "      <td>190</td>\n",
       "      <td>189</td>\n",
       "      <td>187</td>\n",
       "      <td>182</td>\n",
       "      <td>160</td>\n",
       "      <td>127</td>\n",
       "      <td>125</td>\n",
       "    </tr>\n",
       "    <tr>\n",
       "      <th>2</th>\n",
       "      <td>25.300808</td>\n",
       "      <td>78.009660</td>\n",
       "      <td>2 Mustard</td>\n",
       "      <td>Madhya Pradesh</td>\n",
       "      <td>SHIVPURI</td>\n",
       "      <td>125</td>\n",
       "      <td>130</td>\n",
       "      <td>180</td>\n",
       "      <td>189</td>\n",
       "      <td>187</td>\n",
       "      <td>183</td>\n",
       "      <td>184</td>\n",
       "      <td>179</td>\n",
       "      <td>155</td>\n",
       "      <td>131</td>\n",
       "    </tr>\n",
       "  </tbody>\n",
       "</table>\n",
       "</div>"
      ],
      "text/plain": [
       "         lat       long Crop_Nam_1      STATE_NAME  DISTRICT  Oct_2FN  \\\n",
       "0  24.031002  75.761473  2 Mustard  Madhya Pradesh  MANDSAUR      131   \n",
       "1  24.326160  75.020576  2 Mustard  Madhya Pradesh  MANDSAUR      118   \n",
       "2  25.300808  78.009660  2 Mustard  Madhya Pradesh  SHIVPURI      125   \n",
       "\n",
       "   Nov_1FN  Nov_2FN  Dec_1FN  Dec_2FN  Jan_1FN  Jan_2FN  Feb_1Fn  Feb_2Fn  \\\n",
       "0      130      178      185      183      183      184      181      150   \n",
       "1      130      174      190      189      187      182      160      127   \n",
       "2      130      180      189      187      183      184      179      155   \n",
       "\n",
       "   Mar_1Fn  \n",
       "0      130  \n",
       "1      125  \n",
       "2      131  "
      ]
     },
     "execution_count": 83,
     "metadata": {},
     "output_type": "execute_result"
    }
   ],
   "source": [
    "mustard1.head(3)"
   ]
  },
  {
   "cell_type": "code",
   "execution_count": null,
   "id": "96b5c1c7-6740-49bc-87a3-cfa623e5ba08",
   "metadata": {
    "canvas": {
     "comments": [],
     "componentType": "CodeCell",
     "copiedOriginId": "ccd80b09-179a-48bf-b2bf-a8c60b69c882",
     "diskcache": false,
     "headerColor": "transparent",
     "id": "1df05dc3-d5f5-45d0-8bd2-682c728c5bd0",
     "isComponent": false,
     "name": "",
     "parents": []
    },
    "scrolled": true
   },
   "outputs": [],
   "source": [
    "mustard1.drop(['lat', 'long', 'STATE_NAME'], axis=1, inplace=True)\n",
    "mustard1.rename({'Crop_Nam_1':'label'}, axis=1, inplace=True)\n",
    "mustard1.label = mustard1.label.apply(lambda row : row[2:])\n",
    "mustard1.columns = ['label', 'district', 'oct_2f', 'nov_1f', 'nov_2f', 'dec_1f', 'dec_2f', 'jan_1f', 'jan_2f', 'feb_1f', 'feb_2f', 'mar_1f']"
   ]
  },
  {
   "cell_type": "code",
   "execution_count": null,
   "id": "d25b82cd-643d-45d1-ae3d-c84af62084b2",
   "metadata": {
    "canvas": {
     "comments": [],
     "componentType": "CodeCell",
     "copiedOriginId": "84aef1b6-3c98-4669-b653-409316ef2aa6",
     "diskcache": false,
     "headerColor": "transparent",
     "id": "92659a26-9f12-4d17-bbef-00cac91548be",
     "isComponent": false,
     "name": "",
     "parents": []
    }
   },
   "outputs": [
    {
     "data": {
      "text/html": [
       "<div>\n",
       "<style scoped>\n",
       "    .dataframe tbody tr th:only-of-type {\n",
       "        vertical-align: middle;\n",
       "    }\n",
       "\n",
       "    .dataframe tbody tr th {\n",
       "        vertical-align: top;\n",
       "    }\n",
       "\n",
       "    .dataframe thead th {\n",
       "        text-align: right;\n",
       "    }\n",
       "</style>\n",
       "<table border=\"1\" class=\"dataframe\">\n",
       "  <thead>\n",
       "    <tr style=\"text-align: right;\">\n",
       "      <th></th>\n",
       "      <th>label</th>\n",
       "      <th>district</th>\n",
       "      <th>Oct_2F</th>\n",
       "      <th>Nov_1F</th>\n",
       "      <th>Nov_2F</th>\n",
       "      <th>Dec_1F</th>\n",
       "      <th>Dec_2F</th>\n",
       "      <th>Jan_1F</th>\n",
       "      <th>Jan_2F</th>\n",
       "      <th>Feb_1F</th>\n",
       "      <th>Feb_2F</th>\n",
       "      <th>Mar_1F</th>\n",
       "    </tr>\n",
       "  </thead>\n",
       "  <tbody>\n",
       "    <tr>\n",
       "      <th>0</th>\n",
       "      <td>Pulses</td>\n",
       "      <td>ALIRAJPUR</td>\n",
       "      <td>158</td>\n",
       "      <td>131</td>\n",
       "      <td>132</td>\n",
       "      <td>134</td>\n",
       "      <td>149</td>\n",
       "      <td>157</td>\n",
       "      <td>161</td>\n",
       "      <td>159</td>\n",
       "      <td>141</td>\n",
       "      <td>127</td>\n",
       "    </tr>\n",
       "    <tr>\n",
       "      <th>1</th>\n",
       "      <td>Pulses</td>\n",
       "      <td>ALIRAJPUR</td>\n",
       "      <td>156</td>\n",
       "      <td>134</td>\n",
       "      <td>134</td>\n",
       "      <td>128</td>\n",
       "      <td>143</td>\n",
       "      <td>160</td>\n",
       "      <td>158</td>\n",
       "      <td>161</td>\n",
       "      <td>157</td>\n",
       "      <td>140</td>\n",
       "    </tr>\n",
       "  </tbody>\n",
       "</table>\n",
       "</div>"
      ],
      "text/plain": [
       "    label   district  Oct_2F  Nov_1F  Nov_2F  Dec_1F  Dec_2F  Jan_1F  Jan_2F  \\\n",
       "0  Pulses  ALIRAJPUR     158     131     132     134     149     157     161   \n",
       "1  Pulses  ALIRAJPUR     156     134     134     128     143     160     158   \n",
       "\n",
       "   Feb_1F  Feb_2F  Mar_1F  \n",
       "0     159     141     127  \n",
       "1     161     157     140  "
      ]
     },
     "execution_count": 85,
     "metadata": {},
     "output_type": "execute_result"
    }
   ],
   "source": [
    "pulses.head(2)"
   ]
  },
  {
   "cell_type": "code",
   "execution_count": null,
   "id": "876a21fc-b77c-4ce2-ab62-2c6e620fd049",
   "metadata": {
    "canvas": {
     "comments": [],
     "componentType": "CodeCell",
     "copiedOriginId": "4ddef551-3540-4685-8790-c48b159108a8",
     "diskcache": false,
     "headerColor": "transparent",
     "id": "74c692db-ec9c-45f9-8740-31aa63d95e5a",
     "isComponent": false,
     "name": "",
     "parents": []
    }
   },
   "outputs": [],
   "source": [
    "for crop_data in [mustard, gram, pulses]:\n",
    "    crop_data.columns = map(str.lower, crop_data.columns)"
   ]
  },
  {
   "cell_type": "code",
   "execution_count": null,
   "id": "3d74c171-cb5e-44a9-9ded-ae36fa6b9329",
   "metadata": {
    "canvas": {
     "comments": [],
     "componentType": "CodeCell",
     "copiedOriginId": "68efacb7-32a3-4217-988e-d43d855b536e",
     "diskcache": false,
     "headerColor": "transparent",
     "id": "05a57e4f-399e-4fb6-a4d6-d6fb7a7e0fa6",
     "isComponent": false,
     "name": "",
     "parents": []
    }
   },
   "outputs": [],
   "source": [
    "df = pd.concat([wheat, mustard, gram, pulses, mustard1], ignore_index=True)"
   ]
  },
  {
   "cell_type": "code",
   "execution_count": null,
   "id": "2911969f-f0c9-408d-9e0e-5575d3aa4c0d",
   "metadata": {
    "canvas": {
     "comments": [],
     "componentType": "CodeCell",
     "copiedOriginId": "8db61a77-7f5a-41c8-841a-2f5b974f333f",
     "diskcache": false,
     "headerColor": "transparent",
     "id": "09d6f5f8-c2d8-4ed5-aa60-cea49a0ba0e3",
     "isComponent": false,
     "name": "",
     "parents": []
    }
   },
   "outputs": [
    {
     "data": {
      "text/plain": [
       "19210"
      ]
     },
     "execution_count": 88,
     "metadata": {},
     "output_type": "execute_result"
    }
   ],
   "source": [
    "df.shape[0]"
   ]
  },
  {
   "cell_type": "code",
   "execution_count": null,
   "id": "acce5891-2e43-4bc5-88b2-9c263b4cf9b0",
   "metadata": {
    "canvas": {
     "comments": [],
     "componentType": "CodeCell",
     "copiedOriginId": "a2bd12e2-4308-4fa1-91e6-271c89d7bb7b",
     "diskcache": false,
     "headerColor": "transparent",
     "id": "6bb19484-5b52-4dbe-b385-46d201ef3465",
     "isComponent": false,
     "name": "",
     "parents": []
    }
   },
   "outputs": [
    {
     "name": "stdout",
     "output_type": "stream",
     "text": [
      "<class 'pandas.core.frame.DataFrame'>\n",
      "RangeIndex: 19210 entries, 0 to 19209\n",
      "Data columns (total 12 columns):\n",
      " #   Column    Non-Null Count  Dtype \n",
      "---  ------    --------------  ----- \n",
      " 0   oct_2f    19210 non-null  object\n",
      " 1   nov_1f    19210 non-null  object\n",
      " 2   nov_2f    19210 non-null  object\n",
      " 3   dec_1f    19210 non-null  object\n",
      " 4   dec_2f    19210 non-null  object\n",
      " 5   jan_1f    19210 non-null  object\n",
      " 6   jan_2f    19210 non-null  object\n",
      " 7   feb_1f    19210 non-null  object\n",
      " 8   feb_2f    19210 non-null  object\n",
      " 9   mar_1f    19210 non-null  object\n",
      " 10  label     19210 non-null  object\n",
      " 11  district  19210 non-null  object\n",
      "dtypes: object(12)\n",
      "memory usage: 1.8+ MB\n"
     ]
    }
   ],
   "source": [
    "df.info()"
   ]
  },
  {
   "cell_type": "code",
   "execution_count": null,
   "id": "75820bc6-e169-4943-9f09-a0d236862db8",
   "metadata": {
    "canvas": {
     "comments": [],
     "componentType": "CodeCell",
     "copiedOriginId": "d9f165d1-174c-46ed-bb28-12571426ded6",
     "diskcache": false,
     "headerColor": "transparent",
     "id": "c06583f3-d123-4f18-8027-8ba61b71c44f",
     "isComponent": false,
     "name": "",
     "parents": []
    }
   },
   "outputs": [],
   "source": [
    "def int_check(val):\n",
    "    try:\n",
    "        val = int(val)\n",
    "    except:\n",
    "        pass\n",
    "    return val"
   ]
  },
  {
   "cell_type": "code",
   "execution_count": null,
   "id": "42ff3771-d5b0-4bff-a755-056dce85eeca",
   "metadata": {
    "canvas": {
     "comments": [],
     "componentType": "CodeCell",
     "copiedOriginId": "c1de4de6-38c5-4d3c-b0e3-5b0f75b16a77",
     "diskcache": false,
     "headerColor": "transparent",
     "id": "4a8d92f9-6748-46b1-9bac-ce5143c268ab",
     "isComponent": false,
     "name": "",
     "parents": []
    }
   },
   "outputs": [],
   "source": [
    "df = df.drop(10906)"
   ]
  },
  {
   "cell_type": "code",
   "execution_count": null,
   "id": "995b6c86-2bb5-45ea-96db-87959f7ec953",
   "metadata": {
    "canvas": {
     "comments": [],
     "componentType": "CodeCell",
     "copiedOriginId": "209f5823-acec-41d6-8465-83ceef84eaa9",
     "diskcache": false,
     "headerColor": "transparent",
     "id": "aaa9f4b0-631c-4e90-9224-785e7b3a7e53",
     "isComponent": false,
     "name": "",
     "parents": []
    }
   },
   "outputs": [],
   "source": [
    "for i in df.columns[:10]:\n",
    "    df[i] = df[i].astype(int)"
   ]
  },
  {
   "cell_type": "code",
   "execution_count": null,
   "id": "19de0ae9-27e5-4d91-b9cc-053fb56ffc6a",
   "metadata": {
    "canvas": {
     "comments": [],
     "componentType": "CodeCell",
     "copiedOriginId": "2701fc19-8a65-4d64-8bf9-357fb495ccf1",
     "diskcache": false,
     "headerColor": "transparent",
     "id": "a72f44d2-c989-4b50-9ffd-2634f07177a6",
     "isComponent": false,
     "name": "",
     "parents": []
    }
   },
   "outputs": [],
   "source": [
    "df.district = df.district.astype(str)"
   ]
  },
  {
   "cell_type": "code",
   "execution_count": null,
   "id": "a0b676f0-336a-4324-8fdf-2641172cffce",
   "metadata": {
    "canvas": {
     "comments": [],
     "componentType": "CodeCell",
     "copiedOriginId": "3f15a620-5074-48e8-a4ea-cb47f223b949",
     "diskcache": false,
     "headerColor": "transparent",
     "id": "c7179a7a-48a4-428f-aaa1-36e64305d044",
     "isComponent": false,
     "name": "",
     "parents": []
    }
   },
   "outputs": [
    {
     "name": "stdout",
     "output_type": "stream",
     "text": [
      "<class 'pandas.core.frame.DataFrame'>\n",
      "Int64Index: 19209 entries, 0 to 19209\n",
      "Data columns (total 12 columns):\n",
      " #   Column    Non-Null Count  Dtype \n",
      "---  ------    --------------  ----- \n",
      " 0   oct_2f    19209 non-null  int32 \n",
      " 1   nov_1f    19209 non-null  int32 \n",
      " 2   nov_2f    19209 non-null  int32 \n",
      " 3   dec_1f    19209 non-null  int32 \n",
      " 4   dec_2f    19209 non-null  int32 \n",
      " 5   jan_1f    19209 non-null  int32 \n",
      " 6   jan_2f    19209 non-null  int32 \n",
      " 7   feb_1f    19209 non-null  int32 \n",
      " 8   feb_2f    19209 non-null  int32 \n",
      " 9   mar_1f    19209 non-null  int32 \n",
      " 10  label     19209 non-null  object\n",
      " 11  district  19209 non-null  object\n",
      "dtypes: int32(10), object(2)\n",
      "memory usage: 1.2+ MB\n"
     ]
    }
   ],
   "source": [
    "df.info()"
   ]
  },
  {
   "cell_type": "code",
   "execution_count": null,
   "id": "e8f76d9c-8512-4eac-b395-ede982d3ab82",
   "metadata": {
    "canvas": {
     "comments": [],
     "componentType": "CodeCell",
     "copiedOriginId": "62c06f5e-79b5-491d-b049-45cb536cf925",
     "diskcache": false,
     "headerColor": "transparent",
     "id": "6a90cabd-092e-42e2-8b8d-37c039218163",
     "isComponent": false,
     "name": "",
     "parents": []
    }
   },
   "outputs": [
    {
     "data": {
      "text/html": [
       "<div>\n",
       "<style scoped>\n",
       "    .dataframe tbody tr th:only-of-type {\n",
       "        vertical-align: middle;\n",
       "    }\n",
       "\n",
       "    .dataframe tbody tr th {\n",
       "        vertical-align: top;\n",
       "    }\n",
       "\n",
       "    .dataframe thead th {\n",
       "        text-align: right;\n",
       "    }\n",
       "</style>\n",
       "<table border=\"1\" class=\"dataframe\">\n",
       "  <thead>\n",
       "    <tr style=\"text-align: right;\">\n",
       "      <th></th>\n",
       "      <th>oct_2f</th>\n",
       "      <th>nov_1f</th>\n",
       "      <th>nov_2f</th>\n",
       "      <th>dec_1f</th>\n",
       "      <th>dec_2f</th>\n",
       "      <th>jan_1f</th>\n",
       "      <th>jan_2f</th>\n",
       "      <th>feb_1f</th>\n",
       "      <th>feb_2f</th>\n",
       "      <th>mar_1f</th>\n",
       "    </tr>\n",
       "  </thead>\n",
       "  <tbody>\n",
       "    <tr>\n",
       "      <th>count</th>\n",
       "      <td>19209.000000</td>\n",
       "      <td>19209.000000</td>\n",
       "      <td>19209.000000</td>\n",
       "      <td>19209.000000</td>\n",
       "      <td>19209.000000</td>\n",
       "      <td>19209.000000</td>\n",
       "      <td>19209.000000</td>\n",
       "      <td>19209.000000</td>\n",
       "      <td>19209.000000</td>\n",
       "      <td>19209.000000</td>\n",
       "    </tr>\n",
       "    <tr>\n",
       "      <th>mean</th>\n",
       "      <td>144.435681</td>\n",
       "      <td>129.791504</td>\n",
       "      <td>130.561351</td>\n",
       "      <td>145.213650</td>\n",
       "      <td>169.505076</td>\n",
       "      <td>180.495653</td>\n",
       "      <td>183.448800</td>\n",
       "      <td>185.414858</td>\n",
       "      <td>179.702327</td>\n",
       "      <td>161.724348</td>\n",
       "    </tr>\n",
       "    <tr>\n",
       "      <th>std</th>\n",
       "      <td>17.304535</td>\n",
       "      <td>13.316600</td>\n",
       "      <td>14.430981</td>\n",
       "      <td>20.828144</td>\n",
       "      <td>16.231467</td>\n",
       "      <td>13.577124</td>\n",
       "      <td>6.503395</td>\n",
       "      <td>6.665503</td>\n",
       "      <td>13.541293</td>\n",
       "      <td>22.040497</td>\n",
       "    </tr>\n",
       "    <tr>\n",
       "      <th>min</th>\n",
       "      <td>0.000000</td>\n",
       "      <td>0.000000</td>\n",
       "      <td>0.000000</td>\n",
       "      <td>0.000000</td>\n",
       "      <td>0.000000</td>\n",
       "      <td>0.000000</td>\n",
       "      <td>0.000000</td>\n",
       "      <td>0.000000</td>\n",
       "      <td>0.000000</td>\n",
       "      <td>0.000000</td>\n",
       "    </tr>\n",
       "    <tr>\n",
       "      <th>25%</th>\n",
       "      <td>130.000000</td>\n",
       "      <td>120.000000</td>\n",
       "      <td>122.000000</td>\n",
       "      <td>128.000000</td>\n",
       "      <td>158.000000</td>\n",
       "      <td>176.000000</td>\n",
       "      <td>180.000000</td>\n",
       "      <td>183.000000</td>\n",
       "      <td>176.000000</td>\n",
       "      <td>144.000000</td>\n",
       "    </tr>\n",
       "    <tr>\n",
       "      <th>50%</th>\n",
       "      <td>142.000000</td>\n",
       "      <td>126.000000</td>\n",
       "      <td>126.000000</td>\n",
       "      <td>138.000000</td>\n",
       "      <td>173.000000</td>\n",
       "      <td>183.000000</td>\n",
       "      <td>184.000000</td>\n",
       "      <td>187.000000</td>\n",
       "      <td>184.000000</td>\n",
       "      <td>169.000000</td>\n",
       "    </tr>\n",
       "    <tr>\n",
       "      <th>75%</th>\n",
       "      <td>157.000000</td>\n",
       "      <td>136.000000</td>\n",
       "      <td>133.000000</td>\n",
       "      <td>162.000000</td>\n",
       "      <td>183.000000</td>\n",
       "      <td>187.000000</td>\n",
       "      <td>188.000000</td>\n",
       "      <td>189.000000</td>\n",
       "      <td>188.000000</td>\n",
       "      <td>180.000000</td>\n",
       "    </tr>\n",
       "    <tr>\n",
       "      <th>max</th>\n",
       "      <td>200.000000</td>\n",
       "      <td>195.000000</td>\n",
       "      <td>200.000000</td>\n",
       "      <td>200.000000</td>\n",
       "      <td>200.000000</td>\n",
       "      <td>200.000000</td>\n",
       "      <td>200.000000</td>\n",
       "      <td>200.000000</td>\n",
       "      <td>200.000000</td>\n",
       "      <td>200.000000</td>\n",
       "    </tr>\n",
       "  </tbody>\n",
       "</table>\n",
       "</div>"
      ],
      "text/plain": [
       "             oct_2f        nov_1f        nov_2f        dec_1f        dec_2f  \\\n",
       "count  19209.000000  19209.000000  19209.000000  19209.000000  19209.000000   \n",
       "mean     144.435681    129.791504    130.561351    145.213650    169.505076   \n",
       "std       17.304535     13.316600     14.430981     20.828144     16.231467   \n",
       "min        0.000000      0.000000      0.000000      0.000000      0.000000   \n",
       "25%      130.000000    120.000000    122.000000    128.000000    158.000000   \n",
       "50%      142.000000    126.000000    126.000000    138.000000    173.000000   \n",
       "75%      157.000000    136.000000    133.000000    162.000000    183.000000   \n",
       "max      200.000000    195.000000    200.000000    200.000000    200.000000   \n",
       "\n",
       "             jan_1f        jan_2f        feb_1f        feb_2f        mar_1f  \n",
       "count  19209.000000  19209.000000  19209.000000  19209.000000  19209.000000  \n",
       "mean     180.495653    183.448800    185.414858    179.702327    161.724348  \n",
       "std       13.577124      6.503395      6.665503     13.541293     22.040497  \n",
       "min        0.000000      0.000000      0.000000      0.000000      0.000000  \n",
       "25%      176.000000    180.000000    183.000000    176.000000    144.000000  \n",
       "50%      183.000000    184.000000    187.000000    184.000000    169.000000  \n",
       "75%      187.000000    188.000000    189.000000    188.000000    180.000000  \n",
       "max      200.000000    200.000000    200.000000    200.000000    200.000000  "
      ]
     },
     "execution_count": 95,
     "metadata": {},
     "output_type": "execute_result"
    }
   ],
   "source": [
    "df.describe()"
   ]
  },
  {
   "cell_type": "code",
   "execution_count": null,
   "id": "300e84da-8e93-4d23-b3f3-5c8b42d73605",
   "metadata": {
    "canvas": {
     "comments": [],
     "componentType": "CodeCell",
     "copiedOriginId": "78b3cb8c-8f8f-4511-a144-9a4ed47bd0d1",
     "diskcache": false,
     "headerColor": "transparent",
     "id": "7cbc9d5f-afe8-4e75-9d35-bedaf543b012",
     "isComponent": false,
     "name": "",
     "parents": []
    }
   },
   "outputs": [
    {
     "data": {
      "text/plain": [
       "0"
      ]
     },
     "execution_count": 96,
     "metadata": {},
     "output_type": "execute_result"
    }
   ],
   "source": [
    "# No null values\n",
    "df.isna().sum().sum()"
   ]
  },
  {
   "cell_type": "code",
   "execution_count": null,
   "id": "881a457a-eb67-4287-9929-289b059875e8",
   "metadata": {
    "canvas": {
     "comments": [],
     "componentType": "CodeCell",
     "copiedOriginId": "cd2dd0bc-2e28-4808-b990-78360262e7a4",
     "diskcache": false,
     "headerColor": "transparent",
     "id": "509fc3eb-590b-4d3d-950b-6a2b5c8f515d",
     "isComponent": false,
     "name": "",
     "parents": []
    }
   },
   "outputs": [
    {
     "data": {
      "text/plain": [
       "2          7175\n",
       "3          5558\n",
       "1          3637\n",
       "Mustard    2048\n",
       "Gram        351\n",
       "4           245\n",
       "Pulses      101\n",
       "0            94\n",
       "Name: label, dtype: int64"
      ]
     },
     "execution_count": 97,
     "metadata": {},
     "output_type": "execute_result"
    }
   ],
   "source": [
    "df.label.value_counts()"
   ]
  },
  {
   "cell_type": "code",
   "execution_count": null,
   "id": "0570ba0e",
   "metadata": {
    "canvas": {
     "comments": [],
     "componentType": "CodeCell",
     "copiedOriginId": "b6612ef5-b8a0-47a4-8c17-2f2880ea48f8",
     "diskcache": false,
     "headerColor": "transparent",
     "id": "81e15149-7226-40c3-b81a-b986a12ff022",
     "isComponent": false,
     "name": "",
     "parents": []
    }
   },
   "outputs": [],
   "source": [
    "df['fn_label'] = df.label.apply(lambda row : 5 if (type(row) != int) else row)"
   ]
  },
  {
   "cell_type": "code",
   "execution_count": null,
   "id": "eb1d5604-6216-47dc-9bb0-c4862e2e5891",
   "metadata": {
    "canvas": {
     "comments": [],
     "componentType": "CodeCell",
     "copiedOriginId": "81935aee-b245-459f-a911-1ae8aef82ffc",
     "diskcache": false,
     "headerColor": "transparent",
     "id": "59d56140-ed6d-45e0-8d34-513d9bda05c8",
     "isComponent": false,
     "name": "",
     "parents": []
    }
   },
   "outputs": [],
   "source": [
    "df['label'] = df.label.apply(lambda row : 1 if (type(row) == int) else 0)"
   ]
  },
  {
   "cell_type": "code",
   "execution_count": null,
   "id": "faafff21",
   "metadata": {
    "canvas": {
     "comments": [],
     "componentType": "CodeCell",
     "copiedOriginId": "6d03311c-6c53-4cf0-8918-ff6477f257b2",
     "diskcache": false,
     "headerColor": "transparent",
     "id": "09756116-8438-46e3-b683-9f5deb554fdc",
     "isComponent": false,
     "name": "",
     "parents": []
    }
   },
   "outputs": [
    {
     "data": {
      "text/plain": [
       "(1    16709\n",
       " 0     2500\n",
       " Name: label, dtype: int64,\n",
       " 2    7175\n",
       " 3    5558\n",
       " 1    3637\n",
       " 5    2500\n",
       " 4     245\n",
       " 0      94\n",
       " Name: fn_label, dtype: int64)"
      ]
     },
     "execution_count": 100,
     "metadata": {},
     "output_type": "execute_result"
    }
   ],
   "source": [
    "df.label.value_counts(), df.fn_label.value_counts()"
   ]
  },
  {
   "cell_type": "code",
   "execution_count": null,
   "id": "bf54865e",
   "metadata": {
    "canvas": {
     "comments": [],
     "componentType": "CodeCell",
     "copiedOriginId": "3bf408c3-80fa-4e8d-b010-fc58779607a3",
     "diskcache": false,
     "headerColor": "transparent",
     "id": "96b52c1f-dbfe-416b-a310-a52024312d12",
     "isComponent": false,
     "name": "",
     "parents": []
    }
   },
   "outputs": [],
   "source": [
    "df.drop('district', axis=1, inplace=True)"
   ]
  },
  {
   "cell_type": "markdown",
   "id": "c9aa1cde",
   "metadata": {
    "canvas": {
     "comments": [],
     "componentType": "CodeCell",
     "copiedOriginId": "1055781c-c9da-4fff-924d-76f683638614",
     "diskcache": false,
     "headerColor": "transparent",
     "id": "24b10a07-ef75-4f45-877e-571b80632c92",
     "isComponent": false,
     "name": "",
     "parents": []
    },
    "tags": []
   },
   "source": [
    "## RNN Classifier"
   ]
  },
  {
   "cell_type": "markdown",
   "id": "b59884cb",
   "metadata": {
    "canvas": {
     "comments": [],
     "componentType": "CodeCell",
     "copiedOriginId": "27451d2b-e3f8-4a31-8caa-b086e4776e16",
     "diskcache": false,
     "headerColor": "transparent",
     "id": "2c6306eb-3afe-4046-bf99-81961b5809c3",
     "isComponent": false,
     "name": "",
     "parents": []
    }
   },
   "source": [
    "### Undesampling"
   ]
  },
  {
   "cell_type": "code",
   "execution_count": null,
   "id": "6ffe4486",
   "metadata": {
    "canvas": {
     "comments": [],
     "componentType": "CodeCell",
     "copiedOriginId": "3a863b34-201a-4ce3-ad64-d15a9b3d80f9",
     "diskcache": false,
     "headerColor": "transparent",
     "id": "5700e20c-e923-4173-b85b-e346686879a4",
     "isComponent": false,
     "name": "",
     "parents": []
    }
   },
   "outputs": [
    {
     "data": {
      "text/plain": [
       "(1    0.869853\n",
       " 0    0.130147\n",
       " Name: label, dtype: float64,\n",
       " 1    16709\n",
       " 0     2500\n",
       " Name: label, dtype: int64)"
      ]
     },
     "execution_count": 102,
     "metadata": {},
     "output_type": "execute_result"
    }
   ],
   "source": [
    "df.label.value_counts(normalize=True), df.label.value_counts()"
   ]
  },
  {
   "cell_type": "code",
   "execution_count": null,
   "id": "f9c678be",
   "metadata": {
    "canvas": {
     "comments": [],
     "componentType": "CodeCell",
     "copiedOriginId": "35bade6d-6fb8-44fe-b05e-a8597b576a75",
     "diskcache": false,
     "headerColor": "transparent",
     "id": "1a0f37cc-4ee2-43ff-a385-11e5c83ba9bd",
     "isComponent": false,
     "name": "",
     "parents": []
    }
   },
   "outputs": [
    {
     "data": {
      "text/plain": [
       "(1    0.699988\n",
       " 0    0.300012\n",
       " Name: label, dtype: float64,\n",
       " 1    5833\n",
       " 0    2500\n",
       " Name: label, dtype: int64)"
      ]
     },
     "execution_count": 103,
     "metadata": {},
     "output_type": "execute_result"
    }
   ],
   "source": [
    "wheat = df[df.label==1]\n",
    "\n",
    "target_wheat = int(df.label.value_counts()[0] * 0.7/0.3)\n",
    "\n",
    "split_per = target_wheat/df.label.value_counts()[1]\n",
    "\n",
    "_, wheat = train_test_split(wheat, test_size=split_per, \n",
    "                            stratify=wheat.fn_label, random_state=0)\n",
    "\n",
    "df = pd.concat([df[df.label==0], wheat])\n",
    "\n",
    "df.label.value_counts(normalize=True), df.label.value_counts()"
   ]
  },
  {
   "cell_type": "markdown",
   "id": "d8afcfc6-7863-4395-bee6-2f7362d3f846",
   "metadata": {
    "canvas": {
     "comments": [],
     "componentType": "CodeCell",
     "copiedOriginId": "f9a4ba1b-a1e3-4b63-87fb-5b8130b7fea1",
     "diskcache": false,
     "headerColor": "transparent",
     "id": "2e6f58b7-20f4-402e-9060-77cdeb8ccd12",
     "isComponent": false,
     "name": "",
     "parents": []
    },
    "tags": []
   },
   "source": [
    "### Train-Val Split"
   ]
  },
  {
   "cell_type": "code",
   "execution_count": null,
   "id": "89fd532c-18a6-46a3-a82b-509d7ec1edb5",
   "metadata": {
    "canvas": {
     "comments": [],
     "componentType": "CodeCell",
     "copiedOriginId": "6e6ca780-df64-49d7-92ef-b39df3b34cce",
     "diskcache": false,
     "headerColor": "transparent",
     "id": "3761d5d5-ff85-4477-8c35-8c01288e3892",
     "isComponent": false,
     "name": "",
     "parents": []
    }
   },
   "outputs": [],
   "source": [
    "X = df.drop('label', axis=1)\n",
    "y = df['label']\n",
    "\n",
    "\n",
    "X_train, X_val, y_train, y_val = train_test_split(X, y, test_size=0.2, shuffle=True, \n",
    "                                                  stratify=X.fn_label, random_state=0)\n",
    "\n",
    "X_train.drop('fn_label', axis=1, inplace=True)\n",
    "X_val.drop('fn_label', axis=1, inplace=True)"
   ]
  },
  {
   "cell_type": "markdown",
   "id": "3ef3f4f5-4d22-48be-9fa0-ee4e52444dec",
   "metadata": {
    "canvas": {
     "comments": [],
     "componentType": "CodeCell",
     "copiedOriginId": "d0b8079d-ec79-4936-9611-f220343dcb1c",
     "diskcache": false,
     "headerColor": "transparent",
     "id": "35682b15-04e0-4627-a00e-ba3a5bb7742b",
     "isComponent": false,
     "name": "",
     "parents": []
    }
   },
   "source": [
    "### Scaling"
   ]
  },
  {
   "cell_type": "code",
   "execution_count": null,
   "id": "8a05d6ab-282e-410d-b283-319f9cc749f3",
   "metadata": {
    "canvas": {
     "comments": [],
     "componentType": "CodeCell",
     "copiedOriginId": "f4a88a68-d521-41d5-930e-cf1ec6c9333f",
     "diskcache": false,
     "headerColor": "transparent",
     "id": "6d68a13c-648b-48ac-97da-8b4bca1f32e3",
     "isComponent": false,
     "name": "",
     "parents": []
    }
   },
   "outputs": [],
   "source": [
    "scaler = StandardScaler()\n",
    "X_train = pd.DataFrame(scaler.fit_transform(X_train), columns=X_train.columns)\n",
    "X_val = pd.DataFrame(scaler.transform(X_val), columns=X_val.columns)\n",
    "\n",
    "y_train.reset_index(drop=True, inplace=True)\n",
    "y_val.reset_index(drop=True, inplace=True)\n",
    "\n",
    "y_train = pd.get_dummies(y_train)\n",
    "y_val = pd.get_dummies(y_val)"
   ]
  },
  {
   "cell_type": "code",
   "execution_count": null,
   "id": "6289f053",
   "metadata": {
    "canvas": {
     "comments": [],
     "componentType": "CodeCell",
     "copiedOriginId": "fdf7307e-efdd-41c5-aec1-d299a06e2469",
     "diskcache": false,
     "headerColor": "transparent",
     "id": "01f183c8-ba16-49ea-a398-d87f08082f77",
     "isComponent": false,
     "name": "",
     "parents": []
    }
   },
   "outputs": [],
   "source": [
    "pickle.dump(scaler, open(r'models/RNN_Binary_StandardScaler_1.1', 'wb'))"
   ]
  },
  {
   "cell_type": "markdown",
   "id": "b5762547-0662-4553-a80d-b74099243006",
   "metadata": {
    "canvas": {
     "comments": [],
     "componentType": "CodeCell",
     "copiedOriginId": "2d64fa46-5997-4445-9f66-397279c06a6b",
     "diskcache": false,
     "headerColor": "transparent",
     "id": "7d4cbbe7-ef74-42a4-8629-9f6e74907309",
     "isComponent": false,
     "name": "",
     "parents": []
    }
   },
   "source": [
    "### Tensor conversion and Torch Data loading"
   ]
  },
  {
   "cell_type": "code",
   "execution_count": null,
   "id": "ed00a5cb",
   "metadata": {
    "canvas": {
     "comments": [],
     "componentType": "CodeCell",
     "copiedOriginId": "416360be-a20b-4c46-97ae-d1252d8b6ed2",
     "diskcache": false,
     "headerColor": "transparent",
     "id": "2edd4387-2c86-48ec-9e01-161c9c2ac2d4",
     "isComponent": false,
     "name": "",
     "parents": []
    },
    "scrolled": true
   },
   "outputs": [],
   "source": [
    "class StratifiedBatchSampler:\n",
    "    \"\"\"Stratified batch sampling\n",
    "    Provides equal representation of target classes in each batch\n",
    "    \"\"\"\n",
    "    def __init__(self, y, batch_size, shuffle=True):\n",
    "        if torch.is_tensor(y):\n",
    "            y = y.numpy()\n",
    "        assert len(y.shape) == 1, 'label array must be 1D'\n",
    "        n_batches = int(len(y) / batch_size)\n",
    "        self.skf = StratifiedKFold(n_splits=n_batches, shuffle=shuffle)\n",
    "        self.X = np.zeros((len(y), 1))\n",
    "        self.y = y\n",
    "        self.shuffle = shuffle\n",
    "\n",
    "    def __iter__(self):\n",
    "        if self.shuffle:\n",
    "            self.skf.random_state = torch.randint(0,int(1e8),size=()).item()\n",
    "        for train_idx, test_idx in self.skf.split(self.X, self.y):\n",
    "            if len(test_idx) > batch_size:\n",
    "                test_idx = test_idx[:-(len(test_idx) - batch_size)]\n",
    "            yield test_idx\n",
    "\n",
    "    def __len__(self):\n",
    "        return len(self.y)"
   ]
  },
  {
   "cell_type": "code",
   "execution_count": null,
   "id": "3a347b54-4b45-41cd-a9f1-1896765f2b89",
   "metadata": {
    "canvas": {
     "comments": [],
     "componentType": "CodeCell",
     "copiedOriginId": "fbda86a0-0226-4557-869e-1fbdd7b3c405",
     "diskcache": false,
     "headerColor": "transparent",
     "id": "fb71d923-0211-4ae3-a0ba-f370ee1bfe08",
     "isComponent": false,
     "name": "",
     "parents": []
    }
   },
   "outputs": [],
   "source": [
    "batch_size = 8\n",
    "\n",
    "train_features = torch.Tensor(X_train.values)\n",
    "train_targets = torch.Tensor(y_train.values)\n",
    "val_features = torch.Tensor(X_val.values)\n",
    "val_targets = torch.Tensor(y_val.values)\n",
    "\n",
    "train = TensorDataset(train_features, train_targets)\n",
    "val = TensorDataset(val_features, val_targets)\n",
    "\n",
    "train_sampler = StratifiedBatchSampler(y_train[1].values, batch_size=batch_size)\n",
    "val_sampler = StratifiedBatchSampler(y_val[1].values, batch_size=batch_size)\n",
    "\n",
    "train_loader = DataLoader(train, batch_sampler=train_sampler)\n",
    "val_loader = DataLoader(val, batch_sampler=val_sampler)"
   ]
  },
  {
   "cell_type": "markdown",
   "id": "a6444f1e-d227-47eb-91c6-55af55db9506",
   "metadata": {
    "canvas": {
     "comments": [],
     "componentType": "CodeCell",
     "copiedOriginId": "ccf3bfa5-aa05-451a-b963-b77f23a0db14",
     "diskcache": false,
     "headerColor": "transparent",
     "id": "4e6c8341-77b2-4e41-8ce3-5d3ab830f549",
     "isComponent": false,
     "name": "",
     "parents": []
    }
   },
   "source": [
    "### Modelling"
   ]
  },
  {
   "cell_type": "code",
   "execution_count": null,
   "id": "ae5d3309",
   "metadata": {
    "canvas": {
     "comments": [],
     "componentType": "CodeCell",
     "copiedOriginId": "5de3251f-fd97-49db-8609-e7fda6ff1888",
     "diskcache": false,
     "headerColor": "transparent",
     "id": "cffc8f92-cfb7-4557-94c9-89a48fbc3fea",
     "isComponent": false,
     "name": "",
     "parents": []
    }
   },
   "outputs": [],
   "source": [
    "def seed_everything(seed = 42):\n",
    "    torch.manual_seed(seed)\n",
    "    random.seed(seed)\n",
    "    np.random.seed(seed)\n",
    "    \n",
    "seed_everything()"
   ]
  },
  {
   "cell_type": "code",
   "execution_count": null,
   "id": "9286a8c2-bc6d-42aa-ab03-483c2952a97d",
   "metadata": {
    "canvas": {
     "comments": [],
     "componentType": "CodeCell",
     "copiedOriginId": "ae61cbf0-3299-4eb9-b069-04c790310cc7",
     "diskcache": false,
     "headerColor": "transparent",
     "id": "6b16cf52-914d-4815-904b-71b26b925ccb",
     "isComponent": false,
     "name": "",
     "parents": []
    }
   },
   "outputs": [],
   "source": [
    "class RNNModel(nn.Module):\n",
    "    def __init__(self, input_size, hidden_size, hidden_layers, output_size):\n",
    "        super(RNNModel, self).__init__()\n",
    "\n",
    "        # Defining the number of layers and the nodes in each layer\n",
    "        self.hidden_size = hidden_size\n",
    "        self.hidden_layers = hidden_layers\n",
    "\n",
    "        # RNN layers\n",
    "        self.rnn = nn.RNN(\n",
    "            input_size, hidden_size, hidden_layers, batch_first=True\n",
    "        )\n",
    "        # Fully connected layer\n",
    "        self.relu = nn.ReLU()\n",
    "        self.fc = nn.Linear(hidden_size, output_size)\n",
    "        self.softmax = nn.Softmax(dim=1)\n",
    "\n",
    "    def forward(self, x):\n",
    "        # Initializing hidden state for first input with zeros\n",
    "        \n",
    "        device = 'cpu'\n",
    "\n",
    "        x.to(device)\n",
    "        \n",
    "        batch_size = x.size(0)\n",
    "        \n",
    "        h0 = torch.zeros(self.hidden_layers, batch_size, self.hidden_size).to(device)\n",
    "        \n",
    "        # Forward propagation by passing in the input and hidden state into the model\n",
    "        out, h0 = self.rnn(x, h0)\n",
    "        \n",
    "        #Reshaping the outputs in the shape of (batch_size, seq_length, hidden_size)\n",
    "        out = out[:,-1,:]\n",
    "        out = self.relu(out)\n",
    "        out = self.fc(out)\n",
    "        out = self.softmax(out)\n",
    "\n",
    "        return out"
   ]
  },
  {
   "cell_type": "code",
   "execution_count": null,
   "id": "279d04a9-4ade-4f53-8a8b-44e15caa163e",
   "metadata": {
    "canvas": {
     "comments": [],
     "componentType": "CodeCell",
     "copiedOriginId": "55b5e17c-60c1-4ad7-bd8c-f65b991e72ad",
     "diskcache": false,
     "headerColor": "transparent",
     "id": "91c36bc9-5c35-45d5-a2ef-c8f58beffc91",
     "isComponent": false,
     "name": "",
     "parents": []
    },
    "tags": []
   },
   "outputs": [],
   "source": [
    "class Optimization:\n",
    "    def __init__(self, model, loss_fn, optimizer, lr_scheduler):\n",
    "        self.model = model\n",
    "        self.loss_fn = loss_fn\n",
    "        self.optimizer = optimizer\n",
    "        self.train_losses = []\n",
    "        self.val_losses = []\n",
    "        self.wheat_recall_scores, self.non_wheat_recall_scores = [], []\n",
    "        self.mod_per_epo = dict()\n",
    "        \n",
    "    def train_step(self, x, y):\n",
    "        # zeroes gradients\n",
    "        self.optimizer.zero_grad()\n",
    "        \n",
    "        # Sets model to train mode\n",
    "        self.model.train()\n",
    "        \n",
    "        # Makes predictions\n",
    "        yhat = self.model(x)\n",
    "        \n",
    "#         yhat = torch.reshape(yhat, (y.shape[0],))\n",
    "        \n",
    "        # Computes loss\n",
    "        loss = self.loss_fn(y, yhat)\n",
    "\n",
    "        # Computes gradients\n",
    "        loss.backward()\n",
    "        \n",
    "#         nn.utils.clip_grad_norm_(self.model.parameters(), 0.5)\n",
    "        \n",
    "        # Updates parameters \n",
    "        self.optimizer.step()\n",
    "\n",
    "        # Returns the loss\n",
    "        return loss.item()\n",
    "    \n",
    "    def train(self, train_loader, val_loader, batch_size, n_epochs=50, n_features=1):\n",
    "        model_path = r'models\\RNN_binary_1.1'\n",
    "        \n",
    "        device = 'cpu'\n",
    "        \n",
    "        for epoch in range(1, n_epochs + 1):\n",
    "            batch_losses = []\n",
    "            wheat_recall_scores = []\n",
    "            non_wheat_recall_scores = []\n",
    "            \n",
    "            for x_batch, y_batch in train_loader:\n",
    "                x_batch = x_batch.view([batch_size, -1, n_features]).to(device)\n",
    "                y_batch = y_batch.to(device)\n",
    "                loss = self.train_step(x_batch, y_batch)\n",
    "                batch_losses.append(loss)\n",
    "            self.train_losses.append(np.mean(batch_losses))\n",
    "            \n",
    "            with torch.no_grad():\n",
    "                batch_val_losses = []\n",
    "                batch_wheat_recall = []\n",
    "                batch_non_wheat_recall = []\n",
    "                for x_val, y_val in val_loader:\n",
    "                    x_val = x_val.view([batch_size, -1, n_features]).to(device)\n",
    "                    y_val = y_val.to(device)\n",
    "                    self.model.eval()\n",
    "                    yhat = self.model(x_val)\n",
    "                    temp_yhat = np.argmax(yhat, axis=1)\n",
    "                    temp_y_val = np.argmax(y_val, axis=1)\n",
    "                    precision, recall, f1score, support = score(temp_y_val, temp_yhat, labels=[0,1])\n",
    "                    val_loss = self.loss_fn(y_val, yhat).item()\n",
    "                    batch_val_losses.append(val_loss)\n",
    "                    batch_non_wheat_recall.append(recall[0])\n",
    "                    batch_wheat_recall.append(recall[1])\n",
    "                self.val_losses.append(np.mean(batch_val_losses))\n",
    "                self.wheat_recall_scores.append(np.mean(batch_wheat_recall))\n",
    "                self.non_wheat_recall_scores.append(np.mean(batch_non_wheat_recall))\n",
    "            \n",
    "            lr_scheduler.step(self.non_wheat_recall_scores[-1])\n",
    "            \n",
    "            self.mod_per_epo[epoch] = [self.non_wheat_recall_scores[-1], self.model.state_dict()]\n",
    "\n",
    "            if (epoch % 10) == 0:\n",
    "                print(f'Epoch: [{epoch}/{n_epochs}] Training loss: {self.train_losses[-1]} Validation loss: {self.val_losses[-1]}  Wheat_recall: {self.wheat_recall_scores[-1]}\\t Non_Wheat_recall: {self.non_wheat_recall_scores[-1]}')\n",
    "        \n",
    "        values = np.array(list(self.mod_per_epo.values()))\n",
    "        \n",
    "        best_model = values[np.argmax(values[:,0])][1]\n",
    "        \n",
    "        torch.save(best_model, model_path)\n",
    "        \n",
    "    def plot_losses(self):\n",
    "        plt.figure(figsize=(20,5))\n",
    "        plt.subplot(1,2,1)\n",
    "        plt.plot(self.train_losses, label=\"Training loss\")\n",
    "        plt.plot(self.val_losses, label=\"Validation loss\")\n",
    "        plt.legend()\n",
    "        plt.grid()\n",
    "        plt.title(\"Losses\")\n",
    "        plt.subplot(1,2,2)\n",
    "        plt.plot(self.non_wheat_recall_scores, label=\"Non_Wheat Recall\")\n",
    "        plt.plot(self.wheat_recall_scores, label=\"Wheat Recall\")\n",
    "        plt.legend()\n",
    "        plt.grid()\n",
    "        plt.title(\"Recall_Scores\")\n",
    "        plt.show()\n",
    "        plt.close()\n",
    "    \n",
    "    def evaluate(self, test_loader, batch_size, n_features):\n",
    "        \n",
    "        device = 'cpu'\n",
    "        \n",
    "        with torch.no_grad():\n",
    "            batch_wheat_recall = []\n",
    "            batch_non_wheat_recall = []\n",
    "#             y_pred = []\n",
    "            for x_test, y_test in test_loader:\n",
    "                x_test = x_test.view([batch_size, -1, n_features]).to(device)\n",
    "                y_test = y_test.to(device)\n",
    "                self.model.eval()\n",
    "                yhat = self.model(x_test)\n",
    "                yhat = np.argmax(yhat, axis=1)\n",
    "                y_test = np.argmax(y_test, axis=1)\n",
    "                precision, recall, f1score, support = score(y_test, yhat, labels=[0,1])\n",
    "#                 print(recall)\n",
    "                batch_wheat_recall.append(recall[1])\n",
    "                batch_non_wheat_recall.append(recall[0])\n",
    "#                 y_pred.append(yhat)\n",
    "\n",
    "        return np.mean(batch_wheat_recall), np.mean(batch_non_wheat_recall)"
   ]
  },
  {
   "cell_type": "code",
   "execution_count": null,
   "id": "ea31b1c1-5630-496e-9342-546095c40807",
   "metadata": {
    "canvas": {
     "comments": [],
     "componentType": "CodeCell",
     "copiedOriginId": "d26492a5-eeac-4e28-969e-ad24bcc607c7",
     "diskcache": false,
     "headerColor": "transparent",
     "id": "ce43589e-0f45-4a87-958d-9ec31b7ad865",
     "isComponent": false,
     "name": "",
     "parents": []
    }
   },
   "outputs": [
    {
     "name": "stdout",
     "output_type": "stream",
     "text": [
      "Epoch: [10/50] Training loss: 0.4837395525923153 Validation loss: 0.49025511340453076  Wheat_recall: 0.9940705128205127\t Non_Wheat_recall: 0.7828525641025641\n",
      "Epoch: [20/50] Training loss: 0.4742337083544622 Validation loss: 0.48584719847601193  Wheat_recall: 0.9924679487179487\t Non_Wheat_recall: 0.814102564102564\n",
      "Epoch: [30/50] Training loss: 0.47363738864123606 Validation loss: 0.4858907259141023  Wheat_recall: 0.9921474358974359\t Non_Wheat_recall: 0.8173076923076923\n",
      "Epoch: [40/50] Training loss: 0.47360416423945295 Validation loss: 0.4858849522872613  Wheat_recall: 0.9926282051282053\t Non_Wheat_recall: 0.8157051282051283\n",
      "Epoch: [50/50] Training loss: 0.47349301746197825 Validation loss: 0.4858849737793207  Wheat_recall: 0.9923076923076923\t Non_Wheat_recall: 0.8221153846153846\n"
     ]
    },
    {
     "data": {
      "image/png": "[encoded data removed]",
      "text/plain": [
       "<Figure size 2000x500 with 2 Axes>"
      ]
     },
     "metadata": {},
     "output_type": "display_data"
    }
   ],
   "source": [
    "input_size = X_train.shape[1]\n",
    "output_size = y_train.shape[1]\n",
    "hidden_size = 64\n",
    "hidden_layers = 1\n",
    "batch_size = batch_size\n",
    "n_epochs = 50\n",
    "learning_rate = 1e-2\n",
    "\n",
    "model_params = {'input_size': input_size,\n",
    "                'hidden_size' : hidden_size,\n",
    "                'hidden_layers' : hidden_layers,\n",
    "                'output_size' : output_size}\n",
    "\n",
    "model = RNNModel(**model_params)\n",
    "model.to('cpu')\n",
    "\n",
    "loss_fn = nn.CrossEntropyLoss(weight=torch.tensor([0.7/0.3, 1]), reduction='mean')\n",
    "optimizer = optim.Adam(model.parameters(), lr=learning_rate)\n",
    "lr_scheduler = lr_sc.ReduceLROnPlateau(optimizer, mode='max', patience=5, factor=0.1)\n",
    "\n",
    "opt = Optimization(model=model, loss_fn=loss_fn, optimizer=optimizer, lr_scheduler=lr_scheduler)\n",
    "opt.train(train_loader, val_loader, batch_size=batch_size, n_epochs=n_epochs, n_features=input_size)\n",
    "opt.plot_losses()"
   ]
  },
  {
   "cell_type": "code",
   "execution_count": null,
   "id": "82098a67",
   "metadata": {
    "canvas": {
     "comments": [],
     "componentType": "CodeCell",
     "copiedOriginId": "b5a97b21-b1dc-40d6-abad-bdcc588e2417",
     "diskcache": false,
     "headerColor": "transparent",
     "id": "ae7113ce-9e09-4bce-97ea-34b7683e8022",
     "isComponent": false,
     "name": "",
     "parents": []
    }
   },
   "outputs": [],
   "source": [
    "def new_GT_initial_preprocess():\n",
    "    \n",
    "    all_shp_fls = np.array(glob(r'data_files\\krishna\\**\\*.shp', recursive=True))\n",
    "    pol_shp_files = [files for files in all_shp_fls if 'point' not in files]\n",
    "    pol_shp_files.remove(pol_shp_files[-2])\n",
    "\n",
    "    series = pd.Series(gp.read_file(pol_shp_files[0]).columns)\n",
    "    ndvi_cols = list(series[series.apply(lambda row : True if 'FN' in row else False)])\n",
    "    \n",
    "    columns = ['oct_2f', 'nov_1f', 'nov_2f', 'dec_1f', 'dec_2f', 'jan_1f', 'jan_2f', 'feb_1f', 'feb_2f', 'mar_1f', 'label']\n",
    "    \n",
    "    tst_pol_wheat = pd.DataFrame(columns = columns)\n",
    "    tst_pol_mustard = pd.DataFrame(columns = columns)\n",
    "\n",
    "    for file in pol_shp_files:\n",
    "        temp = gp.read_file(file)[ndvi_cols[1:11]]\n",
    "        temp.columns = columns[:-1]\n",
    "        # temp['district'] = 'SHIVPURI' * temp.shape[0]\n",
    "        if 'Wheat' in file:\n",
    "            temp['label'] = [1]*temp.shape[0]\n",
    "            tst_pol_wheat = pd.concat([tst_pol_wheat, temp],ignore_index=True)\n",
    "        else:\n",
    "            temp['label'] = [0]*temp.shape[0]\n",
    "            tst_pol_mustard = pd.concat([tst_pol_mustard, temp], ignore_index=True)\n",
    "            \n",
    "    tst_pol_wheat.iloc[:,:-1] = tst_pol_wheat.iloc[:,:-1].apply(lambda row:round(row*100+100))\n",
    "    tst_pol_mustard.iloc[:,:-1] = tst_pol_mustard.iloc[:,:-1].apply(lambda row:round(row*100+100))\n",
    "    tst_pol = pd.concat([tst_pol_wheat, tst_pol_mustard], ignore_index=True)\n",
    "    \n",
    "    return pol_shp_files, tst_pol"
   ]
  },
  {
   "cell_type": "code",
   "execution_count": null,
   "id": "854b0190",
   "metadata": {
    "canvas": {
     "comments": [],
     "componentType": "CodeCell",
     "copiedOriginId": "57aa45ee-d229-4e48-871b-bd44857d97c2",
     "diskcache": false,
     "headerColor": "transparent",
     "id": "0ac624e0-c2d8-4d04-96d0-e1289ec5f58f",
     "isComponent": false,
     "name": "",
     "parents": []
    }
   },
   "outputs": [],
   "source": [
    "shp_files, tst_pol = new_GT_initial_preprocess()"
   ]
  },
  {
   "cell_type": "code",
   "execution_count": null,
   "id": "d2e1d675",
   "metadata": {
    "canvas": {
     "comments": [],
     "componentType": "CodeCell",
     "copiedOriginId": "e1ff6a19-43aa-4aa3-af53-044117cca638",
     "diskcache": false,
     "headerColor": "transparent",
     "id": "a9f8f3b0-5efb-450a-ad8c-2bfd0a10a28d",
     "isComponent": false,
     "name": "",
     "parents": []
    }
   },
   "outputs": [],
   "source": [
    "X_test = scaler.transform(tst_pol.drop('label', axis=1))\n",
    "y_test = tst_pol['label']\n",
    "\n",
    "y_test = pd.get_dummies(y_test)\n",
    "\n",
    "y_test = y_test.astype(int)\n",
    "\n",
    "test_features = torch.Tensor(X_test)\n",
    "test_targets = torch.Tensor(y_test.values)\n",
    "\n",
    "test = TensorDataset(test_features, test_targets)\n",
    "\n",
    "test_loader = DataLoader(test, batch_size=batch_size, drop_last=True)"
   ]
  },
  {
   "cell_type": "code",
   "execution_count": null,
   "id": "06a16c4d",
   "metadata": {
    "canvas": {
     "comments": [],
     "componentType": "CodeCell",
     "copiedOriginId": "da590ba1-b261-4253-95b5-ab9eaec82620",
     "diskcache": false,
     "headerColor": "transparent",
     "id": "18f51afb-82da-494a-b00f-067f46260695",
     "isComponent": false,
     "name": "",
     "parents": []
    },
    "scrolled": true
   },
   "outputs": [
    {
     "data": {
      "text/plain": [
       "(0.747235576923077, 0.09370993589743591)"
      ]
     },
     "execution_count": 156,
     "metadata": {},
     "output_type": "execute_result"
    }
   ],
   "source": [
    "def evaluate(model, test_loader, batch_size, n_features):\n",
    "\n",
    "    device = 'cpu'\n",
    "\n",
    "    with torch.no_grad():\n",
    "        batch_wheat_recall = []\n",
    "        batch_non_wheat_recall = []\n",
    "#             y_pred = []\n",
    "        for x_test, y_test in test_loader:\n",
    "            x_test = x_test.view([batch_size, -1, n_features]).to(device)\n",
    "            y_test = y_test.to(device)\n",
    "            model.eval()\n",
    "            yhat = model(x_test)\n",
    "            yhat = np.argmax(yhat, axis=1)\n",
    "            y_test = np.argmax(y_test, axis=1)\n",
    "            precision, recall, f1score, support = score(y_test, yhat, labels=[0,1])\n",
    "#                 print(recall)\n",
    "            batch_wheat_recall.append(recall[1])\n",
    "            batch_non_wheat_recall.append(recall[0])\n",
    "#                 y_pred.append(yhat)\n",
    "\n",
    "    return np.mean(batch_wheat_recall), np.mean(batch_non_wheat_recall)\n",
    "\n",
    "best_model = RNNModel(**model_params)\n",
    "best_model.load_state_dict(torch.load(r'models\\RNN_binary_1.1'))\n",
    "\n",
    "evaluate(best_model, test_loader, batch_size, input_size)"
   ]
  },
  {
   "cell_type": "code",
   "execution_count": null,
   "id": "e3d3e8de",
   "metadata": {
    "canvas": {
     "comments": [],
     "componentType": "CodeCell",
     "copiedOriginId": "ff33b551-121e-472e-b9f4-cdab61396ea0",
     "diskcache": false,
     "headerColor": "transparent",
     "id": "ade65ec7-d8d4-4873-aa09-e0b2b403a9e2",
     "isComponent": false,
     "name": "",
     "parents": []
    }
   },
   "outputs": [],
   "source": [
    "# class EarlyStopping:\n",
    "#     def __init__(self, tolerance=5, min_delta=0):\n",
    "\n",
    "#         self.tolerance = tolerance\n",
    "#         self.min_delta = min_delta\n",
    "#         self.counter = 0\n",
    "#         self.early_stop = False\n",
    "\n",
    "#     def __call__(self, train_loss, validation_loss):\n",
    "#         if (validation_loss - train_loss) > self.min_delta:\n",
    "#             self.counter +=1\n",
    "#             if self.counter >= self.tolerance:  \n",
    "#                 self.early_stop = True\n",
    "                \n"
   ]
  },
  {
   "cell_type": "code",
   "execution_count": null,
   "id": "2d64a6c0",
   "metadata": {
    "canvas": {
     "comments": [],
     "componentType": "CodeCell",
     "copiedOriginId": null,
     "diskcache": false,
     "headerColor": "transparent",
     "id": "21e7e61e-23e4-428e-b5e8-d0844a807960",
     "isComponent": false,
     "name": "",
     "parents": []
    }
   },
   "outputs": [
    {
     "data": {
      "text/plain": [
       "RNNModel(\n",
       "  (rnn): RNN(10, 64, batch_first=True)\n",
       "  (relu): ReLU()\n",
       "  (fc): Linear(in_features=64, out_features=2, bias=True)\n",
       "  (softmax): Softmax(dim=1)\n",
       ")"
      ]
     },
     "execution_count": 148,
     "metadata": {},
     "output_type": "execute_result"
    }
   ],
   "source": [
    "best_model"
   ]
  },
  {
   "cell_type": "code",
   "execution_count": null,
   "id": "395df826",
   "metadata": {
    "canvas": {
     "comments": [],
     "componentType": "CodeCell",
     "copiedOriginId": null,
     "diskcache": false,
     "headerColor": "transparent",
     "id": "21a3fd28-2e40-4aef-812d-b2e8ba96179d",
     "isComponent": false,
     "name": "",
     "parents": []
    }
   },
   "outputs": [],
   "source": []
  }
 ],
 "metadata": {
  "canvas": {
   "colorPalette": [
    "inherit",
    "inherit",
    "inherit",
    "inherit",
    "inherit",
    "inherit",
    "inherit",
    "inherit",
    "inherit",
    "inherit"
   ],
   "parameters": [],
   "version": "1.0"
  },
  "kernelspec": {
   "display_name": "Python 3 (ipykernel)",
   "language": "python",
   "name": "python3"
  },
  "language_info": {
   "codemirror_mode": {
    "name": "ipython",
    "version": 3
   },
   "file_extension": ".py",
   "mimetype": "text/x-python",
   "name": "python",
   "nbconvert_exporter": "python",
   "pygments_lexer": "ipython3",
   "version": "3.9.16"
  },
  "toc": {
   "base_numbering": 1,
   "nav_menu": {},
   "number_sections": true,
   "sideBar": true,
   "skip_h1_title": false,
   "title_cell": "Table of Contents",
   "title_sidebar": "Contents",
   "toc_cell": false,
   "toc_position": {},
   "toc_section_display": true,
   "toc_window_display": false
  },
  "toc-autonumbering": true,
  "toc-showcode": false,
  "toc-showmarkdowntxt": false
 },
 "nbformat": 4,
 "nbformat_minor": 5
}

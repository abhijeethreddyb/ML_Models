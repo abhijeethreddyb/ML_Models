{
 "cells": [
  {
   "cell_type": "code",
   "execution_count": 53,
   "id": "ac005fe1",
   "metadata": {
    "canvas": {
     "comments": [],
     "componentType": "CodeCell",
     "copiedOriginId": null,
     "diskcache": false,
     "headerColor": "transparent",
     "id": "2b0a27f2-d039-45ee-b6c5-d79b0e487149",
     "isComponent": false,
     "name": "",
     "parents": []
    },
    "tags": []
   },
   "outputs": [],
   "source": [
    "from glob import glob\n",
    "import geopandas as gp\n",
    "import numpy as np\n",
    "import pandas as pd\n",
    "from copy import deepcopy\n",
    "import seaborn as sns\n",
    "import matplotlib.pyplot as plt\n",
    "from sklearn.model_selection import train_test_split\n",
    "from IPython.display import display\n",
    "import random\n",
    "\n",
    "pd.options.display.max_rows = 100\n",
    "\n",
    "import warnings\n",
    "warnings.filterwarnings(\"ignore\")\n",
    "\n",
    "import os\n",
    "\n",
    "os.chdir('C:\\\\Users\\\\user\\\\Krishna\\\\mncfc_crop_classification')"
   ]
  },
  {
   "cell_type": "code",
   "execution_count": 54,
   "id": "17ed1d04",
   "metadata": {
    "canvas": {
     "comments": [],
     "componentType": "CodeCell",
     "copiedOriginId": null,
     "diskcache": false,
     "headerColor": "transparent",
     "id": "8dd53c91-2e92-4997-85cf-a248c6818ccb",
     "isComponent": false,
     "name": "",
     "parents": []
    }
   },
   "outputs": [],
   "source": [
    "others = pd.read_csv(r'data_files\\data_share\\others.csv')\n",
    "\n",
    "others.drop(['sowing_period', 'harvest_period'], axis=1, inplace=True)"
   ]
  },
  {
   "cell_type": "code",
   "execution_count": 55,
   "id": "52196311",
   "metadata": {
    "canvas": {
     "comments": [],
     "componentType": "CodeCell",
     "copiedOriginId": null,
     "diskcache": false,
     "headerColor": "transparent",
     "id": "7178e79e-07af-4386-b208-6b0d074148cd",
     "isComponent": false,
     "name": "",
     "parents": []
    }
   },
   "outputs": [
    {
     "data": {
      "text/html": [
       "<div>\n",
       "<style scoped>\n",
       "    .dataframe tbody tr th:only-of-type {\n",
       "        vertical-align: middle;\n",
       "    }\n",
       "\n",
       "    .dataframe tbody tr th {\n",
       "        vertical-align: top;\n",
       "    }\n",
       "\n",
       "    .dataframe thead th {\n",
       "        text-align: right;\n",
       "    }\n",
       "</style>\n",
       "<table border=\"1\" class=\"dataframe\">\n",
       "  <thead>\n",
       "    <tr style=\"text-align: right;\">\n",
       "      <th></th>\n",
       "      <th>oct_2f</th>\n",
       "      <th>nov_1f</th>\n",
       "      <th>nov_2f</th>\n",
       "      <th>dec_1f</th>\n",
       "      <th>dec_2f</th>\n",
       "      <th>jan_1f</th>\n",
       "      <th>jan_2f</th>\n",
       "      <th>feb_1f</th>\n",
       "      <th>feb_2f</th>\n",
       "      <th>mar_1f</th>\n",
       "      <th>mar_2f</th>\n",
       "      <th>apr_1f</th>\n",
       "    </tr>\n",
       "  </thead>\n",
       "  <tbody>\n",
       "    <tr>\n",
       "      <th>0</th>\n",
       "      <td>178.0</td>\n",
       "      <td>152.0</td>\n",
       "      <td>124.0</td>\n",
       "      <td>125.0</td>\n",
       "      <td>136.0</td>\n",
       "      <td>161.0</td>\n",
       "      <td>169.0</td>\n",
       "      <td>183.0</td>\n",
       "      <td>184.0</td>\n",
       "      <td>182.0</td>\n",
       "      <td>165.0</td>\n",
       "      <td>125.0</td>\n",
       "    </tr>\n",
       "    <tr>\n",
       "      <th>1</th>\n",
       "      <td>165.0</td>\n",
       "      <td>141.0</td>\n",
       "      <td>133.0</td>\n",
       "      <td>135.0</td>\n",
       "      <td>156.0</td>\n",
       "      <td>169.0</td>\n",
       "      <td>175.0</td>\n",
       "      <td>187.0</td>\n",
       "      <td>189.0</td>\n",
       "      <td>186.0</td>\n",
       "      <td>173.0</td>\n",
       "      <td>129.0</td>\n",
       "    </tr>\n",
       "    <tr>\n",
       "      <th>2</th>\n",
       "      <td>173.0</td>\n",
       "      <td>136.0</td>\n",
       "      <td>127.0</td>\n",
       "      <td>127.0</td>\n",
       "      <td>139.0</td>\n",
       "      <td>170.0</td>\n",
       "      <td>177.0</td>\n",
       "      <td>186.0</td>\n",
       "      <td>186.0</td>\n",
       "      <td>185.0</td>\n",
       "      <td>170.0</td>\n",
       "      <td>130.0</td>\n",
       "    </tr>\n",
       "  </tbody>\n",
       "</table>\n",
       "</div>"
      ],
      "text/plain": [
       "   oct_2f  nov_1f  nov_2f  dec_1f  dec_2f  jan_1f  jan_2f  feb_1f  feb_2f  \\\n",
       "0   178.0   152.0   124.0   125.0   136.0   161.0   169.0   183.0   184.0   \n",
       "1   165.0   141.0   133.0   135.0   156.0   169.0   175.0   187.0   189.0   \n",
       "2   173.0   136.0   127.0   127.0   139.0   170.0   177.0   186.0   186.0   \n",
       "\n",
       "   mar_1f  mar_2f  apr_1f  \n",
       "0   182.0   165.0   125.0  \n",
       "1   186.0   173.0   129.0  \n",
       "2   185.0   170.0   130.0  "
      ]
     },
     "metadata": {},
     "output_type": "display_data"
    },
    {
     "data": {
      "text/plain": [
       "(6460, 12)"
      ]
     },
     "metadata": {},
     "output_type": "display_data"
    }
   ],
   "source": [
    "wheat_test = pd.read_csv(r'data_files/data_share/preprocessed_new_wheat.csv')\n",
    "mustard_test = pd.read_csv(r'data_files/data_share/preprocessed_new_mustard.csv')\n",
    "\n",
    "cleaned = pd.concat([wheat_test, mustard_test], ignore_index=True)\n",
    "\n",
    "cleaned.drop(['sowing_period', 'harvest_period', 'crop_name'], axis=1, inplace=True)\n",
    "\n",
    "display(cleaned.head(3), cleaned.shape)"
   ]
  },
  {
   "cell_type": "code",
   "execution_count": 56,
   "id": "bbe70016",
   "metadata": {
    "canvas": {
     "comments": [],
     "componentType": "CodeCell",
     "copiedOriginId": null,
     "diskcache": false,
     "headerColor": "transparent",
     "id": "b2ef4a7e-f980-4209-82d9-5aa9be82f224",
     "isComponent": false,
     "name": "",
     "parents": []
    }
   },
   "outputs": [
    {
     "data": {
      "text/html": [
       "<div>\n",
       "<style scoped>\n",
       "    .dataframe tbody tr th:only-of-type {\n",
       "        vertical-align: middle;\n",
       "    }\n",
       "\n",
       "    .dataframe tbody tr th {\n",
       "        vertical-align: top;\n",
       "    }\n",
       "\n",
       "    .dataframe thead th {\n",
       "        text-align: right;\n",
       "    }\n",
       "</style>\n",
       "<table border=\"1\" class=\"dataframe\">\n",
       "  <thead>\n",
       "    <tr style=\"text-align: right;\">\n",
       "      <th></th>\n",
       "      <th>oct_2f</th>\n",
       "      <th>nov_1f</th>\n",
       "      <th>nov_2f</th>\n",
       "      <th>dec_1f</th>\n",
       "      <th>dec_2f</th>\n",
       "      <th>jan_1f</th>\n",
       "      <th>jan_2f</th>\n",
       "      <th>feb_1f</th>\n",
       "      <th>feb_2f</th>\n",
       "      <th>mar_1f</th>\n",
       "      <th>mar_2f</th>\n",
       "      <th>apr_1f</th>\n",
       "    </tr>\n",
       "  </thead>\n",
       "  <tbody>\n",
       "    <tr>\n",
       "      <th>0</th>\n",
       "      <td>178.0</td>\n",
       "      <td>152.0</td>\n",
       "      <td>124.0</td>\n",
       "      <td>125.0</td>\n",
       "      <td>136.0</td>\n",
       "      <td>161.0</td>\n",
       "      <td>169.0</td>\n",
       "      <td>183.0</td>\n",
       "      <td>184.0</td>\n",
       "      <td>182.0</td>\n",
       "      <td>165.0</td>\n",
       "      <td>125.0</td>\n",
       "    </tr>\n",
       "    <tr>\n",
       "      <th>1</th>\n",
       "      <td>165.0</td>\n",
       "      <td>141.0</td>\n",
       "      <td>133.0</td>\n",
       "      <td>135.0</td>\n",
       "      <td>156.0</td>\n",
       "      <td>169.0</td>\n",
       "      <td>175.0</td>\n",
       "      <td>187.0</td>\n",
       "      <td>189.0</td>\n",
       "      <td>186.0</td>\n",
       "      <td>173.0</td>\n",
       "      <td>129.0</td>\n",
       "    </tr>\n",
       "    <tr>\n",
       "      <th>2</th>\n",
       "      <td>173.0</td>\n",
       "      <td>136.0</td>\n",
       "      <td>127.0</td>\n",
       "      <td>127.0</td>\n",
       "      <td>139.0</td>\n",
       "      <td>170.0</td>\n",
       "      <td>177.0</td>\n",
       "      <td>186.0</td>\n",
       "      <td>186.0</td>\n",
       "      <td>185.0</td>\n",
       "      <td>170.0</td>\n",
       "      <td>130.0</td>\n",
       "    </tr>\n",
       "  </tbody>\n",
       "</table>\n",
       "</div>"
      ],
      "text/plain": [
       "   oct_2f  nov_1f  nov_2f  dec_1f  dec_2f  jan_1f  jan_2f  feb_1f  feb_2f  \\\n",
       "0   178.0   152.0   124.0   125.0   136.0   161.0   169.0   183.0   184.0   \n",
       "1   165.0   141.0   133.0   135.0   156.0   169.0   175.0   187.0   189.0   \n",
       "2   173.0   136.0   127.0   127.0   139.0   170.0   177.0   186.0   186.0   \n",
       "\n",
       "   mar_1f  mar_2f  apr_1f  \n",
       "0   182.0   165.0   125.0  \n",
       "1   186.0   173.0   129.0  \n",
       "2   185.0   170.0   130.0  "
      ]
     },
     "execution_count": 56,
     "metadata": {},
     "output_type": "execute_result"
    }
   ],
   "source": [
    "combined = pd.concat([cleaned, others]).reset_index(drop=True)\n",
    "\n",
    "others_index = combined.loc[6460:,:].index\n",
    "\n",
    "combined.head(3)"
   ]
  },
  {
   "cell_type": "code",
   "execution_count": 50,
   "id": "6b470a42",
   "metadata": {
    "canvas": {
     "comments": [],
     "componentType": "CodeCell",
     "copiedOriginId": null,
     "diskcache": false,
     "headerColor": "transparent",
     "id": "77e2bcc9-e11e-4a01-866c-0d70f7f7e720",
     "isComponent": false,
     "name": "",
     "parents": []
    }
   },
   "outputs": [],
   "source": [
    "combined = combined.drop_duplicates()"
   ]
  },
  {
   "cell_type": "code",
   "execution_count": 51,
   "id": "65e2d3a6",
   "metadata": {
    "canvas": {
     "comments": [],
     "componentType": "CodeCell",
     "copiedOriginId": null,
     "diskcache": false,
     "headerColor": "transparent",
     "id": "a8cdda9a-eab6-49d5-aa1e-51bc6faf7c52",
     "isComponent": false,
     "name": "",
     "parents": []
    }
   },
   "outputs": [],
   "source": [
    "combined.to_csv(r'data_files\\data_share\\combined.csv', index=False)"
   ]
  },
  {
   "cell_type": "code",
   "execution_count": 52,
   "id": "c0f8e0f9",
   "metadata": {
    "canvas": {
     "comments": [],
     "componentType": "CodeCell",
     "copiedOriginId": null,
     "diskcache": false,
     "headerColor": "transparent",
     "id": "13124d3c-ca1e-4df1-82c2-6961ca9cc675",
     "isComponent": false,
     "name": "",
     "parents": []
    }
   },
   "outputs": [
    {
     "data": {
      "text/plain": [
       "<Axes: >"
      ]
     },
     "execution_count": 52,
     "metadata": {},
     "output_type": "execute_result"
    },
    {
     "data": {
      "image/png": "[encoded data removed]",
      "text/plain": [
       "<Figure size 640x480 with 1 Axes>"
      ]
     },
     "metadata": {},
     "output_type": "display_data"
    }
   ],
   "source": [
    "combined.loc[8072].plot()"
   ]
  },
  {
   "cell_type": "code",
   "execution_count": null,
   "id": "7d253fb8",
   "metadata": {
    "canvas": {
     "comments": [],
     "componentType": "CodeCell",
     "copiedOriginId": null,
     "diskcache": false,
     "headerColor": "transparent",
     "id": "2a3f0ea7-125a-4f97-ab84-6863f05d3e5e",
     "isComponent": false,
     "name": "",
     "parents": []
    }
   },
   "outputs": [],
   "source": []
  }
 ],
 "metadata": {
  "canvas": {
   "colorPalette": [
    "inherit",
    "inherit",
    "inherit",
    "inherit",
    "inherit",
    "inherit",
    "inherit",
    "inherit",
    "inherit",
    "inherit"
   ],
   "parameters": [],
   "version": "1.0"
  },
  "kernelspec": {
   "display_name": "Python 3 (ipykernel)",
   "language": "python",
   "name": "python3"
  },
  "language_info": {
   "codemirror_mode": {
    "name": "ipython",
    "version": 3
   },
   "file_extension": ".py",
   "mimetype": "text/x-python",
   "name": "python",
   "nbconvert_exporter": "python",
   "pygments_lexer": "ipython3",
   "version": "3.9.16"
  }
 },
 "nbformat": 4,
 "nbformat_minor": 5
}

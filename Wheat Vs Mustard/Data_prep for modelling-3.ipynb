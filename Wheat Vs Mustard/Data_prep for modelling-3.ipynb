{
 "cells": [
  {
   "cell_type": "markdown",
   "id": "c7d5b5f8",
   "metadata": {
    "canvas": {
     "comments": [],
     "componentType": "CodeCell",
     "copiedOriginId": null,
     "diskcache": false,
     "headerColor": "transparent",
     "id": "dfde6b64-23dd-4c2f-aafa-b8c646702485",
     "isComponent": false,
     "name": "",
     "parents": []
    },
    "tags": []
   },
   "source": [
    "> In this notebook, wheat data is undersampled such that ratio of wheat/mustard is atleast 70:30. "
   ]
  },
  {
   "cell_type": "markdown",
   "id": "f3b22f36",
   "metadata": {
    "canvas": {
     "comments": [],
     "componentType": "CodeCell",
     "copiedOriginId": null,
     "diskcache": false,
     "headerColor": "transparent",
     "id": "4cd59658-0061-4060-8975-14a37233ba04",
     "isComponent": false,
     "name": "",
     "parents": []
    }
   },
   "source": [
    "# Import Modules and Data"
   ]
  },
  {
   "cell_type": "code",
   "execution_count": 1,
   "id": "d63d60b6",
   "metadata": {
    "canvas": {
     "comments": [],
     "componentType": "CodeCell",
     "copiedOriginId": null,
     "diskcache": false,
     "headerColor": "transparent",
     "id": "b7172a0f-3d9f-4ccb-ab01-0270c41aaa08",
     "isComponent": false,
     "name": "",
     "parents": []
    }
   },
   "outputs": [],
   "source": [
    "from glob import glob\n",
    "import geopandas as gp\n",
    "import numpy as np\n",
    "import pandas as pd\n",
    "from copy import deepcopy\n",
    "import seaborn as sns\n",
    "import matplotlib.pyplot as plt\n",
    "from sklearn.model_selection import train_test_split\n",
    "from IPython.display import display\n",
    "import random\n",
    "import os\n",
    "\n",
    "pd.options.display.max_rows = 100\n",
    "\n",
    "import warnings\n",
    "warnings.filterwarnings(\"ignore\")\n",
    "\n",
    "try:\n",
    "    if kernel_is_loaded:\n",
    "        pass\n",
    "except:\n",
    "    os.chdir('/'.join(os.getcwd().split('/')[:-1]))\n",
    "    kernel_is_loaded = True"
   ]
  },
  {
   "cell_type": "code",
   "execution_count": 15,
   "id": "a0bcdd8e",
   "metadata": {
    "canvas": {
     "comments": [],
     "componentType": "CodeCell",
     "copiedOriginId": null,
     "diskcache": false,
     "headerColor": "transparent",
     "id": "81e49a53-cf5b-4de4-9e62-ebdbe7c708fd",
     "isComponent": false,
     "name": "",
     "parents": []
    }
   },
   "outputs": [],
   "source": [
    "# Importing all the required files\n",
    "wheat_train_val = pd.read_csv(r'data_files\\data_share\\preprocessed_wheat.csv')\n",
    "mustard_train_val = pd.read_csv(r'data_files\\data_share\\preprocessed_mustard.csv')\n",
    "\n",
    "wheat_test = pd.read_csv(r'data_files/data_share/preprocessed_new_wheat.csv')\n",
    "mustard_test = pd.read_csv(r'data_files/data_share/preprocessed_new_mustard.csv')\n",
    "\n",
    "# Dropping the unnecessary features as of now\n",
    "wheat_train_val = wheat_train_val.drop(['latitude', 'longitude', 'state_name', 'district', 'taluka_name', 'sowing_year', 'harvest_year'], axis=1)\n",
    "mustard_train_val = mustard_train_val.drop(['latitude', 'longitude', 'state_name', 'district', 'taluka_name', 'sowing_year', 'harvest_year'], axis=1)"
   ]
  },
  {
   "cell_type": "markdown",
   "id": "e6274114",
   "metadata": {
    "canvas": {
     "comments": [],
     "componentType": "CodeCell",
     "copiedOriginId": null,
     "diskcache": false,
     "headerColor": "transparent",
     "id": "f5555168-9c53-4127-b49d-44011f0bb852",
     "isComponent": false,
     "name": "",
     "parents": []
    }
   },
   "source": [
    "# Undersampling - (70:30)"
   ]
  },
  {
   "cell_type": "code",
   "execution_count": 16,
   "id": "73f735e3",
   "metadata": {
    "canvas": {
     "comments": [],
     "componentType": "CodeCell",
     "copiedOriginId": null,
     "diskcache": false,
     "headerColor": "transparent",
     "id": "d3f7203e-e451-4599-9f74-f9181d6851fb",
     "isComponent": false,
     "name": "",
     "parents": []
    }
   },
   "outputs": [
    {
     "data": {
      "text/html": [
       "<div>\n",
       "<style scoped>\n",
       "    .dataframe tbody tr th:only-of-type {\n",
       "        vertical-align: middle;\n",
       "    }\n",
       "\n",
       "    .dataframe tbody tr th {\n",
       "        vertical-align: top;\n",
       "    }\n",
       "\n",
       "    .dataframe thead th {\n",
       "        text-align: right;\n",
       "    }\n",
       "</style>\n",
       "<table border=\"1\" class=\"dataframe\">\n",
       "  <thead>\n",
       "    <tr style=\"text-align: right;\">\n",
       "      <th>harvest_period</th>\n",
       "      <th>feb_1f</th>\n",
       "      <th>feb_2f</th>\n",
       "      <th>jan_2f</th>\n",
       "      <th>mar_1f</th>\n",
       "      <th>mar_2f</th>\n",
       "      <th>All</th>\n",
       "    </tr>\n",
       "    <tr>\n",
       "      <th>sowing_period</th>\n",
       "      <th></th>\n",
       "      <th></th>\n",
       "      <th></th>\n",
       "      <th></th>\n",
       "      <th></th>\n",
       "      <th></th>\n",
       "    </tr>\n",
       "  </thead>\n",
       "  <tbody>\n",
       "    <tr>\n",
       "      <th>dec_1f</th>\n",
       "      <td>0</td>\n",
       "      <td>0</td>\n",
       "      <td>0</td>\n",
       "      <td>2033</td>\n",
       "      <td>3112</td>\n",
       "      <td>5145</td>\n",
       "    </tr>\n",
       "    <tr>\n",
       "      <th>dec_2f</th>\n",
       "      <td>0</td>\n",
       "      <td>0</td>\n",
       "      <td>0</td>\n",
       "      <td>19</td>\n",
       "      <td>166</td>\n",
       "      <td>185</td>\n",
       "    </tr>\n",
       "    <tr>\n",
       "      <th>nov_1f</th>\n",
       "      <td>118</td>\n",
       "      <td>1433</td>\n",
       "      <td>1</td>\n",
       "      <td>1954</td>\n",
       "      <td>181</td>\n",
       "      <td>3687</td>\n",
       "    </tr>\n",
       "    <tr>\n",
       "      <th>nov_2f</th>\n",
       "      <td>10</td>\n",
       "      <td>1082</td>\n",
       "      <td>0</td>\n",
       "      <td>4505</td>\n",
       "      <td>1761</td>\n",
       "      <td>7358</td>\n",
       "    </tr>\n",
       "    <tr>\n",
       "      <th>oct_2f</th>\n",
       "      <td>59</td>\n",
       "      <td>68</td>\n",
       "      <td>1</td>\n",
       "      <td>28</td>\n",
       "      <td>12</td>\n",
       "      <td>168</td>\n",
       "    </tr>\n",
       "    <tr>\n",
       "      <th>All</th>\n",
       "      <td>187</td>\n",
       "      <td>2583</td>\n",
       "      <td>2</td>\n",
       "      <td>8539</td>\n",
       "      <td>5232</td>\n",
       "      <td>16543</td>\n",
       "    </tr>\n",
       "  </tbody>\n",
       "</table>\n",
       "</div>"
      ],
      "text/plain": [
       "harvest_period  feb_1f  feb_2f  jan_2f  mar_1f  mar_2f    All\n",
       "sowing_period                                                \n",
       "dec_1f               0       0       0    2033    3112   5145\n",
       "dec_2f               0       0       0      19     166    185\n",
       "nov_1f             118    1433       1    1954     181   3687\n",
       "nov_2f              10    1082       0    4505    1761   7358\n",
       "oct_2f              59      68       1      28      12    168\n",
       "All                187    2583       2    8539    5232  16543"
      ]
     },
     "metadata": {},
     "output_type": "display_data"
    },
    {
     "data": {
      "text/html": [
       "<div>\n",
       "<style scoped>\n",
       "    .dataframe tbody tr th:only-of-type {\n",
       "        vertical-align: middle;\n",
       "    }\n",
       "\n",
       "    .dataframe tbody tr th {\n",
       "        vertical-align: top;\n",
       "    }\n",
       "\n",
       "    .dataframe thead th {\n",
       "        text-align: right;\n",
       "    }\n",
       "</style>\n",
       "<table border=\"1\" class=\"dataframe\">\n",
       "  <thead>\n",
       "    <tr style=\"text-align: right;\">\n",
       "      <th>harvest_period</th>\n",
       "      <th>feb_1f</th>\n",
       "      <th>feb_2f</th>\n",
       "      <th>jan_2f</th>\n",
       "      <th>mar_1f</th>\n",
       "      <th>mar_2f</th>\n",
       "      <th>All</th>\n",
       "    </tr>\n",
       "    <tr>\n",
       "      <th>sowing_period</th>\n",
       "      <th></th>\n",
       "      <th></th>\n",
       "      <th></th>\n",
       "      <th></th>\n",
       "      <th></th>\n",
       "      <th></th>\n",
       "    </tr>\n",
       "  </thead>\n",
       "  <tbody>\n",
       "    <tr>\n",
       "      <th>nov_1f</th>\n",
       "      <td>34</td>\n",
       "      <td>296</td>\n",
       "      <td>1</td>\n",
       "      <td>375</td>\n",
       "      <td>18</td>\n",
       "      <td>724</td>\n",
       "    </tr>\n",
       "    <tr>\n",
       "      <th>nov_2f</th>\n",
       "      <td>2</td>\n",
       "      <td>4</td>\n",
       "      <td>0</td>\n",
       "      <td>13</td>\n",
       "      <td>1</td>\n",
       "      <td>20</td>\n",
       "    </tr>\n",
       "    <tr>\n",
       "      <th>oct_2f</th>\n",
       "      <td>148</td>\n",
       "      <td>319</td>\n",
       "      <td>11</td>\n",
       "      <td>60</td>\n",
       "      <td>3</td>\n",
       "      <td>541</td>\n",
       "    </tr>\n",
       "    <tr>\n",
       "      <th>All</th>\n",
       "      <td>184</td>\n",
       "      <td>619</td>\n",
       "      <td>12</td>\n",
       "      <td>448</td>\n",
       "      <td>22</td>\n",
       "      <td>1285</td>\n",
       "    </tr>\n",
       "  </tbody>\n",
       "</table>\n",
       "</div>"
      ],
      "text/plain": [
       "harvest_period  feb_1f  feb_2f  jan_2f  mar_1f  mar_2f   All\n",
       "sowing_period                                               \n",
       "nov_1f              34     296       1     375      18   724\n",
       "nov_2f               2       4       0      13       1    20\n",
       "oct_2f             148     319      11      60       3   541\n",
       "All                184     619      12     448      22  1285"
      ]
     },
     "metadata": {},
     "output_type": "display_data"
    }
   ],
   "source": [
    "# Not using the combinations, where the count is just 1\n",
    "\n",
    "display(pd.crosstab(wheat_train_val['sowing_period'], wheat_train_val['harvest_period'], margins=True))\n",
    "display(pd.crosstab(mustard_train_val['sowing_period'], mustard_train_val['harvest_period'], margins=True))"
   ]
  },
  {
   "cell_type": "code",
   "execution_count": 17,
   "id": "a08b2b53",
   "metadata": {
    "canvas": {
     "comments": [],
     "componentType": "CodeCell",
     "copiedOriginId": null,
     "diskcache": false,
     "headerColor": "transparent",
     "id": "7e1f1a12-d03b-4f82-ae77-0135d90a154b",
     "isComponent": false,
     "name": "",
     "parents": []
    }
   },
   "outputs": [],
   "source": [
    "#Removing 'Wheat_oct_2f - Wheat_jan_2f' and 'Wheat_nov_1f - Wheat_jan_2f' combinations as they are just 1 in count and cant be used for stratification\n",
    "\n",
    "wheat_train_val = wheat_train_val[(wheat_train_val.sowing_period != 'nov_1f') | (wheat_train_val.harvest_period != 'jan_2f')]\n",
    "wheat_train_val = wheat_train_val[(wheat_train_val.sowing_period != 'oct_2f') | (wheat_train_val.harvest_period != 'jan_2f')]                                 \n",
    "\n",
    "#Removing 'Mustard_nov_1f - Mustard_jan_2f' and 'Mustard_nov_2f - Mustard_mar_2f' combinations as they are just 1 in count and cant be used for stratification\n",
    "mustard_train_val = mustard_train_val[(mustard_train_val.sowing_period != 'nov_1f') | (mustard_train_val.harvest_period != 'jan_2f')]\n",
    "mustard_train_val = mustard_train_val[(mustard_train_val.sowing_period != 'nov_2f') | (mustard_train_val.harvest_period != 'mar_2f')]          \n"
   ]
  },
  {
   "cell_type": "code",
   "execution_count": 18,
   "id": "896492d8",
   "metadata": {
    "canvas": {
     "comments": [],
     "componentType": "CodeCell",
     "copiedOriginId": null,
     "diskcache": false,
     "headerColor": "transparent",
     "id": "386a6453-6277-4804-a70d-e4e8aaeb574e",
     "isComponent": false,
     "name": "",
     "parents": []
    }
   },
   "outputs": [
    {
     "data": {
      "text/plain": [
       "2.3328137178487918"
      ]
     },
     "metadata": {},
     "output_type": "display_data"
    },
    {
     "data": {
      "text/plain": [
       "2.3333333333333335"
      ]
     },
     "metadata": {},
     "output_type": "display_data"
    }
   ],
   "source": [
    "target_wheat = int(mustard_train_val.shape[0] * 0.7/0.3)\n",
    "\n",
    "split_per = target_wheat/wheat_train_val.shape[0]\n",
    "\n",
    "_, wheat_train_val = train_test_split(wheat_train_val, test_size=split_per, \n",
    "                            stratify=wheat_train_val[['sowing_period', 'harvest_period']], random_state=0)\n",
    "\n",
    "display(wheat_train_val.shape[0]/mustard_train_val.shape[0], 0.7/0.3)\n",
    "\n",
    "# Creating train_val and test data sets\n",
    "train_val = pd.concat([wheat_train_val, mustard_train_val], ignore_index=True)\n",
    "test = pd.concat([wheat_test, mustard_test], ignore_index=True)"
   ]
  },
  {
   "cell_type": "markdown",
   "id": "d834605f",
   "metadata": {
    "canvas": {
     "comments": [],
     "componentType": "CodeCell",
     "copiedOriginId": null,
     "diskcache": false,
     "headerColor": "transparent",
     "id": "2ab87435-d252-4d63-aa06-ac84a9212e0b",
     "isComponent": false,
     "name": "",
     "parents": []
    }
   },
   "source": [
    "# Train_val Split"
   ]
  },
  {
   "cell_type": "code",
   "execution_count": 20,
   "id": "c0980d3e",
   "metadata": {
    "canvas": {
     "comments": [],
     "componentType": "CodeCell",
     "copiedOriginId": null,
     "diskcache": false,
     "headerColor": "transparent",
     "id": "cb508dfc-9cab-47f3-993f-2e25d845fdd1",
     "isComponent": false,
     "name": "",
     "parents": []
    },
    "scrolled": true
   },
   "outputs": [
    {
     "data": {
      "text/plain": [
       "(3420, 15)"
      ]
     },
     "metadata": {},
     "output_type": "display_data"
    },
    {
     "data": {
      "text/plain": [
       "(856, 15)"
      ]
     },
     "metadata": {},
     "output_type": "display_data"
    },
    {
     "data": {
      "text/plain": [
       "Wheat      0.697368\n",
       "Mustard    0.302632\n",
       "Name: crop_name, dtype: float64"
      ]
     },
     "metadata": {},
     "output_type": "display_data"
    },
    {
     "data": {
      "text/plain": [
       "Wheat      0.71028\n",
       "Mustard    0.28972\n",
       "Name: crop_name, dtype: float64"
      ]
     },
     "metadata": {},
     "output_type": "display_data"
    }
   ],
   "source": [
    "train, val = train_test_split(train_val, test_size=0.2, \n",
    "                                   stratify=train_val[['sowing_period', 'harvest_period']], random_state=0)\n",
    "\n",
    "display(train.shape, val.shape, train.crop_name.value_counts(normalize=True), val.crop_name.value_counts(normalize=True))"
   ]
  },
  {
   "cell_type": "markdown",
   "id": "6ed4c967",
   "metadata": {
    "canvas": {
     "comments": [],
     "componentType": "CodeCell",
     "copiedOriginId": null,
     "diskcache": false,
     "headerColor": "transparent",
     "id": "15dd0af3-a2cd-4f40-af94-53630017cd41",
     "isComponent": false,
     "name": "",
     "parents": []
    }
   },
   "source": [
    "# Label Encoding"
   ]
  },
  {
   "cell_type": "code",
   "execution_count": 21,
   "id": "21734766",
   "metadata": {
    "canvas": {
     "comments": [],
     "componentType": "CodeCell",
     "copiedOriginId": null,
     "diskcache": false,
     "headerColor": "transparent",
     "id": "56bfc2ed-dda8-464c-ade0-e2ee0b81d0c5",
     "isComponent": false,
     "name": "",
     "parents": []
    }
   },
   "outputs": [
    {
     "data": {
      "text/html": [
       "<div>\n",
       "<style scoped>\n",
       "    .dataframe tbody tr th:only-of-type {\n",
       "        vertical-align: middle;\n",
       "    }\n",
       "\n",
       "    .dataframe tbody tr th {\n",
       "        vertical-align: top;\n",
       "    }\n",
       "\n",
       "    .dataframe thead th {\n",
       "        text-align: right;\n",
       "    }\n",
       "</style>\n",
       "<table border=\"1\" class=\"dataframe\">\n",
       "  <thead>\n",
       "    <tr style=\"text-align: right;\">\n",
       "      <th></th>\n",
       "      <th>oct_2f</th>\n",
       "      <th>nov_1f</th>\n",
       "      <th>nov_2f</th>\n",
       "      <th>dec_1f</th>\n",
       "      <th>dec_2f</th>\n",
       "      <th>jan_1f</th>\n",
       "      <th>jan_2f</th>\n",
       "      <th>feb_1f</th>\n",
       "      <th>feb_2f</th>\n",
       "      <th>mar_1f</th>\n",
       "      <th>mar_2f</th>\n",
       "      <th>apr_1f</th>\n",
       "      <th>crop_name</th>\n",
       "    </tr>\n",
       "  </thead>\n",
       "  <tbody>\n",
       "    <tr>\n",
       "      <th>289</th>\n",
       "      <td>138</td>\n",
       "      <td>139</td>\n",
       "      <td>148</td>\n",
       "      <td>155</td>\n",
       "      <td>163</td>\n",
       "      <td>164.0</td>\n",
       "      <td>165</td>\n",
       "      <td>158</td>\n",
       "      <td>129</td>\n",
       "      <td>124</td>\n",
       "      <td>0</td>\n",
       "      <td>0</td>\n",
       "      <td>1</td>\n",
       "    </tr>\n",
       "    <tr>\n",
       "      <th>2788</th>\n",
       "      <td>171</td>\n",
       "      <td>162</td>\n",
       "      <td>153</td>\n",
       "      <td>138</td>\n",
       "      <td>158</td>\n",
       "      <td>167.0</td>\n",
       "      <td>177</td>\n",
       "      <td>181</td>\n",
       "      <td>181</td>\n",
       "      <td>170</td>\n",
       "      <td>136</td>\n",
       "      <td>138</td>\n",
       "      <td>1</td>\n",
       "    </tr>\n",
       "    <tr>\n",
       "      <th>46</th>\n",
       "      <td>160</td>\n",
       "      <td>142</td>\n",
       "      <td>126</td>\n",
       "      <td>145</td>\n",
       "      <td>175</td>\n",
       "      <td>180.0</td>\n",
       "      <td>182</td>\n",
       "      <td>181</td>\n",
       "      <td>172</td>\n",
       "      <td>160</td>\n",
       "      <td>148</td>\n",
       "      <td>119</td>\n",
       "      <td>1</td>\n",
       "    </tr>\n",
       "  </tbody>\n",
       "</table>\n",
       "</div>"
      ],
      "text/plain": [
       "      oct_2f  nov_1f  nov_2f  dec_1f  dec_2f  jan_1f  jan_2f  feb_1f  feb_2f  \\\n",
       "289      138     139     148     155     163   164.0     165     158     129   \n",
       "2788     171     162     153     138     158   167.0     177     181     181   \n",
       "46       160     142     126     145     175   180.0     182     181     172   \n",
       "\n",
       "      mar_1f  mar_2f  apr_1f  crop_name  \n",
       "289      124       0       0          1  \n",
       "2788     170     136     138          1  \n",
       "46       160     148     119          1  "
      ]
     },
     "execution_count": 21,
     "metadata": {},
     "output_type": "execute_result"
    }
   ],
   "source": [
    "for df in train, val, test:\n",
    "    df['crop_name'] = df.crop_name.apply(lambda crop: 1 if crop == 'Wheat' else 0)\n",
    "    df.drop(['sowing_period', 'harvest_period'], axis=1, inplace=True)\n",
    "    \n",
    "train.head(3)"
   ]
  },
  {
   "cell_type": "markdown",
   "id": "e98ee410",
   "metadata": {
    "canvas": {
     "comments": [],
     "componentType": "CodeCell",
     "copiedOriginId": null,
     "diskcache": false,
     "headerColor": "transparent",
     "id": "e30f1db2-b58a-4cf0-8781-fd58dfdc532e",
     "isComponent": false,
     "name": "",
     "parents": []
    }
   },
   "source": [
    "# File Export"
   ]
  },
  {
   "cell_type": "code",
   "execution_count": 22,
   "id": "74f4553f",
   "metadata": {
    "canvas": {
     "comments": [],
     "componentType": "CodeCell",
     "copiedOriginId": null,
     "diskcache": false,
     "headerColor": "transparent",
     "id": "abb33cce-6b0a-4a47-a1dc-7f11958893c9",
     "isComponent": false,
     "name": "",
     "parents": []
    }
   },
   "outputs": [],
   "source": [
    "train.to_csv(r'data_files\\data_share\\train-3.csv', index=False)\n",
    "test.to_csv(r'data_files\\data_share\\test-3.csv', index=False)\n",
    "val.to_csv(r'data_files\\data_share\\val-3.csv', index=False)"
   ]
  },
  {
   "cell_type": "code",
   "execution_count": 23,
   "id": "b877dbe1",
   "metadata": {
    "canvas": {
     "comments": [],
     "componentType": "CodeCell",
     "copiedOriginId": null,
     "diskcache": false,
     "headerColor": "transparent",
     "id": "cdb71820-7fae-4668-8b60-64c6f8f250d0",
     "isComponent": false,
     "name": "",
     "parents": []
    }
   },
   "outputs": [
    {
     "data": {
      "text/plain": [
       "(1    2385\n",
       " 0    1035\n",
       " Name: crop_name, dtype: int64,\n",
       " 1    608\n",
       " 0    248\n",
       " Name: crop_name, dtype: int64,\n",
       " 1    5760\n",
       " 0     700\n",
       " Name: crop_name, dtype: int64)"
      ]
     },
     "execution_count": 23,
     "metadata": {},
     "output_type": "execute_result"
    }
   ],
   "source": [
    "train.crop_name.value_counts(), val.crop_name.value_counts(), test.crop_name.value_counts()"
   ]
  },
  {
   "cell_type": "code",
   "execution_count": null,
   "id": "c1506a06",
   "metadata": {
    "canvas": {
     "comments": [],
     "componentType": "CodeCell",
     "copiedOriginId": null,
     "diskcache": false,
     "headerColor": "transparent",
     "id": "d575e35e-895b-44fb-a036-1a61599a4971",
     "isComponent": false,
     "name": "",
     "parents": []
    }
   },
   "outputs": [],
   "source": []
  }
 ],
 "metadata": {
  "canvas": {
   "colorPalette": [
    "inherit",
    "inherit",
    "inherit",
    "inherit",
    "inherit",
    "inherit",
    "inherit",
    "inherit",
    "inherit",
    "inherit"
   ],
   "parameters": [],
   "version": "1.0"
  },
  "kernelspec": {
   "display_name": "Python 3 (ipykernel)",
   "language": "python",
   "name": "python3"
  },
  "language_info": {
   "codemirror_mode": {
    "name": "ipython",
    "version": 3
   },
   "file_extension": ".py",
   "mimetype": "text/x-python",
   "name": "python",
   "nbconvert_exporter": "python",
   "pygments_lexer": "ipython3",
   "version": "3.9.17"
  }
 },
 "nbformat": 4,
 "nbformat_minor": 5
}

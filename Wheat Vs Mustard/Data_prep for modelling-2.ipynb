{
 "cells": [
  {
   "cell_type": "markdown",
   "id": "c7d5b5f8",
   "metadata": {},
   "source": [
    "> In this notebook, all the values before sowing period and 1 FN after harvest are made zeroes."
   ]
  },
  {
   "cell_type": "markdown",
   "id": "f3b22f36",
   "metadata": {},
   "source": [
    "# Import Modules and Data"
   ]
  },
  {
   "cell_type": "code",
   "execution_count": 1,
   "id": "d63d60b6",
   "metadata": {},
   "outputs": [],
   "source": [
    "from glob import glob\n",
    "import geopandas as gp\n",
    "import numpy as np\n",
    "import pandas as pd\n",
    "from copy import deepcopy\n",
    "import seaborn as sns\n",
    "import matplotlib.pyplot as plt\n",
    "from sklearn.model_selection import train_test_split\n",
    "from IPython.display import display\n",
    "import random\n",
    "\n",
    "pd.options.display.max_rows = 100\n",
    "\n",
    "import warnings\n",
    "warnings.filterwarnings(\"ignore\")"
   ]
  },
  {
   "cell_type": "code",
   "execution_count": 5,
   "id": "a0bcdd8e",
   "metadata": {},
   "outputs": [],
   "source": [
    "# Importing all the required files\n",
    "wheat_train_val = pd.read_csv(r'data_files\\data_share\\preprocessed_wheat.csv')\n",
    "mustard_train_val = pd.read_csv(r'data_files\\data_share\\preprocessed_mustard.csv')\n",
    "\n",
    "wheat_test = pd.read_csv(r'data_files/data_share/preprocessed_new_wheat.csv')\n",
    "mustard_test = pd.read_csv(r'data_files/data_share/preprocessed_new_mustard.csv')\n",
    "\n",
    "# Dropping the unnecessary features as of now\n",
    "wheat_train_val = wheat_train_val.drop(['latitude', 'longitude', 'state_name', 'district', 'taluka_name', 'sowing_year', 'harvest_year'], axis=1)\n",
    "mustard_train_val = mustard_train_val.drop(['latitude', 'longitude', 'state_name', 'district', 'taluka_name', 'sowing_year', 'harvest_year'], axis=1)"
   ]
  },
  {
   "cell_type": "code",
   "execution_count": 6,
   "id": "6ede9430",
   "metadata": {},
   "outputs": [
    {
     "data": {
      "text/html": [
       "<div>\n",
       "<style scoped>\n",
       "    .dataframe tbody tr th:only-of-type {\n",
       "        vertical-align: middle;\n",
       "    }\n",
       "\n",
       "    .dataframe tbody tr th {\n",
       "        vertical-align: top;\n",
       "    }\n",
       "\n",
       "    .dataframe thead th {\n",
       "        text-align: right;\n",
       "    }\n",
       "</style>\n",
       "<table border=\"1\" class=\"dataframe\">\n",
       "  <thead>\n",
       "    <tr style=\"text-align: right;\">\n",
       "      <th>harvest_period</th>\n",
       "      <th>feb_1f</th>\n",
       "      <th>feb_2f</th>\n",
       "      <th>jan_2f</th>\n",
       "      <th>mar_1f</th>\n",
       "      <th>mar_2f</th>\n",
       "      <th>All</th>\n",
       "    </tr>\n",
       "    <tr>\n",
       "      <th>sowing_period</th>\n",
       "      <th></th>\n",
       "      <th></th>\n",
       "      <th></th>\n",
       "      <th></th>\n",
       "      <th></th>\n",
       "      <th></th>\n",
       "    </tr>\n",
       "  </thead>\n",
       "  <tbody>\n",
       "    <tr>\n",
       "      <th>dec_1f</th>\n",
       "      <td>0</td>\n",
       "      <td>0</td>\n",
       "      <td>0</td>\n",
       "      <td>2033</td>\n",
       "      <td>3112</td>\n",
       "      <td>5145</td>\n",
       "    </tr>\n",
       "    <tr>\n",
       "      <th>dec_2f</th>\n",
       "      <td>0</td>\n",
       "      <td>0</td>\n",
       "      <td>0</td>\n",
       "      <td>19</td>\n",
       "      <td>166</td>\n",
       "      <td>185</td>\n",
       "    </tr>\n",
       "    <tr>\n",
       "      <th>nov_1f</th>\n",
       "      <td>118</td>\n",
       "      <td>1433</td>\n",
       "      <td>1</td>\n",
       "      <td>1954</td>\n",
       "      <td>181</td>\n",
       "      <td>3687</td>\n",
       "    </tr>\n",
       "    <tr>\n",
       "      <th>nov_2f</th>\n",
       "      <td>10</td>\n",
       "      <td>1082</td>\n",
       "      <td>0</td>\n",
       "      <td>4505</td>\n",
       "      <td>1761</td>\n",
       "      <td>7358</td>\n",
       "    </tr>\n",
       "    <tr>\n",
       "      <th>oct_2f</th>\n",
       "      <td>59</td>\n",
       "      <td>68</td>\n",
       "      <td>1</td>\n",
       "      <td>28</td>\n",
       "      <td>12</td>\n",
       "      <td>168</td>\n",
       "    </tr>\n",
       "    <tr>\n",
       "      <th>All</th>\n",
       "      <td>187</td>\n",
       "      <td>2583</td>\n",
       "      <td>2</td>\n",
       "      <td>8539</td>\n",
       "      <td>5232</td>\n",
       "      <td>16543</td>\n",
       "    </tr>\n",
       "  </tbody>\n",
       "</table>\n",
       "</div>"
      ],
      "text/plain": [
       "harvest_period  feb_1f  feb_2f  jan_2f  mar_1f  mar_2f    All\n",
       "sowing_period                                                \n",
       "dec_1f               0       0       0    2033    3112   5145\n",
       "dec_2f               0       0       0      19     166    185\n",
       "nov_1f             118    1433       1    1954     181   3687\n",
       "nov_2f              10    1082       0    4505    1761   7358\n",
       "oct_2f              59      68       1      28      12    168\n",
       "All                187    2583       2    8539    5232  16543"
      ]
     },
     "metadata": {},
     "output_type": "display_data"
    },
    {
     "data": {
      "text/html": [
       "<div>\n",
       "<style scoped>\n",
       "    .dataframe tbody tr th:only-of-type {\n",
       "        vertical-align: middle;\n",
       "    }\n",
       "\n",
       "    .dataframe tbody tr th {\n",
       "        vertical-align: top;\n",
       "    }\n",
       "\n",
       "    .dataframe thead th {\n",
       "        text-align: right;\n",
       "    }\n",
       "</style>\n",
       "<table border=\"1\" class=\"dataframe\">\n",
       "  <thead>\n",
       "    <tr style=\"text-align: right;\">\n",
       "      <th>harvest_period</th>\n",
       "      <th>feb_1f</th>\n",
       "      <th>feb_2f</th>\n",
       "      <th>jan_2f</th>\n",
       "      <th>mar_1f</th>\n",
       "      <th>mar_2f</th>\n",
       "      <th>All</th>\n",
       "    </tr>\n",
       "    <tr>\n",
       "      <th>sowing_period</th>\n",
       "      <th></th>\n",
       "      <th></th>\n",
       "      <th></th>\n",
       "      <th></th>\n",
       "      <th></th>\n",
       "      <th></th>\n",
       "    </tr>\n",
       "  </thead>\n",
       "  <tbody>\n",
       "    <tr>\n",
       "      <th>nov_1f</th>\n",
       "      <td>34</td>\n",
       "      <td>296</td>\n",
       "      <td>1</td>\n",
       "      <td>375</td>\n",
       "      <td>18</td>\n",
       "      <td>724</td>\n",
       "    </tr>\n",
       "    <tr>\n",
       "      <th>nov_2f</th>\n",
       "      <td>2</td>\n",
       "      <td>4</td>\n",
       "      <td>0</td>\n",
       "      <td>13</td>\n",
       "      <td>1</td>\n",
       "      <td>20</td>\n",
       "    </tr>\n",
       "    <tr>\n",
       "      <th>oct_2f</th>\n",
       "      <td>148</td>\n",
       "      <td>319</td>\n",
       "      <td>11</td>\n",
       "      <td>60</td>\n",
       "      <td>3</td>\n",
       "      <td>541</td>\n",
       "    </tr>\n",
       "    <tr>\n",
       "      <th>All</th>\n",
       "      <td>184</td>\n",
       "      <td>619</td>\n",
       "      <td>12</td>\n",
       "      <td>448</td>\n",
       "      <td>22</td>\n",
       "      <td>1285</td>\n",
       "    </tr>\n",
       "  </tbody>\n",
       "</table>\n",
       "</div>"
      ],
      "text/plain": [
       "harvest_period  feb_1f  feb_2f  jan_2f  mar_1f  mar_2f   All\n",
       "sowing_period                                               \n",
       "nov_1f              34     296       1     375      18   724\n",
       "nov_2f               2       4       0      13       1    20\n",
       "oct_2f             148     319      11      60       3   541\n",
       "All                184     619      12     448      22  1285"
      ]
     },
     "metadata": {},
     "output_type": "display_data"
    }
   ],
   "source": [
    "# Not using the combinations, where the count is just 1\n",
    "\n",
    "display(pd.crosstab(wheat_train_val['sowing_period'], wheat_train_val['harvest_period'], margins=True))\n",
    "display(pd.crosstab(mustard_train_val['sowing_period'], mustard_train_val['harvest_period'], margins=True))"
   ]
  },
  {
   "cell_type": "code",
   "execution_count": 7,
   "id": "57fc41cf",
   "metadata": {},
   "outputs": [],
   "source": [
    "#Removing 'Wheat_oct_2f - Wheat_jan_2f' and 'Wheat_nov_1f - Wheat_jan_2f' combinations as they are just 1 in count and cant be used for stratification\n",
    "\n",
    "wheat_train_val = wheat_train_val[(wheat_train_val.sowing_period != 'nov_1f') | (wheat_train_val.harvest_period != 'jan_2f')]\n",
    "wheat_train_val = wheat_train_val[(wheat_train_val.sowing_period != 'oct_2f') | (wheat_train_val.harvest_period != 'jan_2f')]                                 \n",
    "\n",
    "#Removing 'Mustard_nov_1f - Mustard_jan_2f' and 'Mustard_nov_2f - Mustard_mar_2f' combinations as they are just 1 in count and cant be used for stratification\n",
    "mustard_train_val = mustard_train_val[(mustard_train_val.sowing_period != 'nov_1f') | (mustard_train_val.harvest_period != 'jan_2f')]\n",
    "mustard_train_val = mustard_train_val[(mustard_train_val.sowing_period != 'nov_2f') | (mustard_train_val.harvest_period != 'mar_2f')]          \n",
    "\n",
    "# Creating train_val and test data sets\n",
    "train_val = pd.concat([wheat_train_val, mustard_train_val], ignore_index=True)\n",
    "test = pd.concat([wheat_test, mustard_test], ignore_index=True)"
   ]
  },
  {
   "cell_type": "markdown",
   "id": "9c66a02b",
   "metadata": {},
   "source": [
    "# Adding zeroes before Sowing_Period and after harvest"
   ]
  },
  {
   "cell_type": "code",
   "execution_count": 8,
   "id": "19a53e0a",
   "metadata": {},
   "outputs": [],
   "source": [
    "# Adding zeroes before SP and after harvest\n",
    "\n",
    "def zeroes_bf_sp_af_hr(row):\n",
    "    values = deepcopy(row)\n",
    "    sowing_period = values['sowing_period'][-6:]\n",
    "    harvest = values['harvest_period'][-6:]\n",
    "    \n",
    "    if (sowing_period != 'oct_2f'):\n",
    "        sowing_period_idx = values.index.get_loc(sowing_period)\n",
    "        strt_fn_bf_sp = values.index[sowing_period_idx-1]\n",
    "        values.loc[:strt_fn_bf_sp] = len(values.loc[:strt_fn_bf_sp]) * [0]\n",
    "        \n",
    "    if (harvest not in {'mar_2f', 'apr_1f'}):    \n",
    "        harvest_idx = values.index.get_loc(harvest)\n",
    "        strt_fn_af_hr = values.index[harvest_idx+2]\n",
    "        values.loc[strt_fn_af_hr:'apr_1f'] = len(values.loc[strt_fn_af_hr:'apr_1f']) * [0]\n",
    "        \n",
    "    return values\n",
    "\n",
    "train_val = train_val.apply(zeroes_bf_sp_af_hr, axis=1)\n",
    "test = test.apply(zeroes_bf_sp_af_hr, axis=1)"
   ]
  },
  {
   "cell_type": "markdown",
   "id": "d834605f",
   "metadata": {},
   "source": [
    "# Train_val Split"
   ]
  },
  {
   "cell_type": "code",
   "execution_count": 9,
   "id": "c0980d3e",
   "metadata": {
    "scrolled": true
   },
   "outputs": [
    {
     "data": {
      "text/plain": [
       "(14259, 15)"
      ]
     },
     "metadata": {},
     "output_type": "display_data"
    },
    {
     "data": {
      "text/plain": [
       "(3565, 15)"
      ]
     },
     "metadata": {},
     "output_type": "display_data"
    },
    {
     "data": {
      "text/plain": [
       "Wheat      0.928256\n",
       "Mustard    0.071744\n",
       "Name: crop_name, dtype: float64"
      ]
     },
     "metadata": {},
     "output_type": "display_data"
    },
    {
     "data": {
      "text/plain": [
       "Wheat      0.927069\n",
       "Mustard    0.072931\n",
       "Name: crop_name, dtype: float64"
      ]
     },
     "metadata": {},
     "output_type": "display_data"
    }
   ],
   "source": [
    "train, val = train_test_split(train_val, test_size=0.2, \n",
    "                                   stratify=train_val[['sowing_period', 'harvest_period']], random_state=0)\n",
    "\n",
    "display(train.shape, val.shape, train.crop_name.value_counts(normalize=True), val.crop_name.value_counts(normalize=True))"
   ]
  },
  {
   "cell_type": "markdown",
   "id": "6ed4c967",
   "metadata": {},
   "source": [
    "# Label Encoding"
   ]
  },
  {
   "cell_type": "code",
   "execution_count": 10,
   "id": "21734766",
   "metadata": {},
   "outputs": [
    {
     "data": {
      "text/html": [
       "<div>\n",
       "<style scoped>\n",
       "    .dataframe tbody tr th:only-of-type {\n",
       "        vertical-align: middle;\n",
       "    }\n",
       "\n",
       "    .dataframe tbody tr th {\n",
       "        vertical-align: top;\n",
       "    }\n",
       "\n",
       "    .dataframe thead th {\n",
       "        text-align: right;\n",
       "    }\n",
       "</style>\n",
       "<table border=\"1\" class=\"dataframe\">\n",
       "  <thead>\n",
       "    <tr style=\"text-align: right;\">\n",
       "      <th></th>\n",
       "      <th>oct_2f</th>\n",
       "      <th>nov_1f</th>\n",
       "      <th>nov_2f</th>\n",
       "      <th>dec_1f</th>\n",
       "      <th>dec_2f</th>\n",
       "      <th>jan_1f</th>\n",
       "      <th>jan_2f</th>\n",
       "      <th>feb_1f</th>\n",
       "      <th>feb_2f</th>\n",
       "      <th>mar_1f</th>\n",
       "      <th>mar_2f</th>\n",
       "      <th>apr_1f</th>\n",
       "      <th>crop_name</th>\n",
       "    </tr>\n",
       "  </thead>\n",
       "  <tbody>\n",
       "    <tr>\n",
       "      <th>9846</th>\n",
       "      <td>0</td>\n",
       "      <td>0</td>\n",
       "      <td>114</td>\n",
       "      <td>122</td>\n",
       "      <td>162</td>\n",
       "      <td>178.0</td>\n",
       "      <td>180</td>\n",
       "      <td>193</td>\n",
       "      <td>190</td>\n",
       "      <td>181</td>\n",
       "      <td>155</td>\n",
       "      <td>121</td>\n",
       "      <td>1</td>\n",
       "    </tr>\n",
       "    <tr>\n",
       "      <th>16127</th>\n",
       "      <td>0</td>\n",
       "      <td>0</td>\n",
       "      <td>0</td>\n",
       "      <td>117</td>\n",
       "      <td>137</td>\n",
       "      <td>172.0</td>\n",
       "      <td>172</td>\n",
       "      <td>186</td>\n",
       "      <td>181</td>\n",
       "      <td>177</td>\n",
       "      <td>145</td>\n",
       "      <td>132</td>\n",
       "      <td>1</td>\n",
       "    </tr>\n",
       "    <tr>\n",
       "      <th>3135</th>\n",
       "      <td>0</td>\n",
       "      <td>114</td>\n",
       "      <td>123</td>\n",
       "      <td>170</td>\n",
       "      <td>190</td>\n",
       "      <td>192.0</td>\n",
       "      <td>192</td>\n",
       "      <td>191</td>\n",
       "      <td>194</td>\n",
       "      <td>155</td>\n",
       "      <td>121</td>\n",
       "      <td>0</td>\n",
       "      <td>1</td>\n",
       "    </tr>\n",
       "  </tbody>\n",
       "</table>\n",
       "</div>"
      ],
      "text/plain": [
       "       oct_2f  nov_1f  nov_2f  dec_1f  dec_2f  jan_1f  jan_2f  feb_1f  feb_2f  \\\n",
       "9846        0       0     114     122     162   178.0     180     193     190   \n",
       "16127       0       0       0     117     137   172.0     172     186     181   \n",
       "3135        0     114     123     170     190   192.0     192     191     194   \n",
       "\n",
       "       mar_1f  mar_2f  apr_1f  crop_name  \n",
       "9846      181     155     121          1  \n",
       "16127     177     145     132          1  \n",
       "3135      155     121       0          1  "
      ]
     },
     "execution_count": 10,
     "metadata": {},
     "output_type": "execute_result"
    }
   ],
   "source": [
    "for df in train, val, test:\n",
    "    df['crop_name'] = df.crop_name.apply(lambda crop: 1 if crop == 'Wheat' else 0)\n",
    "    df.drop(['sowing_period', 'harvest_period'], axis=1, inplace=True)\n",
    "    \n",
    "train.head(3)"
   ]
  },
  {
   "cell_type": "markdown",
   "id": "e98ee410",
   "metadata": {
    "canvas": {
     "comments": [],
     "componentType": "CodeCell",
     "copiedOriginId": null,
     "diskcache": false,
     "headerColor": "transparent",
     "id": "e30f1db2-b58a-4cf0-8781-fd58dfdc532e",
     "isComponent": false,
     "name": "",
     "parents": []
    }
   },
   "source": [
    "# File Export"
   ]
  },
  {
   "cell_type": "code",
   "execution_count": 11,
   "id": "74f4553f",
   "metadata": {},
   "outputs": [],
   "source": [
    "train.to_csv(r'data_files\\data_share\\train-2.csv', index=False)\n",
    "test.to_csv(r'data_files\\data_share\\test.csv', index=False)\n",
    "val.to_csv(r'data_files\\data_share\\val-2.csv', index=False)"
   ]
  },
  {
   "cell_type": "code",
   "execution_count": null,
   "id": "b877dbe1",
   "metadata": {},
   "outputs": [],
   "source": []
  }
 ],
 "metadata": {
  "kernelspec": {
   "display_name": "Python 3 (ipykernel)",
   "language": "python",
   "name": "python3"
  },
  "language_info": {
   "codemirror_mode": {
    "name": "ipython",
    "version": 3
   },
   "file_extension": ".py",
   "mimetype": "text/x-python",
   "name": "python",
   "nbconvert_exporter": "python",
   "pygments_lexer": "ipython3",
   "version": "3.9.16"
  }
 },
 "nbformat": 4,
 "nbformat_minor": 5
}

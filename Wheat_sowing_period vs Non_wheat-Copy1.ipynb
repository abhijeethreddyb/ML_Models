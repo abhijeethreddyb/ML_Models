{
 "cells": [
  {
   "cell_type": "markdown",
   "id": "f3b22f36",
   "metadata": {},
   "source": [
    "# Import Modules and Data"
   ]
  },
  {
   "cell_type": "code",
   "execution_count": 5,
   "id": "009d4c6f",
   "metadata": {},
   "outputs": [],
   "source": [
    "from glob import glob\n",
    "import geopandas as gp\n",
    "import numpy as np\n",
    "import pandas as pd\n",
    "import pickle\n",
    "import random\n",
    "from copy import deepcopy\n",
    "from sklearn.metrics import precision_recall_fscore_support as score\n",
    "from sklearn.metrics import confusion_matrix\n",
    "import seaborn as sns\n",
    "import matplotlib.pyplot as plt\n",
    "from sklearn.model_selection import train_test_split\n",
    "from sklearn.preprocessing import StandardScaler\n",
    "from sklearn.utils.class_weight import compute_sample_weight\n",
    "from xgboost import XGBClassifier\n",
    "from sklearn.model_selection import ParameterGrid\n",
    "\n",
    "import warnings\n",
    "warnings.filterwarnings(\"ignore\")"
   ]
  },
  {
   "cell_type": "code",
   "execution_count": 2,
   "id": "5e74fca2",
   "metadata": {},
   "outputs": [],
   "source": [
    "train = pd.read_csv(r'data_files\\data_share\\train.csv')\n",
    "test = pd.read_csv(r'data_files\\data_share\\test.csv')\n",
    "val = pd.read_csv(r'data_files\\data_share\\val.csv')"
   ]
  },
  {
   "cell_type": "markdown",
   "id": "52bc91bb",
   "metadata": {},
   "source": [
    "# Seeding"
   ]
  },
  {
   "cell_type": "code",
   "execution_count": 6,
   "id": "954c2ac0",
   "metadata": {},
   "outputs": [],
   "source": [
    "def seed_everything(seed = 42):\n",
    "    random.seed(seed)\n",
    "    np.random.seed(seed)\n",
    "    \n",
    "seed_everything()"
   ]
  },
  {
   "cell_type": "markdown",
   "id": "fca7c513",
   "metadata": {
    "canvas": {
     "comments": [],
     "componentType": "CodeCell",
     "copiedOriginId": null,
     "diskcache": false,
     "headerColor": "transparent",
     "id": "d4b22e45-ea74-483f-b875-334460920d71",
     "isComponent": false,
     "name": "",
     "parents": []
    }
   },
   "source": [
    "# Split on the basis of wheat's sowing period"
   ]
  },
  {
   "cell_type": "code",
   "execution_count": 12,
   "id": "d17a8f4a",
   "metadata": {
    "canvas": {
     "comments": [],
     "componentType": "CodeCell",
     "copiedOriginId": null,
     "diskcache": false,
     "headerColor": "transparent",
     "id": "51ae5d27-02cc-4c85-a104-61ab65dc9595",
     "isComponent": true,
     "name": "Combining wheat and non wheat",
     "parents": [
      {
       "id": "bff6df79-1549-4e65-a85d-fccd93bfcd48",
       "name": "Mustard NDVI plot"
      },
      {
       "id": "ee88725e-fc77-4413-b9e8-90a635549607",
       "name": "Wheat NDVI plot"
      }
     ]
    },
    "tags": []
   },
   "outputs": [
    {
     "data": {
      "text/plain": [
       "Wheat_nov_2f    7172\n",
       "Wheat_dec_1f    5552\n",
       "Wheat_nov_1f    3636\n",
       "Non_Wheat       2500\n",
       "Wheat_dec_2f     245\n",
       "Wheat_oct_2f      94\n",
       "Name: label, dtype: int64"
      ]
     },
     "metadata": {},
     "output_type": "display_data"
    }
   ],
   "source": [
    "# combining all the data\n",
    "\n",
    "df = pd.concat([wheat.drop(['mar_2f', 'apr_1f'], axis=1), non_wheat], ignore_index=True)\n",
    "\n",
    "# Converting the mustard and pulses data to a common label which is non-wheat\n",
    "\n",
    "df['label'] = df.label.apply(lambda crop: 'Non_Wheat' if crop[:5] != 'Wheat' else crop)\n",
    "\n",
    "# Will not be considering dec_2f and oct_2f for now due to very less number of datapoints.\n",
    "\n",
    "display(df.label.value_counts())"
   ]
  },
  {
   "cell_type": "code",
   "execution_count": 13,
   "id": "c6a886ac",
   "metadata": {
    "canvas": {
     "comments": [],
     "componentType": "CodeCell",
     "copiedOriginId": null,
     "diskcache": false,
     "headerColor": "transparent",
     "id": "91f82b2e-80ea-4c3b-be59-8df304e0403b",
     "isComponent": true,
     "name": "Tr Sow-period wise data split",
     "parents": [
      {
       "id": "51ae5d27-02cc-4c85-a104-61ab65dc9595",
       "name": "Combining wheat and non wheat"
      }
     ]
    },
    "tags": []
   },
   "outputs": [],
   "source": [
    "# Creating different datasets for training a wheat vs non wheat classifier\n",
    "# Label encoding wheat as 1 and non wheat as 0\n",
    "\n",
    "tr_nov1f_nw = df[(df.label == 'Wheat_nov_1f') | (df.label == 'Non_Wheat')]\n",
    "tr_nov1f_nw['label'] = tr_nov1f_nw.label.apply(lambda crop: 0 if crop[:5] != 'Wheat' else 1)\n",
    "\n",
    "tr_nov2f_nw = df[(df.label == 'Wheat_nov_2f') | (df.label == 'Non_Wheat')]\n",
    "tr_nov2f_nw['label'] = tr_nov2f_nw.label.apply(lambda crop: 0 if crop[:5] != 'Wheat' else 1)\n",
    "\n",
    "tr_dec1f_nw = df[(df.label == 'Wheat_dec_1f') | (df.label == 'Non_Wheat')]\n",
    "tr_dec1f_nw['label'] = tr_dec1f_nw.label.apply(lambda crop: 0 if crop[:5] != 'Wheat' else 1)"
   ]
  },
  {
   "cell_type": "markdown",
   "id": "bb1361fa",
   "metadata": {
    "canvas": {
     "comments": [],
     "componentType": "CodeCell",
     "copiedOriginId": null,
     "diskcache": false,
     "headerColor": "transparent",
     "id": "d518bdeb-0c2d-4343-aa2a-738abf560b12",
     "isComponent": false,
     "name": "",
     "parents": []
    }
   },
   "source": [
    "# Data Preparation - Test and Validation"
   ]
  },
  {
   "cell_type": "code",
   "execution_count": 14,
   "id": "c8c60f02",
   "metadata": {
    "canvas": {
     "comments": [],
     "componentType": "CodeCell",
     "copiedOriginId": null,
     "diskcache": false,
     "headerColor": "transparent",
     "id": "27a65fd9-d5b4-4289-b5c1-4bd2befecf9e",
     "isComponent": true,
     "name": "Test_val sowing est-preprocess",
     "parents": [
      {
       "id": "2dfd509d-0f2a-45be-b6ea-2f7fdaf0bd4d",
       "name": "import modules"
      }
     ]
    },
    "tags": []
   },
   "outputs": [
    {
     "data": {
      "text/plain": [
       "Wheat_dec_1f    2363\n",
       "Wheat_nov_2f    2255\n",
       "Unknown         1102\n",
       "Wheat_nov_1f     900\n",
       "Wheat_dec_2f     845\n",
       "Non_Wheat        809\n",
       "Wheat_oct_2f      49\n",
       "Name: label, dtype: int64"
      ]
     },
     "execution_count": 14,
     "metadata": {},
     "output_type": "execute_result"
    }
   ],
   "source": [
    "# Initial Preprocessing.\n",
    "\n",
    "threshold = 5\n",
    "\n",
    "def sowing_period(row):\n",
    "    sowing_periods = row.index[:5]\n",
    "    sowing_periods_NDVI = row[:5]\n",
    "    minima = np.argmin(sowing_periods_NDVI)\n",
    "    ndvi_values = row.loc[:'mar_1f']\n",
    "    i = minima\n",
    "    while i < len(sowing_periods):\n",
    "#         print(ndvi_values[idx])\n",
    "        if ndvi_values[i] in set(np.arange(110, 141)):\n",
    "            if (ndvi_values[i+1] - ndvi_values[i]) > threshold:\n",
    "                if ndvi_values[i+1] < ndvi_values[i+4]:\n",
    "                    return 'Wheat_'+sowing_periods[i]\n",
    "        i += 1\n",
    "    return 'Unknown'\n",
    "            \n",
    "def new_GT_initial_preprocess():\n",
    "    \n",
    "    files = np.array(glob(r'data_files\\new+old\\new\\**\\*.xlsx', recursive=True))\n",
    "\n",
    "    series = pd.Series(pd.read_excel(files[0]).columns)\n",
    "    ndvi_cols = list(series[series.apply(lambda row : True if 'FN' in row else False)])\n",
    "    \n",
    "    columns = ['oct_2f', 'nov_1f', 'nov_2f', 'dec_1f', 'dec_2f', 'jan_1f', 'jan_2f', 'feb_1f', 'feb_2f', 'mar_1f', 'label']\n",
    "    \n",
    "    wheat = pd.DataFrame(columns = columns)\n",
    "    mustard = pd.DataFrame(columns = columns)\n",
    "\n",
    "    for file in files:\n",
    "        temp = pd.read_excel(file)[ndvi_cols[1:11]]\n",
    "        temp.columns = columns[:-1]\n",
    "        # temp['district'] = 'SHIVPURI' * temp.shape[0]\n",
    "        if 'Wheat' in file:\n",
    "            temp['label'] = ['Wheat']*temp.shape[0]\n",
    "            wheat = pd.concat([wheat, temp],ignore_index=True)\n",
    "        else:\n",
    "            temp['label'] = ['Non_Wheat']*temp.shape[0]\n",
    "            mustard = pd.concat([mustard, temp], ignore_index=True)\n",
    "            \n",
    "    wheat.iloc[:,:-1] = wheat.iloc[:,:-1].apply(lambda row:round(row*100+100))\n",
    "    mustard.iloc[:,:-1] = mustard.iloc[:,:-1].apply(lambda row:round(row*100+100))\n",
    "    \n",
    "    wheat['label'] = wheat.iloc[:,:-1].apply(sowing_period, axis=1)\n",
    "\n",
    "#     wheat['label'] = wheat.label.apply(fn_encoding)\n",
    "\n",
    "    df = pd.concat([wheat, mustard], ignore_index=True)\n",
    "    \n",
    "#     df.dropna(inplace=True)\n",
    "    \n",
    "    return df\n",
    "\n",
    "\n",
    "val_test = new_GT_initial_preprocess()\n",
    "\n",
    "# A vast majority are labelled as unknowns\n",
    "val_test.label.value_counts()"
   ]
  },
  {
   "cell_type": "code",
   "execution_count": 15,
   "id": "53ce7aee",
   "metadata": {
    "canvas": {
     "comments": [],
     "componentType": "CodeCell",
     "copiedOriginId": null,
     "diskcache": false,
     "headerColor": "transparent",
     "id": "04037712-f66c-4a11-bbe2-5d9f343d7f21",
     "isComponent": true,
     "name": "Unknown Label in test_val",
     "parents": [
      {
       "id": "27a65fd9-d5b4-4289-b5c1-4bd2befecf9e",
       "name": "Test_val sowing est-preprocess"
      }
     ]
    },
    "tags": []
   },
   "outputs": [
    {
     "name": "stdout",
     "output_type": "stream",
     "text": [
      "Minima over 140: 946\n"
     ]
    },
    {
     "data": {
      "text/html": [
       "<div>\n",
       "<style scoped>\n",
       "    .dataframe tbody tr th:only-of-type {\n",
       "        vertical-align: middle;\n",
       "    }\n",
       "\n",
       "    .dataframe tbody tr th {\n",
       "        vertical-align: top;\n",
       "    }\n",
       "\n",
       "    .dataframe thead th {\n",
       "        text-align: right;\n",
       "    }\n",
       "</style>\n",
       "<table border=\"1\" class=\"dataframe\">\n",
       "  <thead>\n",
       "    <tr style=\"text-align: right;\">\n",
       "      <th></th>\n",
       "      <th>oct_2f</th>\n",
       "      <th>nov_1f</th>\n",
       "      <th>nov_2f</th>\n",
       "      <th>dec_1f</th>\n",
       "      <th>dec_2f</th>\n",
       "      <th>jan_1f</th>\n",
       "      <th>jan_2f</th>\n",
       "      <th>feb_1f</th>\n",
       "      <th>feb_2f</th>\n",
       "      <th>mar_1f</th>\n",
       "    </tr>\n",
       "  </thead>\n",
       "  <tbody>\n",
       "    <tr>\n",
       "      <th>1571</th>\n",
       "      <td>158.0</td>\n",
       "      <td>148.0</td>\n",
       "      <td>136.0</td>\n",
       "      <td>141.0</td>\n",
       "      <td>165.0</td>\n",
       "      <td>180.0</td>\n",
       "      <td>177.0</td>\n",
       "      <td>180.0</td>\n",
       "      <td>170.0</td>\n",
       "      <td>161.0</td>\n",
       "    </tr>\n",
       "    <tr>\n",
       "      <th>6242</th>\n",
       "      <td>159.0</td>\n",
       "      <td>155.0</td>\n",
       "      <td>156.0</td>\n",
       "      <td>148.0</td>\n",
       "      <td>185.0</td>\n",
       "      <td>193.0</td>\n",
       "      <td>196.0</td>\n",
       "      <td>194.0</td>\n",
       "      <td>196.0</td>\n",
       "      <td>181.0</td>\n",
       "    </tr>\n",
       "    <tr>\n",
       "      <th>1318</th>\n",
       "      <td>166.0</td>\n",
       "      <td>154.0</td>\n",
       "      <td>140.0</td>\n",
       "      <td>143.0</td>\n",
       "      <td>160.0</td>\n",
       "      <td>167.0</td>\n",
       "      <td>173.0</td>\n",
       "      <td>179.0</td>\n",
       "      <td>177.0</td>\n",
       "      <td>173.0</td>\n",
       "    </tr>\n",
       "    <tr>\n",
       "      <th>5430</th>\n",
       "      <td>154.0</td>\n",
       "      <td>155.0</td>\n",
       "      <td>159.0</td>\n",
       "      <td>162.0</td>\n",
       "      <td>162.0</td>\n",
       "      <td>142.0</td>\n",
       "      <td>200.0</td>\n",
       "      <td>191.0</td>\n",
       "      <td>192.0</td>\n",
       "      <td>190.0</td>\n",
       "    </tr>\n",
       "    <tr>\n",
       "      <th>1511</th>\n",
       "      <td>181.0</td>\n",
       "      <td>169.0</td>\n",
       "      <td>176.0</td>\n",
       "      <td>172.0</td>\n",
       "      <td>186.0</td>\n",
       "      <td>180.0</td>\n",
       "      <td>174.0</td>\n",
       "      <td>181.0</td>\n",
       "      <td>176.0</td>\n",
       "      <td>174.0</td>\n",
       "    </tr>\n",
       "    <tr>\n",
       "      <th>6476</th>\n",
       "      <td>158.0</td>\n",
       "      <td>159.0</td>\n",
       "      <td>155.0</td>\n",
       "      <td>154.0</td>\n",
       "      <td>167.0</td>\n",
       "      <td>172.0</td>\n",
       "      <td>174.0</td>\n",
       "      <td>175.0</td>\n",
       "      <td>177.0</td>\n",
       "      <td>166.0</td>\n",
       "    </tr>\n",
       "    <tr>\n",
       "      <th>2972</th>\n",
       "      <td>167.0</td>\n",
       "      <td>161.0</td>\n",
       "      <td>153.0</td>\n",
       "      <td>141.0</td>\n",
       "      <td>164.0</td>\n",
       "      <td>177.0</td>\n",
       "      <td>175.0</td>\n",
       "      <td>185.0</td>\n",
       "      <td>183.0</td>\n",
       "      <td>182.0</td>\n",
       "    </tr>\n",
       "    <tr>\n",
       "      <th>6314</th>\n",
       "      <td>152.0</td>\n",
       "      <td>148.0</td>\n",
       "      <td>147.0</td>\n",
       "      <td>149.0</td>\n",
       "      <td>145.0</td>\n",
       "      <td>154.0</td>\n",
       "      <td>169.0</td>\n",
       "      <td>183.0</td>\n",
       "      <td>186.0</td>\n",
       "      <td>173.0</td>\n",
       "    </tr>\n",
       "    <tr>\n",
       "      <th>3744</th>\n",
       "      <td>169.0</td>\n",
       "      <td>161.0</td>\n",
       "      <td>159.0</td>\n",
       "      <td>149.0</td>\n",
       "      <td>161.0</td>\n",
       "      <td>182.0</td>\n",
       "      <td>182.0</td>\n",
       "      <td>189.0</td>\n",
       "      <td>185.0</td>\n",
       "      <td>183.0</td>\n",
       "    </tr>\n",
       "    <tr>\n",
       "      <th>1331</th>\n",
       "      <td>170.0</td>\n",
       "      <td>157.0</td>\n",
       "      <td>139.0</td>\n",
       "      <td>141.0</td>\n",
       "      <td>154.0</td>\n",
       "      <td>169.0</td>\n",
       "      <td>173.0</td>\n",
       "      <td>180.0</td>\n",
       "      <td>179.0</td>\n",
       "      <td>173.0</td>\n",
       "    </tr>\n",
       "  </tbody>\n",
       "</table>\n",
       "</div>"
      ],
      "text/plain": [
       "      oct_2f  nov_1f  nov_2f  dec_1f  dec_2f  jan_1f  jan_2f  feb_1f  feb_2f  \\\n",
       "1571   158.0   148.0   136.0   141.0   165.0   180.0   177.0   180.0   170.0   \n",
       "6242   159.0   155.0   156.0   148.0   185.0   193.0   196.0   194.0   196.0   \n",
       "1318   166.0   154.0   140.0   143.0   160.0   167.0   173.0   179.0   177.0   \n",
       "5430   154.0   155.0   159.0   162.0   162.0   142.0   200.0   191.0   192.0   \n",
       "1511   181.0   169.0   176.0   172.0   186.0   180.0   174.0   181.0   176.0   \n",
       "6476   158.0   159.0   155.0   154.0   167.0   172.0   174.0   175.0   177.0   \n",
       "2972   167.0   161.0   153.0   141.0   164.0   177.0   175.0   185.0   183.0   \n",
       "6314   152.0   148.0   147.0   149.0   145.0   154.0   169.0   183.0   186.0   \n",
       "3744   169.0   161.0   159.0   149.0   161.0   182.0   182.0   189.0   185.0   \n",
       "1331   170.0   157.0   139.0   141.0   154.0   169.0   173.0   180.0   179.0   \n",
       "\n",
       "      mar_1f  \n",
       "1571   161.0  \n",
       "6242   181.0  \n",
       "1318   173.0  \n",
       "5430   190.0  \n",
       "1511   174.0  \n",
       "6476   166.0  \n",
       "2972   182.0  \n",
       "6314   173.0  \n",
       "3744   183.0  \n",
       "1331   173.0  "
      ]
     },
     "metadata": {},
     "output_type": "display_data"
    },
    {
     "data": {
      "text/plain": [
       "<Axes: >"
      ]
     },
     "execution_count": 15,
     "metadata": {},
     "output_type": "execute_result"
    },
    {
     "data": {
      "image/png": "[encoded data removed]",
      "text/plain": [
       "<Figure size 640x480 with 1 Axes>"
      ]
     },
     "metadata": {},
     "output_type": "display_data"
    }
   ],
   "source": [
    "# There are 946 rows with minima over 140\n",
    "print('Minima over 140:',(val_test[val_test.label == 'Unknown'].min(axis=1) >= 140).sum())\n",
    "\n",
    "# Sample Unknown plot\n",
    "display(val_test[val_test.label == 'Unknown'].loc[:,:'mar_1f'].sample(10, random_state=1))\n",
    "val_test[val_test.label == 'Unknown'].loc[:,:'mar_1f'].sample(10, random_state=1).T.plot()"
   ]
  },
  {
   "cell_type": "markdown",
   "id": "dc4e2e98",
   "metadata": {
    "canvas": {
     "comments": [],
     "componentType": "CodeCell",
     "copiedOriginId": null,
     "diskcache": false,
     "headerColor": "transparent",
     "id": "6bfbabfd-d784-4107-a392-f1de6ae04b00",
     "isComponent": false,
     "name": "",
     "parents": []
    }
   },
   "source": [
    "## Final split on the basis of wheat's sowing period"
   ]
  },
  {
   "cell_type": "code",
   "execution_count": 16,
   "id": "570217da",
   "metadata": {
    "canvas": {
     "comments": [],
     "componentType": "CodeCell",
     "copiedOriginId": null,
     "diskcache": false,
     "headerColor": "transparent",
     "id": "2b599d7b-7bcf-4423-93a4-a873d1337f89",
     "isComponent": true,
     "name": "Tst Sow-period wise data split",
     "parents": [
      {
       "id": "04037712-f66c-4a11-bbe2-5d9f343d7f21",
       "name": "Unknown Label in test_val"
      }
     ]
    },
    "tags": []
   },
   "outputs": [],
   "source": [
    "# Creating different datasets for validation and testing of a wheat vs non wheat classifier\n",
    "# Label encoding wheat as 1 and non wheat as 0\n",
    "\n",
    "val_tst_nov1f_nw = val_test[(val_test.label == 'Wheat_nov_1f') | (val_test.label == 'Non_Wheat')]\n",
    "val_tst_nov1f_nw['label'] = val_tst_nov1f_nw.label.apply(lambda crop: 0 if crop[:5] != 'Wheat' else 1)\n",
    "\n",
    "val_tst_nov2f_nw = val_test[(val_test.label == 'Wheat_nov_2f') | (val_test.label == 'Non_Wheat')]\n",
    "val_tst_nov2f_nw['label'] = val_tst_nov2f_nw.label.apply(lambda crop: 0 if crop[:5] != 'Wheat' else 1)\n",
    "\n",
    "val_tst_dec1f_nw = val_test[(val_test.label == 'Wheat_dec_1f') | (val_test.label == 'Non_Wheat')]\n",
    "val_tst_dec1f_nw['label'] = val_tst_dec1f_nw.label.apply(lambda crop: 0 if crop[:5] != 'Wheat' else 1)"
   ]
  },
  {
   "cell_type": "code",
   "execution_count": null,
   "id": "37ae7e36",
   "metadata": {},
   "outputs": [],
   "source": []
  },
  {
   "cell_type": "markdown",
   "id": "75ba81e1",
   "metadata": {
    "canvas": {
     "comments": [],
     "componentType": "CodeCell",
     "copiedOriginId": null,
     "diskcache": false,
     "headerColor": "transparent",
     "id": "05d9dbbf-d9f3-4858-b46e-711fe9a4f296",
     "isComponent": false,
     "name": "",
     "parents": []
    }
   },
   "source": [
    "# Wheat Nov_1F vs Non Wheat"
   ]
  },
  {
   "cell_type": "markdown",
   "id": "b931385b",
   "metadata": {
    "canvas": {
     "comments": [],
     "componentType": "CodeCell",
     "copiedOriginId": null,
     "diskcache": false,
     "headerColor": "transparent",
     "id": "4668860e-afeb-428a-bad2-3f3856b99578",
     "isComponent": false,
     "name": "",
     "parents": []
    }
   },
   "source": [
    "## Undersampling - Atleast 70:30(wheat/Non_wheat)"
   ]
  },
  {
   "cell_type": "code",
   "execution_count": 16,
   "id": "6b7d1eac",
   "metadata": {
    "canvas": {
     "comments": [],
     "componentType": "CodeCell",
     "copiedOriginId": null,
     "diskcache": false,
     "headerColor": "transparent",
     "id": "7b1f3c1f-271d-4801-9f11-9fe51ff40bdf",
     "isComponent": true,
     "name": "Nov-1f undersampling",
     "parents": [
      {
       "id": "91f82b2e-80ea-4c3b-be59-8df304e0403b",
       "name": "Tr Sow-period wise data split"
      },
      {
       "id": "2b599d7b-7bcf-4423-93a4-a873d1337f89",
       "name": "Tst Sow-period wise data split"
      }
     ]
    },
    "tags": []
   },
   "outputs": [
    {
     "data": {
      "text/plain": [
       "1    0.592568\n",
       "0    0.407432\n",
       "Name: label, dtype: float64"
      ]
     },
     "execution_count": 16,
     "metadata": {},
     "output_type": "execute_result"
    }
   ],
   "source": [
    "# Undersampling not required as we have a 60 to 40 ratio.\n",
    "\n",
    "tr_nov1f_nw.label.value_counts(normalize=True)"
   ]
  },
  {
   "cell_type": "markdown",
   "id": "c4fedcca",
   "metadata": {
    "canvas": {
     "comments": [],
     "componentType": "CodeCell",
     "copiedOriginId": null,
     "diskcache": false,
     "headerColor": "transparent",
     "id": "c6ec1d61-8bd2-43ce-a275-7af6500ecfed",
     "isComponent": false,
     "name": "",
     "parents": []
    }
   },
   "source": [
    "## Predictor and label split"
   ]
  },
  {
   "cell_type": "code",
   "execution_count": 17,
   "id": "f8e5bacb",
   "metadata": {
    "canvas": {
     "comments": [],
     "componentType": "CodeCell",
     "copiedOriginId": null,
     "diskcache": false,
     "headerColor": "transparent",
     "id": "ee19bb92-1c55-4b7c-83fe-f593d7549ec6",
     "isComponent": true,
     "name": "Nov-1f Predictor-label split",
     "parents": [
      {
       "id": "7b1f3c1f-271d-4801-9f11-9fe51ff40bdf",
       "name": "Nov-1f undersampling"
      }
     ]
    },
    "tags": []
   },
   "outputs": [],
   "source": [
    "pred_cols = tr_nov1f_nw.loc[:,'nov_1f':'mar_1f'].columns\n",
    "\n",
    "X_train = tr_nov1f_nw[pred_cols]\n",
    "y_train = tr_nov1f_nw['label']\n",
    "\n",
    "X_val_test = val_tst_nov1f_nw[pred_cols]\n",
    "y_val_test = val_tst_nov1f_nw['label']\n",
    "\n",
    "y_val_test = y_val_test.astype('int')\n",
    "\n",
    "X_val, X_test, y_val, y_test = train_test_split(X_val_test, y_val_test, test_size=0.5, shuffle=True, \n",
    "                                                  stratify=y_val_test, random_state=0)\n",
    "\n",
    "# X_train.drop('fn_label', axis=1, inplace=True)\n",
    "# # X_val.drop('fn_label', axis=1, inplace=True)"
   ]
  },
  {
   "cell_type": "markdown",
   "id": "70612411",
   "metadata": {
    "canvas": {
     "comments": [],
     "componentType": "CodeCell",
     "copiedOriginId": null,
     "diskcache": false,
     "headerColor": "transparent",
     "id": "d0b8079d-ec79-4936-9611-f220343dcb1c",
     "isComponent": false,
     "name": "",
     "parents": []
    }
   },
   "source": [
    "## Scaling"
   ]
  },
  {
   "cell_type": "code",
   "execution_count": 18,
   "id": "1b476501",
   "metadata": {
    "canvas": {
     "comments": [],
     "componentType": "CodeCell",
     "copiedOriginId": null,
     "diskcache": false,
     "headerColor": "transparent",
     "id": "e1d08b85-fc4b-44af-b3ca-c060577206a8",
     "isComponent": true,
     "name": "nov_1f scaling",
     "parents": [
      {
       "id": "ee19bb92-1c55-4b7c-83fe-f593d7549ec6",
       "name": "Nov-1f Predictor-label split"
      }
     ]
    },
    "tags": []
   },
   "outputs": [],
   "source": [
    "scaler = StandardScaler()\n",
    "\n",
    "X_train = pd.DataFrame(scaler.fit_transform(X_train), columns=X_train.columns)\n",
    "X_val = pd.DataFrame(scaler.transform(X_val), columns=X_val.columns)\n",
    "X_test = pd.DataFrame(scaler.transform(X_test), columns=X_test.columns)\n",
    "\n",
    "y_train.reset_index(drop=True, inplace=True)\n",
    "y_val.reset_index(drop=True, inplace=True)\n",
    "y_test.reset_index(drop=True, inplace=True)\n",
    "\n",
    "pickle.dump(scaler, open(r'models/XGB_Binary_sowing-nov1f_StandardScaler_1.1', 'wb'))"
   ]
  },
  {
   "cell_type": "markdown",
   "id": "7af21fbf",
   "metadata": {
    "canvas": {
     "comments": [],
     "componentType": "CodeCell",
     "copiedOriginId": null,
     "diskcache": false,
     "headerColor": "transparent",
     "id": "f0be5854-567a-4b1d-9044-b8bb41bbffbb",
     "isComponent": false,
     "name": "",
     "parents": []
    }
   },
   "source": [
    "## Modelling-Manual"
   ]
  },
  {
   "cell_type": "markdown",
   "id": "2c49d64f",
   "metadata": {
    "canvas": {
     "comments": [],
     "componentType": "CodeCell",
     "copiedOriginId": null,
     "diskcache": false,
     "headerColor": "transparent",
     "id": "683f18de-9478-4caf-b53e-b83afa4224cd",
     "isComponent": false,
     "name": "",
     "parents": []
    }
   },
   "source": [
    "- Labels =  1 : 'Wheat_nov_1f, 0 : Non-Wheat\n",
    "- FP = GT is non wheat but model predicted wheat\n",
    "- FN = GT is wheat but model predicted non wheat\n",
    "\n",
    "- Will be training my model on the recall score of non wheat class"
   ]
  },
  {
   "cell_type": "code",
   "execution_count": 19,
   "id": "7dc3305f",
   "metadata": {
    "canvas": {
     "comments": [],
     "componentType": "CodeCell",
     "copiedOriginId": null,
     "diskcache": false,
     "headerColor": "transparent",
     "id": "097a5079-0ef6-41ff-ae9e-4c0aeb3ce7c1",
     "isComponent": true,
     "name": "nov_1f model training",
     "parents": [
      {
       "id": "e1d08b85-fc4b-44af-b3ca-c060577206a8",
       "name": "nov_1f scaling"
      }
     ]
    },
    "scrolled": true,
    "tags": []
   },
   "outputs": [
    {
     "name": "stdout",
     "output_type": "stream",
     "text": [
      "0 dropped completed\n",
      "1 dropped completed\n",
      "2 dropped completed\n",
      "3 dropped completed\n",
      "4 dropped completed\n",
      "Wheat Recall is less than 0.79 if ['jan_1f', 'jan_2f', 'feb_1f', 'feb_2f', 'mar_1f'] are dropped\n",
      "Done!!\n"
     ]
    }
   ],
   "source": [
    "fort_nights = list(X_train.loc[:, :'mar_1f'].columns)\n",
    "\n",
    "params = {'n_estimators':np.arange(5,100,5), 'learning_rate':np.arange(0.05, 0.55, 0.05), \n",
    "          'max_depth':np.arange(1,5,1)}\n",
    "\n",
    "# sample_weights = compute_sample_weight(class_weight='balanced',y=y_train)\n",
    "\n",
    "param_grid = list(ParameterGrid(params))\n",
    "max_recall_scores = []\n",
    "fns_used = []\n",
    "\n",
    "i = 0\n",
    "\n",
    "while (i + 4) <= len(fort_nights):\n",
    "    recall_scores = []\n",
    "    if i == 0:\n",
    "        drop_cols = []\n",
    "    else:\n",
    "        drop_cols = fort_nights[-i:]\n",
    "    for p in param_grid:\n",
    "        wheat_classifier = XGBClassifier(**p)\n",
    "        temp_X_train = X_train.drop(drop_cols, axis=1)\n",
    "        temp_X_val = X_val.drop(drop_cols, axis=1)\n",
    "        wheat_classifier.fit(temp_X_train, y_train)\n",
    "        val_pred = wheat_classifier.predict(temp_X_val)\n",
    "        precision, recall, f1score, support = score(y_val, val_pred, labels=[0,1])\n",
    "        recall_scores.append(recall)\n",
    "        \n",
    "    recall_scores = pd.DataFrame(recall_scores)\n",
    "    # Max Non_wheat recall where Wheat recall is atleast 0.79\n",
    "    try:\n",
    "        max_nw_idx = recall_scores[recall_scores.iloc[:,1]>0.79].idxmax(axis=0)[0]\n",
    "        max_nw_scores = recall_scores.loc[max_nw_idx,:].values\n",
    "        max_recall_scores.append([max_nw_scores, param_grid[max_nw_idx]])\n",
    "\n",
    "        fns_used.append('-'.join(temp_X_train.columns[[0,-1]]))\n",
    "        print(len(drop_cols), 'dropped', 'completed')\n",
    "    except:\n",
    "        print(f'Wheat Recall is less than 0.79 if {drop_cols} are dropped')\n",
    "    \n",
    "    i += 1\n",
    "    \n",
    "print('Done!!')"
   ]
  },
  {
   "cell_type": "code",
   "execution_count": 20,
   "id": "e6b5b9ee",
   "metadata": {
    "canvas": {
     "comments": [],
     "componentType": "CodeCell",
     "copiedOriginId": null,
     "diskcache": false,
     "headerColor": "transparent",
     "id": "6d270eeb-f9d4-4035-9db2-628d63021248",
     "isComponent": true,
     "name": "Nov_2f Wheat-Non_wh val scores",
     "parents": [
      {
       "id": "aa90bc5b-e3bb-427f-a444-3ceed95b85d3",
       "name": "Nov_2f model training"
      }
     ]
    },
    "tags": []
   },
   "outputs": [
    {
     "data": {
      "text/plain": [
       "[[array([0.99752475, 0.87777778]),\n",
       "  {'learning_rate': 0.05, 'max_depth': 1, 'n_estimators': 30}],\n",
       " [array([0.99752475, 0.87777778]),\n",
       "  {'learning_rate': 0.05, 'max_depth': 1, 'n_estimators': 30}],\n",
       " [array([1.        , 0.81777778]),\n",
       "  {'learning_rate': 0.05, 'max_depth': 2, 'n_estimators': 15}],\n",
       " [array([1.        , 0.81777778]),\n",
       "  {'learning_rate': 0.05, 'max_depth': 2, 'n_estimators': 15}],\n",
       " [array([1.        , 0.81777778]),\n",
       "  {'learning_rate': 0.05, 'max_depth': 2, 'n_estimators': 15}]]"
      ]
     },
     "execution_count": 20,
     "metadata": {},
     "output_type": "execute_result"
    }
   ],
   "source": [
    "max_recall_scores"
   ]
  },
  {
   "cell_type": "code",
   "execution_count": 23,
   "id": "e7e6df66",
   "metadata": {
    "canvas": {
     "comments": [],
     "componentType": "CodeCell",
     "copiedOriginId": null,
     "diskcache": false,
     "headerColor": "transparent",
     "id": "b5b2b60b-6308-4cdf-8e69-5e51d12c4a57",
     "isComponent": true,
     "name": "Nov_2f Model Testing",
     "parents": [
      {
       "id": "6d270eeb-f9d4-4035-9db2-628d63021248",
       "name": "Nov_2f Wheat-Non_wh val scores"
      }
     ]
    },
    "tags": []
   },
   "outputs": [
    {
     "name": "stdout",
     "output_type": "stream",
     "text": [
      "[0.9975308641975309, 0.86]\n",
      "[0.9975308641975309, 0.86]\n",
      "[1.0, 0.81]\n",
      "[1.0, 0.81]\n",
      "[1.0, 0.81]\n"
     ]
    }
   ],
   "source": [
    "test_recall_scores = []\n",
    "confusion_matrices = []\n",
    "test_dfs = []\n",
    "\n",
    "for i in range(len(fns_used)):\n",
    "    best_classifier = XGBClassifier(**max_recall_scores[i][1])\n",
    "    \n",
    "    strt_fn, end_fn = fns_used[i].split('-') \n",
    "    temp_X_train = X_train.loc[:, strt_fn:end_fn]\n",
    "    temp_X_test = X_test.loc[:, strt_fn:end_fn]\n",
    "    best_classifier.fit(temp_X_train, y_train)\n",
    "    pickle.dump(best_classifier, open(r'models/XGB_Binary_sowing-nov1f_{}_1.1'.format('-'.join(temp_X_train.columns[[0,-1]])), 'wb'))\n",
    "    test_pred = best_classifier.predict(temp_X_test)\n",
    "    precision, recall, f1score, support = score(y_test, test_pred, labels=[0,1])\n",
    "    test_recall_scores.append([recall[0], round(recall[1], 2)])\n",
    "    cf = pd.crosstab(y_test, pd.Series(test_pred, name='pred')).rename({0:'Non_wheat', 1:'Wheat'}).rename({0:'Non_wheat', 1:'Wheat'}, axis=1)\n",
    "    confusion_matrices.append(cf)\n",
    "    df1 = pd.DataFrame(data = {'GT':confusion_matrices[-1].sum(axis=1),\n",
    "                                    'correct_pred':np.diag(confusion_matrices[-1])})\n",
    "    df1['correct_pred(%)'] = round(df1['correct_pred']/df1['GT']*100, 2)\n",
    "    temp_df = deepcopy(confusion_matrices[-1])\n",
    "    np.fill_diagonal(temp_df.values, 0)\n",
    "    temp_df.columns = ['incorr_pred_nw', 'incorrect_pred_wh']\n",
    "    df1 = pd.concat([df1, temp_df], axis=1)\n",
    "    test_dfs.append(df1)\n",
    "    print(test_recall_scores[-1])"
   ]
  },
  {
   "cell_type": "code",
   "execution_count": 34,
   "id": "682bfc6e",
   "metadata": {
    "canvas": {
     "comments": [],
     "componentType": "CodeCell",
     "copiedOriginId": null,
     "diskcache": false,
     "headerColor": "transparent",
     "id": "4781ec87-1fdf-4bb2-a895-13e3d15c9f94",
     "isComponent": true,
     "name": "Nov_1f Test Recall plots",
     "parents": [
      {
       "id": "b5b2b60b-6308-4cdf-8e69-5e51d12c4a57",
       "name": "Nov_2f Model Testing"
      }
     ]
    },
    "tags": []
   },
   "outputs": [
    {
     "data": {
      "image/png": "[encoded data removed]",
      "text/plain": [
       "<Figure size 640x480 with 1 Axes>"
      ]
     },
     "metadata": {},
     "output_type": "display_data"
    }
   ],
   "source": [
    "sns.lineplot(y=np.array(test_recall_scores)[:,0], x=fns_used, label='Recall_min_class (Non-Wheat)', marker=\"o\")\n",
    "sns.lineplot(y=np.array(test_recall_scores)[:,1], x=fns_used, label='Recall_maj_class (Wheat)', marker=\"o\")\n",
    "plt.xlabel('Fns Used')\n",
    "plt.ylabel('Recall Scores')\n",
    "plt.xticks(rotation='vertical')\n",
    "plt.title('Wheat vs Non_Wheat')\n",
    "plt.ylim([0.5,1.2])\n",
    "plt.grid()\n",
    "plt.show()"
   ]
  },
  {
   "cell_type": "code",
   "execution_count": 35,
   "id": "fd737253",
   "metadata": {
    "canvas": {
     "comments": [],
     "componentType": "CodeCell",
     "copiedOriginId": null,
     "diskcache": false,
     "headerColor": "transparent",
     "id": "f85e38e7-1e0b-44e9-8f18-6a8043f34c30",
     "isComponent": true,
     "name": "Nov_1f Test CF_matrix",
     "parents": [
      {
       "id": "4781ec87-1fdf-4bb2-a895-13e3d15c9f94",
       "name": "Nov_1f Test Recall plots"
      }
     ]
    },
    "tags": []
   },
   "outputs": [
    {
     "data": {
      "image/png": "[encoded data removed]",
      "text/plain": [
       "<Figure size 1500x3000 with 10 Axes>"
      ]
     },
     "metadata": {},
     "output_type": "display_data"
    }
   ],
   "source": [
    "plt.figure(figsize=(15,30))\n",
    "\n",
    "for i in range(len(confusion_matrices)):\n",
    "    plt.subplot(4,2,i+1)\n",
    "    sns.heatmap(confusion_matrices[i], annot=True, cmap='Blues', fmt='g')\n",
    "    plt.xlabel('Predicted Class')\n",
    "    plt.ylabel('Actual Class/GT')\n",
    "    plt.title(f'Fns Used: [{fns_used[i]}]')\n",
    "plt.show()"
   ]
  },
  {
   "cell_type": "markdown",
   "id": "e48c76c3",
   "metadata": {
    "canvas": {
     "comments": [],
     "componentType": "CodeCell",
     "copiedOriginId": null,
     "diskcache": false,
     "headerColor": "transparent",
     "id": "c5fd6206-04f2-4ae7-9cdd-617f2e8d595e",
     "isComponent": false,
     "name": "",
     "parents": []
    }
   },
   "source": [
    "# Wheat Nov_2F vs Non Wheat"
   ]
  },
  {
   "cell_type": "markdown",
   "id": "2b504b5c",
   "metadata": {
    "canvas": {
     "comments": [],
     "componentType": "CodeCell",
     "copiedOriginId": null,
     "diskcache": false,
     "headerColor": "transparent",
     "id": "5a4eece8-b329-48ba-9925-66a244f8881a",
     "isComponent": false,
     "name": "",
     "parents": []
    }
   },
   "source": [
    "## Undersampling - Atleast 70:30(wheat/Non_wheat)"
   ]
  },
  {
   "cell_type": "code",
   "execution_count": 18,
   "id": "610ca978",
   "metadata": {
    "canvas": {
     "comments": [],
     "componentType": "CodeCell",
     "copiedOriginId": null,
     "diskcache": false,
     "headerColor": "transparent",
     "id": "aaffb176-1dad-4c6f-8451-d38b9a6351c0",
     "isComponent": true,
     "name": "Nov-2f undersampling",
     "parents": [
      {
       "id": "2b599d7b-7bcf-4423-93a4-a873d1337f89",
       "name": "Tst Sow-period wise data split"
      },
      {
       "id": "91f82b2e-80ea-4c3b-be59-8df304e0403b",
       "name": "Tr Sow-period wise data split"
      }
     ]
    },
    "tags": []
   },
   "outputs": [
    {
     "data": {
      "text/plain": [
       "1    0.741522\n",
       "0    0.258478\n",
       "Name: label, dtype: float64"
      ]
     },
     "execution_count": 18,
     "metadata": {},
     "output_type": "execute_result"
    }
   ],
   "source": [
    "# Undersampling not required as the ratio is close to 70:30\n",
    "\n",
    "(tr_nov2f_nw.label.value_counts(normalize=True))"
   ]
  },
  {
   "cell_type": "markdown",
   "id": "ed742d5e",
   "metadata": {
    "canvas": {
     "comments": [],
     "componentType": "CodeCell",
     "copiedOriginId": null,
     "diskcache": false,
     "headerColor": "transparent",
     "id": "19178255-7dcf-4b64-bbef-067f70d39e93",
     "isComponent": false,
     "name": "",
     "parents": []
    }
   },
   "source": [
    "## Predictor and label split"
   ]
  },
  {
   "cell_type": "code",
   "execution_count": 19,
   "id": "264a2323",
   "metadata": {
    "canvas": {
     "comments": [],
     "componentType": "CodeCell",
     "copiedOriginId": null,
     "diskcache": false,
     "headerColor": "transparent",
     "id": "d4a522a2-de2f-4808-9125-7b53baa20aa1",
     "isComponent": true,
     "name": "Nov-2f Predictor-label split",
     "parents": [
      {
       "id": "aaffb176-1dad-4c6f-8451-d38b9a6351c0",
       "name": "Nov-2f undersampling"
      }
     ]
    },
    "tags": []
   },
   "outputs": [],
   "source": [
    "pred_cols = tr_nov2f_nw.loc[:,'nov_2f':'mar_1f'].columns\n",
    "\n",
    "X_train = tr_nov2f_nw[pred_cols]\n",
    "y_train = tr_nov2f_nw['label']\n",
    "\n",
    "X_val_test = val_tst_nov2f_nw[pred_cols]\n",
    "y_val_test = val_tst_nov2f_nw['label']\n",
    "\n",
    "y_val_test = y_val_test.astype('int')\n",
    "\n",
    "X_val, X_test, y_val, y_test = train_test_split(X_val_test, y_val_test, test_size=0.5, shuffle=True, \n",
    "                                                  stratify=y_val_test, random_state=0)\n",
    "\n",
    "# X_train.drop('fn_label', axis=1, inplace=True)\n",
    "# # X_val.drop('fn_label', axis=1, inplace=True)"
   ]
  },
  {
   "cell_type": "markdown",
   "id": "9275824a",
   "metadata": {
    "canvas": {
     "comments": [],
     "componentType": "CodeCell",
     "copiedOriginId": null,
     "diskcache": false,
     "headerColor": "transparent",
     "id": "d0b8079d-ec79-4936-9611-f220343dcb1c",
     "isComponent": false,
     "name": "",
     "parents": []
    }
   },
   "source": [
    "## Scaling"
   ]
  },
  {
   "cell_type": "code",
   "execution_count": 20,
   "id": "35e42cc2",
   "metadata": {
    "canvas": {
     "comments": [],
     "componentType": "CodeCell",
     "copiedOriginId": null,
     "diskcache": false,
     "headerColor": "transparent",
     "id": "f4a88a68-d521-41d5-930e-cf1ec6c9333f",
     "isComponent": true,
     "name": "nov_2f scaling",
     "parents": [
      {
       "id": "d4a522a2-de2f-4808-9125-7b53baa20aa1",
       "name": "Nov-2f Predictor-label split"
      }
     ]
    },
    "tags": []
   },
   "outputs": [],
   "source": [
    "scaler = StandardScaler()\n",
    "\n",
    "X_train = pd.DataFrame(scaler.fit_transform(X_train), columns=X_train.columns)\n",
    "X_val = pd.DataFrame(scaler.transform(X_val), columns=X_val.columns)\n",
    "X_test = pd.DataFrame(scaler.transform(X_test), columns=X_test.columns)\n",
    "\n",
    "y_train.reset_index(drop=True, inplace=True)\n",
    "y_val.reset_index(drop=True, inplace=True)\n",
    "y_test.reset_index(drop=True, inplace=True)\n",
    "\n",
    "pickle.dump(scaler, open(r'models/XGB_Binary_sowing-nov2f_StandardScaler_1.1', 'wb'))"
   ]
  },
  {
   "cell_type": "markdown",
   "id": "7cf1b3b5",
   "metadata": {
    "canvas": {
     "comments": [],
     "componentType": "CodeCell",
     "copiedOriginId": null,
     "diskcache": false,
     "headerColor": "transparent",
     "id": "f0be5854-567a-4b1d-9044-b8bb41bbffbb",
     "isComponent": false,
     "name": "",
     "parents": []
    }
   },
   "source": [
    "## Modelling-Manual"
   ]
  },
  {
   "cell_type": "markdown",
   "id": "3b3ebec4",
   "metadata": {
    "canvas": {
     "comments": [],
     "componentType": "CodeCell",
     "copiedOriginId": null,
     "diskcache": false,
     "headerColor": "transparent",
     "id": "683f18de-9478-4caf-b53e-b83afa4224cd",
     "isComponent": false,
     "name": "",
     "parents": []
    }
   },
   "source": [
    "- Labels =  1 : 'Wheat_nov_2f, 0 : Non-Wheat\n",
    "- FP = GT is non wheat but model predicted wheat\n",
    "- FN = GT is wheat but model predicted non wheat\n",
    "\n",
    "- Will be training my model on the recall score of non wheat class"
   ]
  },
  {
   "cell_type": "code",
   "execution_count": 21,
   "id": "ebea12f2",
   "metadata": {
    "canvas": {
     "comments": [],
     "componentType": "CodeCell",
     "copiedOriginId": null,
     "diskcache": false,
     "headerColor": "transparent",
     "id": "aa90bc5b-e3bb-427f-a444-3ceed95b85d3",
     "isComponent": true,
     "name": "Nov_2f model training",
     "parents": [
      {
       "id": "f4a88a68-d521-41d5-930e-cf1ec6c9333f",
       "name": "nov_2f scaling"
      }
     ]
    },
    "scrolled": true,
    "tags": []
   },
   "outputs": [
    {
     "name": "stdout",
     "output_type": "stream",
     "text": [
      "0 dropped completed\n",
      "1 dropped completed\n",
      "2 dropped completed\n",
      "3 dropped completed\n",
      "4 dropped completed\n",
      "Done!!\n"
     ]
    }
   ],
   "source": [
    "fort_nights = list(X_train.loc[:, :'mar_1f'].columns)\n",
    "\n",
    "params = {'n_estimators':np.arange(5,100,5), 'learning_rate':np.arange(0.05, 0.55, 0.05), \n",
    "          'max_depth':np.arange(1,5,1)}\n",
    "\n",
    "# sample_weights = compute_sample_weight(class_weight='balanced',y=y_train)\n",
    "\n",
    "param_grid = list(ParameterGrid(params))\n",
    "max_recall_scores = []\n",
    "fns_used = []\n",
    "\n",
    "i = 0\n",
    "\n",
    "while (i + 4) <= len(fort_nights):\n",
    "    recall_scores = []\n",
    "    if i == 0:\n",
    "        drop_cols = []\n",
    "    else:\n",
    "        drop_cols = fort_nights[-i:]\n",
    "    for p in param_grid:\n",
    "        wheat_classifier = XGBClassifier(**p)\n",
    "        temp_X_train = X_train.drop(drop_cols, axis=1)\n",
    "        temp_X_val = X_val.drop(drop_cols, axis=1)\n",
    "        wheat_classifier.fit(temp_X_train, y_train)\n",
    "        val_pred = wheat_classifier.predict(temp_X_val)\n",
    "        precision, recall, f1score, support = score(y_val, val_pred, labels=[0,1])\n",
    "        recall_scores.append(recall)\n",
    "        \n",
    "    recall_scores = pd.DataFrame(recall_scores)\n",
    "    # Max Non_wheat recall where Wheat recall is atleast 0.79\n",
    "    try:\n",
    "        max_nw_idx = recall_scores[recall_scores.iloc[:,1]>0.79].idxmax(axis=0)[0]\n",
    "        max_nw_scores = recall_scores.loc[max_nw_idx,:].values\n",
    "        max_recall_scores.append([max_nw_scores, param_grid[max_nw_idx]])\n",
    "\n",
    "        fns_used.append('-'.join(temp_X_train.columns[[0,-1]]))\n",
    "        print(len(drop_cols), 'dropped', 'completed')\n",
    "    except:\n",
    "        print(f'Wheat Recall is less than 0.79 if {drop_cols} are dropped')\n",
    "    \n",
    "    i += 1\n",
    "    \n",
    "print('Done!!')"
   ]
  },
  {
   "cell_type": "code",
   "execution_count": 23,
   "id": "1ab3a7fe",
   "metadata": {
    "canvas": {
     "comments": [],
     "componentType": "CodeCell",
     "copiedOriginId": null,
     "diskcache": false,
     "headerColor": "transparent",
     "id": "6d270eeb-f9d4-4035-9db2-628d63021248",
     "isComponent": false,
     "name": "",
     "parents": []
    },
    "scrolled": true
   },
   "outputs": [
    {
     "data": {
      "text/plain": [
       "[[array([1.        , 0.85549645]),\n",
       "  {'learning_rate': 0.05, 'max_depth': 1, 'n_estimators': 70}],\n",
       " [array([1.        , 0.85549645]),\n",
       "  {'learning_rate': 0.05, 'max_depth': 1, 'n_estimators': 70}],\n",
       " [array([1.        , 0.85638298]),\n",
       "  {'learning_rate': 0.05, 'max_depth': 1, 'n_estimators': 75}],\n",
       " [array([0.99752475, 0.85904255]),\n",
       "  {'learning_rate': 0.05, 'max_depth': 1, 'n_estimators': 5}],\n",
       " [array([0.99752475, 0.85904255]),\n",
       "  {'learning_rate': 0.05, 'max_depth': 1, 'n_estimators': 5}]]"
      ]
     },
     "execution_count": 23,
     "metadata": {},
     "output_type": "execute_result"
    }
   ],
   "source": [
    "max_recall_scores"
   ]
  },
  {
   "cell_type": "code",
   "execution_count": 24,
   "id": "6f623c39",
   "metadata": {
    "canvas": {
     "comments": [],
     "componentType": "CodeCell",
     "copiedOriginId": null,
     "diskcache": false,
     "headerColor": "transparent",
     "id": "b5b2b60b-6308-4cdf-8e69-5e51d12c4a57",
     "isComponent": false,
     "name": "",
     "parents": []
    }
   },
   "outputs": [
    {
     "name": "stdout",
     "output_type": "stream",
     "text": [
      "[1.0, 0.87]\n",
      "[1.0, 0.87]\n",
      "[1.0, 0.87]\n",
      "[1.0, 0.88]\n",
      "[1.0, 0.88]\n"
     ]
    }
   ],
   "source": [
    "test_recall_scores = []\n",
    "confusion_matrices = []\n",
    "test_dfs = []\n",
    "\n",
    "for i in range(len(fns_used)):\n",
    "    best_classifier = XGBClassifier(**max_recall_scores[i][1])\n",
    "    \n",
    "    strt_fn, end_fn = fns_used[i].split('-') \n",
    "    temp_X_train = X_train.loc[:, strt_fn:end_fn]\n",
    "    temp_X_test = X_test.loc[:, strt_fn:end_fn]\n",
    "    best_classifier.fit(temp_X_train, y_train)\n",
    "    pickle.dump(best_classifier, open(r'models/XGB_Binary_sowing-nov2f_{}_1.1'.format('-'.join(temp_X_train.columns[[0,-1]])), 'wb'))\n",
    "    test_pred = best_classifier.predict(temp_X_test)\n",
    "    precision, recall, f1score, support = score(y_test, test_pred, labels=[0,1])\n",
    "    test_recall_scores.append([recall[0], round(recall[1], 2)])\n",
    "    cf = pd.crosstab(y_test, pd.Series(test_pred, name='pred')).rename({0:'Non_wheat', 1:'Wheat'}).rename({0:'Non_wheat', 1:'Wheat'}, axis=1)\n",
    "    confusion_matrices.append(cf)\n",
    "    df1 = pd.DataFrame(data = {'GT':confusion_matrices[-1].sum(axis=1),\n",
    "                                    'correct_pred':np.diag(confusion_matrices[-1])})\n",
    "    df1['correct_pred(%)'] = round(df1['correct_pred']/df1['GT']*100, 2)\n",
    "    temp_df = deepcopy(confusion_matrices[-1])\n",
    "    np.fill_diagonal(temp_df.values, 0)\n",
    "    temp_df.columns = ['incorr_pred_nw', 'incorrect_pred_wh']\n",
    "    df1 = pd.concat([df1, temp_df], axis=1)\n",
    "    test_dfs.append(df1)\n",
    "    print(test_recall_scores[-1])"
   ]
  },
  {
   "cell_type": "code",
   "execution_count": 26,
   "id": "914b2426",
   "metadata": {
    "canvas": {
     "comments": [],
     "componentType": "CodeCell",
     "copiedOriginId": null,
     "diskcache": false,
     "headerColor": "transparent",
     "id": "4781ec87-1fdf-4bb2-a895-13e3d15c9f94",
     "isComponent": false,
     "name": "",
     "parents": []
    }
   },
   "outputs": [
    {
     "data": {
      "image/png": "[encoded data removed]",
      "text/plain": [
       "<Figure size 640x480 with 1 Axes>"
      ]
     },
     "metadata": {},
     "output_type": "display_data"
    }
   ],
   "source": [
    "sns.lineplot(y=np.array(test_recall_scores)[:,0], x=fns_used, label='Recall_min_class (Non-Wheat)', marker=\"o\")\n",
    "sns.lineplot(y=np.array(test_recall_scores)[:,1], x=fns_used, label='Recall_maj_class (Wheat)', marker=\"o\")\n",
    "plt.xlabel('Fns Used')\n",
    "plt.ylabel('Recall Scores')\n",
    "plt.xticks(rotation='vertical')\n",
    "plt.title('Wheat vs Non_Wheat')\n",
    "plt.ylim([0.5,1.2])\n",
    "plt.grid()\n",
    "plt.show()"
   ]
  },
  {
   "cell_type": "code",
   "execution_count": 27,
   "id": "601e6ed0",
   "metadata": {
    "canvas": {
     "comments": [],
     "componentType": "CodeCell",
     "copiedOriginId": null,
     "diskcache": false,
     "headerColor": "transparent",
     "id": "f85e38e7-1e0b-44e9-8f18-6a8043f34c30",
     "isComponent": false,
     "name": "",
     "parents": []
    },
    "scrolled": false
   },
   "outputs": [
    {
     "data": {
      "image/png": "[encoded data removed]",
      "text/plain": [
       "<Figure size 1500x3000 with 10 Axes>"
      ]
     },
     "metadata": {},
     "output_type": "display_data"
    }
   ],
   "source": [
    "plt.figure(figsize=(15,30))\n",
    "\n",
    "for i in range(len(confusion_matrices)):\n",
    "    plt.subplot(4,2,i+1)\n",
    "    sns.heatmap(confusion_matrices[i], annot=True, cmap='Blues', fmt='g')\n",
    "    plt.xlabel('Predicted Class')\n",
    "    plt.ylabel('Actual Class/GT')\n",
    "    plt.title(f'Fns Used: [{fns_used[i]}]')\n",
    "plt.show()"
   ]
  },
  {
   "cell_type": "markdown",
   "id": "2538053d",
   "metadata": {
    "canvas": {
     "comments": [],
     "componentType": "CodeCell",
     "copiedOriginId": null,
     "diskcache": false,
     "headerColor": "transparent",
     "id": "dc4bca8f-ee7d-469c-a1fa-0767cf2e8a0b",
     "isComponent": false,
     "name": "",
     "parents": []
    }
   },
   "source": [
    "# Wheat Dec_1F vs Non Wheat"
   ]
  },
  {
   "cell_type": "markdown",
   "id": "020cb007",
   "metadata": {
    "canvas": {
     "comments": [],
     "componentType": "CodeCell",
     "copiedOriginId": null,
     "diskcache": false,
     "headerColor": "transparent",
     "id": "55d3e134-6ca8-4320-ae1d-736c1d031bd5",
     "isComponent": false,
     "name": "",
     "parents": []
    }
   },
   "source": [
    "## Undersampling - Atleast 70:30(wheat/Non_wheat)"
   ]
  },
  {
   "cell_type": "code",
   "execution_count": 32,
   "id": "841ae7ef",
   "metadata": {
    "canvas": {
     "comments": [],
     "componentType": "CodeCell",
     "copiedOriginId": null,
     "diskcache": false,
     "headerColor": "transparent",
     "id": "d5513491-7f08-450d-92c1-d51460fe0ece",
     "isComponent": false,
     "name": "",
     "parents": []
    }
   },
   "outputs": [
    {
     "data": {
      "text/plain": [
       "1    0.689518\n",
       "0    0.310482\n",
       "Name: label, dtype: float64"
      ]
     },
     "execution_count": 32,
     "metadata": {},
     "output_type": "execute_result"
    }
   ],
   "source": [
    "# Undersampling is not required.\n",
    "\n",
    "tr_dec1f_nw.label.value_counts(normalize=True)"
   ]
  },
  {
   "cell_type": "markdown",
   "id": "e081b96a",
   "metadata": {
    "canvas": {
     "comments": [],
     "componentType": "CodeCell",
     "copiedOriginId": null,
     "diskcache": false,
     "headerColor": "transparent",
     "id": "48fa320f-3263-4eef-812f-8b1fef7f4bfa",
     "isComponent": false,
     "name": "",
     "parents": []
    }
   },
   "source": [
    "## Predictor and label split"
   ]
  },
  {
   "cell_type": "code",
   "execution_count": 33,
   "id": "a918c82c",
   "metadata": {
    "canvas": {
     "comments": [],
     "componentType": "CodeCell",
     "copiedOriginId": null,
     "diskcache": false,
     "headerColor": "transparent",
     "id": "b375f2b9-6c5a-4327-92b2-0dcc559bdfce",
     "isComponent": false,
     "name": "",
     "parents": []
    }
   },
   "outputs": [],
   "source": [
    "pred_cols = tr_dec1f_nw.loc[:,'dec_1f':'mar_1f'].columns\n",
    "\n",
    "X_train = tr_dec1f_nw[pred_cols]\n",
    "y_train = tr_dec1f_nw['label']\n",
    "\n",
    "X_val_test = val_tst_dec1f_nw[pred_cols]\n",
    "y_val_test = val_tst_dec1f_nw['label']\n",
    "\n",
    "y_val_test = y_val_test.astype('int')\n",
    "\n",
    "X_val, X_test, y_val, y_test = train_test_split(X_val_test, y_val_test, test_size=0.5, shuffle=True, \n",
    "                                                  stratify=y_val_test, random_state=0)\n",
    "\n",
    "# X_train.drop('fn_label', axis=1, inplace=True)\n",
    "# # X_val.drop('fn_label', axis=1, inplace=True)"
   ]
  },
  {
   "cell_type": "markdown",
   "id": "254b1cf5",
   "metadata": {
    "canvas": {
     "comments": [],
     "componentType": "CodeCell",
     "copiedOriginId": null,
     "diskcache": false,
     "headerColor": "transparent",
     "id": "d0b8079d-ec79-4936-9611-f220343dcb1c",
     "isComponent": false,
     "name": "",
     "parents": []
    }
   },
   "source": [
    "## Scaling"
   ]
  },
  {
   "cell_type": "code",
   "execution_count": 34,
   "id": "95c2b33c",
   "metadata": {
    "canvas": {
     "comments": [],
     "componentType": "CodeCell",
     "copiedOriginId": null,
     "diskcache": false,
     "headerColor": "transparent",
     "id": "f4a88a68-d521-41d5-930e-cf1ec6c9333f",
     "isComponent": false,
     "name": "",
     "parents": []
    }
   },
   "outputs": [],
   "source": [
    "scaler = StandardScaler()\n",
    "\n",
    "X_train = pd.DataFrame(scaler.fit_transform(X_train), columns=X_train.columns)\n",
    "X_val = pd.DataFrame(scaler.transform(X_val), columns=X_val.columns)\n",
    "X_test = pd.DataFrame(scaler.transform(X_test), columns=X_test.columns)\n",
    "\n",
    "y_train.reset_index(drop=True, inplace=True)\n",
    "y_val.reset_index(drop=True, inplace=True)\n",
    "y_test.reset_index(drop=True, inplace=True)\n",
    "\n",
    "pickle.dump(scaler, open(r'models/XGB_Binary_sowing-dec1f_StandardScaler_1.1', 'wb'))"
   ]
  },
  {
   "cell_type": "markdown",
   "id": "39b2dc4d",
   "metadata": {
    "canvas": {
     "comments": [],
     "componentType": "CodeCell",
     "copiedOriginId": null,
     "diskcache": false,
     "headerColor": "transparent",
     "id": "f0be5854-567a-4b1d-9044-b8bb41bbffbb",
     "isComponent": false,
     "name": "",
     "parents": []
    }
   },
   "source": [
    "## Modelling-Manual"
   ]
  },
  {
   "cell_type": "markdown",
   "id": "d699ef93",
   "metadata": {
    "canvas": {
     "comments": [],
     "componentType": "CodeCell",
     "copiedOriginId": null,
     "diskcache": false,
     "headerColor": "transparent",
     "id": "683f18de-9478-4caf-b53e-b83afa4224cd",
     "isComponent": false,
     "name": "",
     "parents": []
    }
   },
   "source": [
    "- Labels =  1 : 'Wheat_nov_2f, 0 : Non-Wheat\n",
    "- FP = GT is non wheat but model predicted wheat\n",
    "- FN = GT is wheat but model predicted non wheat\n",
    "\n",
    "- Will be training my model on the recall score of non wheat class"
   ]
  },
  {
   "cell_type": "code",
   "execution_count": 35,
   "id": "2e726f33",
   "metadata": {
    "canvas": {
     "comments": [],
     "componentType": "CodeCell",
     "copiedOriginId": null,
     "diskcache": false,
     "headerColor": "transparent",
     "id": "aa90bc5b-e3bb-427f-a444-3ceed95b85d3",
     "isComponent": false,
     "name": "",
     "parents": []
    },
    "scrolled": true
   },
   "outputs": [
    {
     "name": "stdout",
     "output_type": "stream",
     "text": [
      "0 dropped completed\n",
      "1 dropped completed\n",
      "2 dropped completed\n",
      "3 dropped completed\n",
      "Done!!\n"
     ]
    }
   ],
   "source": [
    "fort_nights = list(X_train.loc[:, :'mar_1f'].columns)\n",
    "\n",
    "params = {'n_estimators':np.arange(5,100,5), 'learning_rate':np.arange(0.05, 0.55, 0.05), \n",
    "          'max_depth':np.arange(1,5,1)}\n",
    "\n",
    "# sample_weights = compute_sample_weight(class_weight='balanced',y=y_train)\n",
    "\n",
    "param_grid = list(ParameterGrid(params))\n",
    "max_recall_scores = []\n",
    "fns_used = []\n",
    "\n",
    "i = 0\n",
    "\n",
    "while (i + 4) <= len(fort_nights):\n",
    "    recall_scores = []\n",
    "    if i == 0:\n",
    "        drop_cols = []\n",
    "    else:\n",
    "        drop_cols = fort_nights[-i:]\n",
    "    for p in param_grid:\n",
    "        wheat_classifier = XGBClassifier(**p)\n",
    "        temp_X_train = X_train.drop(drop_cols, axis=1)\n",
    "        temp_X_val = X_val.drop(drop_cols, axis=1)\n",
    "        wheat_classifier.fit(temp_X_train, y_train)\n",
    "        val_pred = wheat_classifier.predict(temp_X_val)\n",
    "        precision, recall, f1score, support = score(y_val, val_pred, labels=[0,1])\n",
    "        recall_scores.append(recall)\n",
    "        \n",
    "    recall_scores = pd.DataFrame(recall_scores)\n",
    "    # Max Non_wheat recall where Wheat recall is atleast 0.79\n",
    "    try:\n",
    "        max_nw_idx = recall_scores[recall_scores.iloc[:,1]>0.79].idxmax(axis=0)[0]\n",
    "        max_nw_scores = recall_scores.loc[max_nw_idx,:].values\n",
    "        max_recall_scores.append([max_nw_scores, param_grid[max_nw_idx]])\n",
    "\n",
    "        fns_used.append('-'.join(temp_X_train.columns[[0,-1]]))\n",
    "        print(len(drop_cols), 'dropped', 'completed')\n",
    "    except:\n",
    "        print(f'Wheat Recall is less than 0.79 if {drop_cols} are dropped')\n",
    "    \n",
    "    i += 1\n",
    "    \n",
    "print('Done!!')"
   ]
  },
  {
   "cell_type": "code",
   "execution_count": 36,
   "id": "d17423a0",
   "metadata": {
    "canvas": {
     "comments": [],
     "componentType": "CodeCell",
     "copiedOriginId": null,
     "diskcache": false,
     "headerColor": "transparent",
     "id": "6d270eeb-f9d4-4035-9db2-628d63021248",
     "isComponent": false,
     "name": "",
     "parents": []
    },
    "scrolled": true
   },
   "outputs": [
    {
     "data": {
      "text/plain": [
       "[[array([1.        , 0.92978003]),\n",
       "  {'learning_rate': 0.05, 'max_depth': 1, 'n_estimators': 5}],\n",
       " [array([1.        , 0.92978003]),\n",
       "  {'learning_rate': 0.05, 'max_depth': 1, 'n_estimators': 5}],\n",
       " [array([1.        , 0.82910321]),\n",
       "  {'learning_rate': 0.05, 'max_depth': 2, 'n_estimators': 70}],\n",
       " [array([0.99752475, 1.        ]),\n",
       "  {'learning_rate': 0.05, 'max_depth': 1, 'n_estimators': 5}]]"
      ]
     },
     "execution_count": 36,
     "metadata": {},
     "output_type": "execute_result"
    }
   ],
   "source": [
    "max_recall_scores"
   ]
  },
  {
   "cell_type": "code",
   "execution_count": 37,
   "id": "c8fe702b",
   "metadata": {
    "canvas": {
     "comments": [],
     "componentType": "CodeCell",
     "copiedOriginId": null,
     "diskcache": false,
     "headerColor": "transparent",
     "id": "b5b2b60b-6308-4cdf-8e69-5e51d12c4a57",
     "isComponent": false,
     "name": "",
     "parents": []
    }
   },
   "outputs": [
    {
     "name": "stdout",
     "output_type": "stream",
     "text": [
      "[1.0, 0.94]\n",
      "[1.0, 0.94]\n",
      "[1.0, 0.84]\n",
      "[1.0, 1.0]\n"
     ]
    }
   ],
   "source": [
    "test_recall_scores = []\n",
    "confusion_matrices = []\n",
    "test_dfs = []\n",
    "\n",
    "for i in range(len(fns_used)):\n",
    "    best_classifier = XGBClassifier(**max_recall_scores[i][1])\n",
    "    \n",
    "    strt_fn, end_fn = fns_used[i].split('-') \n",
    "    temp_X_train = X_train.loc[:, strt_fn:end_fn]\n",
    "    temp_X_test = X_test.loc[:, strt_fn:end_fn]\n",
    "    best_classifier.fit(temp_X_train, y_train)\n",
    "    pickle.dump(best_classifier, open(r'models/XGB_Binary_sowing-dec1f_{}_1.1'.format('-'.join(temp_X_train.columns[[0,-1]])), 'wb'))\n",
    "    test_pred = best_classifier.predict(temp_X_test)\n",
    "    precision, recall, f1score, support = score(y_test, test_pred, labels=[0,1])\n",
    "    test_recall_scores.append([recall[0], round(recall[1], 2)])\n",
    "    cf = pd.crosstab(y_test, pd.Series(test_pred, name='pred')).rename({0:'Non_wheat', 1:'Wheat'}).rename({0:'Non_wheat', 1:'Wheat'}, axis=1)\n",
    "    confusion_matrices.append(cf)\n",
    "    df1 = pd.DataFrame(data = {'GT':confusion_matrices[-1].sum(axis=1),\n",
    "                                    'correct_pred':np.diag(confusion_matrices[-1])})\n",
    "    df1['correct_pred(%)'] = round(df1['correct_pred']/df1['GT']*100, 2)\n",
    "    temp_df = deepcopy(confusion_matrices[-1])\n",
    "    np.fill_diagonal(temp_df.values, 0)\n",
    "    temp_df.columns = ['incorr_pred_nw', 'incorrect_pred_wh']\n",
    "    df1 = pd.concat([df1, temp_df], axis=1)\n",
    "    test_dfs.append(df1)\n",
    "    print(test_recall_scores[-1])"
   ]
  },
  {
   "cell_type": "code",
   "execution_count": 38,
   "id": "c5538574",
   "metadata": {
    "canvas": {
     "comments": [],
     "componentType": "CodeCell",
     "copiedOriginId": null,
     "diskcache": false,
     "headerColor": "transparent",
     "id": "4781ec87-1fdf-4bb2-a895-13e3d15c9f94",
     "isComponent": false,
     "name": "",
     "parents": []
    }
   },
   "outputs": [
    {
     "data": {
      "image/png": "[encoded data removed]",
      "text/plain": [
       "<Figure size 640x480 with 1 Axes>"
      ]
     },
     "metadata": {},
     "output_type": "display_data"
    }
   ],
   "source": [
    "sns.lineplot(y=np.array(test_recall_scores)[:,0], x=fns_used, label='Recall_min_class (Non-Wheat)', marker=\"o\")\n",
    "sns.lineplot(y=np.array(test_recall_scores)[:,1], x=fns_used, label='Recall_maj_class (Wheat)', marker=\"o\")\n",
    "plt.xlabel('Fns Used')\n",
    "plt.ylabel('Recall Scores')\n",
    "plt.xticks(rotation='vertical')\n",
    "plt.title('Wheat vs Non_Wheat')\n",
    "plt.ylim([0.5,1.2])\n",
    "plt.grid()\n",
    "plt.show()"
   ]
  },
  {
   "cell_type": "code",
   "execution_count": 39,
   "id": "97e669a1",
   "metadata": {
    "canvas": {
     "comments": [],
     "componentType": "CodeCell",
     "copiedOriginId": null,
     "diskcache": false,
     "headerColor": "transparent",
     "id": "f85e38e7-1e0b-44e9-8f18-6a8043f34c30",
     "isComponent": false,
     "name": "",
     "parents": []
    }
   },
   "outputs": [
    {
     "data": {
      "image/png": "[encoded data removed]",
      "text/plain": [
       "<Figure size 1500x3000 with 8 Axes>"
      ]
     },
     "metadata": {},
     "output_type": "display_data"
    }
   ],
   "source": [
    "plt.figure(figsize=(15,30))\n",
    "\n",
    "for i in range(len(confusion_matrices)):\n",
    "    plt.subplot(4,2,i+1)\n",
    "    sns.heatmap(confusion_matrices[i], annot=True, cmap='Blues', fmt='g')\n",
    "    plt.xlabel('Predicted Class')\n",
    "    plt.ylabel('Actual Class/GT')\n",
    "    plt.title(f'Fns Used: [{fns_used[i]}]')\n",
    "plt.show()"
   ]
  },
  {
   "cell_type": "code",
   "execution_count": null,
   "id": "4b2d4857",
   "metadata": {
    "canvas": {
     "comments": [],
     "componentType": "CodeCell",
     "copiedOriginId": null,
     "diskcache": false,
     "headerColor": "transparent",
     "id": "56fb9189-6968-425e-9f35-3eda7f180307",
     "isComponent": false,
     "name": "",
     "parents": []
    }
   },
   "outputs": [],
   "source": []
  },
  {
   "cell_type": "code",
   "execution_count": null,
   "id": "d41758b5",
   "metadata": {
    "canvas": {
     "comments": [],
     "componentType": "CodeCell",
     "copiedOriginId": null,
     "diskcache": false,
     "headerColor": "transparent",
     "id": "5fc39ad6-fa64-4c0f-81fe-e9cb751951f7",
     "isComponent": false,
     "name": "",
     "parents": []
    }
   },
   "outputs": [],
   "source": []
  },
  {
   "cell_type": "code",
   "execution_count": null,
   "id": "f2fd26d9",
   "metadata": {
    "canvas": {
     "comments": [],
     "componentType": "CodeCell",
     "copiedOriginId": null,
     "diskcache": false,
     "headerColor": "transparent",
     "id": "43de5818-ab9f-45af-bc0f-07ad1c304317",
     "isComponent": false,
     "name": "",
     "parents": []
    }
   },
   "outputs": [],
   "source": []
  },
  {
   "cell_type": "code",
   "execution_count": null,
   "id": "1250dc84",
   "metadata": {
    "canvas": {
     "comments": [],
     "componentType": "CodeCell",
     "copiedOriginId": null,
     "diskcache": false,
     "headerColor": "transparent",
     "id": "21bbbaa4-95ad-49f0-b935-076a9b3a61b8",
     "isComponent": false,
     "name": "",
     "parents": []
    }
   },
   "outputs": [],
   "source": []
  },
  {
   "cell_type": "code",
   "execution_count": null,
   "id": "7f3edd82",
   "metadata": {
    "canvas": {
     "comments": [],
     "componentType": "CodeCell",
     "copiedOriginId": null,
     "diskcache": false,
     "headerColor": "transparent",
     "id": "eeebb112-106b-4398-8bde-ec3e175fcfba",
     "isComponent": false,
     "name": "",
     "parents": []
    }
   },
   "outputs": [],
   "source": []
  },
  {
   "cell_type": "code",
   "execution_count": null,
   "id": "d1728f7e",
   "metadata": {
    "canvas": {
     "comments": [],
     "componentType": "CodeCell",
     "copiedOriginId": null,
     "diskcache": false,
     "headerColor": "transparent",
     "id": "f181af73-91d3-48c6-8d26-3a97d6eafad8",
     "isComponent": false,
     "name": "",
     "parents": []
    }
   },
   "outputs": [],
   "source": []
  },
  {
   "cell_type": "code",
   "execution_count": null,
   "id": "96c61f31",
   "metadata": {
    "canvas": {
     "comments": [],
     "componentType": "CodeCell",
     "copiedOriginId": null,
     "diskcache": false,
     "headerColor": "transparent",
     "id": "dbce7925-0d11-455a-90e8-c93626aed2d4",
     "isComponent": false,
     "name": "",
     "parents": []
    }
   },
   "outputs": [],
   "source": []
  },
  {
   "cell_type": "markdown",
   "id": "90249ada",
   "metadata": {
    "canvas": {
     "comments": [],
     "componentType": "CodeCell",
     "copiedOriginId": null,
     "diskcache": false,
     "headerColor": "transparent",
     "id": "5f685168-d006-4676-bff8-47ff50b3ef4a",
     "isComponent": false,
     "name": "",
     "parents": []
    }
   },
   "source": [
    "# Sowing Period Classification"
   ]
  },
  {
   "cell_type": "code",
   "execution_count": 329,
   "id": "9e841c54",
   "metadata": {
    "canvas": {
     "comments": [],
     "componentType": "CodeCell",
     "copiedOriginId": null,
     "diskcache": false,
     "headerColor": "transparent",
     "id": "b1794e1e-b98e-4432-8be0-38778662224b",
     "isComponent": false,
     "name": "",
     "parents": []
    }
   },
   "outputs": [],
   "source": [
    "threshold = 5\n",
    "\n",
    "def sowing_period(row):\n",
    "    sowing_periods = row.index[:5]\n",
    "    sowing_periods_NDVI = row[:5]\n",
    "    minima = np.argmin(sowing_periods_NDVI)\n",
    "    ndvi_values = row.loc[:'apr_1f']\n",
    "    i = minima\n",
    "    while i < len(sowing_periods):\n",
    "#         print(ndvi_values[idx])\n",
    "        if ndvi_values[i] in set(np.arange(110, 141)):\n",
    "            if (ndvi_values[i+1] - ndvi_values[i]) > threshold:\n",
    "                if ndvi_values[i+1] < ndvi_values[i+4]:\n",
    "                    return 'Wheat_'+sowing_periods[i]\n",
    "        i += 1\n",
    "    return 'Unknown'"
   ]
  },
  {
   "cell_type": "code",
   "execution_count": 330,
   "id": "8196ac6a",
   "metadata": {
    "canvas": {
     "comments": [],
     "componentType": "CodeCell",
     "copiedOriginId": null,
     "diskcache": false,
     "headerColor": "transparent",
     "id": "1353244d-5c8e-41d6-890e-986894c8e54e",
     "isComponent": false,
     "name": "",
     "parents": []
    }
   },
   "outputs": [],
   "source": [
    "wheat['pred'] = wheat.apply(sowing_period, axis=1)"
   ]
  },
  {
   "cell_type": "code",
   "execution_count": 331,
   "id": "43993fd4",
   "metadata": {
    "canvas": {
     "comments": [],
     "componentType": "CodeCell",
     "copiedOriginId": null,
     "diskcache": false,
     "headerColor": "transparent",
     "id": "b235d421-4c70-4ae5-864d-12ab58603a30",
     "isComponent": false,
     "name": "",
     "parents": []
    }
   },
   "outputs": [
    {
     "data": {
      "text/html": [
       "<div>\n",
       "<style scoped>\n",
       "    .dataframe tbody tr th:only-of-type {\n",
       "        vertical-align: middle;\n",
       "    }\n",
       "\n",
       "    .dataframe tbody tr th {\n",
       "        vertical-align: top;\n",
       "    }\n",
       "\n",
       "    .dataframe thead th {\n",
       "        text-align: right;\n",
       "    }\n",
       "</style>\n",
       "<table border=\"1\" class=\"dataframe\">\n",
       "  <thead>\n",
       "    <tr style=\"text-align: right;\">\n",
       "      <th>pred</th>\n",
       "      <th>Unknown</th>\n",
       "      <th>Wheat_dec_1f</th>\n",
       "      <th>Wheat_dec_2f</th>\n",
       "      <th>Wheat_nov_1f</th>\n",
       "      <th>Wheat_nov_2f</th>\n",
       "      <th>Wheat_oct_2f</th>\n",
       "    </tr>\n",
       "    <tr>\n",
       "      <th>label</th>\n",
       "      <th></th>\n",
       "      <th></th>\n",
       "      <th></th>\n",
       "      <th></th>\n",
       "      <th></th>\n",
       "      <th></th>\n",
       "    </tr>\n",
       "  </thead>\n",
       "  <tbody>\n",
       "    <tr>\n",
       "      <th>Wheat_dec_1f</th>\n",
       "      <td>13</td>\n",
       "      <td>5286</td>\n",
       "      <td>0</td>\n",
       "      <td>207</td>\n",
       "      <td>35</td>\n",
       "      <td>11</td>\n",
       "    </tr>\n",
       "    <tr>\n",
       "      <th>Wheat_dec_2f</th>\n",
       "      <td>4</td>\n",
       "      <td>0</td>\n",
       "      <td>197</td>\n",
       "      <td>8</td>\n",
       "      <td>36</td>\n",
       "      <td>0</td>\n",
       "    </tr>\n",
       "    <tr>\n",
       "      <th>Wheat_nov_1f</th>\n",
       "      <td>2</td>\n",
       "      <td>0</td>\n",
       "      <td>0</td>\n",
       "      <td>3280</td>\n",
       "      <td>322</td>\n",
       "      <td>32</td>\n",
       "    </tr>\n",
       "    <tr>\n",
       "      <th>Wheat_nov_2f</th>\n",
       "      <td>8</td>\n",
       "      <td>1</td>\n",
       "      <td>0</td>\n",
       "      <td>128</td>\n",
       "      <td>7010</td>\n",
       "      <td>25</td>\n",
       "    </tr>\n",
       "    <tr>\n",
       "      <th>Wheat_oct_2f</th>\n",
       "      <td>0</td>\n",
       "      <td>0</td>\n",
       "      <td>0</td>\n",
       "      <td>0</td>\n",
       "      <td>0</td>\n",
       "      <td>94</td>\n",
       "    </tr>\n",
       "  </tbody>\n",
       "</table>\n",
       "</div>"
      ],
      "text/plain": [
       "pred          Unknown  Wheat_dec_1f  Wheat_dec_2f  Wheat_nov_1f  Wheat_nov_2f  \\\n",
       "label                                                                           \n",
       "Wheat_dec_1f       13          5286             0           207            35   \n",
       "Wheat_dec_2f        4             0           197             8            36   \n",
       "Wheat_nov_1f        2             0             0          3280           322   \n",
       "Wheat_nov_2f        8             1             0           128          7010   \n",
       "Wheat_oct_2f        0             0             0             0             0   \n",
       "\n",
       "pred          Wheat_oct_2f  \n",
       "label                       \n",
       "Wheat_dec_1f            11  \n",
       "Wheat_dec_2f             0  \n",
       "Wheat_nov_1f            32  \n",
       "Wheat_nov_2f            25  \n",
       "Wheat_oct_2f            94  "
      ]
     },
     "execution_count": 331,
     "metadata": {},
     "output_type": "execute_result"
    }
   ],
   "source": [
    "pd.crosstab(wheat['label'], wheat['pred'])"
   ]
  },
  {
   "cell_type": "code",
   "execution_count": 332,
   "id": "1270c540",
   "metadata": {
    "canvas": {
     "comments": [],
     "componentType": "CodeCell",
     "copiedOriginId": null,
     "diskcache": false,
     "headerColor": "transparent",
     "id": "bd1c162f-4e54-4883-911a-abc3ca8943ad",
     "isComponent": false,
     "name": "",
     "parents": []
    }
   },
   "outputs": [
    {
     "data": {
      "text/html": [
       "<div>\n",
       "<style scoped>\n",
       "    .dataframe tbody tr th:only-of-type {\n",
       "        vertical-align: middle;\n",
       "    }\n",
       "\n",
       "    .dataframe tbody tr th {\n",
       "        vertical-align: top;\n",
       "    }\n",
       "\n",
       "    .dataframe thead th {\n",
       "        text-align: right;\n",
       "    }\n",
       "</style>\n",
       "<table border=\"1\" class=\"dataframe\">\n",
       "  <thead>\n",
       "    <tr style=\"text-align: right;\">\n",
       "      <th></th>\n",
       "      <th>oct_2f</th>\n",
       "      <th>nov_1f</th>\n",
       "      <th>nov_2f</th>\n",
       "      <th>dec_1f</th>\n",
       "      <th>dec_2f</th>\n",
       "      <th>jan_1f</th>\n",
       "      <th>jan_2f</th>\n",
       "      <th>feb_1f</th>\n",
       "      <th>feb_2f</th>\n",
       "      <th>mar_1f</th>\n",
       "      <th>mar_2f</th>\n",
       "    </tr>\n",
       "  </thead>\n",
       "  <tbody>\n",
       "    <tr>\n",
       "      <th>14293</th>\n",
       "      <td>130</td>\n",
       "      <td>122</td>\n",
       "      <td>131</td>\n",
       "      <td>126</td>\n",
       "      <td>189</td>\n",
       "      <td>190</td>\n",
       "      <td>189</td>\n",
       "      <td>189</td>\n",
       "      <td>187</td>\n",
       "      <td>176</td>\n",
       "      <td>129</td>\n",
       "    </tr>\n",
       "    <tr>\n",
       "      <th>11389</th>\n",
       "      <td>133</td>\n",
       "      <td>117</td>\n",
       "      <td>123</td>\n",
       "      <td>127</td>\n",
       "      <td>154</td>\n",
       "      <td>172</td>\n",
       "      <td>174</td>\n",
       "      <td>183</td>\n",
       "      <td>184</td>\n",
       "      <td>173</td>\n",
       "      <td>123</td>\n",
       "    </tr>\n",
       "    <tr>\n",
       "      <th>12840</th>\n",
       "      <td>122</td>\n",
       "      <td>126</td>\n",
       "      <td>134</td>\n",
       "      <td>135</td>\n",
       "      <td>164</td>\n",
       "      <td>182</td>\n",
       "      <td>192</td>\n",
       "      <td>189</td>\n",
       "      <td>191</td>\n",
       "      <td>188</td>\n",
       "      <td>160</td>\n",
       "    </tr>\n",
       "    <tr>\n",
       "      <th>13307</th>\n",
       "      <td>138</td>\n",
       "      <td>125</td>\n",
       "      <td>133</td>\n",
       "      <td>133</td>\n",
       "      <td>189</td>\n",
       "      <td>188</td>\n",
       "      <td>186</td>\n",
       "      <td>188</td>\n",
       "      <td>185</td>\n",
       "      <td>174</td>\n",
       "      <td>127</td>\n",
       "    </tr>\n",
       "    <tr>\n",
       "      <th>14323</th>\n",
       "      <td>130</td>\n",
       "      <td>125</td>\n",
       "      <td>131</td>\n",
       "      <td>126</td>\n",
       "      <td>162</td>\n",
       "      <td>180</td>\n",
       "      <td>181</td>\n",
       "      <td>186</td>\n",
       "      <td>183</td>\n",
       "      <td>179</td>\n",
       "      <td>153</td>\n",
       "    </tr>\n",
       "  </tbody>\n",
       "</table>\n",
       "</div>"
      ],
      "text/plain": [
       "       oct_2f  nov_1f  nov_2f  dec_1f  dec_2f  jan_1f  jan_2f  feb_1f  feb_2f  \\\n",
       "14293     130     122     131     126     189     190     189     189     187   \n",
       "11389     133     117     123     127     154     172     174     183     184   \n",
       "12840     122     126     134     135     164     182     192     189     191   \n",
       "13307     138     125     133     133     189     188     186     188     185   \n",
       "14323     130     125     131     126     162     180     181     186     183   \n",
       "\n",
       "       mar_1f  mar_2f  \n",
       "14293     176     129  \n",
       "11389     173     123  \n",
       "12840     188     160  \n",
       "13307     174     127  \n",
       "14323     179     153  "
      ]
     },
     "execution_count": 332,
     "metadata": {},
     "output_type": "execute_result"
    }
   ],
   "source": [
    "wheat[(wheat.label == 'Wheat_dec_1f') & (wheat.pred == 'Wheat_nov_1f')].iloc[:,:-3].sample(5, random_state=42)"
   ]
  },
  {
   "cell_type": "code",
   "execution_count": 333,
   "id": "09f979d0",
   "metadata": {
    "canvas": {
     "comments": [],
     "componentType": "CodeCell",
     "copiedOriginId": null,
     "diskcache": false,
     "headerColor": "transparent",
     "id": "ace8b652-d019-4f29-966e-89e438df1fe2",
     "isComponent": false,
     "name": "",
     "parents": []
    }
   },
   "outputs": [
    {
     "data": {
      "text/plain": [
       "<Axes: >"
      ]
     },
     "execution_count": 333,
     "metadata": {},
     "output_type": "execute_result"
    },
    {
     "data": {
      "image/png": "[encoded data removed]",
      "text/plain": [
       "<Figure size 640x480 with 1 Axes>"
      ]
     },
     "metadata": {},
     "output_type": "display_data"
    }
   ],
   "source": [
    "wheat[(wheat.label == 'Wheat_dec_1f') & (wheat.pred == 'Wheat_nov_1f')].iloc[:,:-3].sample(5, random_state=42).T.plot()"
   ]
  },
  {
   "cell_type": "code",
   "execution_count": 334,
   "id": "09e1fc45",
   "metadata": {
    "canvas": {
     "comments": [],
     "componentType": "CodeCell",
     "copiedOriginId": null,
     "diskcache": false,
     "headerColor": "transparent",
     "id": "f2248a8a-1062-4098-916e-04e0561ec4f3",
     "isComponent": false,
     "name": "",
     "parents": []
    }
   },
   "outputs": [
    {
     "data": {
      "text/plain": [
       "oct_2f             123\n",
       "nov_1f             120\n",
       "nov_2f             127\n",
       "dec_1f             123\n",
       "dec_2f             155\n",
       "jan_1f             183\n",
       "jan_2f             187\n",
       "feb_1f             189\n",
       "feb_2f             185\n",
       "mar_1f             182\n",
       "mar_2f             133\n",
       "apr_1f             117\n",
       "label     Wheat_dec_1f\n",
       "pred      Wheat_nov_1f\n",
       "Name: 14217, dtype: object"
      ]
     },
     "metadata": {},
     "output_type": "display_data"
    },
    {
     "data": {
      "text/plain": [
       "(None, <Axes: >)"
      ]
     },
     "execution_count": 334,
     "metadata": {},
     "output_type": "execute_result"
    },
    {
     "data": {
      "image/png": "[encoded data removed]",
      "text/plain": [
       "<Figure size 640x480 with 1 Axes>"
      ]
     },
     "metadata": {},
     "output_type": "display_data"
    }
   ],
   "source": [
    "display(wheat.loc[14217]),wheat.loc[14217,:'apr_1f'].plot()"
   ]
  },
  {
   "cell_type": "code",
   "execution_count": 335,
   "id": "f3d153e0",
   "metadata": {
    "canvas": {
     "comments": [],
     "componentType": "CodeCell",
     "copiedOriginId": null,
     "diskcache": false,
     "headerColor": "transparent",
     "id": "c6dd85be-1c70-4d01-86fb-4b7673cd2399",
     "isComponent": false,
     "name": "",
     "parents": []
    },
    "scrolled": true
   },
   "outputs": [
    {
     "data": {
      "text/html": [
       "<div>\n",
       "<style scoped>\n",
       "    .dataframe tbody tr th:only-of-type {\n",
       "        vertical-align: middle;\n",
       "    }\n",
       "\n",
       "    .dataframe tbody tr th {\n",
       "        vertical-align: top;\n",
       "    }\n",
       "\n",
       "    .dataframe thead th {\n",
       "        text-align: right;\n",
       "    }\n",
       "</style>\n",
       "<table border=\"1\" class=\"dataframe\">\n",
       "  <thead>\n",
       "    <tr style=\"text-align: right;\">\n",
       "      <th></th>\n",
       "      <th>oct_2f</th>\n",
       "      <th>nov_1f</th>\n",
       "      <th>nov_2f</th>\n",
       "      <th>dec_1f</th>\n",
       "      <th>dec_2f</th>\n",
       "      <th>jan_1f</th>\n",
       "      <th>jan_2f</th>\n",
       "      <th>feb_1f</th>\n",
       "      <th>feb_2f</th>\n",
       "      <th>mar_1f</th>\n",
       "      <th>mar_2f</th>\n",
       "      <th>apr_1f</th>\n",
       "      <th>pred</th>\n",
       "    </tr>\n",
       "    <tr>\n",
       "      <th>label</th>\n",
       "      <th></th>\n",
       "      <th></th>\n",
       "      <th></th>\n",
       "      <th></th>\n",
       "      <th></th>\n",
       "      <th></th>\n",
       "      <th></th>\n",
       "      <th></th>\n",
       "      <th></th>\n",
       "      <th></th>\n",
       "      <th></th>\n",
       "      <th></th>\n",
       "      <th></th>\n",
       "    </tr>\n",
       "  </thead>\n",
       "  <tbody>\n",
       "    <tr>\n",
       "      <th>Wheat_dec_1f</th>\n",
       "      <td>83</td>\n",
       "      <td>1</td>\n",
       "      <td>112</td>\n",
       "      <td>110</td>\n",
       "      <td>0</td>\n",
       "      <td>160</td>\n",
       "      <td>170</td>\n",
       "      <td>176</td>\n",
       "      <td>180</td>\n",
       "      <td>165</td>\n",
       "      <td>0</td>\n",
       "      <td>0</td>\n",
       "      <td>Unknown</td>\n",
       "    </tr>\n",
       "    <tr>\n",
       "      <th>Wheat_dec_2f</th>\n",
       "      <td>119</td>\n",
       "      <td>110</td>\n",
       "      <td>115</td>\n",
       "      <td>115</td>\n",
       "      <td>118</td>\n",
       "      <td>160</td>\n",
       "      <td>170</td>\n",
       "      <td>175</td>\n",
       "      <td>180</td>\n",
       "      <td>170</td>\n",
       "      <td>126</td>\n",
       "      <td>1</td>\n",
       "      <td>Unknown</td>\n",
       "    </tr>\n",
       "    <tr>\n",
       "      <th>Wheat_nov_1f</th>\n",
       "      <td>112</td>\n",
       "      <td>107</td>\n",
       "      <td>114</td>\n",
       "      <td>145</td>\n",
       "      <td>156</td>\n",
       "      <td>165</td>\n",
       "      <td>151</td>\n",
       "      <td>141</td>\n",
       "      <td>119</td>\n",
       "      <td>89</td>\n",
       "      <td>0</td>\n",
       "      <td>0</td>\n",
       "      <td>Unknown</td>\n",
       "    </tr>\n",
       "    <tr>\n",
       "      <th>Wheat_nov_2f</th>\n",
       "      <td>96</td>\n",
       "      <td>107</td>\n",
       "      <td>109</td>\n",
       "      <td>116</td>\n",
       "      <td>150</td>\n",
       "      <td>160</td>\n",
       "      <td>170</td>\n",
       "      <td>175</td>\n",
       "      <td>122</td>\n",
       "      <td>90</td>\n",
       "      <td>0</td>\n",
       "      <td>0</td>\n",
       "      <td>Unknown</td>\n",
       "    </tr>\n",
       "    <tr>\n",
       "      <th>Wheat_oct_2f</th>\n",
       "      <td>116</td>\n",
       "      <td>125</td>\n",
       "      <td>150</td>\n",
       "      <td>165</td>\n",
       "      <td>171</td>\n",
       "      <td>172</td>\n",
       "      <td>167</td>\n",
       "      <td>144</td>\n",
       "      <td>120</td>\n",
       "      <td>115</td>\n",
       "      <td>1</td>\n",
       "      <td>105</td>\n",
       "      <td>Wheat_oct_2f</td>\n",
       "    </tr>\n",
       "  </tbody>\n",
       "</table>\n",
       "</div>"
      ],
      "text/plain": [
       "              oct_2f  nov_1f  nov_2f  dec_1f  dec_2f  jan_1f  jan_2f  feb_1f  \\\n",
       "label                                                                          \n",
       "Wheat_dec_1f      83       1     112     110       0     160     170     176   \n",
       "Wheat_dec_2f     119     110     115     115     118     160     170     175   \n",
       "Wheat_nov_1f     112     107     114     145     156     165     151     141   \n",
       "Wheat_nov_2f      96     107     109     116     150     160     170     175   \n",
       "Wheat_oct_2f     116     125     150     165     171     172     167     144   \n",
       "\n",
       "              feb_2f  mar_1f  mar_2f  apr_1f          pred  \n",
       "label                                                       \n",
       "Wheat_dec_1f     180     165       0       0       Unknown  \n",
       "Wheat_dec_2f     180     170     126       1       Unknown  \n",
       "Wheat_nov_1f     119      89       0       0       Unknown  \n",
       "Wheat_nov_2f     122      90       0       0       Unknown  \n",
       "Wheat_oct_2f     120     115       1     105  Wheat_oct_2f  "
      ]
     },
     "execution_count": 335,
     "metadata": {},
     "output_type": "execute_result"
    }
   ],
   "source": [
    "wheat.groupby('label').min()"
   ]
  },
  {
   "cell_type": "code",
   "execution_count": 336,
   "id": "58756732",
   "metadata": {
    "canvas": {
     "comments": [],
     "componentType": "CodeCell",
     "copiedOriginId": null,
     "diskcache": false,
     "headerColor": "transparent",
     "id": "60569a05-0a30-41ec-85f5-c423e4a59281",
     "isComponent": false,
     "name": "",
     "parents": []
    }
   },
   "outputs": [
    {
     "data": {
      "text/plain": [
       "array([191, 189, 193, 190, 196, 195, 188, 192, 199, 185, 184, 186, 197,\n",
       "       187, 194, 183, 178, 181, 179, 182, 176, 200, 180, 198, 173, 174,\n",
       "       177, 172, 171])"
      ]
     },
     "execution_count": 336,
     "metadata": {},
     "output_type": "execute_result"
    }
   ],
   "source": [
    "wheat.max(axis=1).unique()"
   ]
  },
  {
   "cell_type": "code",
   "execution_count": 250,
   "id": "0e9a99d6",
   "metadata": {
    "canvas": {
     "comments": [],
     "componentType": "CodeCell",
     "copiedOriginId": null,
     "diskcache": false,
     "headerColor": "transparent",
     "id": "21ed771a-59c6-4212-a41a-aa8beef5e5c1",
     "isComponent": false,
     "name": "",
     "parents": []
    }
   },
   "outputs": [],
   "source": [
    "wheat.to_csv('wheat.csv')"
   ]
  },
  {
   "cell_type": "code",
   "execution_count": 257,
   "id": "d6104baa",
   "metadata": {
    "canvas": {
     "comments": [],
     "componentType": "CodeCell",
     "copiedOriginId": null,
     "diskcache": false,
     "headerColor": "transparent",
     "id": "0b019b9a-e9c3-4c43-8373-a846e6245fc7",
     "isComponent": false,
     "name": "",
     "parents": []
    }
   },
   "outputs": [],
   "source": [
    "diff_wheat = wheat[wheat.pred != 'Unknown'].loc[:,:'apr_1f'].diff(axis=1)\n",
    "\n",
    "diff_wheat['pred'] = wheat[wheat.pred != 'Unknown']['pred']\n",
    "diff_wheat['label'] = wheat[wheat.pred != 'Unknown']['label']"
   ]
  },
  {
   "cell_type": "code",
   "execution_count": 258,
   "id": "2be549c4",
   "metadata": {
    "canvas": {
     "comments": [],
     "componentType": "CodeCell",
     "copiedOriginId": null,
     "diskcache": false,
     "headerColor": "transparent",
     "id": "eb968a7d-2020-4e14-98f2-6c57bdbc4e06",
     "isComponent": false,
     "name": "",
     "parents": []
    }
   },
   "outputs": [
    {
     "data": {
      "text/html": [
       "<div>\n",
       "<style scoped>\n",
       "    .dataframe tbody tr th:only-of-type {\n",
       "        vertical-align: middle;\n",
       "    }\n",
       "\n",
       "    .dataframe tbody tr th {\n",
       "        vertical-align: top;\n",
       "    }\n",
       "\n",
       "    .dataframe thead th {\n",
       "        text-align: right;\n",
       "    }\n",
       "</style>\n",
       "<table border=\"1\" class=\"dataframe\">\n",
       "  <thead>\n",
       "    <tr style=\"text-align: right;\">\n",
       "      <th></th>\n",
       "      <th>oct_2f</th>\n",
       "      <th>nov_1f</th>\n",
       "      <th>nov_2f</th>\n",
       "      <th>dec_1f</th>\n",
       "      <th>dec_2f</th>\n",
       "      <th>jan_1f</th>\n",
       "      <th>jan_2f</th>\n",
       "      <th>feb_1f</th>\n",
       "      <th>feb_2f</th>\n",
       "      <th>mar_1f</th>\n",
       "      <th>mar_2f</th>\n",
       "      <th>apr_1f</th>\n",
       "      <th>pred</th>\n",
       "      <th>label</th>\n",
       "    </tr>\n",
       "  </thead>\n",
       "  <tbody>\n",
       "    <tr>\n",
       "      <th>0</th>\n",
       "      <td>NaN</td>\n",
       "      <td>37</td>\n",
       "      <td>31</td>\n",
       "      <td>1</td>\n",
       "      <td>5</td>\n",
       "      <td>0</td>\n",
       "      <td>-6</td>\n",
       "      <td>-8</td>\n",
       "      <td>-46</td>\n",
       "      <td>-11</td>\n",
       "      <td>-6</td>\n",
       "      <td>6</td>\n",
       "      <td>Wheat_oct_2f</td>\n",
       "      <td>Wheat_oct_2f</td>\n",
       "    </tr>\n",
       "    <tr>\n",
       "      <th>1</th>\n",
       "      <td>NaN</td>\n",
       "      <td>35</td>\n",
       "      <td>19</td>\n",
       "      <td>10</td>\n",
       "      <td>7</td>\n",
       "      <td>-8</td>\n",
       "      <td>-8</td>\n",
       "      <td>-16</td>\n",
       "      <td>-33</td>\n",
       "      <td>-6</td>\n",
       "      <td>-5</td>\n",
       "      <td>-1</td>\n",
       "      <td>Wheat_oct_2f</td>\n",
       "      <td>Wheat_oct_2f</td>\n",
       "    </tr>\n",
       "    <tr>\n",
       "      <th>2</th>\n",
       "      <td>NaN</td>\n",
       "      <td>40</td>\n",
       "      <td>27</td>\n",
       "      <td>4</td>\n",
       "      <td>3</td>\n",
       "      <td>-2</td>\n",
       "      <td>-13</td>\n",
       "      <td>-34</td>\n",
       "      <td>-22</td>\n",
       "      <td>-5</td>\n",
       "      <td>-4</td>\n",
       "      <td>1</td>\n",
       "      <td>Wheat_oct_2f</td>\n",
       "      <td>Wheat_oct_2f</td>\n",
       "    </tr>\n",
       "    <tr>\n",
       "      <th>3</th>\n",
       "      <td>NaN</td>\n",
       "      <td>39</td>\n",
       "      <td>28</td>\n",
       "      <td>4</td>\n",
       "      <td>3</td>\n",
       "      <td>-2</td>\n",
       "      <td>-13</td>\n",
       "      <td>-32</td>\n",
       "      <td>-25</td>\n",
       "      <td>-2</td>\n",
       "      <td>-2</td>\n",
       "      <td>-1</td>\n",
       "      <td>Wheat_oct_2f</td>\n",
       "      <td>Wheat_oct_2f</td>\n",
       "    </tr>\n",
       "    <tr>\n",
       "      <th>4</th>\n",
       "      <td>NaN</td>\n",
       "      <td>32</td>\n",
       "      <td>33</td>\n",
       "      <td>6</td>\n",
       "      <td>-1</td>\n",
       "      <td>-1</td>\n",
       "      <td>-2</td>\n",
       "      <td>-16</td>\n",
       "      <td>-38</td>\n",
       "      <td>-11</td>\n",
       "      <td>-8</td>\n",
       "      <td>-1</td>\n",
       "      <td>Wheat_oct_2f</td>\n",
       "      <td>Wheat_oct_2f</td>\n",
       "    </tr>\n",
       "    <tr>\n",
       "      <th>...</th>\n",
       "      <td>...</td>\n",
       "      <td>...</td>\n",
       "      <td>...</td>\n",
       "      <td>...</td>\n",
       "      <td>...</td>\n",
       "      <td>...</td>\n",
       "      <td>...</td>\n",
       "      <td>...</td>\n",
       "      <td>...</td>\n",
       "      <td>...</td>\n",
       "      <td>...</td>\n",
       "      <td>...</td>\n",
       "      <td>...</td>\n",
       "      <td>...</td>\n",
       "    </tr>\n",
       "    <tr>\n",
       "      <th>16704</th>\n",
       "      <td>NaN</td>\n",
       "      <td>-7</td>\n",
       "      <td>4</td>\n",
       "      <td>-14</td>\n",
       "      <td>5</td>\n",
       "      <td>27</td>\n",
       "      <td>7</td>\n",
       "      <td>12</td>\n",
       "      <td>1</td>\n",
       "      <td>-3</td>\n",
       "      <td>-40</td>\n",
       "      <td>-16</td>\n",
       "      <td>Wheat_dec_2f</td>\n",
       "      <td>Wheat_dec_2f</td>\n",
       "    </tr>\n",
       "    <tr>\n",
       "      <th>16705</th>\n",
       "      <td>NaN</td>\n",
       "      <td>-13</td>\n",
       "      <td>-1</td>\n",
       "      <td>-13</td>\n",
       "      <td>5</td>\n",
       "      <td>28</td>\n",
       "      <td>7</td>\n",
       "      <td>12</td>\n",
       "      <td>1</td>\n",
       "      <td>-4</td>\n",
       "      <td>-38</td>\n",
       "      <td>-16</td>\n",
       "      <td>Wheat_dec_2f</td>\n",
       "      <td>Wheat_dec_2f</td>\n",
       "    </tr>\n",
       "    <tr>\n",
       "      <th>16706</th>\n",
       "      <td>NaN</td>\n",
       "      <td>-29</td>\n",
       "      <td>-4</td>\n",
       "      <td>-6</td>\n",
       "      <td>5</td>\n",
       "      <td>38</td>\n",
       "      <td>5</td>\n",
       "      <td>10</td>\n",
       "      <td>-1</td>\n",
       "      <td>1</td>\n",
       "      <td>-15</td>\n",
       "      <td>-33</td>\n",
       "      <td>Wheat_dec_2f</td>\n",
       "      <td>Wheat_dec_2f</td>\n",
       "    </tr>\n",
       "    <tr>\n",
       "      <th>16707</th>\n",
       "      <td>NaN</td>\n",
       "      <td>-15</td>\n",
       "      <td>-14</td>\n",
       "      <td>-26</td>\n",
       "      <td>5</td>\n",
       "      <td>45</td>\n",
       "      <td>5</td>\n",
       "      <td>17</td>\n",
       "      <td>3</td>\n",
       "      <td>-4</td>\n",
       "      <td>-35</td>\n",
       "      <td>-39</td>\n",
       "      <td>Wheat_dec_2f</td>\n",
       "      <td>Wheat_dec_2f</td>\n",
       "    </tr>\n",
       "    <tr>\n",
       "      <th>16708</th>\n",
       "      <td>NaN</td>\n",
       "      <td>-15</td>\n",
       "      <td>-14</td>\n",
       "      <td>-26</td>\n",
       "      <td>5</td>\n",
       "      <td>45</td>\n",
       "      <td>5</td>\n",
       "      <td>17</td>\n",
       "      <td>3</td>\n",
       "      <td>-4</td>\n",
       "      <td>-35</td>\n",
       "      <td>-39</td>\n",
       "      <td>Wheat_dec_2f</td>\n",
       "      <td>Wheat_dec_2f</td>\n",
       "    </tr>\n",
       "  </tbody>\n",
       "</table>\n",
       "<p>16672 rows × 14 columns</p>\n",
       "</div>"
      ],
      "text/plain": [
       "       oct_2f  nov_1f  nov_2f  dec_1f  dec_2f  jan_1f  jan_2f  feb_1f  feb_2f  \\\n",
       "0         NaN      37      31       1       5       0      -6      -8     -46   \n",
       "1         NaN      35      19      10       7      -8      -8     -16     -33   \n",
       "2         NaN      40      27       4       3      -2     -13     -34     -22   \n",
       "3         NaN      39      28       4       3      -2     -13     -32     -25   \n",
       "4         NaN      32      33       6      -1      -1      -2     -16     -38   \n",
       "...       ...     ...     ...     ...     ...     ...     ...     ...     ...   \n",
       "16704     NaN      -7       4     -14       5      27       7      12       1   \n",
       "16705     NaN     -13      -1     -13       5      28       7      12       1   \n",
       "16706     NaN     -29      -4      -6       5      38       5      10      -1   \n",
       "16707     NaN     -15     -14     -26       5      45       5      17       3   \n",
       "16708     NaN     -15     -14     -26       5      45       5      17       3   \n",
       "\n",
       "       mar_1f  mar_2f  apr_1f          pred         label  \n",
       "0         -11      -6       6  Wheat_oct_2f  Wheat_oct_2f  \n",
       "1          -6      -5      -1  Wheat_oct_2f  Wheat_oct_2f  \n",
       "2          -5      -4       1  Wheat_oct_2f  Wheat_oct_2f  \n",
       "3          -2      -2      -1  Wheat_oct_2f  Wheat_oct_2f  \n",
       "4         -11      -8      -1  Wheat_oct_2f  Wheat_oct_2f  \n",
       "...       ...     ...     ...           ...           ...  \n",
       "16704      -3     -40     -16  Wheat_dec_2f  Wheat_dec_2f  \n",
       "16705      -4     -38     -16  Wheat_dec_2f  Wheat_dec_2f  \n",
       "16706       1     -15     -33  Wheat_dec_2f  Wheat_dec_2f  \n",
       "16707      -4     -35     -39  Wheat_dec_2f  Wheat_dec_2f  \n",
       "16708      -4     -35     -39  Wheat_dec_2f  Wheat_dec_2f  \n",
       "\n",
       "[16672 rows x 14 columns]"
      ]
     },
     "execution_count": 258,
     "metadata": {},
     "output_type": "execute_result"
    }
   ],
   "source": [
    "diff_wheat"
   ]
  },
  {
   "cell_type": "code",
   "execution_count": 260,
   "id": "ab8da99c",
   "metadata": {
    "canvas": {
     "comments": [],
     "componentType": "CodeCell",
     "copiedOriginId": null,
     "diskcache": false,
     "headerColor": "transparent",
     "id": "d4279a9d-f92f-49e8-af59-3de95ffb1803",
     "isComponent": false,
     "name": "",
     "parents": []
    }
   },
   "outputs": [],
   "source": [
    "diff_wheat['pred']=diff_wheat.pred.apply(lambda val:val[6:])"
   ]
  },
  {
   "cell_type": "code",
   "execution_count": 273,
   "id": "e765569d",
   "metadata": {
    "canvas": {
     "comments": [],
     "componentType": "CodeCell",
     "copiedOriginId": null,
     "diskcache": false,
     "headerColor": "transparent",
     "id": "2355264e-d58f-4e20-8d07-52dcbdd6ffea",
     "isComponent": false,
     "name": "",
     "parents": []
    }
   },
   "outputs": [
    {
     "data": {
      "text/plain": [
       "array([37, 35, 40, ..., 38, 45, 45], dtype=int64)"
      ]
     },
     "execution_count": 273,
     "metadata": {},
     "output_type": "execute_result"
    }
   ],
   "source": [
    "diff_wheat.apply(func, axis=1).values"
   ]
  },
  {
   "cell_type": "code",
   "execution_count": 278,
   "id": "a9d87a17",
   "metadata": {
    "canvas": {
     "comments": [],
     "componentType": "CodeCell",
     "copiedOriginId": null,
     "diskcache": false,
     "headerColor": "transparent",
     "id": "72917501-7fbf-49d3-b30a-170bc5a60293",
     "isComponent": false,
     "name": "",
     "parents": []
    }
   },
   "outputs": [],
   "source": [
    "df = pd.DataFrame({'pred':diff_wheat.pred.values, 'diff':diff_wheat.apply(func, axis=1).values})"
   ]
  },
  {
   "cell_type": "code",
   "execution_count": 292,
   "id": "e2cef4b3",
   "metadata": {
    "canvas": {
     "comments": [],
     "componentType": "CodeCell",
     "copiedOriginId": null,
     "diskcache": false,
     "headerColor": "transparent",
     "id": "e9c0cbb3-d0ad-433c-9a10-23731ab167f0",
     "isComponent": false,
     "name": "",
     "parents": []
    }
   },
   "outputs": [],
   "source": [
    "diff_wheat = wheat[wheat.pred == 'Unknown'].loc[:,:'apr_1f'].diff(axis=1)\n",
    "\n",
    "diff_wheat['pred'] = wheat[wheat.pred == 'Unknown']['pred']\n",
    "\n",
    "diff_wheat['label'] = wheat[wheat.pred == 'Unknown']['label']\n",
    "diff_wheat['label']=diff_wheat.label.apply(lambda val:val[6:])"
   ]
  },
  {
   "cell_type": "code",
   "execution_count": 338,
   "id": "0f514b6f",
   "metadata": {
    "canvas": {
     "comments": [],
     "componentType": "CodeCell",
     "copiedOriginId": null,
     "diskcache": false,
     "headerColor": "transparent",
     "id": "277b600e-23b2-4f0a-87c7-48749af958cb",
     "isComponent": false,
     "name": "",
     "parents": []
    }
   },
   "outputs": [],
   "source": [
    "def func(row):\n",
    "#     print(list(row.index).index(row['pred']))\n",
    "    idx = list(row.index).index(row['label'])\n",
    "    return row[idx+1]"
   ]
  },
  {
   "cell_type": "code",
   "execution_count": 345,
   "id": "e4da3ed5",
   "metadata": {
    "canvas": {
     "comments": [],
     "componentType": "CodeCell",
     "copiedOriginId": null,
     "diskcache": false,
     "headerColor": "transparent",
     "id": "904a87e0-3b5a-409b-b09c-3bff5d0f0c19",
     "isComponent": false,
     "name": "",
     "parents": []
    }
   },
   "outputs": [
    {
     "data": {
      "text/plain": [
       "114"
      ]
     },
     "execution_count": 345,
     "metadata": {},
     "output_type": "execute_result"
    }
   ],
   "source": [
    "wo_unk = wheat[(wheat.pred != 'Unknown')]\n",
    "wo_unk['label']=wo_unk.label.apply(lambda val:val[6:])\n",
    "wo_unk[]wo_unk.apply(func, axis=1) < 130\n",
    "wo_unk.apply(func, axis=1)[wo_unk.apply(func, axis=1) < 130]"
   ]
  },
  {
   "cell_type": "code",
   "execution_count": 296,
   "id": "a8c95ab8",
   "metadata": {
    "canvas": {
     "comments": [],
     "componentType": "CodeCell",
     "copiedOriginId": null,
     "diskcache": false,
     "headerColor": "transparent",
     "id": "b8548301-32ea-498c-81c0-0ec031d30afa",
     "isComponent": false,
     "name": "",
     "parents": []
    },
    "scrolled": true
   },
   "outputs": [],
   "source": [
    "df = pd.DataFrame({'label':diff_wheat.label.values, 'diff':diff_wheat.apply(func, axis=1).values})"
   ]
  },
  {
   "cell_type": "code",
   "execution_count": 307,
   "id": "de82da7f",
   "metadata": {
    "canvas": {
     "comments": [],
     "componentType": "CodeCell",
     "copiedOriginId": null,
     "diskcache": false,
     "headerColor": "transparent",
     "id": "29a10e15-7323-484c-89d5-b9a7cef21692",
     "isComponent": false,
     "name": "",
     "parents": []
    }
   },
   "outputs": [
    {
     "data": {
      "text/html": [
       "<div>\n",
       "<style scoped>\n",
       "    .dataframe tbody tr th:only-of-type {\n",
       "        vertical-align: middle;\n",
       "    }\n",
       "\n",
       "    .dataframe tbody tr th {\n",
       "        vertical-align: top;\n",
       "    }\n",
       "\n",
       "    .dataframe thead th {\n",
       "        text-align: right;\n",
       "    }\n",
       "</style>\n",
       "<table border=\"1\" class=\"dataframe\">\n",
       "  <thead>\n",
       "    <tr style=\"text-align: right;\">\n",
       "      <th></th>\n",
       "      <th>oct_2f</th>\n",
       "      <th>nov_1f</th>\n",
       "      <th>nov_2f</th>\n",
       "      <th>dec_1f</th>\n",
       "      <th>dec_2f</th>\n",
       "      <th>jan_1f</th>\n",
       "      <th>jan_2f</th>\n",
       "      <th>feb_1f</th>\n",
       "      <th>feb_2f</th>\n",
       "      <th>mar_1f</th>\n",
       "      <th>mar_2f</th>\n",
       "      <th>apr_1f</th>\n",
       "      <th>label</th>\n",
       "      <th>pred</th>\n",
       "    </tr>\n",
       "  </thead>\n",
       "  <tbody>\n",
       "    <tr>\n",
       "      <th>10963</th>\n",
       "      <td>144</td>\n",
       "      <td>132</td>\n",
       "      <td>126</td>\n",
       "      <td>131</td>\n",
       "      <td>191</td>\n",
       "      <td>188</td>\n",
       "      <td>192</td>\n",
       "      <td>190</td>\n",
       "      <td>186</td>\n",
       "      <td>169</td>\n",
       "      <td>127</td>\n",
       "      <td>115</td>\n",
       "      <td>Wheat_dec_1f</td>\n",
       "      <td>Unknown</td>\n",
       "    </tr>\n",
       "    <tr>\n",
       "      <th>10988</th>\n",
       "      <td>159</td>\n",
       "      <td>152</td>\n",
       "      <td>125</td>\n",
       "      <td>130</td>\n",
       "      <td>184</td>\n",
       "      <td>186</td>\n",
       "      <td>176</td>\n",
       "      <td>183</td>\n",
       "      <td>182</td>\n",
       "      <td>166</td>\n",
       "      <td>156</td>\n",
       "      <td>146</td>\n",
       "      <td>Wheat_dec_1f</td>\n",
       "      <td>Unknown</td>\n",
       "    </tr>\n",
       "    <tr>\n",
       "      <th>11048</th>\n",
       "      <td>156</td>\n",
       "      <td>123</td>\n",
       "      <td>124</td>\n",
       "      <td>129</td>\n",
       "      <td>200</td>\n",
       "      <td>180</td>\n",
       "      <td>186</td>\n",
       "      <td>187</td>\n",
       "      <td>188</td>\n",
       "      <td>180</td>\n",
       "      <td>122</td>\n",
       "      <td>114</td>\n",
       "      <td>Wheat_dec_1f</td>\n",
       "      <td>Unknown</td>\n",
       "    </tr>\n",
       "    <tr>\n",
       "      <th>11365</th>\n",
       "      <td>155</td>\n",
       "      <td>142</td>\n",
       "      <td>127</td>\n",
       "      <td>131</td>\n",
       "      <td>186</td>\n",
       "      <td>183</td>\n",
       "      <td>183</td>\n",
       "      <td>186</td>\n",
       "      <td>184</td>\n",
       "      <td>175</td>\n",
       "      <td>128</td>\n",
       "      <td>117</td>\n",
       "      <td>Wheat_dec_1f</td>\n",
       "      <td>Unknown</td>\n",
       "    </tr>\n",
       "    <tr>\n",
       "      <th>12391</th>\n",
       "      <td>136</td>\n",
       "      <td>121</td>\n",
       "      <td>122</td>\n",
       "      <td>124</td>\n",
       "      <td>200</td>\n",
       "      <td>162</td>\n",
       "      <td>178</td>\n",
       "      <td>183</td>\n",
       "      <td>186</td>\n",
       "      <td>184</td>\n",
       "      <td>154</td>\n",
       "      <td>123</td>\n",
       "      <td>Wheat_dec_1f</td>\n",
       "      <td>Unknown</td>\n",
       "    </tr>\n",
       "    <tr>\n",
       "      <th>12397</th>\n",
       "      <td>159</td>\n",
       "      <td>124</td>\n",
       "      <td>126</td>\n",
       "      <td>128</td>\n",
       "      <td>200</td>\n",
       "      <td>182</td>\n",
       "      <td>186</td>\n",
       "      <td>187</td>\n",
       "      <td>188</td>\n",
       "      <td>182</td>\n",
       "      <td>125</td>\n",
       "      <td>114</td>\n",
       "      <td>Wheat_dec_1f</td>\n",
       "      <td>Unknown</td>\n",
       "    </tr>\n",
       "    <tr>\n",
       "      <th>12559</th>\n",
       "      <td>136</td>\n",
       "      <td>122</td>\n",
       "      <td>124</td>\n",
       "      <td>126</td>\n",
       "      <td>194</td>\n",
       "      <td>192</td>\n",
       "      <td>192</td>\n",
       "      <td>192</td>\n",
       "      <td>191</td>\n",
       "      <td>183</td>\n",
       "      <td>135</td>\n",
       "      <td>118</td>\n",
       "      <td>Wheat_dec_1f</td>\n",
       "      <td>Unknown</td>\n",
       "    </tr>\n",
       "    <tr>\n",
       "      <th>12736</th>\n",
       "      <td>159</td>\n",
       "      <td>139</td>\n",
       "      <td>139</td>\n",
       "      <td>140</td>\n",
       "      <td>182</td>\n",
       "      <td>181</td>\n",
       "      <td>184</td>\n",
       "      <td>179</td>\n",
       "      <td>183</td>\n",
       "      <td>167</td>\n",
       "      <td>137</td>\n",
       "      <td>129</td>\n",
       "      <td>Wheat_dec_1f</td>\n",
       "      <td>Unknown</td>\n",
       "    </tr>\n",
       "    <tr>\n",
       "      <th>13476</th>\n",
       "      <td>150</td>\n",
       "      <td>126</td>\n",
       "      <td>131</td>\n",
       "      <td>130</td>\n",
       "      <td>185</td>\n",
       "      <td>182</td>\n",
       "      <td>185</td>\n",
       "      <td>184</td>\n",
       "      <td>182</td>\n",
       "      <td>167</td>\n",
       "      <td>123</td>\n",
       "      <td>114</td>\n",
       "      <td>Wheat_dec_1f</td>\n",
       "      <td>Unknown</td>\n",
       "    </tr>\n",
       "    <tr>\n",
       "      <th>14525</th>\n",
       "      <td>141</td>\n",
       "      <td>127</td>\n",
       "      <td>133</td>\n",
       "      <td>125</td>\n",
       "      <td>190</td>\n",
       "      <td>189</td>\n",
       "      <td>190</td>\n",
       "      <td>190</td>\n",
       "      <td>189</td>\n",
       "      <td>184</td>\n",
       "      <td>142</td>\n",
       "      <td>119</td>\n",
       "      <td>Wheat_dec_1f</td>\n",
       "      <td>Unknown</td>\n",
       "    </tr>\n",
       "    <tr>\n",
       "      <th>16461</th>\n",
       "      <td>169</td>\n",
       "      <td>142</td>\n",
       "      <td>128</td>\n",
       "      <td>135</td>\n",
       "      <td>0</td>\n",
       "      <td>186</td>\n",
       "      <td>186</td>\n",
       "      <td>185</td>\n",
       "      <td>187</td>\n",
       "      <td>187</td>\n",
       "      <td>153</td>\n",
       "      <td>122</td>\n",
       "      <td>Wheat_dec_1f</td>\n",
       "      <td>Unknown</td>\n",
       "    </tr>\n",
       "    <tr>\n",
       "      <th>16462</th>\n",
       "      <td>175</td>\n",
       "      <td>159</td>\n",
       "      <td>134</td>\n",
       "      <td>122</td>\n",
       "      <td>0</td>\n",
       "      <td>175</td>\n",
       "      <td>182</td>\n",
       "      <td>183</td>\n",
       "      <td>180</td>\n",
       "      <td>180</td>\n",
       "      <td>137</td>\n",
       "      <td>122</td>\n",
       "      <td>Wheat_dec_1f</td>\n",
       "      <td>Unknown</td>\n",
       "    </tr>\n",
       "    <tr>\n",
       "      <th>16463</th>\n",
       "      <td>167</td>\n",
       "      <td>143</td>\n",
       "      <td>129</td>\n",
       "      <td>121</td>\n",
       "      <td>0</td>\n",
       "      <td>166</td>\n",
       "      <td>177</td>\n",
       "      <td>186</td>\n",
       "      <td>187</td>\n",
       "      <td>186</td>\n",
       "      <td>141</td>\n",
       "      <td>123</td>\n",
       "      <td>Wheat_dec_1f</td>\n",
       "      <td>Unknown</td>\n",
       "    </tr>\n",
       "  </tbody>\n",
       "</table>\n",
       "</div>"
      ],
      "text/plain": [
       "       oct_2f  nov_1f  nov_2f  dec_1f  dec_2f  jan_1f  jan_2f  feb_1f  feb_2f  \\\n",
       "10963     144     132     126     131     191     188     192     190     186   \n",
       "10988     159     152     125     130     184     186     176     183     182   \n",
       "11048     156     123     124     129     200     180     186     187     188   \n",
       "11365     155     142     127     131     186     183     183     186     184   \n",
       "12391     136     121     122     124     200     162     178     183     186   \n",
       "12397     159     124     126     128     200     182     186     187     188   \n",
       "12559     136     122     124     126     194     192     192     192     191   \n",
       "12736     159     139     139     140     182     181     184     179     183   \n",
       "13476     150     126     131     130     185     182     185     184     182   \n",
       "14525     141     127     133     125     190     189     190     190     189   \n",
       "16461     169     142     128     135       0     186     186     185     187   \n",
       "16462     175     159     134     122       0     175     182     183     180   \n",
       "16463     167     143     129     121       0     166     177     186     187   \n",
       "\n",
       "       mar_1f  mar_2f  apr_1f         label     pred  \n",
       "10963     169     127     115  Wheat_dec_1f  Unknown  \n",
       "10988     166     156     146  Wheat_dec_1f  Unknown  \n",
       "11048     180     122     114  Wheat_dec_1f  Unknown  \n",
       "11365     175     128     117  Wheat_dec_1f  Unknown  \n",
       "12391     184     154     123  Wheat_dec_1f  Unknown  \n",
       "12397     182     125     114  Wheat_dec_1f  Unknown  \n",
       "12559     183     135     118  Wheat_dec_1f  Unknown  \n",
       "12736     167     137     129  Wheat_dec_1f  Unknown  \n",
       "13476     167     123     114  Wheat_dec_1f  Unknown  \n",
       "14525     184     142     119  Wheat_dec_1f  Unknown  \n",
       "16461     187     153     122  Wheat_dec_1f  Unknown  \n",
       "16462     180     137     122  Wheat_dec_1f  Unknown  \n",
       "16463     186     141     123  Wheat_dec_1f  Unknown  "
      ]
     },
     "execution_count": 307,
     "metadata": {},
     "output_type": "execute_result"
    }
   ],
   "source": [
    "wheat[(wheat.pred == 'Unknown') & (wheat.label == 'Wheat_dec_1f')]"
   ]
  },
  {
   "cell_type": "code",
   "execution_count": 297,
   "id": "bba65ae0",
   "metadata": {
    "canvas": {
     "comments": [],
     "componentType": "CodeCell",
     "copiedOriginId": null,
     "diskcache": false,
     "headerColor": "transparent",
     "id": "3644e01e-4a57-4a7e-b4d1-123c34a6a7d1",
     "isComponent": false,
     "name": "",
     "parents": []
    }
   },
   "outputs": [
    {
     "data": {
      "text/html": [
       "<div>\n",
       "<style scoped>\n",
       "    .dataframe tbody tr th:only-of-type {\n",
       "        vertical-align: middle;\n",
       "    }\n",
       "\n",
       "    .dataframe tbody tr th {\n",
       "        vertical-align: top;\n",
       "    }\n",
       "\n",
       "    .dataframe thead th {\n",
       "        text-align: right;\n",
       "    }\n",
       "</style>\n",
       "<table border=\"1\" class=\"dataframe\">\n",
       "  <thead>\n",
       "    <tr style=\"text-align: right;\">\n",
       "      <th></th>\n",
       "      <th>count</th>\n",
       "      <th>mean</th>\n",
       "      <th>std</th>\n",
       "      <th>min</th>\n",
       "      <th>25%</th>\n",
       "      <th>50%</th>\n",
       "      <th>75%</th>\n",
       "      <th>max</th>\n",
       "    </tr>\n",
       "    <tr>\n",
       "      <th>label</th>\n",
       "      <th></th>\n",
       "      <th></th>\n",
       "      <th></th>\n",
       "      <th></th>\n",
       "      <th></th>\n",
       "      <th></th>\n",
       "      <th></th>\n",
       "      <th></th>\n",
       "    </tr>\n",
       "  </thead>\n",
       "  <tbody>\n",
       "    <tr>\n",
       "      <th>dec_1f</th>\n",
       "      <td>13.0</td>\n",
       "      <td>18.461538</td>\n",
       "      <td>82.915233</td>\n",
       "      <td>-135.0</td>\n",
       "      <td>42.00</td>\n",
       "      <td>55.0</td>\n",
       "      <td>68.0</td>\n",
       "      <td>76.0</td>\n",
       "    </tr>\n",
       "    <tr>\n",
       "      <th>dec_2f</th>\n",
       "      <td>4.0</td>\n",
       "      <td>69.000000</td>\n",
       "      <td>5.354126</td>\n",
       "      <td>66.0</td>\n",
       "      <td>66.00</td>\n",
       "      <td>66.5</td>\n",
       "      <td>69.5</td>\n",
       "      <td>77.0</td>\n",
       "    </tr>\n",
       "    <tr>\n",
       "      <th>nov_1f</th>\n",
       "      <td>2.0</td>\n",
       "      <td>5.000000</td>\n",
       "      <td>0.000000</td>\n",
       "      <td>5.0</td>\n",
       "      <td>5.00</td>\n",
       "      <td>5.0</td>\n",
       "      <td>5.0</td>\n",
       "      <td>5.0</td>\n",
       "    </tr>\n",
       "    <tr>\n",
       "      <th>nov_2f</th>\n",
       "      <td>8.0</td>\n",
       "      <td>67.250000</td>\n",
       "      <td>8.481071</td>\n",
       "      <td>49.0</td>\n",
       "      <td>65.75</td>\n",
       "      <td>67.5</td>\n",
       "      <td>72.5</td>\n",
       "      <td>77.0</td>\n",
       "    </tr>\n",
       "  </tbody>\n",
       "</table>\n",
       "</div>"
      ],
      "text/plain": [
       "        count       mean        std    min    25%   50%   75%   max\n",
       "label                                                              \n",
       "dec_1f   13.0  18.461538  82.915233 -135.0  42.00  55.0  68.0  76.0\n",
       "dec_2f    4.0  69.000000   5.354126   66.0  66.00  66.5  69.5  77.0\n",
       "nov_1f    2.0   5.000000   0.000000    5.0   5.00   5.0   5.0   5.0\n",
       "nov_2f    8.0  67.250000   8.481071   49.0  65.75  67.5  72.5  77.0"
      ]
     },
     "execution_count": 297,
     "metadata": {},
     "output_type": "execute_result"
    }
   ],
   "source": [
    "df.groupby('label')['diff'].describe()"
   ]
  },
  {
   "cell_type": "code",
   "execution_count": 280,
   "id": "f444af69",
   "metadata": {
    "canvas": {
     "comments": [],
     "componentType": "CodeCell",
     "copiedOriginId": null,
     "diskcache": false,
     "headerColor": "transparent",
     "id": "5d6e3964-46a1-488f-aadb-4a40793437d1",
     "isComponent": false,
     "name": "",
     "parents": []
    }
   },
   "outputs": [
    {
     "data": {
      "text/html": [
       "<div>\n",
       "<style scoped>\n",
       "    .dataframe tbody tr th:only-of-type {\n",
       "        vertical-align: middle;\n",
       "    }\n",
       "\n",
       "    .dataframe tbody tr th {\n",
       "        vertical-align: top;\n",
       "    }\n",
       "\n",
       "    .dataframe thead th {\n",
       "        text-align: right;\n",
       "    }\n",
       "</style>\n",
       "<table border=\"1\" class=\"dataframe\">\n",
       "  <thead>\n",
       "    <tr style=\"text-align: right;\">\n",
       "      <th></th>\n",
       "      <th>count</th>\n",
       "      <th>mean</th>\n",
       "      <th>std</th>\n",
       "      <th>min</th>\n",
       "      <th>25%</th>\n",
       "      <th>50%</th>\n",
       "      <th>75%</th>\n",
       "      <th>max</th>\n",
       "    </tr>\n",
       "    <tr>\n",
       "      <th>pred</th>\n",
       "      <th></th>\n",
       "      <th></th>\n",
       "      <th></th>\n",
       "      <th></th>\n",
       "      <th></th>\n",
       "      <th></th>\n",
       "      <th></th>\n",
       "      <th></th>\n",
       "    </tr>\n",
       "  </thead>\n",
       "  <tbody>\n",
       "    <tr>\n",
       "      <th>dec_1f</th>\n",
       "      <td>5287.0</td>\n",
       "      <td>28.868356</td>\n",
       "      <td>11.711247</td>\n",
       "      <td>6.0</td>\n",
       "      <td>19.00</td>\n",
       "      <td>29.0</td>\n",
       "      <td>37.00</td>\n",
       "      <td>67.0</td>\n",
       "    </tr>\n",
       "    <tr>\n",
       "      <th>dec_2f</th>\n",
       "      <td>197.0</td>\n",
       "      <td>35.791878</td>\n",
       "      <td>6.768952</td>\n",
       "      <td>21.0</td>\n",
       "      <td>31.00</td>\n",
       "      <td>35.0</td>\n",
       "      <td>41.00</td>\n",
       "      <td>51.0</td>\n",
       "    </tr>\n",
       "    <tr>\n",
       "      <th>nov_1f</th>\n",
       "      <td>3623.0</td>\n",
       "      <td>12.033122</td>\n",
       "      <td>6.298791</td>\n",
       "      <td>6.0</td>\n",
       "      <td>8.00</td>\n",
       "      <td>10.0</td>\n",
       "      <td>14.00</td>\n",
       "      <td>39.0</td>\n",
       "    </tr>\n",
       "    <tr>\n",
       "      <th>nov_2f</th>\n",
       "      <td>7403.0</td>\n",
       "      <td>19.487910</td>\n",
       "      <td>12.105218</td>\n",
       "      <td>6.0</td>\n",
       "      <td>10.00</td>\n",
       "      <td>15.0</td>\n",
       "      <td>28.00</td>\n",
       "      <td>68.0</td>\n",
       "    </tr>\n",
       "    <tr>\n",
       "      <th>oct_2f</th>\n",
       "      <td>162.0</td>\n",
       "      <td>16.135802</td>\n",
       "      <td>11.577718</td>\n",
       "      <td>6.0</td>\n",
       "      <td>7.25</td>\n",
       "      <td>11.0</td>\n",
       "      <td>21.75</td>\n",
       "      <td>58.0</td>\n",
       "    </tr>\n",
       "  </tbody>\n",
       "</table>\n",
       "</div>"
      ],
      "text/plain": [
       "         count       mean        std   min    25%   50%    75%   max\n",
       "pred                                                                \n",
       "dec_1f  5287.0  28.868356  11.711247   6.0  19.00  29.0  37.00  67.0\n",
       "dec_2f   197.0  35.791878   6.768952  21.0  31.00  35.0  41.00  51.0\n",
       "nov_1f  3623.0  12.033122   6.298791   6.0   8.00  10.0  14.00  39.0\n",
       "nov_2f  7403.0  19.487910  12.105218   6.0  10.00  15.0  28.00  68.0\n",
       "oct_2f   162.0  16.135802  11.577718   6.0   7.25  11.0  21.75  58.0"
      ]
     },
     "execution_count": 280,
     "metadata": {},
     "output_type": "execute_result"
    }
   ],
   "source": [
    "df.groupby('pred')['diff'].describe()"
   ]
  },
  {
   "cell_type": "code",
   "execution_count": 262,
   "id": "2fc9afdc",
   "metadata": {
    "canvas": {
     "comments": [],
     "componentType": "CodeCell",
     "copiedOriginId": null,
     "diskcache": false,
     "headerColor": "transparent",
     "id": "f375f682-ee1c-4bae-b6a1-99b83a068c25",
     "isComponent": false,
     "name": "",
     "parents": []
    }
   },
   "outputs": [],
   "source": [
    "def func(row):\n",
    "#     print(list(row.index).index(row['pred']))\n",
    "    idx = list(row.index).index(row['pred'])\n",
    "    return row[idx+1]"
   ]
  },
  {
   "cell_type": "code",
   "execution_count": 226,
   "id": "c0e2212b",
   "metadata": {
    "canvas": {
     "comments": [],
     "componentType": "CodeCell",
     "copiedOriginId": null,
     "diskcache": false,
     "headerColor": "transparent",
     "id": "c5bae5b5-d5ce-4b19-9693-a0e344e76446",
     "isComponent": false,
     "name": "",
     "parents": []
    }
   },
   "outputs": [
    {
     "data": {
      "text/plain": [
       "array(['oct_2f', 'nov_1f', 'nov_2f', 'n', 'dec_1f', 'dec_2f'],\n",
       "      dtype=object)"
      ]
     },
     "execution_count": 226,
     "metadata": {},
     "output_type": "execute_result"
    }
   ],
   "source": [
    "wheat.pred.unique()"
   ]
  },
  {
   "cell_type": "code",
   "execution_count": 167,
   "id": "60a25108",
   "metadata": {
    "canvas": {
     "comments": [],
     "componentType": "CodeCell",
     "copiedOriginId": null,
     "diskcache": false,
     "headerColor": "transparent",
     "id": "499d5586-3e39-4675-9a92-3e47de907390",
     "isComponent": false,
     "name": "",
     "parents": []
    }
   },
   "outputs": [
    {
     "data": {
      "text/plain": [
       "oct_2f             159\n",
       "nov_1f             139\n",
       "nov_2f             139\n",
       "dec_1f             140\n",
       "dec_2f             182\n",
       "jan_1f             181\n",
       "jan_2f             184\n",
       "feb_1f             179\n",
       "feb_2f             183\n",
       "mar_1f             167\n",
       "mar_2f             137\n",
       "apr_1f             129\n",
       "label     Wheat_dec_1f\n",
       "pred           Unknown\n",
       "Name: 12736, dtype: object"
      ]
     },
     "metadata": {},
     "output_type": "display_data"
    },
    {
     "data": {
      "text/plain": [
       "(None, <Axes: >)"
      ]
     },
     "execution_count": 167,
     "metadata": {},
     "output_type": "execute_result"
    },
    {
     "data": {
      "image/png": "[encoded data removed]",
      "text/plain": [
       "<Figure size 640x480 with 1 Axes>"
      ]
     },
     "metadata": {},
     "output_type": "display_data"
    }
   ],
   "source": [
    "display(wheat.loc[12736]), wheat[wheat.pred == 'Unknown'].loc[:,:'apr_1f'].sample(1, random_state=2).T.plot()"
   ]
  },
  {
   "cell_type": "code",
   "execution_count": 36,
   "id": "6942ff1c-2372-4915-8bcb-badc5e7afb4f",
   "metadata": {
    "canvas": {
     "comments": [],
     "componentType": "CodeCell",
     "copiedOriginId": null,
     "diskcache": false,
     "headerColor": "transparent",
     "id": "e40f32ce-8fba-4d74-9490-083d17674a2d",
     "isComponent": false,
     "name": "",
     "parents": []
    }
   },
   "outputs": [
    {
     "name": "stdout",
     "output_type": "stream",
     "text": [
      "Requirement already satisfied: jupyter_contrib_nbextensions in c:\\users\\user\\miniconda3\\envs\\kdss_base\\lib\\site-packages (0.7.0)\n",
      "Requirement already satisfied: ipython-genutils in c:\\users\\user\\miniconda3\\envs\\kdss_base\\lib\\site-packages (from jupyter_contrib_nbextensions) (0.2.0)\n",
      "Requirement already satisfied: jupyter-nbextensions-configurator>=0.4.0 in c:\\users\\user\\miniconda3\\envs\\kdss_base\\lib\\site-packages (from jupyter_contrib_nbextensions) (0.6.3)\n",
      "Requirement already satisfied: tornado in c:\\users\\user\\miniconda3\\envs\\kdss_base\\lib\\site-packages (from jupyter_contrib_nbextensions) (6.2)\n",
      "Requirement already satisfied: jupyter-contrib-core>=0.3.3 in c:\\users\\user\\miniconda3\\envs\\kdss_base\\lib\\site-packages (from jupyter_contrib_nbextensions) (0.4.2)\n",
      "Requirement already satisfied: jupyter-highlight-selected-word>=0.1.1 in c:\\users\\user\\miniconda3\\envs\\kdss_base\\lib\\site-packages (from jupyter_contrib_nbextensions) (0.2.0)\n",
      "Requirement already satisfied: notebook>=6.0 in c:\\users\\user\\miniconda3\\envs\\kdss_base\\lib\\site-packages (from jupyter_contrib_nbextensions) (6.5.4)\n",
      "Requirement already satisfied: nbconvert>=6.0 in c:\\users\\user\\miniconda3\\envs\\kdss_base\\lib\\site-packages (from jupyter_contrib_nbextensions) (6.5.4)\n",
      "Requirement already satisfied: lxml in c:\\users\\user\\miniconda3\\envs\\kdss_base\\lib\\site-packages (from jupyter_contrib_nbextensions) (4.9.2)\n",
      "Requirement already satisfied: traitlets>=4.1 in c:\\users\\user\\miniconda3\\envs\\kdss_base\\lib\\site-packages (from jupyter_contrib_nbextensions) (5.7.1)\n",
      "Requirement already satisfied: jupyter-core in c:\\users\\user\\miniconda3\\envs\\kdss_base\\lib\\site-packages (from jupyter_contrib_nbextensions) (5.3.0)\n",
      "Requirement already satisfied: setuptools in c:\\users\\user\\miniconda3\\envs\\kdss_base\\lib\\site-packages (from jupyter-contrib-core>=0.3.3->jupyter_contrib_nbextensions) (65.6.3)\n",
      "Requirement already satisfied: pyyaml in c:\\users\\user\\miniconda3\\envs\\kdss_base\\lib\\site-packages (from jupyter-nbextensions-configurator>=0.4.0->jupyter_contrib_nbextensions) (6.0)\n",
      "Requirement already satisfied: packaging in c:\\users\\user\\miniconda3\\envs\\kdss_base\\lib\\site-packages (from nbconvert>=6.0->jupyter_contrib_nbextensions) (23.0)\n",
      "Requirement already satisfied: mistune<2,>=0.8.1 in c:\\users\\user\\miniconda3\\envs\\kdss_base\\lib\\site-packages (from nbconvert>=6.0->jupyter_contrib_nbextensions) (0.8.4)\n",
      "Requirement already satisfied: jupyterlab-pygments in c:\\users\\user\\miniconda3\\envs\\kdss_base\\lib\\site-packages (from nbconvert>=6.0->jupyter_contrib_nbextensions) (0.1.2)\n",
      "Requirement already satisfied: bleach in c:\\users\\user\\miniconda3\\envs\\kdss_base\\lib\\site-packages (from nbconvert>=6.0->jupyter_contrib_nbextensions) (4.1.0)\n",
      "Requirement already satisfied: beautifulsoup4 in c:\\users\\user\\miniconda3\\envs\\kdss_base\\lib\\site-packages (from nbconvert>=6.0->jupyter_contrib_nbextensions) (4.12.2)\n",
      "Requirement already satisfied: pandocfilters>=1.4.1 in c:\\users\\user\\miniconda3\\envs\\kdss_base\\lib\\site-packages (from nbconvert>=6.0->jupyter_contrib_nbextensions) (1.5.0)\n",
      "Requirement already satisfied: jinja2>=3.0 in c:\\users\\user\\miniconda3\\envs\\kdss_base\\lib\\site-packages (from nbconvert>=6.0->jupyter_contrib_nbextensions) (3.1.2)\n",
      "Requirement already satisfied: MarkupSafe>=2.0 in c:\\users\\user\\miniconda3\\envs\\kdss_base\\lib\\site-packages (from nbconvert>=6.0->jupyter_contrib_nbextensions) (2.1.1)\n",
      "Requirement already satisfied: nbclient>=0.5.0 in c:\\users\\user\\miniconda3\\envs\\kdss_base\\lib\\site-packages (from nbconvert>=6.0->jupyter_contrib_nbextensions) (0.5.13)\n",
      "Requirement already satisfied: nbformat>=5.1 in c:\\users\\user\\miniconda3\\envs\\kdss_base\\lib\\site-packages (from nbconvert>=6.0->jupyter_contrib_nbextensions) (5.7.0)\n",
      "Requirement already satisfied: entrypoints>=0.2.2 in c:\\users\\user\\miniconda3\\envs\\kdss_base\\lib\\site-packages (from nbconvert>=6.0->jupyter_contrib_nbextensions) (0.4)\n",
      "Requirement already satisfied: pygments>=2.4.1 in c:\\users\\user\\miniconda3\\envs\\kdss_base\\lib\\site-packages (from nbconvert>=6.0->jupyter_contrib_nbextensions) (2.11.2)\n",
      "Requirement already satisfied: defusedxml in c:\\users\\user\\miniconda3\\envs\\kdss_base\\lib\\site-packages (from nbconvert>=6.0->jupyter_contrib_nbextensions) (0.7.1)\n",
      "Requirement already satisfied: tinycss2 in c:\\users\\user\\miniconda3\\envs\\kdss_base\\lib\\site-packages (from nbconvert>=6.0->jupyter_contrib_nbextensions) (1.2.1)\n",
      "Requirement already satisfied: platformdirs>=2.5 in c:\\users\\user\\miniconda3\\envs\\kdss_base\\lib\\site-packages (from jupyter-core->jupyter_contrib_nbextensions) (2.5.2)\n",
      "Requirement already satisfied: pywin32>=300 in c:\\users\\user\\miniconda3\\envs\\kdss_base\\lib\\site-packages (from jupyter-core->jupyter_contrib_nbextensions) (305.1)\n",
      "Requirement already satisfied: argon2-cffi in c:\\users\\user\\miniconda3\\envs\\kdss_base\\lib\\site-packages (from notebook>=6.0->jupyter_contrib_nbextensions) (21.3.0)\n",
      "Requirement already satisfied: jupyter-client>=5.3.4 in c:\\users\\user\\miniconda3\\envs\\kdss_base\\lib\\site-packages (from notebook>=6.0->jupyter_contrib_nbextensions) (8.1.0)\n",
      "Requirement already satisfied: ipykernel in c:\\users\\user\\miniconda3\\envs\\kdss_base\\lib\\site-packages (from notebook>=6.0->jupyter_contrib_nbextensions) (6.19.2)\n",
      "Requirement already satisfied: terminado>=0.8.3 in c:\\users\\user\\miniconda3\\envs\\kdss_base\\lib\\site-packages (from notebook>=6.0->jupyter_contrib_nbextensions) (0.17.1)\n",
      "Requirement already satisfied: nbclassic>=0.4.7 in c:\\users\\user\\miniconda3\\envs\\kdss_base\\lib\\site-packages (from notebook>=6.0->jupyter_contrib_nbextensions) (0.5.5)\n",
      "Requirement already satisfied: nest-asyncio>=1.5 in c:\\users\\user\\miniconda3\\envs\\kdss_base\\lib\\site-packages (from notebook>=6.0->jupyter_contrib_nbextensions) (1.5.6)\n",
      "Requirement already satisfied: prometheus-client in c:\\users\\user\\miniconda3\\envs\\kdss_base\\lib\\site-packages (from notebook>=6.0->jupyter_contrib_nbextensions) (0.14.1)\n",
      "Requirement already satisfied: pyzmq>=17 in c:\\users\\user\\miniconda3\\envs\\kdss_base\\lib\\site-packages (from notebook>=6.0->jupyter_contrib_nbextensions) (25.0.2)\n",
      "Requirement already satisfied: Send2Trash>=1.8.0 in c:\\users\\user\\miniconda3\\envs\\kdss_base\\lib\\site-packages (from notebook>=6.0->jupyter_contrib_nbextensions) (1.8.0)\n",
      "Requirement already satisfied: importlib-metadata>=4.8.3 in c:\\users\\user\\miniconda3\\envs\\kdss_base\\lib\\site-packages (from jupyter-client>=5.3.4->notebook>=6.0->jupyter_contrib_nbextensions) (6.0.0)\n",
      "Requirement already satisfied: python-dateutil>=2.8.2 in c:\\users\\user\\miniconda3\\envs\\kdss_base\\lib\\site-packages (from jupyter-client>=5.3.4->notebook>=6.0->jupyter_contrib_nbextensions) (2.8.2)\n",
      "Requirement already satisfied: jupyter-server>=1.8 in c:\\users\\user\\miniconda3\\envs\\kdss_base\\lib\\site-packages (from nbclassic>=0.4.7->notebook>=6.0->jupyter_contrib_nbextensions) (1.17.0)\n",
      "Requirement already satisfied: notebook-shim>=0.1.0 in c:\\users\\user\\miniconda3\\envs\\kdss_base\\lib\\site-packages (from nbclassic>=0.4.7->notebook>=6.0->jupyter_contrib_nbextensions) (0.2.2)\n",
      "Requirement already satisfied: fastjsonschema in c:\\users\\user\\miniconda3\\envs\\kdss_base\\lib\\site-packages (from nbformat>=5.1->nbconvert>=6.0->jupyter_contrib_nbextensions) (2.16.2)\n",
      "Requirement already satisfied: jsonschema>=2.6 in c:\\users\\user\\miniconda3\\envs\\kdss_base\\lib\\site-packages (from nbformat>=5.1->nbconvert>=6.0->jupyter_contrib_nbextensions) (4.17.3)\n",
      "Requirement already satisfied: pywinpty>=1.1.0 in c:\\users\\user\\miniconda3\\envs\\kdss_base\\lib\\site-packages (from terminado>=0.8.3->notebook>=6.0->jupyter_contrib_nbextensions) (2.0.10)\n",
      "Requirement already satisfied: argon2-cffi-bindings in c:\\users\\user\\miniconda3\\envs\\kdss_base\\lib\\site-packages (from argon2-cffi->notebook>=6.0->jupyter_contrib_nbextensions) (21.2.0)\n",
      "Requirement already satisfied: soupsieve>1.2 in c:\\users\\user\\miniconda3\\envs\\kdss_base\\lib\\site-packages (from beautifulsoup4->nbconvert>=6.0->jupyter_contrib_nbextensions) (2.4)\n",
      "Requirement already satisfied: six>=1.9.0 in c:\\users\\user\\miniconda3\\envs\\kdss_base\\lib\\site-packages (from bleach->nbconvert>=6.0->jupyter_contrib_nbextensions) (1.16.0)\n",
      "Requirement already satisfied: webencodings in c:\\users\\user\\miniconda3\\envs\\kdss_base\\lib\\site-packages (from bleach->nbconvert>=6.0->jupyter_contrib_nbextensions) (0.5.1)\n",
      "Requirement already satisfied: ipython>=7.23.1 in c:\\users\\user\\miniconda3\\envs\\kdss_base\\lib\\site-packages (from ipykernel->notebook>=6.0->jupyter_contrib_nbextensions) (8.12.0)\n",
      "Requirement already satisfied: comm>=0.1.1 in c:\\users\\user\\miniconda3\\envs\\kdss_base\\lib\\site-packages (from ipykernel->notebook>=6.0->jupyter_contrib_nbextensions) (0.1.2)\n",
      "Requirement already satisfied: debugpy>=1.0 in c:\\users\\user\\miniconda3\\envs\\kdss_base\\lib\\site-packages (from ipykernel->notebook>=6.0->jupyter_contrib_nbextensions) (1.5.1)\n",
      "Requirement already satisfied: matplotlib-inline>=0.1 in c:\\users\\user\\miniconda3\\envs\\kdss_base\\lib\\site-packages (from ipykernel->notebook>=6.0->jupyter_contrib_nbextensions) (0.1.6)\n",
      "Requirement already satisfied: psutil in c:\\users\\user\\miniconda3\\envs\\kdss_base\\lib\\site-packages (from ipykernel->notebook>=6.0->jupyter_contrib_nbextensions) (5.9.0)\n",
      "Requirement already satisfied: zipp>=0.5 in c:\\users\\user\\miniconda3\\envs\\kdss_base\\lib\\site-packages (from importlib-metadata>=4.8.3->jupyter-client>=5.3.4->notebook>=6.0->jupyter_contrib_nbextensions) (3.11.0)\n",
      "Requirement already satisfied: prompt-toolkit!=3.0.37,<3.1.0,>=3.0.30 in c:\\users\\user\\miniconda3\\envs\\kdss_base\\lib\\site-packages (from ipython>=7.23.1->ipykernel->notebook>=6.0->jupyter_contrib_nbextensions) (3.0.36)\n",
      "Requirement already satisfied: backcall in c:\\users\\user\\miniconda3\\envs\\kdss_base\\lib\\site-packages (from ipython>=7.23.1->ipykernel->notebook>=6.0->jupyter_contrib_nbextensions) (0.2.0)\n",
      "Requirement already satisfied: colorama in c:\\users\\user\\miniconda3\\envs\\kdss_base\\lib\\site-packages (from ipython>=7.23.1->ipykernel->notebook>=6.0->jupyter_contrib_nbextensions) (0.4.6)\n",
      "Requirement already satisfied: pickleshare in c:\\users\\user\\miniconda3\\envs\\kdss_base\\lib\\site-packages (from ipython>=7.23.1->ipykernel->notebook>=6.0->jupyter_contrib_nbextensions) (0.7.5)\n",
      "Requirement already satisfied: jedi>=0.16 in c:\\users\\user\\miniconda3\\envs\\kdss_base\\lib\\site-packages (from ipython>=7.23.1->ipykernel->notebook>=6.0->jupyter_contrib_nbextensions) (0.18.1)\n",
      "Requirement already satisfied: typing-extensions in c:\\users\\user\\miniconda3\\envs\\kdss_base\\lib\\site-packages (from ipython>=7.23.1->ipykernel->notebook>=6.0->jupyter_contrib_nbextensions) (4.5.0)\n",
      "Requirement already satisfied: decorator in c:\\users\\user\\miniconda3\\envs\\kdss_base\\lib\\site-packages (from ipython>=7.23.1->ipykernel->notebook>=6.0->jupyter_contrib_nbextensions) (5.1.1)\n",
      "Requirement already satisfied: stack-data in c:\\users\\user\\miniconda3\\envs\\kdss_base\\lib\\site-packages (from ipython>=7.23.1->ipykernel->notebook>=6.0->jupyter_contrib_nbextensions) (0.2.0)\n",
      "Requirement already satisfied: pyrsistent!=0.17.0,!=0.17.1,!=0.17.2,>=0.14.0 in c:\\users\\user\\miniconda3\\envs\\kdss_base\\lib\\site-packages (from jsonschema>=2.6->nbformat>=5.1->nbconvert>=6.0->jupyter_contrib_nbextensions) (0.18.0)\n",
      "Requirement already satisfied: attrs>=17.4.0 in c:\\users\\user\\miniconda3\\envs\\kdss_base\\lib\\site-packages (from jsonschema>=2.6->nbformat>=5.1->nbconvert>=6.0->jupyter_contrib_nbextensions) (22.1.0)\n",
      "Requirement already satisfied: anyio<4,>=3.1.0 in c:\\users\\user\\miniconda3\\envs\\kdss_base\\lib\\site-packages (from jupyter-server>=1.8->nbclassic>=0.4.7->notebook>=6.0->jupyter_contrib_nbextensions) (3.5.0)\n",
      "Requirement already satisfied: websocket-client in c:\\users\\user\\miniconda3\\envs\\kdss_base\\lib\\site-packages (from jupyter-server>=1.8->nbclassic>=0.4.7->notebook>=6.0->jupyter_contrib_nbextensions) (0.58.0)\n",
      "Requirement already satisfied: cffi>=1.0.1 in c:\\users\\user\\miniconda3\\envs\\kdss_base\\lib\\site-packages (from argon2-cffi-bindings->argon2-cffi->notebook>=6.0->jupyter_contrib_nbextensions) (1.15.1)\n",
      "Requirement already satisfied: idna>=2.8 in c:\\users\\user\\miniconda3\\envs\\kdss_base\\lib\\site-packages (from anyio<4,>=3.1.0->jupyter-server>=1.8->nbclassic>=0.4.7->notebook>=6.0->jupyter_contrib_nbextensions) (3.4)\n",
      "Requirement already satisfied: sniffio>=1.1 in c:\\users\\user\\miniconda3\\envs\\kdss_base\\lib\\site-packages (from anyio<4,>=3.1.0->jupyter-server>=1.8->nbclassic>=0.4.7->notebook>=6.0->jupyter_contrib_nbextensions) (1.2.0)\n",
      "Requirement already satisfied: pycparser in c:\\users\\user\\miniconda3\\envs\\kdss_base\\lib\\site-packages (from cffi>=1.0.1->argon2-cffi-bindings->argon2-cffi->notebook>=6.0->jupyter_contrib_nbextensions) (2.21)\n",
      "Requirement already satisfied: parso<0.9.0,>=0.8.0 in c:\\users\\user\\miniconda3\\envs\\kdss_base\\lib\\site-packages (from jedi>=0.16->ipython>=7.23.1->ipykernel->notebook>=6.0->jupyter_contrib_nbextensions) (0.8.3)\n",
      "Requirement already satisfied: wcwidth in c:\\users\\user\\miniconda3\\envs\\kdss_base\\lib\\site-packages (from prompt-toolkit!=3.0.37,<3.1.0,>=3.0.30->ipython>=7.23.1->ipykernel->notebook>=6.0->jupyter_contrib_nbextensions) (0.2.5)\n",
      "Requirement already satisfied: executing in c:\\users\\user\\miniconda3\\envs\\kdss_base\\lib\\site-packages (from stack-data->ipython>=7.23.1->ipykernel->notebook>=6.0->jupyter_contrib_nbextensions) (0.8.3)\n",
      "Requirement already satisfied: asttokens in c:\\users\\user\\miniconda3\\envs\\kdss_base\\lib\\site-packages (from stack-data->ipython>=7.23.1->ipykernel->notebook>=6.0->jupyter_contrib_nbextensions) (2.0.5)\n",
      "Requirement already satisfied: pure-eval in c:\\users\\user\\miniconda3\\envs\\kdss_base\\lib\\site-packages (from stack-data->ipython>=7.23.1->ipykernel->notebook>=6.0->jupyter_contrib_nbextensions) (0.2.2)\n"
     ]
    },
    {
     "name": "stderr",
     "output_type": "stream",
     "text": [
      "[I 16:29:01 InstallContribNbextensionsApp] jupyter contrib nbextension install \n",
      "[I 16:29:01 InstallContribNbextensionsApp] Installing jupyter_contrib_nbextensions nbextension files to jupyter data directory\n",
      "[I 16:29:01 InstallContribNbextensionsApp] Installing C:\\Users\\user\\miniconda3\\envs\\kdss_base\\lib\\site-packages\\jupyter_contrib_nbextensions\\nbextensions\\addbefore -> addbefore\n",
      "[I 16:29:01 InstallContribNbextensionsApp] Making directory: C:\\ProgramData\\jupyter\\nbextensions\\addbefore\\\n",
      "[I 16:29:01 InstallContribNbextensionsApp] Copying: C:\\Users\\user\\miniconda3\\envs\\kdss_base\\lib\\site-packages\\jupyter_contrib_nbextensions\\nbextensions\\addbefore\\addbefore.yaml -> C:\\ProgramData\\jupyter\\nbextensions\\addbefore\\addbefore.yaml\n",
      "[I 16:29:01 InstallContribNbextensionsApp] Copying: C:\\Users\\user\\miniconda3\\envs\\kdss_base\\lib\\site-packages\\jupyter_contrib_nbextensions\\nbextensions\\addbefore\\icon.png -> C:\\ProgramData\\jupyter\\nbextensions\\addbefore\\icon.png\n",
      "[I 16:29:01 InstallContribNbextensionsApp] Copying: C:\\Users\\user\\miniconda3\\envs\\kdss_base\\lib\\site-packages\\jupyter_contrib_nbextensions\\nbextensions\\addbefore\\main.js -> C:\\ProgramData\\jupyter\\nbextensions\\addbefore\\main.js\n",
      "[I 16:29:01 InstallContribNbextensionsApp] Copying: C:\\Users\\user\\miniconda3\\envs\\kdss_base\\lib\\site-packages\\jupyter_contrib_nbextensions\\nbextensions\\addbefore\\readme.md -> C:\\ProgramData\\jupyter\\nbextensions\\addbefore\\readme.md\n",
      "[I 16:29:01 InstallContribNbextensionsApp] - Validating: ok\n",
      "[I 16:29:01 InstallContribNbextensionsApp] Installing C:\\Users\\user\\miniconda3\\envs\\kdss_base\\lib\\site-packages\\jupyter_contrib_nbextensions\\nbextensions\\autosavetime -> autosavetime\n",
      "[I 16:29:01 InstallContribNbextensionsApp] Making directory: C:\\ProgramData\\jupyter\\nbextensions\\autosavetime\\\n",
      "[I 16:29:01 InstallContribNbextensionsApp] Copying: C:\\Users\\user\\miniconda3\\envs\\kdss_base\\lib\\site-packages\\jupyter_contrib_nbextensions\\nbextensions\\autosavetime\\autosavetime.yaml -> C:\\ProgramData\\jupyter\\nbextensions\\autosavetime\\autosavetime.yaml\n",
      "[I 16:29:01 InstallContribNbextensionsApp] Copying: C:\\Users\\user\\miniconda3\\envs\\kdss_base\\lib\\site-packages\\jupyter_contrib_nbextensions\\nbextensions\\autosavetime\\icon.png -> C:\\ProgramData\\jupyter\\nbextensions\\autosavetime\\icon.png\n",
      "[I 16:29:01 InstallContribNbextensionsApp] Copying: C:\\Users\\user\\miniconda3\\envs\\kdss_base\\lib\\site-packages\\jupyter_contrib_nbextensions\\nbextensions\\autosavetime\\main.js -> C:\\ProgramData\\jupyter\\nbextensions\\autosavetime\\main.js\n",
      "[I 16:29:01 InstallContribNbextensionsApp] Copying: C:\\Users\\user\\miniconda3\\envs\\kdss_base\\lib\\site-packages\\jupyter_contrib_nbextensions\\nbextensions\\autosavetime\\README.md -> C:\\ProgramData\\jupyter\\nbextensions\\autosavetime\\README.md\n",
      "[I 16:29:01 InstallContribNbextensionsApp] - Validating: ok\n",
      "[I 16:29:01 InstallContribNbextensionsApp] Installing C:\\Users\\user\\miniconda3\\envs\\kdss_base\\lib\\site-packages\\jupyter_contrib_nbextensions\\nbextensions\\autoscroll -> autoscroll\n",
      "[I 16:29:01 InstallContribNbextensionsApp] Making directory: C:\\ProgramData\\jupyter\\nbextensions\\autoscroll\\\n",
      "[I 16:29:01 InstallContribNbextensionsApp] Copying: C:\\Users\\user\\miniconda3\\envs\\kdss_base\\lib\\site-packages\\jupyter_contrib_nbextensions\\nbextensions\\autoscroll\\autoscroll.yaml -> C:\\ProgramData\\jupyter\\nbextensions\\autoscroll\\autoscroll.yaml\n",
      "[I 16:29:01 InstallContribNbextensionsApp] Copying: C:\\Users\\user\\miniconda3\\envs\\kdss_base\\lib\\site-packages\\jupyter_contrib_nbextensions\\nbextensions\\autoscroll\\icon.png -> C:\\ProgramData\\jupyter\\nbextensions\\autoscroll\\icon.png\n",
      "[I 16:29:01 InstallContribNbextensionsApp] Copying: C:\\Users\\user\\miniconda3\\envs\\kdss_base\\lib\\site-packages\\jupyter_contrib_nbextensions\\nbextensions\\autoscroll\\main.js -> C:\\ProgramData\\jupyter\\nbextensions\\autoscroll\\main.js\n",
      "[I 16:29:01 InstallContribNbextensionsApp] Copying: C:\\Users\\user\\miniconda3\\envs\\kdss_base\\lib\\site-packages\\jupyter_contrib_nbextensions\\nbextensions\\autoscroll\\README.md -> C:\\ProgramData\\jupyter\\nbextensions\\autoscroll\\README.md\n",
      "[I 16:29:01 InstallContribNbextensionsApp] - Validating: ok\n",
      "[I 16:29:01 InstallContribNbextensionsApp] Installing C:\\Users\\user\\miniconda3\\envs\\kdss_base\\lib\\site-packages\\jupyter_contrib_nbextensions\\nbextensions\\cell_filter -> cell_filter\n",
      "[I 16:29:01 InstallContribNbextensionsApp] Making directory: C:\\ProgramData\\jupyter\\nbextensions\\cell_filter\\\n",
      "[I 16:29:01 InstallContribNbextensionsApp] Copying: C:\\Users\\user\\miniconda3\\envs\\kdss_base\\lib\\site-packages\\jupyter_contrib_nbextensions\\nbextensions\\cell_filter\\cell_filter.js -> C:\\ProgramData\\jupyter\\nbextensions\\cell_filter\\cell_filter.js\n",
      "[I 16:29:01 InstallContribNbextensionsApp] Copying: C:\\Users\\user\\miniconda3\\envs\\kdss_base\\lib\\site-packages\\jupyter_contrib_nbextensions\\nbextensions\\cell_filter\\cell_filter.yml -> C:\\ProgramData\\jupyter\\nbextensions\\cell_filter\\cell_filter.yml\n",
      "[I 16:29:01 InstallContribNbextensionsApp] Copying: C:\\Users\\user\\miniconda3\\envs\\kdss_base\\lib\\site-packages\\jupyter_contrib_nbextensions\\nbextensions\\cell_filter\\README.md -> C:\\ProgramData\\jupyter\\nbextensions\\cell_filter\\README.md\n",
      "[I 16:29:01 InstallContribNbextensionsApp] - Validating: ok\n",
      "[I 16:29:01 InstallContribNbextensionsApp] Installing C:\\Users\\user\\miniconda3\\envs\\kdss_base\\lib\\site-packages\\jupyter_contrib_nbextensions\\nbextensions\\codefolding -> codefolding\n",
      "[I 16:29:01 InstallContribNbextensionsApp] Making directory: C:\\ProgramData\\jupyter\\nbextensions\\codefolding\\\n",
      "[I 16:29:01 InstallContribNbextensionsApp] Copying: C:\\Users\\user\\miniconda3\\envs\\kdss_base\\lib\\site-packages\\jupyter_contrib_nbextensions\\nbextensions\\codefolding\\blockcomment-fold.js -> C:\\ProgramData\\jupyter\\nbextensions\\codefolding\\blockcomment-fold.js\n",
      "[I 16:29:01 InstallContribNbextensionsApp] Copying: C:\\Users\\user\\miniconda3\\envs\\kdss_base\\lib\\site-packages\\jupyter_contrib_nbextensions\\nbextensions\\codefolding\\codefolding.yaml -> C:\\ProgramData\\jupyter\\nbextensions\\codefolding\\codefolding.yaml\n",
      "[I 16:29:01 InstallContribNbextensionsApp] Copying: C:\\Users\\user\\miniconda3\\envs\\kdss_base\\lib\\site-packages\\jupyter_contrib_nbextensions\\nbextensions\\codefolding\\codefolding_editor.png -> C:\\ProgramData\\jupyter\\nbextensions\\codefolding\\codefolding_editor.png\n",
      "[I 16:29:01 InstallContribNbextensionsApp] Copying: C:\\Users\\user\\miniconda3\\envs\\kdss_base\\lib\\site-packages\\jupyter_contrib_nbextensions\\nbextensions\\codefolding\\codefolding_editor.yaml -> C:\\ProgramData\\jupyter\\nbextensions\\codefolding\\codefolding_editor.yaml\n",
      "[I 16:29:01 InstallContribNbextensionsApp] Copying: C:\\Users\\user\\miniconda3\\envs\\kdss_base\\lib\\site-packages\\jupyter_contrib_nbextensions\\nbextensions\\codefolding\\codefolding_firstline_folded.png -> C:\\ProgramData\\jupyter\\nbextensions\\codefolding\\codefolding_firstline_folded.png\n",
      "[I 16:29:01 InstallContribNbextensionsApp] Copying: C:\\Users\\user\\miniconda3\\envs\\kdss_base\\lib\\site-packages\\jupyter_contrib_nbextensions\\nbextensions\\codefolding\\codefolding_firstline_unfolded.png -> C:\\ProgramData\\jupyter\\nbextensions\\codefolding\\codefolding_firstline_unfolded.png\n",
      "[I 16:29:01 InstallContribNbextensionsApp] Copying: C:\\Users\\user\\miniconda3\\envs\\kdss_base\\lib\\site-packages\\jupyter_contrib_nbextensions\\nbextensions\\codefolding\\codefolding_indent_folded_1.png -> C:\\ProgramData\\jupyter\\nbextensions\\codefolding\\codefolding_indent_folded_1.png\n",
      "[I 16:29:01 InstallContribNbextensionsApp] Copying: C:\\Users\\user\\miniconda3\\envs\\kdss_base\\lib\\site-packages\\jupyter_contrib_nbextensions\\nbextensions\\codefolding\\codefolding_indent_folded_2.png -> C:\\ProgramData\\jupyter\\nbextensions\\codefolding\\codefolding_indent_folded_2.png\n",
      "[I 16:29:01 InstallContribNbextensionsApp] Copying: C:\\Users\\user\\miniconda3\\envs\\kdss_base\\lib\\site-packages\\jupyter_contrib_nbextensions\\nbextensions\\codefolding\\codefolding_indent_unfolded.png -> C:\\ProgramData\\jupyter\\nbextensions\\codefolding\\codefolding_indent_unfolded.png\n",
      "[I 16:29:01 InstallContribNbextensionsApp] Copying: C:\\Users\\user\\miniconda3\\envs\\kdss_base\\lib\\site-packages\\jupyter_contrib_nbextensions\\nbextensions\\codefolding\\edit.js -> C:\\ProgramData\\jupyter\\nbextensions\\codefolding\\edit.js\n",
      "[I 16:29:01 InstallContribNbextensionsApp] Copying: C:\\Users\\user\\miniconda3\\envs\\kdss_base\\lib\\site-packages\\jupyter_contrib_nbextensions\\nbextensions\\codefolding\\firstline-fold.js -> C:\\ProgramData\\jupyter\\nbextensions\\codefolding\\firstline-fold.js\n",
      "[I 16:29:01 InstallContribNbextensionsApp] Copying: C:\\Users\\user\\miniconda3\\envs\\kdss_base\\lib\\site-packages\\jupyter_contrib_nbextensions\\nbextensions\\codefolding\\foldgutter.css -> C:\\ProgramData\\jupyter\\nbextensions\\codefolding\\foldgutter.css\n",
      "[I 16:29:01 InstallContribNbextensionsApp] Copying: C:\\Users\\user\\miniconda3\\envs\\kdss_base\\lib\\site-packages\\jupyter_contrib_nbextensions\\nbextensions\\codefolding\\icon.png -> C:\\ProgramData\\jupyter\\nbextensions\\codefolding\\icon.png\n",
      "[I 16:29:01 InstallContribNbextensionsApp] Copying: C:\\Users\\user\\miniconda3\\envs\\kdss_base\\lib\\site-packages\\jupyter_contrib_nbextensions\\nbextensions\\codefolding\\magic-fold.js -> C:\\ProgramData\\jupyter\\nbextensions\\codefolding\\magic-fold.js\n",
      "[I 16:29:01 InstallContribNbextensionsApp] Copying: C:\\Users\\user\\miniconda3\\envs\\kdss_base\\lib\\site-packages\\jupyter_contrib_nbextensions\\nbextensions\\codefolding\\magic-folded.png -> C:\\ProgramData\\jupyter\\nbextensions\\codefolding\\magic-folded.png\n",
      "[I 16:29:01 InstallContribNbextensionsApp] Copying: C:\\Users\\user\\miniconda3\\envs\\kdss_base\\lib\\site-packages\\jupyter_contrib_nbextensions\\nbextensions\\codefolding\\magic-unfolded.png -> C:\\ProgramData\\jupyter\\nbextensions\\codefolding\\magic-unfolded.png\n",
      "[I 16:29:01 InstallContribNbextensionsApp] Copying: C:\\Users\\user\\miniconda3\\envs\\kdss_base\\lib\\site-packages\\jupyter_contrib_nbextensions\\nbextensions\\codefolding\\main.js -> C:\\ProgramData\\jupyter\\nbextensions\\codefolding\\main.js\n",
      "[I 16:29:01 InstallContribNbextensionsApp] Copying: C:\\Users\\user\\miniconda3\\envs\\kdss_base\\lib\\site-packages\\jupyter_contrib_nbextensions\\nbextensions\\codefolding\\readme.md -> C:\\ProgramData\\jupyter\\nbextensions\\codefolding\\readme.md\n",
      "[I 16:29:01 InstallContribNbextensionsApp] - Validating: ok\n",
      "[I 16:29:01 InstallContribNbextensionsApp] Installing C:\\Users\\user\\miniconda3\\envs\\kdss_base\\lib\\site-packages\\jupyter_contrib_nbextensions\\nbextensions\\codefolding -> codefolding\n",
      "[I 16:29:01 InstallContribNbextensionsApp] Up to date: C:\\ProgramData\\jupyter\\nbextensions\\codefolding\\blockcomment-fold.js\n",
      "[I 16:29:01 InstallContribNbextensionsApp] Up to date: C:\\ProgramData\\jupyter\\nbextensions\\codefolding\\codefolding.yaml\n",
      "[I 16:29:01 InstallContribNbextensionsApp] Up to date: C:\\ProgramData\\jupyter\\nbextensions\\codefolding\\codefolding_editor.png\n",
      "[I 16:29:01 InstallContribNbextensionsApp] Up to date: C:\\ProgramData\\jupyter\\nbextensions\\codefolding\\codefolding_editor.yaml\n",
      "[I 16:29:01 InstallContribNbextensionsApp] Up to date: C:\\ProgramData\\jupyter\\nbextensions\\codefolding\\codefolding_firstline_folded.png\n",
      "[I 16:29:01 InstallContribNbextensionsApp] Up to date: C:\\ProgramData\\jupyter\\nbextensions\\codefolding\\codefolding_firstline_unfolded.png\n",
      "[I 16:29:01 InstallContribNbextensionsApp] Up to date: C:\\ProgramData\\jupyter\\nbextensions\\codefolding\\codefolding_indent_folded_1.png\n",
      "[I 16:29:01 InstallContribNbextensionsApp] Up to date: C:\\ProgramData\\jupyter\\nbextensions\\codefolding\\codefolding_indent_folded_2.png\n",
      "[I 16:29:01 InstallContribNbextensionsApp] Up to date: C:\\ProgramData\\jupyter\\nbextensions\\codefolding\\codefolding_indent_unfolded.png\n",
      "[I 16:29:01 InstallContribNbextensionsApp] Up to date: C:\\ProgramData\\jupyter\\nbextensions\\codefolding\\edit.js\n",
      "[I 16:29:01 InstallContribNbextensionsApp] Up to date: C:\\ProgramData\\jupyter\\nbextensions\\codefolding\\firstline-fold.js\n",
      "[I 16:29:01 InstallContribNbextensionsApp] Up to date: C:\\ProgramData\\jupyter\\nbextensions\\codefolding\\foldgutter.css\n",
      "[I 16:29:01 InstallContribNbextensionsApp] Up to date: C:\\ProgramData\\jupyter\\nbextensions\\codefolding\\icon.png\n",
      "[I 16:29:01 InstallContribNbextensionsApp] Up to date: C:\\ProgramData\\jupyter\\nbextensions\\codefolding\\magic-fold.js\n",
      "[I 16:29:01 InstallContribNbextensionsApp] Up to date: C:\\ProgramData\\jupyter\\nbextensions\\codefolding\\magic-folded.png\n",
      "[I 16:29:01 InstallContribNbextensionsApp] Up to date: C:\\ProgramData\\jupyter\\nbextensions\\codefolding\\magic-unfolded.png\n",
      "[I 16:29:01 InstallContribNbextensionsApp] Up to date: C:\\ProgramData\\jupyter\\nbextensions\\codefolding\\main.js\n",
      "[I 16:29:01 InstallContribNbextensionsApp] Up to date: C:\\ProgramData\\jupyter\\nbextensions\\codefolding\\readme.md\n",
      "[I 16:29:01 InstallContribNbextensionsApp] - Validating: ok\n",
      "[I 16:29:01 InstallContribNbextensionsApp] Installing C:\\Users\\user\\miniconda3\\envs\\kdss_base\\lib\\site-packages\\jupyter_contrib_nbextensions\\nbextensions\\codemirror_mode_extensions -> codemirror_mode_extensions\n",
      "[I 16:29:01 InstallContribNbextensionsApp] Making directory: C:\\ProgramData\\jupyter\\nbextensions\\codemirror_mode_extensions\\\n",
      "[I 16:29:01 InstallContribNbextensionsApp] Copying: C:\\Users\\user\\miniconda3\\envs\\kdss_base\\lib\\site-packages\\jupyter_contrib_nbextensions\\nbextensions\\codemirror_mode_extensions\\codemirror_mode_extensions.yaml -> C:\\ProgramData\\jupyter\\nbextensions\\codemirror_mode_extensions\\codemirror_mode_extensions.yaml\n",
      "[I 16:29:01 InstallContribNbextensionsApp] Copying: C:\\Users\\user\\miniconda3\\envs\\kdss_base\\lib\\site-packages\\jupyter_contrib_nbextensions\\nbextensions\\codemirror_mode_extensions\\main.js -> C:\\ProgramData\\jupyter\\nbextensions\\codemirror_mode_extensions\\main.js\n",
      "[I 16:29:01 InstallContribNbextensionsApp] - Validating: ok\n",
      "[I 16:29:01 InstallContribNbextensionsApp] Installing C:\\Users\\user\\miniconda3\\envs\\kdss_base\\lib\\site-packages\\jupyter_contrib_nbextensions\\nbextensions\\code_font_size -> code_font_size\n",
      "[I 16:29:01 InstallContribNbextensionsApp] Making directory: C:\\ProgramData\\jupyter\\nbextensions\\code_font_size\\\n",
      "[I 16:29:01 InstallContribNbextensionsApp] Copying: C:\\Users\\user\\miniconda3\\envs\\kdss_base\\lib\\site-packages\\jupyter_contrib_nbextensions\\nbextensions\\code_font_size\\code_font_size.js -> C:\\ProgramData\\jupyter\\nbextensions\\code_font_size\\code_font_size.js\n",
      "[I 16:29:01 InstallContribNbextensionsApp] Copying: C:\\Users\\user\\miniconda3\\envs\\kdss_base\\lib\\site-packages\\jupyter_contrib_nbextensions\\nbextensions\\code_font_size\\code_font_size.yaml -> C:\\ProgramData\\jupyter\\nbextensions\\code_font_size\\code_font_size.yaml\n",
      "[I 16:29:01 InstallContribNbextensionsApp] Copying: C:\\Users\\user\\miniconda3\\envs\\kdss_base\\lib\\site-packages\\jupyter_contrib_nbextensions\\nbextensions\\code_font_size\\README.md -> C:\\ProgramData\\jupyter\\nbextensions\\code_font_size\\README.md\n",
      "[I 16:29:01 InstallContribNbextensionsApp] - Validating: ok\n",
      "[I 16:29:01 InstallContribNbextensionsApp] Installing C:\\Users\\user\\miniconda3\\envs\\kdss_base\\lib\\site-packages\\jupyter_contrib_nbextensions\\nbextensions\\code_prettify -> code_prettify\n",
      "[I 16:29:01 InstallContribNbextensionsApp] Making directory: C:\\ProgramData\\jupyter\\nbextensions\\code_prettify\\\n",
      "[I 16:29:01 InstallContribNbextensionsApp] Copying: C:\\Users\\user\\miniconda3\\envs\\kdss_base\\lib\\site-packages\\jupyter_contrib_nbextensions\\nbextensions\\code_prettify\\2to3.js -> C:\\ProgramData\\jupyter\\nbextensions\\code_prettify\\2to3.js\n",
      "[I 16:29:01 InstallContribNbextensionsApp] Copying: C:\\Users\\user\\miniconda3\\envs\\kdss_base\\lib\\site-packages\\jupyter_contrib_nbextensions\\nbextensions\\code_prettify\\2to3.yaml -> C:\\ProgramData\\jupyter\\nbextensions\\code_prettify\\2to3.yaml\n",
      "[I 16:29:01 InstallContribNbextensionsApp] Copying: C:\\Users\\user\\miniconda3\\envs\\kdss_base\\lib\\site-packages\\jupyter_contrib_nbextensions\\nbextensions\\code_prettify\\autopep8.js -> C:\\ProgramData\\jupyter\\nbextensions\\code_prettify\\autopep8.js\n",
      "[I 16:29:01 InstallContribNbextensionsApp] Copying: C:\\Users\\user\\miniconda3\\envs\\kdss_base\\lib\\site-packages\\jupyter_contrib_nbextensions\\nbextensions\\code_prettify\\autopep8.yaml -> C:\\ProgramData\\jupyter\\nbextensions\\code_prettify\\autopep8.yaml\n",
      "[I 16:29:01 InstallContribNbextensionsApp] Copying: C:\\Users\\user\\miniconda3\\envs\\kdss_base\\lib\\site-packages\\jupyter_contrib_nbextensions\\nbextensions\\code_prettify\\code_prettify.js -> C:\\ProgramData\\jupyter\\nbextensions\\code_prettify\\code_prettify.js\n",
      "[I 16:29:01 InstallContribNbextensionsApp] Copying: C:\\Users\\user\\miniconda3\\envs\\kdss_base\\lib\\site-packages\\jupyter_contrib_nbextensions\\nbextensions\\code_prettify\\code_prettify.yaml -> C:\\ProgramData\\jupyter\\nbextensions\\code_prettify\\code_prettify.yaml\n",
      "[I 16:29:01 InstallContribNbextensionsApp] Copying: C:\\Users\\user\\miniconda3\\envs\\kdss_base\\lib\\site-packages\\jupyter_contrib_nbextensions\\nbextensions\\code_prettify\\demo-jv.gif -> C:\\ProgramData\\jupyter\\nbextensions\\code_prettify\\demo-jv.gif\n",
      "[I 16:29:01 InstallContribNbextensionsApp] Copying: C:\\Users\\user\\miniconda3\\envs\\kdss_base\\lib\\site-packages\\jupyter_contrib_nbextensions\\nbextensions\\code_prettify\\demo-py.gif -> C:\\ProgramData\\jupyter\\nbextensions\\code_prettify\\demo-py.gif\n",
      "[I 16:29:01 InstallContribNbextensionsApp] Copying: C:\\Users\\user\\miniconda3\\envs\\kdss_base\\lib\\site-packages\\jupyter_contrib_nbextensions\\nbextensions\\code_prettify\\demo-R.gif -> C:\\ProgramData\\jupyter\\nbextensions\\code_prettify\\demo-R.gif\n",
      "[I 16:29:01 InstallContribNbextensionsApp] Copying: C:\\Users\\user\\miniconda3\\envs\\kdss_base\\lib\\site-packages\\jupyter_contrib_nbextensions\\nbextensions\\code_prettify\\demo_2to3.gif -> C:\\ProgramData\\jupyter\\nbextensions\\code_prettify\\demo_2to3.gif\n",
      "[I 16:29:01 InstallContribNbextensionsApp] Copying: C:\\Users\\user\\miniconda3\\envs\\kdss_base\\lib\\site-packages\\jupyter_contrib_nbextensions\\nbextensions\\code_prettify\\isort.js -> C:\\ProgramData\\jupyter\\nbextensions\\code_prettify\\isort.js\n",
      "[I 16:29:01 InstallContribNbextensionsApp] Copying: C:\\Users\\user\\miniconda3\\envs\\kdss_base\\lib\\site-packages\\jupyter_contrib_nbextensions\\nbextensions\\code_prettify\\isort.yaml -> C:\\ProgramData\\jupyter\\nbextensions\\code_prettify\\isort.yaml\n",
      "[I 16:29:01 InstallContribNbextensionsApp] Copying: C:\\Users\\user\\miniconda3\\envs\\kdss_base\\lib\\site-packages\\jupyter_contrib_nbextensions\\nbextensions\\code_prettify\\kernel_exec_on_cell.js -> C:\\ProgramData\\jupyter\\nbextensions\\code_prettify\\kernel_exec_on_cell.js\n",
      "[I 16:29:01 InstallContribNbextensionsApp] Copying: C:\\Users\\user\\miniconda3\\envs\\kdss_base\\lib\\site-packages\\jupyter_contrib_nbextensions\\nbextensions\\code_prettify\\README.md -> C:\\ProgramData\\jupyter\\nbextensions\\code_prettify\\README.md\n",
      "[I 16:29:01 InstallContribNbextensionsApp] Copying: C:\\Users\\user\\miniconda3\\envs\\kdss_base\\lib\\site-packages\\jupyter_contrib_nbextensions\\nbextensions\\code_prettify\\README_2to3.md -> C:\\ProgramData\\jupyter\\nbextensions\\code_prettify\\README_2to3.md\n",
      "[I 16:29:01 InstallContribNbextensionsApp] Copying: C:\\Users\\user\\miniconda3\\envs\\kdss_base\\lib\\site-packages\\jupyter_contrib_nbextensions\\nbextensions\\code_prettify\\README_autopep8.md -> C:\\ProgramData\\jupyter\\nbextensions\\code_prettify\\README_autopep8.md\n",
      "[I 16:29:01 InstallContribNbextensionsApp] Copying: C:\\Users\\user\\miniconda3\\envs\\kdss_base\\lib\\site-packages\\jupyter_contrib_nbextensions\\nbextensions\\code_prettify\\README_code_prettify.md -> C:\\ProgramData\\jupyter\\nbextensions\\code_prettify\\README_code_prettify.md\n",
      "[I 16:29:01 InstallContribNbextensionsApp] Copying: C:\\Users\\user\\miniconda3\\envs\\kdss_base\\lib\\site-packages\\jupyter_contrib_nbextensions\\nbextensions\\code_prettify\\README_isort.md -> C:\\ProgramData\\jupyter\\nbextensions\\code_prettify\\README_isort.md\n",
      "[I 16:29:01 InstallContribNbextensionsApp] - Validating: ok\n",
      "[I 16:29:01 InstallContribNbextensionsApp] Installing C:\\Users\\user\\miniconda3\\envs\\kdss_base\\lib\\site-packages\\jupyter_contrib_nbextensions\\nbextensions\\code_prettify -> code_prettify\n",
      "[I 16:29:01 InstallContribNbextensionsApp] Up to date: C:\\ProgramData\\jupyter\\nbextensions\\code_prettify\\2to3.js\n",
      "[I 16:29:01 InstallContribNbextensionsApp] Up to date: C:\\ProgramData\\jupyter\\nbextensions\\code_prettify\\2to3.yaml\n",
      "[I 16:29:01 InstallContribNbextensionsApp] Up to date: C:\\ProgramData\\jupyter\\nbextensions\\code_prettify\\autopep8.js\n",
      "[I 16:29:01 InstallContribNbextensionsApp] Up to date: C:\\ProgramData\\jupyter\\nbextensions\\code_prettify\\autopep8.yaml\n",
      "[I 16:29:01 InstallContribNbextensionsApp] Up to date: C:\\ProgramData\\jupyter\\nbextensions\\code_prettify\\code_prettify.js\n",
      "[I 16:29:01 InstallContribNbextensionsApp] Up to date: C:\\ProgramData\\jupyter\\nbextensions\\code_prettify\\code_prettify.yaml\n",
      "[I 16:29:01 InstallContribNbextensionsApp] Up to date: C:\\ProgramData\\jupyter\\nbextensions\\code_prettify\\demo-jv.gif\n",
      "[I 16:29:01 InstallContribNbextensionsApp] Up to date: C:\\ProgramData\\jupyter\\nbextensions\\code_prettify\\demo-py.gif\n",
      "[I 16:29:01 InstallContribNbextensionsApp] Up to date: C:\\ProgramData\\jupyter\\nbextensions\\code_prettify\\demo-R.gif\n",
      "[I 16:29:01 InstallContribNbextensionsApp] Up to date: C:\\ProgramData\\jupyter\\nbextensions\\code_prettify\\demo_2to3.gif\n",
      "[I 16:29:01 InstallContribNbextensionsApp] Up to date: C:\\ProgramData\\jupyter\\nbextensions\\code_prettify\\isort.js\n",
      "[I 16:29:01 InstallContribNbextensionsApp] Up to date: C:\\ProgramData\\jupyter\\nbextensions\\code_prettify\\isort.yaml\n",
      "[I 16:29:01 InstallContribNbextensionsApp] Up to date: C:\\ProgramData\\jupyter\\nbextensions\\code_prettify\\kernel_exec_on_cell.js\n",
      "[I 16:29:01 InstallContribNbextensionsApp] Up to date: C:\\ProgramData\\jupyter\\nbextensions\\code_prettify\\README.md\n",
      "[I 16:29:01 InstallContribNbextensionsApp] Up to date: C:\\ProgramData\\jupyter\\nbextensions\\code_prettify\\README_2to3.md\n",
      "[I 16:29:01 InstallContribNbextensionsApp] Up to date: C:\\ProgramData\\jupyter\\nbextensions\\code_prettify\\README_autopep8.md\n",
      "[I 16:29:01 InstallContribNbextensionsApp] Up to date: C:\\ProgramData\\jupyter\\nbextensions\\code_prettify\\README_code_prettify.md\n",
      "[I 16:29:01 InstallContribNbextensionsApp] Up to date: C:\\ProgramData\\jupyter\\nbextensions\\code_prettify\\README_isort.md\n",
      "[I 16:29:01 InstallContribNbextensionsApp] - Validating: ok\n",
      "[I 16:29:01 InstallContribNbextensionsApp] Installing C:\\Users\\user\\miniconda3\\envs\\kdss_base\\lib\\site-packages\\jupyter_contrib_nbextensions\\nbextensions\\code_prettify -> code_prettify\n",
      "[I 16:29:01 InstallContribNbextensionsApp] Up to date: C:\\ProgramData\\jupyter\\nbextensions\\code_prettify\\2to3.js\n",
      "[I 16:29:01 InstallContribNbextensionsApp] Up to date: C:\\ProgramData\\jupyter\\nbextensions\\code_prettify\\2to3.yaml\n",
      "[I 16:29:01 InstallContribNbextensionsApp] Up to date: C:\\ProgramData\\jupyter\\nbextensions\\code_prettify\\autopep8.js\n",
      "[I 16:29:01 InstallContribNbextensionsApp] Up to date: C:\\ProgramData\\jupyter\\nbextensions\\code_prettify\\autopep8.yaml\n",
      "[I 16:29:01 InstallContribNbextensionsApp] Up to date: C:\\ProgramData\\jupyter\\nbextensions\\code_prettify\\code_prettify.js\n",
      "[I 16:29:01 InstallContribNbextensionsApp] Up to date: C:\\ProgramData\\jupyter\\nbextensions\\code_prettify\\code_prettify.yaml\n",
      "[I 16:29:01 InstallContribNbextensionsApp] Up to date: C:\\ProgramData\\jupyter\\nbextensions\\code_prettify\\demo-jv.gif\n",
      "[I 16:29:01 InstallContribNbextensionsApp] Up to date: C:\\ProgramData\\jupyter\\nbextensions\\code_prettify\\demo-py.gif\n",
      "[I 16:29:01 InstallContribNbextensionsApp] Up to date: C:\\ProgramData\\jupyter\\nbextensions\\code_prettify\\demo-R.gif\n",
      "[I 16:29:01 InstallContribNbextensionsApp] Up to date: C:\\ProgramData\\jupyter\\nbextensions\\code_prettify\\demo_2to3.gif\n",
      "[I 16:29:01 InstallContribNbextensionsApp] Up to date: C:\\ProgramData\\jupyter\\nbextensions\\code_prettify\\isort.js\n",
      "[I 16:29:01 InstallContribNbextensionsApp] Up to date: C:\\ProgramData\\jupyter\\nbextensions\\code_prettify\\isort.yaml\n",
      "[I 16:29:01 InstallContribNbextensionsApp] Up to date: C:\\ProgramData\\jupyter\\nbextensions\\code_prettify\\kernel_exec_on_cell.js\n",
      "[I 16:29:01 InstallContribNbextensionsApp] Up to date: C:\\ProgramData\\jupyter\\nbextensions\\code_prettify\\README.md\n",
      "[I 16:29:01 InstallContribNbextensionsApp] Up to date: C:\\ProgramData\\jupyter\\nbextensions\\code_prettify\\README_2to3.md\n",
      "[I 16:29:01 InstallContribNbextensionsApp] Up to date: C:\\ProgramData\\jupyter\\nbextensions\\code_prettify\\README_autopep8.md\n",
      "[I 16:29:01 InstallContribNbextensionsApp] Up to date: C:\\ProgramData\\jupyter\\nbextensions\\code_prettify\\README_code_prettify.md\n",
      "[I 16:29:01 InstallContribNbextensionsApp] Up to date: C:\\ProgramData\\jupyter\\nbextensions\\code_prettify\\README_isort.md\n",
      "[I 16:29:01 InstallContribNbextensionsApp] - Validating: ok\n",
      "[I 16:29:01 InstallContribNbextensionsApp] Installing C:\\Users\\user\\miniconda3\\envs\\kdss_base\\lib\\site-packages\\jupyter_contrib_nbextensions\\nbextensions\\code_prettify -> code_prettify\n",
      "[I 16:29:01 InstallContribNbextensionsApp] Up to date: C:\\ProgramData\\jupyter\\nbextensions\\code_prettify\\2to3.js\n",
      "[I 16:29:01 InstallContribNbextensionsApp] Up to date: C:\\ProgramData\\jupyter\\nbextensions\\code_prettify\\2to3.yaml\n",
      "[I 16:29:01 InstallContribNbextensionsApp] Up to date: C:\\ProgramData\\jupyter\\nbextensions\\code_prettify\\autopep8.js\n",
      "[I 16:29:01 InstallContribNbextensionsApp] Up to date: C:\\ProgramData\\jupyter\\nbextensions\\code_prettify\\autopep8.yaml\n",
      "[I 16:29:01 InstallContribNbextensionsApp] Up to date: C:\\ProgramData\\jupyter\\nbextensions\\code_prettify\\code_prettify.js\n",
      "[I 16:29:01 InstallContribNbextensionsApp] Up to date: C:\\ProgramData\\jupyter\\nbextensions\\code_prettify\\code_prettify.yaml\n",
      "[I 16:29:01 InstallContribNbextensionsApp] Up to date: C:\\ProgramData\\jupyter\\nbextensions\\code_prettify\\demo-jv.gif\n",
      "[I 16:29:01 InstallContribNbextensionsApp] Up to date: C:\\ProgramData\\jupyter\\nbextensions\\code_prettify\\demo-py.gif\n",
      "[I 16:29:01 InstallContribNbextensionsApp] Up to date: C:\\ProgramData\\jupyter\\nbextensions\\code_prettify\\demo-R.gif\n",
      "[I 16:29:01 InstallContribNbextensionsApp] Up to date: C:\\ProgramData\\jupyter\\nbextensions\\code_prettify\\demo_2to3.gif\n",
      "[I 16:29:01 InstallContribNbextensionsApp] Up to date: C:\\ProgramData\\jupyter\\nbextensions\\code_prettify\\isort.js\n",
      "[I 16:29:01 InstallContribNbextensionsApp] Up to date: C:\\ProgramData\\jupyter\\nbextensions\\code_prettify\\isort.yaml\n",
      "[I 16:29:01 InstallContribNbextensionsApp] Up to date: C:\\ProgramData\\jupyter\\nbextensions\\code_prettify\\kernel_exec_on_cell.js\n",
      "[I 16:29:01 InstallContribNbextensionsApp] Up to date: C:\\ProgramData\\jupyter\\nbextensions\\code_prettify\\README.md\n",
      "[I 16:29:01 InstallContribNbextensionsApp] Up to date: C:\\ProgramData\\jupyter\\nbextensions\\code_prettify\\README_2to3.md\n",
      "[I 16:29:01 InstallContribNbextensionsApp] Up to date: C:\\ProgramData\\jupyter\\nbextensions\\code_prettify\\README_autopep8.md\n",
      "[I 16:29:01 InstallContribNbextensionsApp] Up to date: C:\\ProgramData\\jupyter\\nbextensions\\code_prettify\\README_code_prettify.md\n",
      "[I 16:29:01 InstallContribNbextensionsApp] Up to date: C:\\ProgramData\\jupyter\\nbextensions\\code_prettify\\README_isort.md\n",
      "[I 16:29:01 InstallContribNbextensionsApp] - Validating: ok\n",
      "[I 16:29:01 InstallContribNbextensionsApp] Installing C:\\Users\\user\\miniconda3\\envs\\kdss_base\\lib\\site-packages\\jupyter_contrib_nbextensions\\nbextensions\\collapsible_headings -> collapsible_headings\n",
      "[I 16:29:01 InstallContribNbextensionsApp] Making directory: C:\\ProgramData\\jupyter\\nbextensions\\collapsible_headings\\\n",
      "[I 16:29:01 InstallContribNbextensionsApp] Copying: C:\\Users\\user\\miniconda3\\envs\\kdss_base\\lib\\site-packages\\jupyter_contrib_nbextensions\\nbextensions\\collapsible_headings\\collapsible_headings.yaml -> C:\\ProgramData\\jupyter\\nbextensions\\collapsible_headings\\collapsible_headings.yaml\n",
      "[I 16:29:01 InstallContribNbextensionsApp] Copying: C:\\Users\\user\\miniconda3\\envs\\kdss_base\\lib\\site-packages\\jupyter_contrib_nbextensions\\nbextensions\\collapsible_headings\\icon.png -> C:\\ProgramData\\jupyter\\nbextensions\\collapsible_headings\\icon.png\n",
      "[I 16:29:01 InstallContribNbextensionsApp] Copying: C:\\Users\\user\\miniconda3\\envs\\kdss_base\\lib\\site-packages\\jupyter_contrib_nbextensions\\nbextensions\\collapsible_headings\\main.css -> C:\\ProgramData\\jupyter\\nbextensions\\collapsible_headings\\main.css\n",
      "[I 16:29:01 InstallContribNbextensionsApp] Copying: C:\\Users\\user\\miniconda3\\envs\\kdss_base\\lib\\site-packages\\jupyter_contrib_nbextensions\\nbextensions\\collapsible_headings\\main.js -> C:\\ProgramData\\jupyter\\nbextensions\\collapsible_headings\\main.js\n",
      "[I 16:29:01 InstallContribNbextensionsApp] Copying: C:\\Users\\user\\miniconda3\\envs\\kdss_base\\lib\\site-packages\\jupyter_contrib_nbextensions\\nbextensions\\collapsible_headings\\readme.md -> C:\\ProgramData\\jupyter\\nbextensions\\collapsible_headings\\readme.md\n",
      "[I 16:29:01 InstallContribNbextensionsApp] Copying: C:\\Users\\user\\miniconda3\\envs\\kdss_base\\lib\\site-packages\\jupyter_contrib_nbextensions\\nbextensions\\collapsible_headings\\screenshot.png -> C:\\ProgramData\\jupyter\\nbextensions\\collapsible_headings\\screenshot.png\n",
      "[I 16:29:01 InstallContribNbextensionsApp] - Validating: ok\n",
      "[I 16:29:01 InstallContribNbextensionsApp] Installing C:\\Users\\user\\miniconda3\\envs\\kdss_base\\lib\\site-packages\\jupyter_contrib_nbextensions\\nbextensions\\comment-uncomment -> comment-uncomment\n",
      "[I 16:29:01 InstallContribNbextensionsApp] Making directory: C:\\ProgramData\\jupyter\\nbextensions\\comment-uncomment\\\n",
      "[I 16:29:01 InstallContribNbextensionsApp] Copying: C:\\Users\\user\\miniconda3\\envs\\kdss_base\\lib\\site-packages\\jupyter_contrib_nbextensions\\nbextensions\\comment-uncomment\\comment-uncomment.yaml -> C:\\ProgramData\\jupyter\\nbextensions\\comment-uncomment\\comment-uncomment.yaml\n",
      "[I 16:29:01 InstallContribNbextensionsApp] Copying: C:\\Users\\user\\miniconda3\\envs\\kdss_base\\lib\\site-packages\\jupyter_contrib_nbextensions\\nbextensions\\comment-uncomment\\icon.png -> C:\\ProgramData\\jupyter\\nbextensions\\comment-uncomment\\icon.png\n",
      "[I 16:29:01 InstallContribNbextensionsApp] Copying: C:\\Users\\user\\miniconda3\\envs\\kdss_base\\lib\\site-packages\\jupyter_contrib_nbextensions\\nbextensions\\comment-uncomment\\main.js -> C:\\ProgramData\\jupyter\\nbextensions\\comment-uncomment\\main.js\n",
      "[I 16:29:01 InstallContribNbextensionsApp] Copying: C:\\Users\\user\\miniconda3\\envs\\kdss_base\\lib\\site-packages\\jupyter_contrib_nbextensions\\nbextensions\\comment-uncomment\\readme.md -> C:\\ProgramData\\jupyter\\nbextensions\\comment-uncomment\\readme.md\n",
      "[I 16:29:01 InstallContribNbextensionsApp] - Validating: ok\n",
      "[I 16:29:01 InstallContribNbextensionsApp] Installing C:\\Users\\user\\miniconda3\\envs\\kdss_base\\lib\\site-packages\\jupyter_contrib_nbextensions\\nbextensions\\contrib_nbextensions_help_item -> contrib_nbextensions_help_item\n",
      "[I 16:29:01 InstallContribNbextensionsApp] Making directory: C:\\ProgramData\\jupyter\\nbextensions\\contrib_nbextensions_help_item\\\n",
      "[I 16:29:01 InstallContribNbextensionsApp] Copying: C:\\Users\\user\\miniconda3\\envs\\kdss_base\\lib\\site-packages\\jupyter_contrib_nbextensions\\nbextensions\\contrib_nbextensions_help_item\\contrib_nbextensions_help_item.yaml -> C:\\ProgramData\\jupyter\\nbextensions\\contrib_nbextensions_help_item\\contrib_nbextensions_help_item.yaml\n",
      "[I 16:29:01 InstallContribNbextensionsApp] Copying: C:\\Users\\user\\miniconda3\\envs\\kdss_base\\lib\\site-packages\\jupyter_contrib_nbextensions\\nbextensions\\contrib_nbextensions_help_item\\main.js -> C:\\ProgramData\\jupyter\\nbextensions\\contrib_nbextensions_help_item\\main.js\n",
      "[I 16:29:01 InstallContribNbextensionsApp] Copying: C:\\Users\\user\\miniconda3\\envs\\kdss_base\\lib\\site-packages\\jupyter_contrib_nbextensions\\nbextensions\\contrib_nbextensions_help_item\\README.md -> C:\\ProgramData\\jupyter\\nbextensions\\contrib_nbextensions_help_item\\README.md\n",
      "[I 16:29:01 InstallContribNbextensionsApp] - Validating: ok\n",
      "[I 16:29:01 InstallContribNbextensionsApp] Installing C:\\Users\\user\\miniconda3\\envs\\kdss_base\\lib\\site-packages\\jupyter_contrib_nbextensions\\nbextensions\\datestamper -> datestamper\n",
      "[I 16:29:01 InstallContribNbextensionsApp] Making directory: C:\\ProgramData\\jupyter\\nbextensions\\datestamper\\\n",
      "[I 16:29:01 InstallContribNbextensionsApp] Copying: C:\\Users\\user\\miniconda3\\envs\\kdss_base\\lib\\site-packages\\jupyter_contrib_nbextensions\\nbextensions\\datestamper\\icon.png -> C:\\ProgramData\\jupyter\\nbextensions\\datestamper\\icon.png\n",
      "[I 16:29:01 InstallContribNbextensionsApp] Copying: C:\\Users\\user\\miniconda3\\envs\\kdss_base\\lib\\site-packages\\jupyter_contrib_nbextensions\\nbextensions\\datestamper\\main.js -> C:\\ProgramData\\jupyter\\nbextensions\\datestamper\\main.js\n",
      "[I 16:29:01 InstallContribNbextensionsApp] Copying: C:\\Users\\user\\miniconda3\\envs\\kdss_base\\lib\\site-packages\\jupyter_contrib_nbextensions\\nbextensions\\datestamper\\main.yaml -> C:\\ProgramData\\jupyter\\nbextensions\\datestamper\\main.yaml\n",
      "[I 16:29:01 InstallContribNbextensionsApp] Copying: C:\\Users\\user\\miniconda3\\envs\\kdss_base\\lib\\site-packages\\jupyter_contrib_nbextensions\\nbextensions\\datestamper\\readme.md -> C:\\ProgramData\\jupyter\\nbextensions\\datestamper\\readme.md\n",
      "[I 16:29:01 InstallContribNbextensionsApp] - Validating: ok\n",
      "[I 16:29:01 InstallContribNbextensionsApp] Installing C:\\Users\\user\\miniconda3\\envs\\kdss_base\\lib\\site-packages\\jupyter_contrib_nbextensions\\nbextensions\\equation-numbering -> equation-numbering\n",
      "[I 16:29:01 InstallContribNbextensionsApp] Making directory: C:\\ProgramData\\jupyter\\nbextensions\\equation-numbering\\\n",
      "[I 16:29:01 InstallContribNbextensionsApp] Copying: C:\\Users\\user\\miniconda3\\envs\\kdss_base\\lib\\site-packages\\jupyter_contrib_nbextensions\\nbextensions\\equation-numbering\\button.png -> C:\\ProgramData\\jupyter\\nbextensions\\equation-numbering\\button.png\n",
      "[I 16:29:01 InstallContribNbextensionsApp] Copying: C:\\Users\\user\\miniconda3\\envs\\kdss_base\\lib\\site-packages\\jupyter_contrib_nbextensions\\nbextensions\\equation-numbering\\icon.png -> C:\\ProgramData\\jupyter\\nbextensions\\equation-numbering\\icon.png\n",
      "[I 16:29:01 InstallContribNbextensionsApp] Copying: C:\\Users\\user\\miniconda3\\envs\\kdss_base\\lib\\site-packages\\jupyter_contrib_nbextensions\\nbextensions\\equation-numbering\\info.yaml -> C:\\ProgramData\\jupyter\\nbextensions\\equation-numbering\\info.yaml\n",
      "[I 16:29:01 InstallContribNbextensionsApp] Copying: C:\\Users\\user\\miniconda3\\envs\\kdss_base\\lib\\site-packages\\jupyter_contrib_nbextensions\\nbextensions\\equation-numbering\\main.js -> C:\\ProgramData\\jupyter\\nbextensions\\equation-numbering\\main.js\n",
      "[I 16:29:01 InstallContribNbextensionsApp] Copying: C:\\Users\\user\\miniconda3\\envs\\kdss_base\\lib\\site-packages\\jupyter_contrib_nbextensions\\nbextensions\\equation-numbering\\readme.md -> C:\\ProgramData\\jupyter\\nbextensions\\equation-numbering\\readme.md\n",
      "[I 16:29:01 InstallContribNbextensionsApp] - Validating: ok\n",
      "[I 16:29:01 InstallContribNbextensionsApp] Installing C:\\Users\\user\\miniconda3\\envs\\kdss_base\\lib\\site-packages\\jupyter_contrib_nbextensions\\nbextensions\\execute_time -> execute_time\n",
      "[I 16:29:01 InstallContribNbextensionsApp] Making directory: C:\\ProgramData\\jupyter\\nbextensions\\execute_time\\\n",
      "[I 16:29:01 InstallContribNbextensionsApp] Copying: C:\\Users\\user\\miniconda3\\envs\\kdss_base\\lib\\site-packages\\jupyter_contrib_nbextensions\\nbextensions\\execute_time\\ExecuteTime.css -> C:\\ProgramData\\jupyter\\nbextensions\\execute_time\\ExecuteTime.css\n",
      "[I 16:29:01 InstallContribNbextensionsApp] Copying: C:\\Users\\user\\miniconda3\\envs\\kdss_base\\lib\\site-packages\\jupyter_contrib_nbextensions\\nbextensions\\execute_time\\ExecuteTime.js -> C:\\ProgramData\\jupyter\\nbextensions\\execute_time\\ExecuteTime.js\n",
      "[I 16:29:01 InstallContribNbextensionsApp] Copying: C:\\Users\\user\\miniconda3\\envs\\kdss_base\\lib\\site-packages\\jupyter_contrib_nbextensions\\nbextensions\\execute_time\\ExecuteTime.yaml -> C:\\ProgramData\\jupyter\\nbextensions\\execute_time\\ExecuteTime.yaml\n",
      "[I 16:29:01 InstallContribNbextensionsApp] Copying: C:\\Users\\user\\miniconda3\\envs\\kdss_base\\lib\\site-packages\\jupyter_contrib_nbextensions\\nbextensions\\execute_time\\execution-timings-box.png -> C:\\ProgramData\\jupyter\\nbextensions\\execute_time\\execution-timings-box.png\n",
      "[I 16:29:01 InstallContribNbextensionsApp] Copying: C:\\Users\\user\\miniconda3\\envs\\kdss_base\\lib\\site-packages\\jupyter_contrib_nbextensions\\nbextensions\\execute_time\\execution-timings-menu.png -> C:\\ProgramData\\jupyter\\nbextensions\\execute_time\\execution-timings-menu.png\n",
      "[I 16:29:01 InstallContribNbextensionsApp] Copying: C:\\Users\\user\\miniconda3\\envs\\kdss_base\\lib\\site-packages\\jupyter_contrib_nbextensions\\nbextensions\\execute_time\\icon.png -> C:\\ProgramData\\jupyter\\nbextensions\\execute_time\\icon.png\n",
      "[I 16:29:01 InstallContribNbextensionsApp] Copying: C:\\Users\\user\\miniconda3\\envs\\kdss_base\\lib\\site-packages\\jupyter_contrib_nbextensions\\nbextensions\\execute_time\\readme.md -> C:\\ProgramData\\jupyter\\nbextensions\\execute_time\\readme.md\n",
      "[I 16:29:01 InstallContribNbextensionsApp] - Validating: ok\n",
      "[I 16:29:01 InstallContribNbextensionsApp] Installing C:\\Users\\user\\miniconda3\\envs\\kdss_base\\lib\\site-packages\\jupyter_contrib_nbextensions\\nbextensions\\execution_dependencies -> execution_dependencies\n",
      "[I 16:29:01 InstallContribNbextensionsApp] Making directory: C:\\ProgramData\\jupyter\\nbextensions\\execution_dependencies\\\n",
      "[I 16:29:01 InstallContribNbextensionsApp] Copying: C:\\Users\\user\\miniconda3\\envs\\kdss_base\\lib\\site-packages\\jupyter_contrib_nbextensions\\nbextensions\\execution_dependencies\\execution_dependencies.js -> C:\\ProgramData\\jupyter\\nbextensions\\execution_dependencies\\execution_dependencies.js\n",
      "[I 16:29:01 InstallContribNbextensionsApp] Copying: C:\\Users\\user\\miniconda3\\envs\\kdss_base\\lib\\site-packages\\jupyter_contrib_nbextensions\\nbextensions\\execution_dependencies\\execution_dependencies.yml -> C:\\ProgramData\\jupyter\\nbextensions\\execution_dependencies\\execution_dependencies.yml\n",
      "[I 16:29:01 InstallContribNbextensionsApp] Copying: C:\\Users\\user\\miniconda3\\envs\\kdss_base\\lib\\site-packages\\jupyter_contrib_nbextensions\\nbextensions\\execution_dependencies\\README.md -> C:\\ProgramData\\jupyter\\nbextensions\\execution_dependencies\\README.md\n",
      "[I 16:29:01 InstallContribNbextensionsApp] - Validating: ok\n",
      "[I 16:29:01 InstallContribNbextensionsApp] Installing C:\\Users\\user\\miniconda3\\envs\\kdss_base\\lib\\site-packages\\jupyter_contrib_nbextensions\\nbextensions\\exercise -> exercise\n",
      "[I 16:29:01 InstallContribNbextensionsApp] Making directory: C:\\ProgramData\\jupyter\\nbextensions\\exercise\\\n",
      "[I 16:29:01 InstallContribNbextensionsApp] Copying: C:\\Users\\user\\miniconda3\\envs\\kdss_base\\lib\\site-packages\\jupyter_contrib_nbextensions\\nbextensions\\exercise\\exercise.yaml -> C:\\ProgramData\\jupyter\\nbextensions\\exercise\\exercise.yaml\n",
      "[I 16:29:01 InstallContribNbextensionsApp] Copying: C:\\Users\\user\\miniconda3\\envs\\kdss_base\\lib\\site-packages\\jupyter_contrib_nbextensions\\nbextensions\\exercise\\history.md -> C:\\ProgramData\\jupyter\\nbextensions\\exercise\\history.md\n",
      "[I 16:29:01 InstallContribNbextensionsApp] Copying: C:\\Users\\user\\miniconda3\\envs\\kdss_base\\lib\\site-packages\\jupyter_contrib_nbextensions\\nbextensions\\exercise\\icon.png -> C:\\ProgramData\\jupyter\\nbextensions\\exercise\\icon.png\n",
      "[I 16:29:01 InstallContribNbextensionsApp] Copying: C:\\Users\\user\\miniconda3\\envs\\kdss_base\\lib\\site-packages\\jupyter_contrib_nbextensions\\nbextensions\\exercise\\image.gif -> C:\\ProgramData\\jupyter\\nbextensions\\exercise\\image.gif\n",
      "[I 16:29:01 InstallContribNbextensionsApp] Copying: C:\\Users\\user\\miniconda3\\envs\\kdss_base\\lib\\site-packages\\jupyter_contrib_nbextensions\\nbextensions\\exercise\\main.css -> C:\\ProgramData\\jupyter\\nbextensions\\exercise\\main.css\n",
      "[I 16:29:01 InstallContribNbextensionsApp] Copying: C:\\Users\\user\\miniconda3\\envs\\kdss_base\\lib\\site-packages\\jupyter_contrib_nbextensions\\nbextensions\\exercise\\main.js -> C:\\ProgramData\\jupyter\\nbextensions\\exercise\\main.js\n",
      "[I 16:29:01 InstallContribNbextensionsApp] Copying: C:\\Users\\user\\miniconda3\\envs\\kdss_base\\lib\\site-packages\\jupyter_contrib_nbextensions\\nbextensions\\exercise\\readme.md -> C:\\ProgramData\\jupyter\\nbextensions\\exercise\\readme.md\n",
      "[I 16:29:01 InstallContribNbextensionsApp] - Validating: ok\n",
      "[I 16:29:01 InstallContribNbextensionsApp] Installing C:\\Users\\user\\miniconda3\\envs\\kdss_base\\lib\\site-packages\\jupyter_contrib_nbextensions\\nbextensions\\exercise2 -> exercise2\n",
      "[I 16:29:01 InstallContribNbextensionsApp] Making directory: C:\\ProgramData\\jupyter\\nbextensions\\exercise2\\\n",
      "[I 16:29:01 InstallContribNbextensionsApp] Copying: C:\\Users\\user\\miniconda3\\envs\\kdss_base\\lib\\site-packages\\jupyter_contrib_nbextensions\\nbextensions\\exercise2\\exercise2.yaml -> C:\\ProgramData\\jupyter\\nbextensions\\exercise2\\exercise2.yaml\n",
      "[I 16:29:01 InstallContribNbextensionsApp] Copying: C:\\Users\\user\\miniconda3\\envs\\kdss_base\\lib\\site-packages\\jupyter_contrib_nbextensions\\nbextensions\\exercise2\\icon.png -> C:\\ProgramData\\jupyter\\nbextensions\\exercise2\\icon.png\n",
      "[I 16:29:01 InstallContribNbextensionsApp] Copying: C:\\Users\\user\\miniconda3\\envs\\kdss_base\\lib\\site-packages\\jupyter_contrib_nbextensions\\nbextensions\\exercise2\\image.gif -> C:\\ProgramData\\jupyter\\nbextensions\\exercise2\\image.gif\n",
      "[I 16:29:01 InstallContribNbextensionsApp] Copying: C:\\Users\\user\\miniconda3\\envs\\kdss_base\\lib\\site-packages\\jupyter_contrib_nbextensions\\nbextensions\\exercise2\\main.css -> C:\\ProgramData\\jupyter\\nbextensions\\exercise2\\main.css\n",
      "[I 16:29:01 InstallContribNbextensionsApp] Copying: C:\\Users\\user\\miniconda3\\envs\\kdss_base\\lib\\site-packages\\jupyter_contrib_nbextensions\\nbextensions\\exercise2\\main.js -> C:\\ProgramData\\jupyter\\nbextensions\\exercise2\\main.js\n",
      "[I 16:29:01 InstallContribNbextensionsApp] Copying: C:\\Users\\user\\miniconda3\\envs\\kdss_base\\lib\\site-packages\\jupyter_contrib_nbextensions\\nbextensions\\exercise2\\readme.md -> C:\\ProgramData\\jupyter\\nbextensions\\exercise2\\readme.md\n",
      "[I 16:29:01 InstallContribNbextensionsApp] - Validating: ok\n",
      "[I 16:29:01 InstallContribNbextensionsApp] Installing C:\\Users\\user\\miniconda3\\envs\\kdss_base\\lib\\site-packages\\jupyter_contrib_nbextensions\\nbextensions\\export_embedded -> export_embedded\n",
      "[I 16:29:01 InstallContribNbextensionsApp] Making directory: C:\\ProgramData\\jupyter\\nbextensions\\export_embedded\\\n",
      "[I 16:29:01 InstallContribNbextensionsApp] Copying: C:\\Users\\user\\miniconda3\\envs\\kdss_base\\lib\\site-packages\\jupyter_contrib_nbextensions\\nbextensions\\export_embedded\\export_embedded.yaml -> C:\\ProgramData\\jupyter\\nbextensions\\export_embedded\\export_embedded.yaml\n",
      "[I 16:29:01 InstallContribNbextensionsApp] Copying: C:\\Users\\user\\miniconda3\\envs\\kdss_base\\lib\\site-packages\\jupyter_contrib_nbextensions\\nbextensions\\export_embedded\\icon.png -> C:\\ProgramData\\jupyter\\nbextensions\\export_embedded\\icon.png\n",
      "[I 16:29:01 InstallContribNbextensionsApp] Copying: C:\\Users\\user\\miniconda3\\envs\\kdss_base\\lib\\site-packages\\jupyter_contrib_nbextensions\\nbextensions\\export_embedded\\main.js -> C:\\ProgramData\\jupyter\\nbextensions\\export_embedded\\main.js\n",
      "[I 16:29:01 InstallContribNbextensionsApp] Copying: C:\\Users\\user\\miniconda3\\envs\\kdss_base\\lib\\site-packages\\jupyter_contrib_nbextensions\\nbextensions\\export_embedded\\readme.md -> C:\\ProgramData\\jupyter\\nbextensions\\export_embedded\\readme.md\n",
      "[I 16:29:01 InstallContribNbextensionsApp] - Validating: ok\n",
      "[I 16:29:01 InstallContribNbextensionsApp] Installing C:\\Users\\user\\miniconda3\\envs\\kdss_base\\lib\\site-packages\\jupyter_contrib_nbextensions\\nbextensions\\freeze -> freeze\n",
      "[I 16:29:01 InstallContribNbextensionsApp] Making directory: C:\\ProgramData\\jupyter\\nbextensions\\freeze\\\n",
      "[I 16:29:01 InstallContribNbextensionsApp] Copying: C:\\Users\\user\\miniconda3\\envs\\kdss_base\\lib\\site-packages\\jupyter_contrib_nbextensions\\nbextensions\\freeze\\config.yaml -> C:\\ProgramData\\jupyter\\nbextensions\\freeze\\config.yaml\n",
      "[I 16:29:01 InstallContribNbextensionsApp] Copying: C:\\Users\\user\\miniconda3\\envs\\kdss_base\\lib\\site-packages\\jupyter_contrib_nbextensions\\nbextensions\\freeze\\icon.png -> C:\\ProgramData\\jupyter\\nbextensions\\freeze\\icon.png\n",
      "[I 16:29:01 InstallContribNbextensionsApp] Copying: C:\\Users\\user\\miniconda3\\envs\\kdss_base\\lib\\site-packages\\jupyter_contrib_nbextensions\\nbextensions\\freeze\\main.js -> C:\\ProgramData\\jupyter\\nbextensions\\freeze\\main.js\n",
      "[I 16:29:01 InstallContribNbextensionsApp] Copying: C:\\Users\\user\\miniconda3\\envs\\kdss_base\\lib\\site-packages\\jupyter_contrib_nbextensions\\nbextensions\\freeze\\readme.md -> C:\\ProgramData\\jupyter\\nbextensions\\freeze\\readme.md\n",
      "[I 16:29:01 InstallContribNbextensionsApp] - Validating: ok\n",
      "[I 16:29:01 InstallContribNbextensionsApp] Installing C:\\Users\\user\\miniconda3\\envs\\kdss_base\\lib\\site-packages\\jupyter_contrib_nbextensions\\nbextensions\\gist_it -> gist_it\n",
      "[I 16:29:01 InstallContribNbextensionsApp] Making directory: C:\\ProgramData\\jupyter\\nbextensions\\gist_it\\\n",
      "[I 16:29:01 InstallContribNbextensionsApp] Copying: C:\\Users\\user\\miniconda3\\envs\\kdss_base\\lib\\site-packages\\jupyter_contrib_nbextensions\\nbextensions\\gist_it\\gist_it.yaml -> C:\\ProgramData\\jupyter\\nbextensions\\gist_it\\gist_it.yaml\n",
      "[I 16:29:01 InstallContribNbextensionsApp] Copying: C:\\Users\\user\\miniconda3\\envs\\kdss_base\\lib\\site-packages\\jupyter_contrib_nbextensions\\nbextensions\\gist_it\\icon.png -> C:\\ProgramData\\jupyter\\nbextensions\\gist_it\\icon.png\n",
      "[I 16:29:01 InstallContribNbextensionsApp] Copying: C:\\Users\\user\\miniconda3\\envs\\kdss_base\\lib\\site-packages\\jupyter_contrib_nbextensions\\nbextensions\\gist_it\\main.js -> C:\\ProgramData\\jupyter\\nbextensions\\gist_it\\main.js\n",
      "[I 16:29:01 InstallContribNbextensionsApp] Copying: C:\\Users\\user\\miniconda3\\envs\\kdss_base\\lib\\site-packages\\jupyter_contrib_nbextensions\\nbextensions\\gist_it\\readme.md -> C:\\ProgramData\\jupyter\\nbextensions\\gist_it\\readme.md\n",
      "[I 16:29:01 InstallContribNbextensionsApp] - Validating: ok\n",
      "[I 16:29:01 InstallContribNbextensionsApp] Installing C:\\Users\\user\\miniconda3\\envs\\kdss_base\\lib\\site-packages\\jupyter_contrib_nbextensions\\nbextensions\\go_to_current_running_cell -> go_to_current_running_cell\n",
      "[I 16:29:01 InstallContribNbextensionsApp] Making directory: C:\\ProgramData\\jupyter\\nbextensions\\go_to_current_running_cell\\\n",
      "[I 16:29:01 InstallContribNbextensionsApp] Copying: C:\\Users\\user\\miniconda3\\envs\\kdss_base\\lib\\site-packages\\jupyter_contrib_nbextensions\\nbextensions\\go_to_current_running_cell\\anchor.png -> C:\\ProgramData\\jupyter\\nbextensions\\go_to_current_running_cell\\anchor.png\n",
      "[I 16:29:01 InstallContribNbextensionsApp] Copying: C:\\Users\\user\\miniconda3\\envs\\kdss_base\\lib\\site-packages\\jupyter_contrib_nbextensions\\nbextensions\\go_to_current_running_cell\\auto_focus.gif -> C:\\ProgramData\\jupyter\\nbextensions\\go_to_current_running_cell\\auto_focus.gif\n",
      "[I 16:29:01 InstallContribNbextensionsApp] Copying: C:\\Users\\user\\miniconda3\\envs\\kdss_base\\lib\\site-packages\\jupyter_contrib_nbextensions\\nbextensions\\go_to_current_running_cell\\eye.png -> C:\\ProgramData\\jupyter\\nbextensions\\go_to_current_running_cell\\eye.png\n",
      "[I 16:29:01 InstallContribNbextensionsApp] Copying: C:\\Users\\user\\miniconda3\\envs\\kdss_base\\lib\\site-packages\\jupyter_contrib_nbextensions\\nbextensions\\go_to_current_running_cell\\go_to_current_running_cell.yaml -> C:\\ProgramData\\jupyter\\nbextensions\\go_to_current_running_cell\\go_to_current_running_cell.yaml\n",
      "[I 16:29:01 InstallContribNbextensionsApp] Copying: C:\\Users\\user\\miniconda3\\envs\\kdss_base\\lib\\site-packages\\jupyter_contrib_nbextensions\\nbextensions\\go_to_current_running_cell\\jump_to_cell.gif -> C:\\ProgramData\\jupyter\\nbextensions\\go_to_current_running_cell\\jump_to_cell.gif\n",
      "[I 16:29:01 InstallContribNbextensionsApp] Copying: C:\\Users\\user\\miniconda3\\envs\\kdss_base\\lib\\site-packages\\jupyter_contrib_nbextensions\\nbextensions\\go_to_current_running_cell\\main.js -> C:\\ProgramData\\jupyter\\nbextensions\\go_to_current_running_cell\\main.js\n",
      "[I 16:29:01 InstallContribNbextensionsApp] Copying: C:\\Users\\user\\miniconda3\\envs\\kdss_base\\lib\\site-packages\\jupyter_contrib_nbextensions\\nbextensions\\go_to_current_running_cell\\README.md -> C:\\ProgramData\\jupyter\\nbextensions\\go_to_current_running_cell\\README.md\n",
      "[I 16:29:01 InstallContribNbextensionsApp] - Validating: ok\n",
      "[I 16:29:01 InstallContribNbextensionsApp] Installing C:\\Users\\user\\miniconda3\\envs\\kdss_base\\lib\\site-packages\\jupyter_contrib_nbextensions\\nbextensions\\help_panel -> help_panel\n",
      "[I 16:29:01 InstallContribNbextensionsApp] Making directory: C:\\ProgramData\\jupyter\\nbextensions\\help_panel\\\n",
      "[I 16:29:01 InstallContribNbextensionsApp] Copying: C:\\Users\\user\\miniconda3\\envs\\kdss_base\\lib\\site-packages\\jupyter_contrib_nbextensions\\nbextensions\\help_panel\\help_panel.css -> C:\\ProgramData\\jupyter\\nbextensions\\help_panel\\help_panel.css\n",
      "[I 16:29:01 InstallContribNbextensionsApp] Copying: C:\\Users\\user\\miniconda3\\envs\\kdss_base\\lib\\site-packages\\jupyter_contrib_nbextensions\\nbextensions\\help_panel\\help_panel.js -> C:\\ProgramData\\jupyter\\nbextensions\\help_panel\\help_panel.js\n",
      "[I 16:29:01 InstallContribNbextensionsApp] Copying: C:\\Users\\user\\miniconda3\\envs\\kdss_base\\lib\\site-packages\\jupyter_contrib_nbextensions\\nbextensions\\help_panel\\help_panel.yaml -> C:\\ProgramData\\jupyter\\nbextensions\\help_panel\\help_panel.yaml\n",
      "[I 16:29:01 InstallContribNbextensionsApp] Copying: C:\\Users\\user\\miniconda3\\envs\\kdss_base\\lib\\site-packages\\jupyter_contrib_nbextensions\\nbextensions\\help_panel\\help_panel_ext.png -> C:\\ProgramData\\jupyter\\nbextensions\\help_panel\\help_panel_ext.png\n",
      "[I 16:29:01 InstallContribNbextensionsApp] Copying: C:\\Users\\user\\miniconda3\\envs\\kdss_base\\lib\\site-packages\\jupyter_contrib_nbextensions\\nbextensions\\help_panel\\help_panel_ext_fullscreen.png -> C:\\ProgramData\\jupyter\\nbextensions\\help_panel\\help_panel_ext_fullscreen.png\n",
      "[I 16:29:01 InstallContribNbextensionsApp] Copying: C:\\Users\\user\\miniconda3\\envs\\kdss_base\\lib\\site-packages\\jupyter_contrib_nbextensions\\nbextensions\\help_panel\\icon.png -> C:\\ProgramData\\jupyter\\nbextensions\\help_panel\\icon.png\n",
      "[I 16:29:01 InstallContribNbextensionsApp] Copying: C:\\Users\\user\\miniconda3\\envs\\kdss_base\\lib\\site-packages\\jupyter_contrib_nbextensions\\nbextensions\\help_panel\\readme.md -> C:\\ProgramData\\jupyter\\nbextensions\\help_panel\\readme.md\n",
      "[I 16:29:01 InstallContribNbextensionsApp] Making directory: C:\\ProgramData\\jupyter\\nbextensions\\help_panel\\img\n",
      "[I 16:29:01 InstallContribNbextensionsApp] Copying: C:\\Users\\user\\miniconda3\\envs\\kdss_base\\lib\\site-packages\\jupyter_contrib_nbextensions\\nbextensions\\help_panel\\img\\handle-v.png -> C:\\ProgramData\\jupyter\\nbextensions\\help_panel\\img\\handle-v.png\n",
      "[I 16:29:01 InstallContribNbextensionsApp] - Validating: ok\n",
      "[I 16:29:01 InstallContribNbextensionsApp] Installing C:\\Users\\user\\miniconda3\\envs\\kdss_base\\lib\\site-packages\\jupyter_contrib_nbextensions\\nbextensions\\hide_header -> hide_header\n",
      "[I 16:29:01 InstallContribNbextensionsApp] Making directory: C:\\ProgramData\\jupyter\\nbextensions\\hide_header\\\n",
      "[I 16:29:01 InstallContribNbextensionsApp] Copying: C:\\Users\\user\\miniconda3\\envs\\kdss_base\\lib\\site-packages\\jupyter_contrib_nbextensions\\nbextensions\\hide_header\\hide_header.yaml -> C:\\ProgramData\\jupyter\\nbextensions\\hide_header\\hide_header.yaml\n",
      "[I 16:29:01 InstallContribNbextensionsApp] Copying: C:\\Users\\user\\miniconda3\\envs\\kdss_base\\lib\\site-packages\\jupyter_contrib_nbextensions\\nbextensions\\hide_header\\main.js -> C:\\ProgramData\\jupyter\\nbextensions\\hide_header\\main.js\n",
      "[I 16:29:01 InstallContribNbextensionsApp] Copying: C:\\Users\\user\\miniconda3\\envs\\kdss_base\\lib\\site-packages\\jupyter_contrib_nbextensions\\nbextensions\\hide_header\\README.md -> C:\\ProgramData\\jupyter\\nbextensions\\hide_header\\README.md\n",
      "[I 16:29:01 InstallContribNbextensionsApp] - Validating: ok\n",
      "[I 16:29:01 InstallContribNbextensionsApp] Installing C:\\Users\\user\\miniconda3\\envs\\kdss_base\\lib\\site-packages\\jupyter_contrib_nbextensions\\nbextensions\\hide_input -> hide_input\n",
      "[I 16:29:01 InstallContribNbextensionsApp] Making directory: C:\\ProgramData\\jupyter\\nbextensions\\hide_input\\\n",
      "[I 16:29:01 InstallContribNbextensionsApp] Copying: C:\\Users\\user\\miniconda3\\envs\\kdss_base\\lib\\site-packages\\jupyter_contrib_nbextensions\\nbextensions\\hide_input\\hide-input.yaml -> C:\\ProgramData\\jupyter\\nbextensions\\hide_input\\hide-input.yaml\n",
      "[I 16:29:01 InstallContribNbextensionsApp] Copying: C:\\Users\\user\\miniconda3\\envs\\kdss_base\\lib\\site-packages\\jupyter_contrib_nbextensions\\nbextensions\\hide_input\\icon.png -> C:\\ProgramData\\jupyter\\nbextensions\\hide_input\\icon.png\n",
      "[I 16:29:01 InstallContribNbextensionsApp] Copying: C:\\Users\\user\\miniconda3\\envs\\kdss_base\\lib\\site-packages\\jupyter_contrib_nbextensions\\nbextensions\\hide_input\\main.js -> C:\\ProgramData\\jupyter\\nbextensions\\hide_input\\main.js\n",
      "[I 16:29:01 InstallContribNbextensionsApp] Copying: C:\\Users\\user\\miniconda3\\envs\\kdss_base\\lib\\site-packages\\jupyter_contrib_nbextensions\\nbextensions\\hide_input\\readme.md -> C:\\ProgramData\\jupyter\\nbextensions\\hide_input\\readme.md\n",
      "[I 16:29:01 InstallContribNbextensionsApp] - Validating: ok\n",
      "[I 16:29:01 InstallContribNbextensionsApp] Installing C:\\Users\\user\\miniconda3\\envs\\kdss_base\\lib\\site-packages\\jupyter_contrib_nbextensions\\nbextensions\\hide_input_all -> hide_input_all\n",
      "[I 16:29:01 InstallContribNbextensionsApp] Making directory: C:\\ProgramData\\jupyter\\nbextensions\\hide_input_all\\\n",
      "[I 16:29:01 InstallContribNbextensionsApp] Copying: C:\\Users\\user\\miniconda3\\envs\\kdss_base\\lib\\site-packages\\jupyter_contrib_nbextensions\\nbextensions\\hide_input_all\\hide_input_all.yaml -> C:\\ProgramData\\jupyter\\nbextensions\\hide_input_all\\hide_input_all.yaml\n",
      "[I 16:29:01 InstallContribNbextensionsApp] Copying: C:\\Users\\user\\miniconda3\\envs\\kdss_base\\lib\\site-packages\\jupyter_contrib_nbextensions\\nbextensions\\hide_input_all\\hide_input_all_hide.png -> C:\\ProgramData\\jupyter\\nbextensions\\hide_input_all\\hide_input_all_hide.png\n",
      "[I 16:29:01 InstallContribNbextensionsApp] Copying: C:\\Users\\user\\miniconda3\\envs\\kdss_base\\lib\\site-packages\\jupyter_contrib_nbextensions\\nbextensions\\hide_input_all\\hide_input_all_show.png -> C:\\ProgramData\\jupyter\\nbextensions\\hide_input_all\\hide_input_all_show.png\n",
      "[I 16:29:01 InstallContribNbextensionsApp] Copying: C:\\Users\\user\\miniconda3\\envs\\kdss_base\\lib\\site-packages\\jupyter_contrib_nbextensions\\nbextensions\\hide_input_all\\icon.png -> C:\\ProgramData\\jupyter\\nbextensions\\hide_input_all\\icon.png\n",
      "[I 16:29:01 InstallContribNbextensionsApp] Copying: C:\\Users\\user\\miniconda3\\envs\\kdss_base\\lib\\site-packages\\jupyter_contrib_nbextensions\\nbextensions\\hide_input_all\\main.js -> C:\\ProgramData\\jupyter\\nbextensions\\hide_input_all\\main.js\n",
      "[I 16:29:01 InstallContribNbextensionsApp] Copying: C:\\Users\\user\\miniconda3\\envs\\kdss_base\\lib\\site-packages\\jupyter_contrib_nbextensions\\nbextensions\\hide_input_all\\readme.md -> C:\\ProgramData\\jupyter\\nbextensions\\hide_input_all\\readme.md\n",
      "[I 16:29:01 InstallContribNbextensionsApp] - Validating: ok\n",
      "[I 16:29:01 InstallContribNbextensionsApp] Installing C:\\Users\\user\\miniconda3\\envs\\kdss_base\\lib\\site-packages\\jupyter_contrib_nbextensions\\nbextensions\\highlighter -> highlighter\n",
      "[I 16:29:01 InstallContribNbextensionsApp] Making directory: C:\\ProgramData\\jupyter\\nbextensions\\highlighter\\\n",
      "[I 16:29:01 InstallContribNbextensionsApp] Copying: C:\\Users\\user\\miniconda3\\envs\\kdss_base\\lib\\site-packages\\jupyter_contrib_nbextensions\\nbextensions\\highlighter\\demo_highlighter.html -> C:\\ProgramData\\jupyter\\nbextensions\\highlighter\\demo_highlighter.html\n",
      "[I 16:29:01 InstallContribNbextensionsApp] Copying: C:\\Users\\user\\miniconda3\\envs\\kdss_base\\lib\\site-packages\\jupyter_contrib_nbextensions\\nbextensions\\highlighter\\demo_highlighter.ipynb -> C:\\ProgramData\\jupyter\\nbextensions\\highlighter\\demo_highlighter.ipynb\n",
      "[I 16:29:01 InstallContribNbextensionsApp] Copying: C:\\Users\\user\\miniconda3\\envs\\kdss_base\\lib\\site-packages\\jupyter_contrib_nbextensions\\nbextensions\\highlighter\\export_highlights.html -> C:\\ProgramData\\jupyter\\nbextensions\\highlighter\\export_highlights.html\n",
      "[I 16:29:01 InstallContribNbextensionsApp] Copying: C:\\Users\\user\\miniconda3\\envs\\kdss_base\\lib\\site-packages\\jupyter_contrib_nbextensions\\nbextensions\\highlighter\\export_highlights.ipynb -> C:\\ProgramData\\jupyter\\nbextensions\\highlighter\\export_highlights.ipynb\n",
      "[I 16:29:01 InstallContribNbextensionsApp] Copying: C:\\Users\\user\\miniconda3\\envs\\kdss_base\\lib\\site-packages\\jupyter_contrib_nbextensions\\nbextensions\\highlighter\\export_highlights.pdf -> C:\\ProgramData\\jupyter\\nbextensions\\highlighter\\export_highlights.pdf\n",
      "[I 16:29:01 InstallContribNbextensionsApp] Copying: C:\\Users\\user\\miniconda3\\envs\\kdss_base\\lib\\site-packages\\jupyter_contrib_nbextensions\\nbextensions\\highlighter\\export_highlights.tex -> C:\\ProgramData\\jupyter\\nbextensions\\highlighter\\export_highlights.tex\n",
      "[I 16:29:01 InstallContribNbextensionsApp] Copying: C:\\Users\\user\\miniconda3\\envs\\kdss_base\\lib\\site-packages\\jupyter_contrib_nbextensions\\nbextensions\\highlighter\\highlighter.css -> C:\\ProgramData\\jupyter\\nbextensions\\highlighter\\highlighter.css\n",
      "[I 16:29:01 InstallContribNbextensionsApp] Copying: C:\\Users\\user\\miniconda3\\envs\\kdss_base\\lib\\site-packages\\jupyter_contrib_nbextensions\\nbextensions\\highlighter\\highlighter.js -> C:\\ProgramData\\jupyter\\nbextensions\\highlighter\\highlighter.js\n",
      "[I 16:29:01 InstallContribNbextensionsApp] Copying: C:\\Users\\user\\miniconda3\\envs\\kdss_base\\lib\\site-packages\\jupyter_contrib_nbextensions\\nbextensions\\highlighter\\highlighter.yaml -> C:\\ProgramData\\jupyter\\nbextensions\\highlighter\\highlighter.yaml\n",
      "[I 16:29:01 InstallContribNbextensionsApp] Copying: C:\\Users\\user\\miniconda3\\envs\\kdss_base\\lib\\site-packages\\jupyter_contrib_nbextensions\\nbextensions\\highlighter\\icon.png -> C:\\ProgramData\\jupyter\\nbextensions\\highlighter\\icon.png\n",
      "[I 16:29:01 InstallContribNbextensionsApp] Copying: C:\\Users\\user\\miniconda3\\envs\\kdss_base\\lib\\site-packages\\jupyter_contrib_nbextensions\\nbextensions\\highlighter\\image.gif -> C:\\ProgramData\\jupyter\\nbextensions\\highlighter\\image.gif\n",
      "[I 16:29:01 InstallContribNbextensionsApp] Copying: C:\\Users\\user\\miniconda3\\envs\\kdss_base\\lib\\site-packages\\jupyter_contrib_nbextensions\\nbextensions\\highlighter\\readme.md -> C:\\ProgramData\\jupyter\\nbextensions\\highlighter\\readme.md\n",
      "[I 16:29:01 InstallContribNbextensionsApp] Copying: C:\\Users\\user\\miniconda3\\envs\\kdss_base\\lib\\site-packages\\jupyter_contrib_nbextensions\\nbextensions\\highlighter\\tst_highlights.html -> C:\\ProgramData\\jupyter\\nbextensions\\highlighter\\tst_highlights.html\n",
      "[I 16:29:01 InstallContribNbextensionsApp] Copying: C:\\Users\\user\\miniconda3\\envs\\kdss_base\\lib\\site-packages\\jupyter_contrib_nbextensions\\nbextensions\\highlighter\\tst_highlights.ipynb -> C:\\ProgramData\\jupyter\\nbextensions\\highlighter\\tst_highlights.ipynb\n",
      "[I 16:29:01 InstallContribNbextensionsApp] Copying: C:\\Users\\user\\miniconda3\\envs\\kdss_base\\lib\\site-packages\\jupyter_contrib_nbextensions\\nbextensions\\highlighter\\tst_highlights.pdf -> C:\\ProgramData\\jupyter\\nbextensions\\highlighter\\tst_highlights.pdf\n",
      "[I 16:29:01 InstallContribNbextensionsApp] Copying: C:\\Users\\user\\miniconda3\\envs\\kdss_base\\lib\\site-packages\\jupyter_contrib_nbextensions\\nbextensions\\highlighter\\tst_highlights.tex -> C:\\ProgramData\\jupyter\\nbextensions\\highlighter\\tst_highlights.tex\n",
      "[I 16:29:01 InstallContribNbextensionsApp] - Validating: ok\n",
      "[I 16:29:01 InstallContribNbextensionsApp] Installing C:\\Users\\user\\miniconda3\\envs\\kdss_base\\lib\\site-packages\\jupyter_contrib_nbextensions\\nbextensions\\hinterland -> hinterland\n",
      "[I 16:29:01 InstallContribNbextensionsApp] Making directory: C:\\ProgramData\\jupyter\\nbextensions\\hinterland\\\n",
      "[I 16:29:01 InstallContribNbextensionsApp] Copying: C:\\Users\\user\\miniconda3\\envs\\kdss_base\\lib\\site-packages\\jupyter_contrib_nbextensions\\nbextensions\\hinterland\\hinterland.js -> C:\\ProgramData\\jupyter\\nbextensions\\hinterland\\hinterland.js\n",
      "[I 16:29:01 InstallContribNbextensionsApp] Copying: C:\\Users\\user\\miniconda3\\envs\\kdss_base\\lib\\site-packages\\jupyter_contrib_nbextensions\\nbextensions\\hinterland\\hinterland.yaml -> C:\\ProgramData\\jupyter\\nbextensions\\hinterland\\hinterland.yaml\n",
      "[I 16:29:01 InstallContribNbextensionsApp] Copying: C:\\Users\\user\\miniconda3\\envs\\kdss_base\\lib\\site-packages\\jupyter_contrib_nbextensions\\nbextensions\\hinterland\\README.md -> C:\\ProgramData\\jupyter\\nbextensions\\hinterland\\README.md\n",
      "[I 16:29:01 InstallContribNbextensionsApp] - Validating: ok\n",
      "[I 16:29:01 InstallContribNbextensionsApp] Installing C:\\Users\\user\\miniconda3\\envs\\kdss_base\\lib\\site-packages\\jupyter_contrib_nbextensions\\nbextensions\\init_cell -> init_cell\n",
      "[I 16:29:01 InstallContribNbextensionsApp] Making directory: C:\\ProgramData\\jupyter\\nbextensions\\init_cell\\\n",
      "[I 16:29:01 InstallContribNbextensionsApp] Copying: C:\\Users\\user\\miniconda3\\envs\\kdss_base\\lib\\site-packages\\jupyter_contrib_nbextensions\\nbextensions\\init_cell\\cell_toolbar_menu.png -> C:\\ProgramData\\jupyter\\nbextensions\\init_cell\\cell_toolbar_menu.png\n",
      "[I 16:29:01 InstallContribNbextensionsApp] Copying: C:\\Users\\user\\miniconda3\\envs\\kdss_base\\lib\\site-packages\\jupyter_contrib_nbextensions\\nbextensions\\init_cell\\icon.png -> C:\\ProgramData\\jupyter\\nbextensions\\init_cell\\icon.png\n",
      "[I 16:29:01 InstallContribNbextensionsApp] Copying: C:\\Users\\user\\miniconda3\\envs\\kdss_base\\lib\\site-packages\\jupyter_contrib_nbextensions\\nbextensions\\init_cell\\init_cell.yaml -> C:\\ProgramData\\jupyter\\nbextensions\\init_cell\\init_cell.yaml\n",
      "[I 16:29:01 InstallContribNbextensionsApp] Copying: C:\\Users\\user\\miniconda3\\envs\\kdss_base\\lib\\site-packages\\jupyter_contrib_nbextensions\\nbextensions\\init_cell\\main.js -> C:\\ProgramData\\jupyter\\nbextensions\\init_cell\\main.js\n",
      "[I 16:29:01 InstallContribNbextensionsApp] Copying: C:\\Users\\user\\miniconda3\\envs\\kdss_base\\lib\\site-packages\\jupyter_contrib_nbextensions\\nbextensions\\init_cell\\README.md -> C:\\ProgramData\\jupyter\\nbextensions\\init_cell\\README.md\n",
      "[I 16:29:01 InstallContribNbextensionsApp] - Validating: ok\n",
      "[I 16:29:01 InstallContribNbextensionsApp] Installing C:\\Users\\user\\miniconda3\\envs\\kdss_base\\lib\\site-packages\\jupyter_contrib_nbextensions\\nbextensions\\keyboard_shortcut_editor -> keyboard_shortcut_editor\n",
      "[I 16:29:01 InstallContribNbextensionsApp] Making directory: C:\\ProgramData\\jupyter\\nbextensions\\keyboard_shortcut_editor\\\n",
      "[I 16:29:01 InstallContribNbextensionsApp] Copying: C:\\Users\\user\\miniconda3\\envs\\kdss_base\\lib\\site-packages\\jupyter_contrib_nbextensions\\nbextensions\\keyboard_shortcut_editor\\icon.png -> C:\\ProgramData\\jupyter\\nbextensions\\keyboard_shortcut_editor\\icon.png\n",
      "[I 16:29:01 InstallContribNbextensionsApp] Copying: C:\\Users\\user\\miniconda3\\envs\\kdss_base\\lib\\site-packages\\jupyter_contrib_nbextensions\\nbextensions\\keyboard_shortcut_editor\\keyboard_shortcut_editor.yaml -> C:\\ProgramData\\jupyter\\nbextensions\\keyboard_shortcut_editor\\keyboard_shortcut_editor.yaml\n",
      "[I 16:29:01 InstallContribNbextensionsApp] Copying: C:\\Users\\user\\miniconda3\\envs\\kdss_base\\lib\\site-packages\\jupyter_contrib_nbextensions\\nbextensions\\keyboard_shortcut_editor\\kse_components.js -> C:\\ProgramData\\jupyter\\nbextensions\\keyboard_shortcut_editor\\kse_components.js\n",
      "[I 16:29:01 InstallContribNbextensionsApp] Copying: C:\\Users\\user\\miniconda3\\envs\\kdss_base\\lib\\site-packages\\jupyter_contrib_nbextensions\\nbextensions\\keyboard_shortcut_editor\\main.css -> C:\\ProgramData\\jupyter\\nbextensions\\keyboard_shortcut_editor\\main.css\n",
      "[I 16:29:01 InstallContribNbextensionsApp] Copying: C:\\Users\\user\\miniconda3\\envs\\kdss_base\\lib\\site-packages\\jupyter_contrib_nbextensions\\nbextensions\\keyboard_shortcut_editor\\main.js -> C:\\ProgramData\\jupyter\\nbextensions\\keyboard_shortcut_editor\\main.js\n",
      "[I 16:29:01 InstallContribNbextensionsApp] Copying: C:\\Users\\user\\miniconda3\\envs\\kdss_base\\lib\\site-packages\\jupyter_contrib_nbextensions\\nbextensions\\keyboard_shortcut_editor\\quickhelp_shim.js -> C:\\ProgramData\\jupyter\\nbextensions\\keyboard_shortcut_editor\\quickhelp_shim.js\n",
      "[I 16:29:01 InstallContribNbextensionsApp] Copying: C:\\Users\\user\\miniconda3\\envs\\kdss_base\\lib\\site-packages\\jupyter_contrib_nbextensions\\nbextensions\\keyboard_shortcut_editor\\README.md -> C:\\ProgramData\\jupyter\\nbextensions\\keyboard_shortcut_editor\\README.md\n",
      "[I 16:29:01 InstallContribNbextensionsApp] Copying: C:\\Users\\user\\miniconda3\\envs\\kdss_base\\lib\\site-packages\\jupyter_contrib_nbextensions\\nbextensions\\keyboard_shortcut_editor\\readme_add_new_link.png -> C:\\ProgramData\\jupyter\\nbextensions\\keyboard_shortcut_editor\\readme_add_new_link.png\n",
      "[I 16:29:01 InstallContribNbextensionsApp] Copying: C:\\Users\\user\\miniconda3\\envs\\kdss_base\\lib\\site-packages\\jupyter_contrib_nbextensions\\nbextensions\\keyboard_shortcut_editor\\readme_add_new_select_action.png -> C:\\ProgramData\\jupyter\\nbextensions\\keyboard_shortcut_editor\\readme_add_new_select_action.png\n",
      "[I 16:29:01 InstallContribNbextensionsApp] Copying: C:\\Users\\user\\miniconda3\\envs\\kdss_base\\lib\\site-packages\\jupyter_contrib_nbextensions\\nbextensions\\keyboard_shortcut_editor\\readme_comma.png -> C:\\ProgramData\\jupyter\\nbextensions\\keyboard_shortcut_editor\\readme_comma.png\n",
      "[I 16:29:01 InstallContribNbextensionsApp] Copying: C:\\Users\\user\\miniconda3\\envs\\kdss_base\\lib\\site-packages\\jupyter_contrib_nbextensions\\nbextensions\\keyboard_shortcut_editor\\readme_conflict.png -> C:\\ProgramData\\jupyter\\nbextensions\\keyboard_shortcut_editor\\readme_conflict.png\n",
      "[I 16:29:01 InstallContribNbextensionsApp] Copying: C:\\Users\\user\\miniconda3\\envs\\kdss_base\\lib\\site-packages\\jupyter_contrib_nbextensions\\nbextensions\\keyboard_shortcut_editor\\readme_dropdown.png -> C:\\ProgramData\\jupyter\\nbextensions\\keyboard_shortcut_editor\\readme_dropdown.png\n",
      "[I 16:29:01 InstallContribNbextensionsApp] Copying: C:\\Users\\user\\miniconda3\\envs\\kdss_base\\lib\\site-packages\\jupyter_contrib_nbextensions\\nbextensions\\keyboard_shortcut_editor\\readme_menu_item.png -> C:\\ProgramData\\jupyter\\nbextensions\\keyboard_shortcut_editor\\readme_menu_item.png\n",
      "[I 16:29:01 InstallContribNbextensionsApp] Copying: C:\\Users\\user\\miniconda3\\envs\\kdss_base\\lib\\site-packages\\jupyter_contrib_nbextensions\\nbextensions\\keyboard_shortcut_editor\\readme_reset_disabled.png -> C:\\ProgramData\\jupyter\\nbextensions\\keyboard_shortcut_editor\\readme_reset_disabled.png\n",
      "[I 16:29:01 InstallContribNbextensionsApp] Copying: C:\\Users\\user\\miniconda3\\envs\\kdss_base\\lib\\site-packages\\jupyter_contrib_nbextensions\\nbextensions\\keyboard_shortcut_editor\\readme_shortcut_editor_blank.png -> C:\\ProgramData\\jupyter\\nbextensions\\keyboard_shortcut_editor\\readme_shortcut_editor_blank.png\n",
      "[I 16:29:01 InstallContribNbextensionsApp] Copying: C:\\Users\\user\\miniconda3\\envs\\kdss_base\\lib\\site-packages\\jupyter_contrib_nbextensions\\nbextensions\\keyboard_shortcut_editor\\readme_shortcut_editor_success.png -> C:\\ProgramData\\jupyter\\nbextensions\\keyboard_shortcut_editor\\readme_shortcut_editor_success.png\n",
      "[I 16:29:01 InstallContribNbextensionsApp] Copying: C:\\Users\\user\\miniconda3\\envs\\kdss_base\\lib\\site-packages\\jupyter_contrib_nbextensions\\nbextensions\\keyboard_shortcut_editor\\readme_undefined_key.png -> C:\\ProgramData\\jupyter\\nbextensions\\keyboard_shortcut_editor\\readme_undefined_key.png\n",
      "[I 16:29:01 InstallContribNbextensionsApp] - Validating: ok\n",
      "[I 16:29:01 InstallContribNbextensionsApp] Installing C:\\Users\\user\\miniconda3\\envs\\kdss_base\\lib\\site-packages\\jupyter_contrib_nbextensions\\nbextensions\\limit_output -> limit_output\n",
      "[I 16:29:01 InstallContribNbextensionsApp] Making directory: C:\\ProgramData\\jupyter\\nbextensions\\limit_output\\\n",
      "[I 16:29:01 InstallContribNbextensionsApp] Copying: C:\\Users\\user\\miniconda3\\envs\\kdss_base\\lib\\site-packages\\jupyter_contrib_nbextensions\\nbextensions\\limit_output\\icon.png -> C:\\ProgramData\\jupyter\\nbextensions\\limit_output\\icon.png\n",
      "[I 16:29:01 InstallContribNbextensionsApp] Copying: C:\\Users\\user\\miniconda3\\envs\\kdss_base\\lib\\site-packages\\jupyter_contrib_nbextensions\\nbextensions\\limit_output\\limit-output.yaml -> C:\\ProgramData\\jupyter\\nbextensions\\limit_output\\limit-output.yaml\n",
      "[I 16:29:01 InstallContribNbextensionsApp] Copying: C:\\Users\\user\\miniconda3\\envs\\kdss_base\\lib\\site-packages\\jupyter_contrib_nbextensions\\nbextensions\\limit_output\\main.js -> C:\\ProgramData\\jupyter\\nbextensions\\limit_output\\main.js\n",
      "[I 16:29:01 InstallContribNbextensionsApp] Copying: C:\\Users\\user\\miniconda3\\envs\\kdss_base\\lib\\site-packages\\jupyter_contrib_nbextensions\\nbextensions\\limit_output\\readme.md -> C:\\ProgramData\\jupyter\\nbextensions\\limit_output\\readme.md\n",
      "[I 16:29:01 InstallContribNbextensionsApp] - Validating: ok\n",
      "[I 16:29:01 InstallContribNbextensionsApp] Installing C:\\Users\\user\\miniconda3\\envs\\kdss_base\\lib\\site-packages\\jupyter_contrib_nbextensions\\nbextensions\\livemdpreview -> livemdpreview\n",
      "[I 16:29:01 InstallContribNbextensionsApp] Making directory: C:\\ProgramData\\jupyter\\nbextensions\\livemdpreview\\\n",
      "[I 16:29:01 InstallContribNbextensionsApp] Copying: C:\\Users\\user\\miniconda3\\envs\\kdss_base\\lib\\site-packages\\jupyter_contrib_nbextensions\\nbextensions\\livemdpreview\\livemdpreview.js -> C:\\ProgramData\\jupyter\\nbextensions\\livemdpreview\\livemdpreview.js\n",
      "[I 16:29:01 InstallContribNbextensionsApp] Copying: C:\\Users\\user\\miniconda3\\envs\\kdss_base\\lib\\site-packages\\jupyter_contrib_nbextensions\\nbextensions\\livemdpreview\\livemdpreview.yml -> C:\\ProgramData\\jupyter\\nbextensions\\livemdpreview\\livemdpreview.yml\n",
      "[I 16:29:01 InstallContribNbextensionsApp] - Validating: ok\n",
      "[I 16:29:01 InstallContribNbextensionsApp] Installing C:\\Users\\user\\miniconda3\\envs\\kdss_base\\lib\\site-packages\\jupyter_contrib_nbextensions\\nbextensions\\load_tex_macros -> load_tex_macros\n",
      "[I 16:29:01 InstallContribNbextensionsApp] Making directory: C:\\ProgramData\\jupyter\\nbextensions\\load_tex_macros\\\n",
      "[I 16:29:01 InstallContribNbextensionsApp] Copying: C:\\Users\\user\\miniconda3\\envs\\kdss_base\\lib\\site-packages\\jupyter_contrib_nbextensions\\nbextensions\\load_tex_macros\\icon.png -> C:\\ProgramData\\jupyter\\nbextensions\\load_tex_macros\\icon.png\n",
      "[I 16:29:01 InstallContribNbextensionsApp] Copying: C:\\Users\\user\\miniconda3\\envs\\kdss_base\\lib\\site-packages\\jupyter_contrib_nbextensions\\nbextensions\\load_tex_macros\\load_tex_macros.yaml -> C:\\ProgramData\\jupyter\\nbextensions\\load_tex_macros\\load_tex_macros.yaml\n",
      "[I 16:29:01 InstallContribNbextensionsApp] Copying: C:\\Users\\user\\miniconda3\\envs\\kdss_base\\lib\\site-packages\\jupyter_contrib_nbextensions\\nbextensions\\load_tex_macros\\main.js -> C:\\ProgramData\\jupyter\\nbextensions\\load_tex_macros\\main.js\n",
      "[I 16:29:01 InstallContribNbextensionsApp] Copying: C:\\Users\\user\\miniconda3\\envs\\kdss_base\\lib\\site-packages\\jupyter_contrib_nbextensions\\nbextensions\\load_tex_macros\\readme.md -> C:\\ProgramData\\jupyter\\nbextensions\\load_tex_macros\\readme.md\n",
      "[I 16:29:01 InstallContribNbextensionsApp] - Validating: ok\n",
      "[I 16:29:01 InstallContribNbextensionsApp] Installing C:\\Users\\user\\miniconda3\\envs\\kdss_base\\lib\\site-packages\\jupyter_contrib_nbextensions\\nbextensions\\move_selected_cells -> move_selected_cells\n",
      "[I 16:29:01 InstallContribNbextensionsApp] Making directory: C:\\ProgramData\\jupyter\\nbextensions\\move_selected_cells\\\n",
      "[I 16:29:01 InstallContribNbextensionsApp] Copying: C:\\Users\\user\\miniconda3\\envs\\kdss_base\\lib\\site-packages\\jupyter_contrib_nbextensions\\nbextensions\\move_selected_cells\\main.js -> C:\\ProgramData\\jupyter\\nbextensions\\move_selected_cells\\main.js\n",
      "[I 16:29:01 InstallContribNbextensionsApp] Copying: C:\\Users\\user\\miniconda3\\envs\\kdss_base\\lib\\site-packages\\jupyter_contrib_nbextensions\\nbextensions\\move_selected_cells\\move_selected_cells.yaml -> C:\\ProgramData\\jupyter\\nbextensions\\move_selected_cells\\move_selected_cells.yaml\n",
      "[I 16:29:01 InstallContribNbextensionsApp] Copying: C:\\Users\\user\\miniconda3\\envs\\kdss_base\\lib\\site-packages\\jupyter_contrib_nbextensions\\nbextensions\\move_selected_cells\\README.md -> C:\\ProgramData\\jupyter\\nbextensions\\move_selected_cells\\README.md\n",
      "[I 16:29:01 InstallContribNbextensionsApp] - Validating: ok\n",
      "[I 16:29:01 InstallContribNbextensionsApp] Installing C:\\Users\\user\\miniconda3\\envs\\kdss_base\\lib\\site-packages\\jupyter_contrib_nbextensions\\nbextensions\\navigation-hotkeys -> navigation-hotkeys\n",
      "[I 16:29:01 InstallContribNbextensionsApp] Making directory: C:\\ProgramData\\jupyter\\nbextensions\\navigation-hotkeys\\\n",
      "[I 16:29:01 InstallContribNbextensionsApp] Copying: C:\\Users\\user\\miniconda3\\envs\\kdss_base\\lib\\site-packages\\jupyter_contrib_nbextensions\\nbextensions\\navigation-hotkeys\\hotkeys.yaml -> C:\\ProgramData\\jupyter\\nbextensions\\navigation-hotkeys\\hotkeys.yaml\n",
      "[I 16:29:01 InstallContribNbextensionsApp] Copying: C:\\Users\\user\\miniconda3\\envs\\kdss_base\\lib\\site-packages\\jupyter_contrib_nbextensions\\nbextensions\\navigation-hotkeys\\icon.png -> C:\\ProgramData\\jupyter\\nbextensions\\navigation-hotkeys\\icon.png\n",
      "[I 16:29:01 InstallContribNbextensionsApp] Copying: C:\\Users\\user\\miniconda3\\envs\\kdss_base\\lib\\site-packages\\jupyter_contrib_nbextensions\\nbextensions\\navigation-hotkeys\\main.js -> C:\\ProgramData\\jupyter\\nbextensions\\navigation-hotkeys\\main.js\n",
      "[I 16:29:01 InstallContribNbextensionsApp] Copying: C:\\Users\\user\\miniconda3\\envs\\kdss_base\\lib\\site-packages\\jupyter_contrib_nbextensions\\nbextensions\\navigation-hotkeys\\readme.md -> C:\\ProgramData\\jupyter\\nbextensions\\navigation-hotkeys\\readme.md\n",
      "[I 16:29:01 InstallContribNbextensionsApp] - Validating: ok\n",
      "[I 16:29:01 InstallContribNbextensionsApp] Installing C:\\Users\\user\\miniconda3\\envs\\kdss_base\\lib\\site-packages\\jupyter_contrib_nbextensions\\nbextensions\\nbTranslate -> nbTranslate\n",
      "[I 16:29:01 InstallContribNbextensionsApp] Making directory: C:\\ProgramData\\jupyter\\nbextensions\\nbTranslate\\\n",
      "[I 16:29:01 InstallContribNbextensionsApp] Copying: C:\\Users\\user\\miniconda3\\envs\\kdss_base\\lib\\site-packages\\jupyter_contrib_nbextensions\\nbextensions\\nbTranslate\\demo1.gif -> C:\\ProgramData\\jupyter\\nbextensions\\nbTranslate\\demo1.gif\n",
      "[I 16:29:01 InstallContribNbextensionsApp] Copying: C:\\Users\\user\\miniconda3\\envs\\kdss_base\\lib\\site-packages\\jupyter_contrib_nbextensions\\nbextensions\\nbTranslate\\demo2.gif -> C:\\ProgramData\\jupyter\\nbextensions\\nbTranslate\\demo2.gif\n",
      "[I 16:29:01 InstallContribNbextensionsApp] Copying: C:\\Users\\user\\miniconda3\\envs\\kdss_base\\lib\\site-packages\\jupyter_contrib_nbextensions\\nbextensions\\nbTranslate\\languages.js -> C:\\ProgramData\\jupyter\\nbextensions\\nbTranslate\\languages.js\n",
      "[I 16:29:01 InstallContribNbextensionsApp] Copying: C:\\Users\\user\\miniconda3\\envs\\kdss_base\\lib\\site-packages\\jupyter_contrib_nbextensions\\nbextensions\\nbTranslate\\main.js -> C:\\ProgramData\\jupyter\\nbextensions\\nbTranslate\\main.js\n",
      "[I 16:29:01 InstallContribNbextensionsApp] Copying: C:\\Users\\user\\miniconda3\\envs\\kdss_base\\lib\\site-packages\\jupyter_contrib_nbextensions\\nbextensions\\nbTranslate\\mutils.js -> C:\\ProgramData\\jupyter\\nbextensions\\nbTranslate\\mutils.js\n",
      "[I 16:29:01 InstallContribNbextensionsApp] Copying: C:\\Users\\user\\miniconda3\\envs\\kdss_base\\lib\\site-packages\\jupyter_contrib_nbextensions\\nbextensions\\nbTranslate\\nbTranslate.js -> C:\\ProgramData\\jupyter\\nbextensions\\nbTranslate\\nbTranslate.js\n",
      "[I 16:29:01 InstallContribNbextensionsApp] Copying: C:\\Users\\user\\miniconda3\\envs\\kdss_base\\lib\\site-packages\\jupyter_contrib_nbextensions\\nbextensions\\nbTranslate\\nbTranslate.yaml -> C:\\ProgramData\\jupyter\\nbextensions\\nbTranslate\\nbTranslate.yaml\n",
      "[I 16:29:01 InstallContribNbextensionsApp] Copying: C:\\Users\\user\\miniconda3\\envs\\kdss_base\\lib\\site-packages\\jupyter_contrib_nbextensions\\nbextensions\\nbTranslate\\README.md -> C:\\ProgramData\\jupyter\\nbextensions\\nbTranslate\\README.md\n",
      "[I 16:29:01 InstallContribNbextensionsApp] - Validating: ok\n",
      "[I 16:29:01 InstallContribNbextensionsApp] Installing C:\\Users\\user\\miniconda3\\envs\\kdss_base\\lib\\site-packages\\jupyter_contrib_nbextensions\\nbextensions\\notify -> notify\n",
      "[I 16:29:01 InstallContribNbextensionsApp] Making directory: C:\\ProgramData\\jupyter\\nbextensions\\notify\\\n",
      "[I 16:29:01 InstallContribNbextensionsApp] Copying: C:\\Users\\user\\miniconda3\\envs\\kdss_base\\lib\\site-packages\\jupyter_contrib_nbextensions\\nbextensions\\notify\\notification.png -> C:\\ProgramData\\jupyter\\nbextensions\\notify\\notification.png\n",
      "[I 16:29:01 InstallContribNbextensionsApp] Copying: C:\\Users\\user\\miniconda3\\envs\\kdss_base\\lib\\site-packages\\jupyter_contrib_nbextensions\\nbextensions\\notify\\notify.js -> C:\\ProgramData\\jupyter\\nbextensions\\notify\\notify.js\n",
      "[I 16:29:01 InstallContribNbextensionsApp] Copying: C:\\Users\\user\\miniconda3\\envs\\kdss_base\\lib\\site-packages\\jupyter_contrib_nbextensions\\nbextensions\\notify\\notify.mp3 -> C:\\ProgramData\\jupyter\\nbextensions\\notify\\notify.mp3\n",
      "[I 16:29:01 InstallContribNbextensionsApp] Copying: C:\\Users\\user\\miniconda3\\envs\\kdss_base\\lib\\site-packages\\jupyter_contrib_nbextensions\\nbextensions\\notify\\notify.yaml -> C:\\ProgramData\\jupyter\\nbextensions\\notify\\notify.yaml\n",
      "[I 16:29:01 InstallContribNbextensionsApp] Copying: C:\\Users\\user\\miniconda3\\envs\\kdss_base\\lib\\site-packages\\jupyter_contrib_nbextensions\\nbextensions\\notify\\readme.md -> C:\\ProgramData\\jupyter\\nbextensions\\notify\\readme.md\n",
      "[I 16:29:01 InstallContribNbextensionsApp] - Validating: ok\n",
      "[I 16:29:01 InstallContribNbextensionsApp] Installing C:\\Users\\user\\miniconda3\\envs\\kdss_base\\lib\\site-packages\\jupyter_contrib_nbextensions\\nbextensions\\printview -> printview\n",
      "[I 16:29:01 InstallContribNbextensionsApp] Making directory: C:\\ProgramData\\jupyter\\nbextensions\\printview\\\n",
      "[I 16:29:01 InstallContribNbextensionsApp] Copying: C:\\Users\\user\\miniconda3\\envs\\kdss_base\\lib\\site-packages\\jupyter_contrib_nbextensions\\nbextensions\\printview\\icon.png -> C:\\ProgramData\\jupyter\\nbextensions\\printview\\icon.png\n",
      "[I 16:29:01 InstallContribNbextensionsApp] Copying: C:\\Users\\user\\miniconda3\\envs\\kdss_base\\lib\\site-packages\\jupyter_contrib_nbextensions\\nbextensions\\printview\\main.js -> C:\\ProgramData\\jupyter\\nbextensions\\printview\\main.js\n",
      "[I 16:29:01 InstallContribNbextensionsApp] Copying: C:\\Users\\user\\miniconda3\\envs\\kdss_base\\lib\\site-packages\\jupyter_contrib_nbextensions\\nbextensions\\printview\\printview-button.png -> C:\\ProgramData\\jupyter\\nbextensions\\printview\\printview-button.png\n",
      "[I 16:29:01 InstallContribNbextensionsApp] Copying: C:\\Users\\user\\miniconda3\\envs\\kdss_base\\lib\\site-packages\\jupyter_contrib_nbextensions\\nbextensions\\printview\\printview.yaml -> C:\\ProgramData\\jupyter\\nbextensions\\printview\\printview.yaml\n",
      "[I 16:29:01 InstallContribNbextensionsApp] Copying: C:\\Users\\user\\miniconda3\\envs\\kdss_base\\lib\\site-packages\\jupyter_contrib_nbextensions\\nbextensions\\printview\\readme.md -> C:\\ProgramData\\jupyter\\nbextensions\\printview\\readme.md\n",
      "[I 16:29:01 InstallContribNbextensionsApp] - Validating: ok\n",
      "[I 16:29:01 InstallContribNbextensionsApp] Installing C:\\Users\\user\\miniconda3\\envs\\kdss_base\\lib\\site-packages\\jupyter_contrib_nbextensions\\nbextensions\\python-markdown -> python-markdown\n",
      "[I 16:29:01 InstallContribNbextensionsApp] Making directory: C:\\ProgramData\\jupyter\\nbextensions\\python-markdown\\\n",
      "[I 16:29:01 InstallContribNbextensionsApp] Copying: C:\\Users\\user\\miniconda3\\envs\\kdss_base\\lib\\site-packages\\jupyter_contrib_nbextensions\\nbextensions\\python-markdown\\main.css -> C:\\ProgramData\\jupyter\\nbextensions\\python-markdown\\main.css\n",
      "[I 16:29:01 InstallContribNbextensionsApp] Copying: C:\\Users\\user\\miniconda3\\envs\\kdss_base\\lib\\site-packages\\jupyter_contrib_nbextensions\\nbextensions\\python-markdown\\main.js -> C:\\ProgramData\\jupyter\\nbextensions\\python-markdown\\main.js\n",
      "[I 16:29:01 InstallContribNbextensionsApp] Copying: C:\\Users\\user\\miniconda3\\envs\\kdss_base\\lib\\site-packages\\jupyter_contrib_nbextensions\\nbextensions\\python-markdown\\python-markdown-post.png -> C:\\ProgramData\\jupyter\\nbextensions\\python-markdown\\python-markdown-post.png\n",
      "[I 16:29:01 InstallContribNbextensionsApp] Copying: C:\\Users\\user\\miniconda3\\envs\\kdss_base\\lib\\site-packages\\jupyter_contrib_nbextensions\\nbextensions\\python-markdown\\python-markdown-pre.png -> C:\\ProgramData\\jupyter\\nbextensions\\python-markdown\\python-markdown-pre.png\n",
      "[I 16:29:01 InstallContribNbextensionsApp] Copying: C:\\Users\\user\\miniconda3\\envs\\kdss_base\\lib\\site-packages\\jupyter_contrib_nbextensions\\nbextensions\\python-markdown\\python-markdown.png -> C:\\ProgramData\\jupyter\\nbextensions\\python-markdown\\python-markdown.png\n",
      "[I 16:29:01 InstallContribNbextensionsApp] Copying: C:\\Users\\user\\miniconda3\\envs\\kdss_base\\lib\\site-packages\\jupyter_contrib_nbextensions\\nbextensions\\python-markdown\\python-markdown.yaml -> C:\\ProgramData\\jupyter\\nbextensions\\python-markdown\\python-markdown.yaml\n",
      "[I 16:29:01 InstallContribNbextensionsApp] Copying: C:\\Users\\user\\miniconda3\\envs\\kdss_base\\lib\\site-packages\\jupyter_contrib_nbextensions\\nbextensions\\python-markdown\\readme.md -> C:\\ProgramData\\jupyter\\nbextensions\\python-markdown\\readme.md\n",
      "[I 16:29:01 InstallContribNbextensionsApp] Copying: C:\\Users\\user\\miniconda3\\envs\\kdss_base\\lib\\site-packages\\jupyter_contrib_nbextensions\\nbextensions\\python-markdown\\trusted.png -> C:\\ProgramData\\jupyter\\nbextensions\\python-markdown\\trusted.png\n",
      "[I 16:29:01 InstallContribNbextensionsApp] Copying: C:\\Users\\user\\miniconda3\\envs\\kdss_base\\lib\\site-packages\\jupyter_contrib_nbextensions\\nbextensions\\python-markdown\\untrusted.png -> C:\\ProgramData\\jupyter\\nbextensions\\python-markdown\\untrusted.png\n",
      "[I 16:29:01 InstallContribNbextensionsApp] - Validating: ok\n",
      "[I 16:29:01 InstallContribNbextensionsApp] Installing C:\\Users\\user\\miniconda3\\envs\\kdss_base\\lib\\site-packages\\jupyter_contrib_nbextensions\\nbextensions\\qtconsole -> qtconsole\n",
      "[I 16:29:01 InstallContribNbextensionsApp] Making directory: C:\\ProgramData\\jupyter\\nbextensions\\qtconsole\\\n",
      "[I 16:29:01 InstallContribNbextensionsApp] Copying: C:\\Users\\user\\miniconda3\\envs\\kdss_base\\lib\\site-packages\\jupyter_contrib_nbextensions\\nbextensions\\qtconsole\\qtconsole.js -> C:\\ProgramData\\jupyter\\nbextensions\\qtconsole\\qtconsole.js\n",
      "[I 16:29:01 InstallContribNbextensionsApp] Copying: C:\\Users\\user\\miniconda3\\envs\\kdss_base\\lib\\site-packages\\jupyter_contrib_nbextensions\\nbextensions\\qtconsole\\qtconsole.yaml -> C:\\ProgramData\\jupyter\\nbextensions\\qtconsole\\qtconsole.yaml\n",
      "[I 16:29:01 InstallContribNbextensionsApp] Copying: C:\\Users\\user\\miniconda3\\envs\\kdss_base\\lib\\site-packages\\jupyter_contrib_nbextensions\\nbextensions\\qtconsole\\README.md -> C:\\ProgramData\\jupyter\\nbextensions\\qtconsole\\README.md\n",
      "[I 16:29:01 InstallContribNbextensionsApp] - Validating: ok\n",
      "[I 16:29:01 InstallContribNbextensionsApp] Installing C:\\Users\\user\\miniconda3\\envs\\kdss_base\\lib\\site-packages\\jupyter_contrib_nbextensions\\nbextensions\\rubberband -> rubberband\n",
      "[I 16:29:01 InstallContribNbextensionsApp] Making directory: C:\\ProgramData\\jupyter\\nbextensions\\rubberband\\\n",
      "[I 16:29:01 InstallContribNbextensionsApp] Copying: C:\\Users\\user\\miniconda3\\envs\\kdss_base\\lib\\site-packages\\jupyter_contrib_nbextensions\\nbextensions\\rubberband\\icon.png -> C:\\ProgramData\\jupyter\\nbextensions\\rubberband\\icon.png\n",
      "[I 16:29:01 InstallContribNbextensionsApp] Copying: C:\\Users\\user\\miniconda3\\envs\\kdss_base\\lib\\site-packages\\jupyter_contrib_nbextensions\\nbextensions\\rubberband\\main.css -> C:\\ProgramData\\jupyter\\nbextensions\\rubberband\\main.css\n",
      "[I 16:29:01 InstallContribNbextensionsApp] Copying: C:\\Users\\user\\miniconda3\\envs\\kdss_base\\lib\\site-packages\\jupyter_contrib_nbextensions\\nbextensions\\rubberband\\main.js -> C:\\ProgramData\\jupyter\\nbextensions\\rubberband\\main.js\n",
      "[I 16:29:01 InstallContribNbextensionsApp] Copying: C:\\Users\\user\\miniconda3\\envs\\kdss_base\\lib\\site-packages\\jupyter_contrib_nbextensions\\nbextensions\\rubberband\\readme.md -> C:\\ProgramData\\jupyter\\nbextensions\\rubberband\\readme.md\n",
      "[I 16:29:01 InstallContribNbextensionsApp] Copying: C:\\Users\\user\\miniconda3\\envs\\kdss_base\\lib\\site-packages\\jupyter_contrib_nbextensions\\nbextensions\\rubberband\\rubberband.yaml -> C:\\ProgramData\\jupyter\\nbextensions\\rubberband\\rubberband.yaml\n",
      "[I 16:29:01 InstallContribNbextensionsApp] - Validating: ok\n",
      "[I 16:29:01 InstallContribNbextensionsApp] Installing C:\\Users\\user\\miniconda3\\envs\\kdss_base\\lib\\site-packages\\jupyter_contrib_nbextensions\\nbextensions\\ruler -> ruler\n",
      "[I 16:29:01 InstallContribNbextensionsApp] Making directory: C:\\ProgramData\\jupyter\\nbextensions\\ruler\\\n",
      "[I 16:29:01 InstallContribNbextensionsApp] Copying: C:\\Users\\user\\miniconda3\\envs\\kdss_base\\lib\\site-packages\\jupyter_contrib_nbextensions\\nbextensions\\ruler\\edit.js -> C:\\ProgramData\\jupyter\\nbextensions\\ruler\\edit.js\n",
      "[I 16:29:01 InstallContribNbextensionsApp] Copying: C:\\Users\\user\\miniconda3\\envs\\kdss_base\\lib\\site-packages\\jupyter_contrib_nbextensions\\nbextensions\\ruler\\icon.png -> C:\\ProgramData\\jupyter\\nbextensions\\ruler\\icon.png\n",
      "[I 16:29:01 InstallContribNbextensionsApp] Copying: C:\\Users\\user\\miniconda3\\envs\\kdss_base\\lib\\site-packages\\jupyter_contrib_nbextensions\\nbextensions\\ruler\\main.js -> C:\\ProgramData\\jupyter\\nbextensions\\ruler\\main.js\n",
      "[I 16:29:01 InstallContribNbextensionsApp] Copying: C:\\Users\\user\\miniconda3\\envs\\kdss_base\\lib\\site-packages\\jupyter_contrib_nbextensions\\nbextensions\\ruler\\readme.md -> C:\\ProgramData\\jupyter\\nbextensions\\ruler\\readme.md\n",
      "[I 16:29:01 InstallContribNbextensionsApp] Copying: C:\\Users\\user\\miniconda3\\envs\\kdss_base\\lib\\site-packages\\jupyter_contrib_nbextensions\\nbextensions\\ruler\\ruler.yaml -> C:\\ProgramData\\jupyter\\nbextensions\\ruler\\ruler.yaml\n",
      "[I 16:29:01 InstallContribNbextensionsApp] Copying: C:\\Users\\user\\miniconda3\\envs\\kdss_base\\lib\\site-packages\\jupyter_contrib_nbextensions\\nbextensions\\ruler\\ruler_editor.yaml -> C:\\ProgramData\\jupyter\\nbextensions\\ruler\\ruler_editor.yaml\n",
      "[I 16:29:01 InstallContribNbextensionsApp] - Validating: ok\n",
      "[I 16:29:01 InstallContribNbextensionsApp] Installing C:\\Users\\user\\miniconda3\\envs\\kdss_base\\lib\\site-packages\\jupyter_contrib_nbextensions\\nbextensions\\ruler -> ruler\n",
      "[I 16:29:01 InstallContribNbextensionsApp] Up to date: C:\\ProgramData\\jupyter\\nbextensions\\ruler\\edit.js\n",
      "[I 16:29:01 InstallContribNbextensionsApp] Up to date: C:\\ProgramData\\jupyter\\nbextensions\\ruler\\icon.png\n",
      "[I 16:29:01 InstallContribNbextensionsApp] Up to date: C:\\ProgramData\\jupyter\\nbextensions\\ruler\\main.js\n",
      "[I 16:29:01 InstallContribNbextensionsApp] Up to date: C:\\ProgramData\\jupyter\\nbextensions\\ruler\\readme.md\n",
      "[I 16:29:01 InstallContribNbextensionsApp] Up to date: C:\\ProgramData\\jupyter\\nbextensions\\ruler\\ruler.yaml\n",
      "[I 16:29:01 InstallContribNbextensionsApp] Up to date: C:\\ProgramData\\jupyter\\nbextensions\\ruler\\ruler_editor.yaml\n",
      "[I 16:29:01 InstallContribNbextensionsApp] - Validating: ok\n",
      "[I 16:29:01 InstallContribNbextensionsApp] Installing C:\\Users\\user\\miniconda3\\envs\\kdss_base\\lib\\site-packages\\jupyter_contrib_nbextensions\\nbextensions\\runtools -> runtools\n",
      "[I 16:29:01 InstallContribNbextensionsApp] Making directory: C:\\ProgramData\\jupyter\\nbextensions\\runtools\\\n",
      "[I 16:29:01 InstallContribNbextensionsApp] Copying: C:\\Users\\user\\miniconda3\\envs\\kdss_base\\lib\\site-packages\\jupyter_contrib_nbextensions\\nbextensions\\runtools\\annotations.odg -> C:\\ProgramData\\jupyter\\nbextensions\\runtools\\annotations.odg\n",
      "[I 16:29:01 InstallContribNbextensionsApp] Copying: C:\\Users\\user\\miniconda3\\envs\\kdss_base\\lib\\site-packages\\jupyter_contrib_nbextensions\\nbextensions\\runtools\\cellstate.js -> C:\\ProgramData\\jupyter\\nbextensions\\runtools\\cellstate.js\n",
      "[I 16:29:01 InstallContribNbextensionsApp] Copying: C:\\Users\\user\\miniconda3\\envs\\kdss_base\\lib\\site-packages\\jupyter_contrib_nbextensions\\nbextensions\\runtools\\demo.gif -> C:\\ProgramData\\jupyter\\nbextensions\\runtools\\demo.gif\n",
      "[I 16:29:01 InstallContribNbextensionsApp] Copying: C:\\Users\\user\\miniconda3\\envs\\kdss_base\\lib\\site-packages\\jupyter_contrib_nbextensions\\nbextensions\\runtools\\gutter.css -> C:\\ProgramData\\jupyter\\nbextensions\\runtools\\gutter.css\n",
      "[I 16:29:01 InstallContribNbextensionsApp] Copying: C:\\Users\\user\\miniconda3\\envs\\kdss_base\\lib\\site-packages\\jupyter_contrib_nbextensions\\nbextensions\\runtools\\icon.png -> C:\\ProgramData\\jupyter\\nbextensions\\runtools\\icon.png\n",
      "[I 16:29:01 InstallContribNbextensionsApp] Copying: C:\\Users\\user\\miniconda3\\envs\\kdss_base\\lib\\site-packages\\jupyter_contrib_nbextensions\\nbextensions\\runtools\\main.css -> C:\\ProgramData\\jupyter\\nbextensions\\runtools\\main.css\n",
      "[I 16:29:01 InstallContribNbextensionsApp] Copying: C:\\Users\\user\\miniconda3\\envs\\kdss_base\\lib\\site-packages\\jupyter_contrib_nbextensions\\nbextensions\\runtools\\main.js -> C:\\ProgramData\\jupyter\\nbextensions\\runtools\\main.js\n",
      "[I 16:29:01 InstallContribNbextensionsApp] Copying: C:\\Users\\user\\miniconda3\\envs\\kdss_base\\lib\\site-packages\\jupyter_contrib_nbextensions\\nbextensions\\runtools\\readme.md -> C:\\ProgramData\\jupyter\\nbextensions\\runtools\\readme.md\n",
      "[I 16:29:01 InstallContribNbextensionsApp] Copying: C:\\Users\\user\\miniconda3\\envs\\kdss_base\\lib\\site-packages\\jupyter_contrib_nbextensions\\nbextensions\\runtools\\runtools.yaml -> C:\\ProgramData\\jupyter\\nbextensions\\runtools\\runtools.yaml\n",
      "[I 16:29:01 InstallContribNbextensionsApp] Copying: C:\\Users\\user\\miniconda3\\envs\\kdss_base\\lib\\site-packages\\jupyter_contrib_nbextensions\\nbextensions\\runtools\\runtools_execute.png -> C:\\ProgramData\\jupyter\\nbextensions\\runtools\\runtools_execute.png\n",
      "[I 16:29:01 InstallContribNbextensionsApp] Copying: C:\\Users\\user\\miniconda3\\envs\\kdss_base\\lib\\site-packages\\jupyter_contrib_nbextensions\\nbextensions\\runtools\\runtools_lock.png -> C:\\ProgramData\\jupyter\\nbextensions\\runtools\\runtools_lock.png\n",
      "[I 16:29:01 InstallContribNbextensionsApp] Copying: C:\\Users\\user\\miniconda3\\envs\\kdss_base\\lib\\site-packages\\jupyter_contrib_nbextensions\\nbextensions\\runtools\\runtools_marker.png -> C:\\ProgramData\\jupyter\\nbextensions\\runtools\\runtools_marker.png\n",
      "[I 16:29:01 InstallContribNbextensionsApp] Copying: C:\\Users\\user\\miniconda3\\envs\\kdss_base\\lib\\site-packages\\jupyter_contrib_nbextensions\\nbextensions\\runtools\\runtools_nb.png -> C:\\ProgramData\\jupyter\\nbextensions\\runtools\\runtools_nb.png\n",
      "[I 16:29:01 InstallContribNbextensionsApp] Copying: C:\\Users\\user\\miniconda3\\envs\\kdss_base\\lib\\site-packages\\jupyter_contrib_nbextensions\\nbextensions\\runtools\\runtools_show_hide.png -> C:\\ProgramData\\jupyter\\nbextensions\\runtools\\runtools_show_hide.png\n",
      "[I 16:29:01 InstallContribNbextensionsApp] - Validating: ok\n",
      "[I 16:29:01 InstallContribNbextensionsApp] Installing C:\\Users\\user\\miniconda3\\envs\\kdss_base\\lib\\site-packages\\jupyter_contrib_nbextensions\\nbextensions\\scratchpad -> scratchpad\n",
      "[I 16:29:01 InstallContribNbextensionsApp] Making directory: C:\\ProgramData\\jupyter\\nbextensions\\scratchpad\\\n",
      "[I 16:29:01 InstallContribNbextensionsApp] Copying: C:\\Users\\user\\miniconda3\\envs\\kdss_base\\lib\\site-packages\\jupyter_contrib_nbextensions\\nbextensions\\scratchpad\\demo.gif -> C:\\ProgramData\\jupyter\\nbextensions\\scratchpad\\demo.gif\n",
      "[I 16:29:01 InstallContribNbextensionsApp] Copying: C:\\Users\\user\\miniconda3\\envs\\kdss_base\\lib\\site-packages\\jupyter_contrib_nbextensions\\nbextensions\\scratchpad\\LICENSE -> C:\\ProgramData\\jupyter\\nbextensions\\scratchpad\\LICENSE\n",
      "[I 16:29:01 InstallContribNbextensionsApp] Copying: C:\\Users\\user\\miniconda3\\envs\\kdss_base\\lib\\site-packages\\jupyter_contrib_nbextensions\\nbextensions\\scratchpad\\main.js -> C:\\ProgramData\\jupyter\\nbextensions\\scratchpad\\main.js\n",
      "[I 16:29:01 InstallContribNbextensionsApp] Copying: C:\\Users\\user\\miniconda3\\envs\\kdss_base\\lib\\site-packages\\jupyter_contrib_nbextensions\\nbextensions\\scratchpad\\README.md -> C:\\ProgramData\\jupyter\\nbextensions\\scratchpad\\README.md\n",
      "[I 16:29:01 InstallContribNbextensionsApp] Copying: C:\\Users\\user\\miniconda3\\envs\\kdss_base\\lib\\site-packages\\jupyter_contrib_nbextensions\\nbextensions\\scratchpad\\scratchpad.css -> C:\\ProgramData\\jupyter\\nbextensions\\scratchpad\\scratchpad.css\n",
      "[I 16:29:01 InstallContribNbextensionsApp] Copying: C:\\Users\\user\\miniconda3\\envs\\kdss_base\\lib\\site-packages\\jupyter_contrib_nbextensions\\nbextensions\\scratchpad\\scratchpad.yaml -> C:\\ProgramData\\jupyter\\nbextensions\\scratchpad\\scratchpad.yaml\n",
      "[I 16:29:01 InstallContribNbextensionsApp] - Validating: ok\n",
      "[I 16:29:01 InstallContribNbextensionsApp] Installing C:\\Users\\user\\miniconda3\\envs\\kdss_base\\lib\\site-packages\\jupyter_contrib_nbextensions\\nbextensions\\scroll_down -> scroll_down\n",
      "[I 16:29:01 InstallContribNbextensionsApp] Making directory: C:\\ProgramData\\jupyter\\nbextensions\\scroll_down\\\n",
      "[I 16:29:01 InstallContribNbextensionsApp] Copying: C:\\Users\\user\\miniconda3\\envs\\kdss_base\\lib\\site-packages\\jupyter_contrib_nbextensions\\nbextensions\\scroll_down\\config.yaml -> C:\\ProgramData\\jupyter\\nbextensions\\scroll_down\\config.yaml\n",
      "[I 16:29:01 InstallContribNbextensionsApp] Copying: C:\\Users\\user\\miniconda3\\envs\\kdss_base\\lib\\site-packages\\jupyter_contrib_nbextensions\\nbextensions\\scroll_down\\icon.png -> C:\\ProgramData\\jupyter\\nbextensions\\scroll_down\\icon.png\n",
      "[I 16:29:01 InstallContribNbextensionsApp] Copying: C:\\Users\\user\\miniconda3\\envs\\kdss_base\\lib\\site-packages\\jupyter_contrib_nbextensions\\nbextensions\\scroll_down\\main.js -> C:\\ProgramData\\jupyter\\nbextensions\\scroll_down\\main.js\n",
      "[I 16:29:01 InstallContribNbextensionsApp] Copying: C:\\Users\\user\\miniconda3\\envs\\kdss_base\\lib\\site-packages\\jupyter_contrib_nbextensions\\nbextensions\\scroll_down\\readme.md -> C:\\ProgramData\\jupyter\\nbextensions\\scroll_down\\readme.md\n",
      "[I 16:29:01 InstallContribNbextensionsApp] - Validating: ok\n",
      "[I 16:29:01 InstallContribNbextensionsApp] Installing C:\\Users\\user\\miniconda3\\envs\\kdss_base\\lib\\site-packages\\jupyter_contrib_nbextensions\\nbextensions\\select_keymap -> select_keymap\n",
      "[I 16:29:01 InstallContribNbextensionsApp] Making directory: C:\\ProgramData\\jupyter\\nbextensions\\select_keymap\\\n",
      "[I 16:29:01 InstallContribNbextensionsApp] Copying: C:\\Users\\user\\miniconda3\\envs\\kdss_base\\lib\\site-packages\\jupyter_contrib_nbextensions\\nbextensions\\select_keymap\\main.js -> C:\\ProgramData\\jupyter\\nbextensions\\select_keymap\\main.js\n",
      "[I 16:29:01 InstallContribNbextensionsApp] Copying: C:\\Users\\user\\miniconda3\\envs\\kdss_base\\lib\\site-packages\\jupyter_contrib_nbextensions\\nbextensions\\select_keymap\\README.md -> C:\\ProgramData\\jupyter\\nbextensions\\select_keymap\\README.md\n",
      "[I 16:29:01 InstallContribNbextensionsApp] Copying: C:\\Users\\user\\miniconda3\\envs\\kdss_base\\lib\\site-packages\\jupyter_contrib_nbextensions\\nbextensions\\select_keymap\\select_keymap.png -> C:\\ProgramData\\jupyter\\nbextensions\\select_keymap\\select_keymap.png\n",
      "[I 16:29:01 InstallContribNbextensionsApp] Copying: C:\\Users\\user\\miniconda3\\envs\\kdss_base\\lib\\site-packages\\jupyter_contrib_nbextensions\\nbextensions\\select_keymap\\select_keymap.yaml -> C:\\ProgramData\\jupyter\\nbextensions\\select_keymap\\select_keymap.yaml\n",
      "[I 16:29:01 InstallContribNbextensionsApp] - Validating: ok\n",
      "[I 16:29:01 InstallContribNbextensionsApp] Installing C:\\Users\\user\\miniconda3\\envs\\kdss_base\\lib\\site-packages\\jupyter_contrib_nbextensions\\nbextensions\\skill -> skill\n",
      "[I 16:29:01 InstallContribNbextensionsApp] Making directory: C:\\ProgramData\\jupyter\\nbextensions\\skill\\\n",
      "[I 16:29:01 InstallContribNbextensionsApp] Copying: C:\\Users\\user\\miniconda3\\envs\\kdss_base\\lib\\site-packages\\jupyter_contrib_nbextensions\\nbextensions\\skill\\main.js -> C:\\ProgramData\\jupyter\\nbextensions\\skill\\main.js\n",
      "[I 16:29:01 InstallContribNbextensionsApp] Copying: C:\\Users\\user\\miniconda3\\envs\\kdss_base\\lib\\site-packages\\jupyter_contrib_nbextensions\\nbextensions\\skill\\README.md -> C:\\ProgramData\\jupyter\\nbextensions\\skill\\README.md\n",
      "[I 16:29:01 InstallContribNbextensionsApp] Copying: C:\\Users\\user\\miniconda3\\envs\\kdss_base\\lib\\site-packages\\jupyter_contrib_nbextensions\\nbextensions\\skill\\skill.js -> C:\\ProgramData\\jupyter\\nbextensions\\skill\\skill.js\n",
      "[I 16:29:01 InstallContribNbextensionsApp] Copying: C:\\Users\\user\\miniconda3\\envs\\kdss_base\\lib\\site-packages\\jupyter_contrib_nbextensions\\nbextensions\\skill\\skill.yaml -> C:\\ProgramData\\jupyter\\nbextensions\\skill\\skill.yaml\n",
      "[I 16:29:01 InstallContribNbextensionsApp] - Validating: ok\n",
      "[I 16:29:01 InstallContribNbextensionsApp] Installing C:\\Users\\user\\miniconda3\\envs\\kdss_base\\lib\\site-packages\\jupyter_contrib_nbextensions\\nbextensions\\skip-traceback -> skip-traceback\n",
      "[I 16:29:01 InstallContribNbextensionsApp] Making directory: C:\\ProgramData\\jupyter\\nbextensions\\skip-traceback\\\n",
      "[I 16:29:01 InstallContribNbextensionsApp] Copying: C:\\Users\\user\\miniconda3\\envs\\kdss_base\\lib\\site-packages\\jupyter_contrib_nbextensions\\nbextensions\\skip-traceback\\icon.png -> C:\\ProgramData\\jupyter\\nbextensions\\skip-traceback\\icon.png\n",
      "[I 16:29:01 InstallContribNbextensionsApp] Copying: C:\\Users\\user\\miniconda3\\envs\\kdss_base\\lib\\site-packages\\jupyter_contrib_nbextensions\\nbextensions\\skip-traceback\\main.js -> C:\\ProgramData\\jupyter\\nbextensions\\skip-traceback\\main.js\n",
      "[I 16:29:01 InstallContribNbextensionsApp] Copying: C:\\Users\\user\\miniconda3\\envs\\kdss_base\\lib\\site-packages\\jupyter_contrib_nbextensions\\nbextensions\\skip-traceback\\readme.md -> C:\\ProgramData\\jupyter\\nbextensions\\skip-traceback\\readme.md\n",
      "[I 16:29:01 InstallContribNbextensionsApp] Copying: C:\\Users\\user\\miniconda3\\envs\\kdss_base\\lib\\site-packages\\jupyter_contrib_nbextensions\\nbextensions\\skip-traceback\\skip-traceback.png -> C:\\ProgramData\\jupyter\\nbextensions\\skip-traceback\\skip-traceback.png\n",
      "[I 16:29:01 InstallContribNbextensionsApp] Copying: C:\\Users\\user\\miniconda3\\envs\\kdss_base\\lib\\site-packages\\jupyter_contrib_nbextensions\\nbextensions\\skip-traceback\\skip-traceback.yaml -> C:\\ProgramData\\jupyter\\nbextensions\\skip-traceback\\skip-traceback.yaml\n",
      "[I 16:29:01 InstallContribNbextensionsApp] Copying: C:\\Users\\user\\miniconda3\\envs\\kdss_base\\lib\\site-packages\\jupyter_contrib_nbextensions\\nbextensions\\skip-traceback\\traceback.png -> C:\\ProgramData\\jupyter\\nbextensions\\skip-traceback\\traceback.png\n",
      "[I 16:29:01 InstallContribNbextensionsApp] - Validating: ok\n",
      "[I 16:29:01 InstallContribNbextensionsApp] Installing C:\\Users\\user\\miniconda3\\envs\\kdss_base\\lib\\site-packages\\jupyter_contrib_nbextensions\\nbextensions\\snippets -> snippets\n",
      "[I 16:29:01 InstallContribNbextensionsApp] Making directory: C:\\ProgramData\\jupyter\\nbextensions\\snippets\\\n",
      "[I 16:29:01 InstallContribNbextensionsApp] Copying: C:\\Users\\user\\miniconda3\\envs\\kdss_base\\lib\\site-packages\\jupyter_contrib_nbextensions\\nbextensions\\snippets\\main.js -> C:\\ProgramData\\jupyter\\nbextensions\\snippets\\main.js\n",
      "[I 16:29:01 InstallContribNbextensionsApp] Copying: C:\\Users\\user\\miniconda3\\envs\\kdss_base\\lib\\site-packages\\jupyter_contrib_nbextensions\\nbextensions\\snippets\\README.md -> C:\\ProgramData\\jupyter\\nbextensions\\snippets\\README.md\n",
      "[I 16:29:01 InstallContribNbextensionsApp] Copying: C:\\Users\\user\\miniconda3\\envs\\kdss_base\\lib\\site-packages\\jupyter_contrib_nbextensions\\nbextensions\\snippets\\snippets-demo.gif -> C:\\ProgramData\\jupyter\\nbextensions\\snippets\\snippets-demo.gif\n",
      "[I 16:29:01 InstallContribNbextensionsApp] Copying: C:\\Users\\user\\miniconda3\\envs\\kdss_base\\lib\\site-packages\\jupyter_contrib_nbextensions\\nbextensions\\snippets\\snippets.json -> C:\\ProgramData\\jupyter\\nbextensions\\snippets\\snippets.json\n",
      "[I 16:29:01 InstallContribNbextensionsApp] Copying: C:\\Users\\user\\miniconda3\\envs\\kdss_base\\lib\\site-packages\\jupyter_contrib_nbextensions\\nbextensions\\snippets\\snippets.yaml -> C:\\ProgramData\\jupyter\\nbextensions\\snippets\\snippets.yaml\n",
      "[I 16:29:01 InstallContribNbextensionsApp] - Validating: ok\n",
      "[I 16:29:01 InstallContribNbextensionsApp] Installing C:\\Users\\user\\miniconda3\\envs\\kdss_base\\lib\\site-packages\\jupyter_contrib_nbextensions\\nbextensions\\snippets_menu -> snippets_menu\n",
      "[I 16:29:01 InstallContribNbextensionsApp] Making directory: C:\\ProgramData\\jupyter\\nbextensions\\snippets_menu\\\n",
      "[I 16:29:01 InstallContribNbextensionsApp] Copying: C:\\Users\\user\\miniconda3\\envs\\kdss_base\\lib\\site-packages\\jupyter_contrib_nbextensions\\nbextensions\\snippets_menu\\config.yaml -> C:\\ProgramData\\jupyter\\nbextensions\\snippets_menu\\config.yaml\n",
      "[I 16:29:01 InstallContribNbextensionsApp] Copying: C:\\Users\\user\\miniconda3\\envs\\kdss_base\\lib\\site-packages\\jupyter_contrib_nbextensions\\nbextensions\\snippets_menu\\examples_for_custom.js -> C:\\ProgramData\\jupyter\\nbextensions\\snippets_menu\\examples_for_custom.js\n",
      "[I 16:29:01 InstallContribNbextensionsApp] Copying: C:\\Users\\user\\miniconda3\\envs\\kdss_base\\lib\\site-packages\\jupyter_contrib_nbextensions\\nbextensions\\snippets_menu\\main.js -> C:\\ProgramData\\jupyter\\nbextensions\\snippets_menu\\main.js\n",
      "[I 16:29:01 InstallContribNbextensionsApp] Copying: C:\\Users\\user\\miniconda3\\envs\\kdss_base\\lib\\site-packages\\jupyter_contrib_nbextensions\\nbextensions\\snippets_menu\\readme.md -> C:\\ProgramData\\jupyter\\nbextensions\\snippets_menu\\readme.md\n",
      "[I 16:29:01 InstallContribNbextensionsApp] Copying: C:\\Users\\user\\miniconda3\\envs\\kdss_base\\lib\\site-packages\\jupyter_contrib_nbextensions\\nbextensions\\snippets_menu\\screenshot1.png -> C:\\ProgramData\\jupyter\\nbextensions\\snippets_menu\\screenshot1.png\n",
      "[I 16:29:01 InstallContribNbextensionsApp] Copying: C:\\Users\\user\\miniconda3\\envs\\kdss_base\\lib\\site-packages\\jupyter_contrib_nbextensions\\nbextensions\\snippets_menu\\screenshot2.png -> C:\\ProgramData\\jupyter\\nbextensions\\snippets_menu\\screenshot2.png\n",
      "[I 16:29:01 InstallContribNbextensionsApp] Copying: C:\\Users\\user\\miniconda3\\envs\\kdss_base\\lib\\site-packages\\jupyter_contrib_nbextensions\\nbextensions\\snippets_menu\\screenshot3.png -> C:\\ProgramData\\jupyter\\nbextensions\\snippets_menu\\screenshot3.png\n",
      "[I 16:29:01 InstallContribNbextensionsApp] Copying: C:\\Users\\user\\miniconda3\\envs\\kdss_base\\lib\\site-packages\\jupyter_contrib_nbextensions\\nbextensions\\snippets_menu\\snippets_menu.css -> C:\\ProgramData\\jupyter\\nbextensions\\snippets_menu\\snippets_menu.css\n",
      "[I 16:29:01 InstallContribNbextensionsApp] Copying: C:\\Users\\user\\miniconda3\\envs\\kdss_base\\lib\\site-packages\\jupyter_contrib_nbextensions\\nbextensions\\snippets_menu\\snippets_submenu_markdown.js -> C:\\ProgramData\\jupyter\\nbextensions\\snippets_menu\\snippets_submenu_markdown.js\n",
      "[I 16:29:01 InstallContribNbextensionsApp] Copying: C:\\Users\\user\\miniconda3\\envs\\kdss_base\\lib\\site-packages\\jupyter_contrib_nbextensions\\nbextensions\\snippets_menu\\snippets_submenu_python.js -> C:\\ProgramData\\jupyter\\nbextensions\\snippets_menu\\snippets_submenu_python.js\n",
      "[I 16:29:01 InstallContribNbextensionsApp] Copying: C:\\Users\\user\\miniconda3\\envs\\kdss_base\\lib\\site-packages\\jupyter_contrib_nbextensions\\nbextensions\\snippets_menu\\thumbnail.png -> C:\\ProgramData\\jupyter\\nbextensions\\snippets_menu\\thumbnail.png\n",
      "[I 16:29:01 InstallContribNbextensionsApp] Making directory: C:\\ProgramData\\jupyter\\nbextensions\\snippets_menu\\snippets_submenus_python\n",
      "[I 16:29:01 InstallContribNbextensionsApp] Copying: C:\\Users\\user\\miniconda3\\envs\\kdss_base\\lib\\site-packages\\jupyter_contrib_nbextensions\\nbextensions\\snippets_menu\\snippets_submenus_python\\astropy.js -> C:\\ProgramData\\jupyter\\nbextensions\\snippets_menu\\snippets_submenus_python\\astropy.js\n",
      "[I 16:29:01 InstallContribNbextensionsApp] Copying: C:\\Users\\user\\miniconda3\\envs\\kdss_base\\lib\\site-packages\\jupyter_contrib_nbextensions\\nbextensions\\snippets_menu\\snippets_submenus_python\\h5py.js -> C:\\ProgramData\\jupyter\\nbextensions\\snippets_menu\\snippets_submenus_python\\h5py.js\n",
      "[I 16:29:01 InstallContribNbextensionsApp] Copying: C:\\Users\\user\\miniconda3\\envs\\kdss_base\\lib\\site-packages\\jupyter_contrib_nbextensions\\nbextensions\\snippets_menu\\snippets_submenus_python\\matplotlib.js -> C:\\ProgramData\\jupyter\\nbextensions\\snippets_menu\\snippets_submenus_python\\matplotlib.js\n",
      "[I 16:29:01 InstallContribNbextensionsApp] Copying: C:\\Users\\user\\miniconda3\\envs\\kdss_base\\lib\\site-packages\\jupyter_contrib_nbextensions\\nbextensions\\snippets_menu\\snippets_submenus_python\\numba.js -> C:\\ProgramData\\jupyter\\nbextensions\\snippets_menu\\snippets_submenus_python\\numba.js\n",
      "[I 16:29:01 InstallContribNbextensionsApp] Copying: C:\\Users\\user\\miniconda3\\envs\\kdss_base\\lib\\site-packages\\jupyter_contrib_nbextensions\\nbextensions\\snippets_menu\\snippets_submenus_python\\numpy.js -> C:\\ProgramData\\jupyter\\nbextensions\\snippets_menu\\snippets_submenus_python\\numpy.js\n",
      "[I 16:29:01 InstallContribNbextensionsApp] Copying: C:\\Users\\user\\miniconda3\\envs\\kdss_base\\lib\\site-packages\\jupyter_contrib_nbextensions\\nbextensions\\snippets_menu\\snippets_submenus_python\\numpy_polynomial.js -> C:\\ProgramData\\jupyter\\nbextensions\\snippets_menu\\snippets_submenus_python\\numpy_polynomial.js\n",
      "[I 16:29:01 InstallContribNbextensionsApp] Copying: C:\\Users\\user\\miniconda3\\envs\\kdss_base\\lib\\site-packages\\jupyter_contrib_nbextensions\\nbextensions\\snippets_menu\\snippets_submenus_python\\numpy_ufuncs.js -> C:\\ProgramData\\jupyter\\nbextensions\\snippets_menu\\snippets_submenus_python\\numpy_ufuncs.js\n",
      "[I 16:29:01 InstallContribNbextensionsApp] Copying: C:\\Users\\user\\miniconda3\\envs\\kdss_base\\lib\\site-packages\\jupyter_contrib_nbextensions\\nbextensions\\snippets_menu\\snippets_submenus_python\\pandas.js -> C:\\ProgramData\\jupyter\\nbextensions\\snippets_menu\\snippets_submenus_python\\pandas.js\n",
      "[I 16:29:01 InstallContribNbextensionsApp] Copying: C:\\Users\\user\\miniconda3\\envs\\kdss_base\\lib\\site-packages\\jupyter_contrib_nbextensions\\nbextensions\\snippets_menu\\snippets_submenus_python\\python.js -> C:\\ProgramData\\jupyter\\nbextensions\\snippets_menu\\snippets_submenus_python\\python.js\n",
      "[I 16:29:01 InstallContribNbextensionsApp] Copying: C:\\Users\\user\\miniconda3\\envs\\kdss_base\\lib\\site-packages\\jupyter_contrib_nbextensions\\nbextensions\\snippets_menu\\snippets_submenus_python\\python_regex.js -> C:\\ProgramData\\jupyter\\nbextensions\\snippets_menu\\snippets_submenus_python\\python_regex.js\n",
      "[I 16:29:01 InstallContribNbextensionsApp] Copying: C:\\Users\\user\\miniconda3\\envs\\kdss_base\\lib\\site-packages\\jupyter_contrib_nbextensions\\nbextensions\\snippets_menu\\snippets_submenus_python\\scipy.js -> C:\\ProgramData\\jupyter\\nbextensions\\snippets_menu\\snippets_submenus_python\\scipy.js\n",
      "[I 16:29:01 InstallContribNbextensionsApp] Copying: C:\\Users\\user\\miniconda3\\envs\\kdss_base\\lib\\site-packages\\jupyter_contrib_nbextensions\\nbextensions\\snippets_menu\\snippets_submenus_python\\scipy_constants.js -> C:\\ProgramData\\jupyter\\nbextensions\\snippets_menu\\snippets_submenus_python\\scipy_constants.js\n",
      "[I 16:29:01 InstallContribNbextensionsApp] Copying: C:\\Users\\user\\miniconda3\\envs\\kdss_base\\lib\\site-packages\\jupyter_contrib_nbextensions\\nbextensions\\snippets_menu\\snippets_submenus_python\\scipy_special.js -> C:\\ProgramData\\jupyter\\nbextensions\\snippets_menu\\snippets_submenus_python\\scipy_special.js\n",
      "[I 16:29:01 InstallContribNbextensionsApp] Copying: C:\\Users\\user\\miniconda3\\envs\\kdss_base\\lib\\site-packages\\jupyter_contrib_nbextensions\\nbextensions\\snippets_menu\\snippets_submenus_python\\sympy.js -> C:\\ProgramData\\jupyter\\nbextensions\\snippets_menu\\snippets_submenus_python\\sympy.js\n",
      "[I 16:29:01 InstallContribNbextensionsApp] Copying: C:\\Users\\user\\miniconda3\\envs\\kdss_base\\lib\\site-packages\\jupyter_contrib_nbextensions\\nbextensions\\snippets_menu\\snippets_submenus_python\\sympy_assumptions.js -> C:\\ProgramData\\jupyter\\nbextensions\\snippets_menu\\snippets_submenus_python\\sympy_assumptions.js\n",
      "[I 16:29:01 InstallContribNbextensionsApp] Copying: C:\\Users\\user\\miniconda3\\envs\\kdss_base\\lib\\site-packages\\jupyter_contrib_nbextensions\\nbextensions\\snippets_menu\\snippets_submenus_python\\sympy_functions.js -> C:\\ProgramData\\jupyter\\nbextensions\\snippets_menu\\snippets_submenus_python\\sympy_functions.js\n",
      "[I 16:29:01 InstallContribNbextensionsApp] - Validating: ok\n",
      "[I 16:29:01 InstallContribNbextensionsApp] Installing C:\\Users\\user\\miniconda3\\envs\\kdss_base\\lib\\site-packages\\jupyter_contrib_nbextensions\\nbextensions\\spellchecker -> spellchecker\n",
      "[I 16:29:01 InstallContribNbextensionsApp] Making directory: C:\\ProgramData\\jupyter\\nbextensions\\spellchecker\\\n",
      "[I 16:29:01 InstallContribNbextensionsApp] Copying: C:\\Users\\user\\miniconda3\\envs\\kdss_base\\lib\\site-packages\\jupyter_contrib_nbextensions\\nbextensions\\spellchecker\\config.yaml -> C:\\ProgramData\\jupyter\\nbextensions\\spellchecker\\config.yaml\n",
      "[I 16:29:01 InstallContribNbextensionsApp] Copying: C:\\Users\\user\\miniconda3\\envs\\kdss_base\\lib\\site-packages\\jupyter_contrib_nbextensions\\nbextensions\\spellchecker\\download_new_dict.py -> C:\\ProgramData\\jupyter\\nbextensions\\spellchecker\\download_new_dict.py\n",
      "[I 16:29:01 InstallContribNbextensionsApp] Copying: C:\\Users\\user\\miniconda3\\envs\\kdss_base\\lib\\site-packages\\jupyter_contrib_nbextensions\\nbextensions\\spellchecker\\main.css -> C:\\ProgramData\\jupyter\\nbextensions\\spellchecker\\main.css\n",
      "[I 16:29:01 InstallContribNbextensionsApp] Copying: C:\\Users\\user\\miniconda3\\envs\\kdss_base\\lib\\site-packages\\jupyter_contrib_nbextensions\\nbextensions\\spellchecker\\main.js -> C:\\ProgramData\\jupyter\\nbextensions\\spellchecker\\main.js\n",
      "[I 16:29:01 InstallContribNbextensionsApp] Copying: C:\\Users\\user\\miniconda3\\envs\\kdss_base\\lib\\site-packages\\jupyter_contrib_nbextensions\\nbextensions\\spellchecker\\README.md -> C:\\ProgramData\\jupyter\\nbextensions\\spellchecker\\README.md\n",
      "[I 16:29:01 InstallContribNbextensionsApp] Copying: C:\\Users\\user\\miniconda3\\envs\\kdss_base\\lib\\site-packages\\jupyter_contrib_nbextensions\\nbextensions\\spellchecker\\screenshot.png -> C:\\ProgramData\\jupyter\\nbextensions\\spellchecker\\screenshot.png\n",
      "[I 16:29:01 InstallContribNbextensionsApp] Making directory: C:\\ProgramData\\jupyter\\nbextensions\\spellchecker\\typo\n",
      "[I 16:29:01 InstallContribNbextensionsApp] Copying: C:\\Users\\user\\miniconda3\\envs\\kdss_base\\lib\\site-packages\\jupyter_contrib_nbextensions\\nbextensions\\spellchecker\\typo\\LICENSE.txt -> C:\\ProgramData\\jupyter\\nbextensions\\spellchecker\\typo\\LICENSE.txt\n",
      "[I 16:29:01 InstallContribNbextensionsApp] Copying: C:\\Users\\user\\miniconda3\\envs\\kdss_base\\lib\\site-packages\\jupyter_contrib_nbextensions\\nbextensions\\spellchecker\\typo\\typo.js -> C:\\ProgramData\\jupyter\\nbextensions\\spellchecker\\typo\\typo.js\n",
      "[I 16:29:01 InstallContribNbextensionsApp] Making directory: C:\\ProgramData\\jupyter\\nbextensions\\spellchecker\\__pycache__\n",
      "[I 16:29:01 InstallContribNbextensionsApp] Copying: C:\\Users\\user\\miniconda3\\envs\\kdss_base\\lib\\site-packages\\jupyter_contrib_nbextensions\\nbextensions\\spellchecker\\__pycache__\\download_new_dict.cpython-39.pyc -> C:\\ProgramData\\jupyter\\nbextensions\\spellchecker\\__pycache__\\download_new_dict.cpython-39.pyc\n",
      "[I 16:29:01 InstallContribNbextensionsApp] - Validating: ok\n",
      "[I 16:29:01 InstallContribNbextensionsApp] Installing C:\\Users\\user\\miniconda3\\envs\\kdss_base\\lib\\site-packages\\jupyter_contrib_nbextensions\\nbextensions\\splitcell -> splitcell\n",
      "[I 16:29:01 InstallContribNbextensionsApp] Making directory: C:\\ProgramData\\jupyter\\nbextensions\\splitcell\\\n",
      "[I 16:29:01 InstallContribNbextensionsApp] Copying: C:\\Users\\user\\miniconda3\\envs\\kdss_base\\lib\\site-packages\\jupyter_contrib_nbextensions\\nbextensions\\splitcell\\icon.png -> C:\\ProgramData\\jupyter\\nbextensions\\splitcell\\icon.png\n",
      "[I 16:29:01 InstallContribNbextensionsApp] Copying: C:\\Users\\user\\miniconda3\\envs\\kdss_base\\lib\\site-packages\\jupyter_contrib_nbextensions\\nbextensions\\splitcell\\readme.md -> C:\\ProgramData\\jupyter\\nbextensions\\splitcell\\readme.md\n",
      "[I 16:29:01 InstallContribNbextensionsApp] Copying: C:\\Users\\user\\miniconda3\\envs\\kdss_base\\lib\\site-packages\\jupyter_contrib_nbextensions\\nbextensions\\splitcell\\splitcell.js -> C:\\ProgramData\\jupyter\\nbextensions\\splitcell\\splitcell.js\n",
      "[I 16:29:01 InstallContribNbextensionsApp] Copying: C:\\Users\\user\\miniconda3\\envs\\kdss_base\\lib\\site-packages\\jupyter_contrib_nbextensions\\nbextensions\\splitcell\\splitcell.yaml -> C:\\ProgramData\\jupyter\\nbextensions\\splitcell\\splitcell.yaml\n",
      "[I 16:29:01 InstallContribNbextensionsApp] - Validating: ok\n",
      "[I 16:29:01 InstallContribNbextensionsApp] Installing C:\\Users\\user\\miniconda3\\envs\\kdss_base\\lib\\site-packages\\jupyter_contrib_nbextensions\\nbextensions\\table_beautifier -> table_beautifier\n",
      "[I 16:29:01 InstallContribNbextensionsApp] Making directory: C:\\ProgramData\\jupyter\\nbextensions\\table_beautifier\\\n",
      "[I 16:29:01 InstallContribNbextensionsApp] Copying: C:\\Users\\user\\miniconda3\\envs\\kdss_base\\lib\\site-packages\\jupyter_contrib_nbextensions\\nbextensions\\table_beautifier\\main.css -> C:\\ProgramData\\jupyter\\nbextensions\\table_beautifier\\main.css\n",
      "[I 16:29:01 InstallContribNbextensionsApp] Copying: C:\\Users\\user\\miniconda3\\envs\\kdss_base\\lib\\site-packages\\jupyter_contrib_nbextensions\\nbextensions\\table_beautifier\\main.js -> C:\\ProgramData\\jupyter\\nbextensions\\table_beautifier\\main.js\n",
      "[I 16:29:01 InstallContribNbextensionsApp] Copying: C:\\Users\\user\\miniconda3\\envs\\kdss_base\\lib\\site-packages\\jupyter_contrib_nbextensions\\nbextensions\\table_beautifier\\README.md -> C:\\ProgramData\\jupyter\\nbextensions\\table_beautifier\\README.md\n",
      "[I 16:29:01 InstallContribNbextensionsApp] Copying: C:\\Users\\user\\miniconda3\\envs\\kdss_base\\lib\\site-packages\\jupyter_contrib_nbextensions\\nbextensions\\table_beautifier\\table_beautifier.yaml -> C:\\ProgramData\\jupyter\\nbextensions\\table_beautifier\\table_beautifier.yaml\n",
      "[I 16:29:01 InstallContribNbextensionsApp] - Validating: ok\n",
      "[I 16:29:01 InstallContribNbextensionsApp] Installing C:\\Users\\user\\miniconda3\\envs\\kdss_base\\lib\\site-packages\\jupyter_contrib_nbextensions\\nbextensions\\toc2 -> toc2\n",
      "[I 16:29:01 InstallContribNbextensionsApp] Making directory: C:\\ProgramData\\jupyter\\nbextensions\\toc2\\\n",
      "[I 16:29:01 InstallContribNbextensionsApp] Copying: C:\\Users\\user\\miniconda3\\envs\\kdss_base\\lib\\site-packages\\jupyter_contrib_nbextensions\\nbextensions\\toc2\\demo.gif -> C:\\ProgramData\\jupyter\\nbextensions\\toc2\\demo.gif\n",
      "[I 16:29:01 InstallContribNbextensionsApp] Copying: C:\\Users\\user\\miniconda3\\envs\\kdss_base\\lib\\site-packages\\jupyter_contrib_nbextensions\\nbextensions\\toc2\\demo2.gif -> C:\\ProgramData\\jupyter\\nbextensions\\toc2\\demo2.gif\n",
      "[I 16:29:01 InstallContribNbextensionsApp] Copying: C:\\Users\\user\\miniconda3\\envs\\kdss_base\\lib\\site-packages\\jupyter_contrib_nbextensions\\nbextensions\\toc2\\demo3.gif -> C:\\ProgramData\\jupyter\\nbextensions\\toc2\\demo3.gif\n",
      "[I 16:29:01 InstallContribNbextensionsApp] Copying: C:\\Users\\user\\miniconda3\\envs\\kdss_base\\lib\\site-packages\\jupyter_contrib_nbextensions\\nbextensions\\toc2\\demo_dark.png -> C:\\ProgramData\\jupyter\\nbextensions\\toc2\\demo_dark.png\n",
      "[I 16:29:01 InstallContribNbextensionsApp] Copying: C:\\Users\\user\\miniconda3\\envs\\kdss_base\\lib\\site-packages\\jupyter_contrib_nbextensions\\nbextensions\\toc2\\icon.png -> C:\\ProgramData\\jupyter\\nbextensions\\toc2\\icon.png\n",
      "[I 16:29:01 InstallContribNbextensionsApp] Copying: C:\\Users\\user\\miniconda3\\envs\\kdss_base\\lib\\site-packages\\jupyter_contrib_nbextensions\\nbextensions\\toc2\\image.png -> C:\\ProgramData\\jupyter\\nbextensions\\toc2\\image.png\n",
      "[I 16:29:01 InstallContribNbextensionsApp] Copying: C:\\Users\\user\\miniconda3\\envs\\kdss_base\\lib\\site-packages\\jupyter_contrib_nbextensions\\nbextensions\\toc2\\main.css -> C:\\ProgramData\\jupyter\\nbextensions\\toc2\\main.css\n",
      "[I 16:29:01 InstallContribNbextensionsApp] Copying: C:\\Users\\user\\miniconda3\\envs\\kdss_base\\lib\\site-packages\\jupyter_contrib_nbextensions\\nbextensions\\toc2\\main.js -> C:\\ProgramData\\jupyter\\nbextensions\\toc2\\main.js\n",
      "[I 16:29:01 InstallContribNbextensionsApp] Copying: C:\\Users\\user\\miniconda3\\envs\\kdss_base\\lib\\site-packages\\jupyter_contrib_nbextensions\\nbextensions\\toc2\\README.md -> C:\\ProgramData\\jupyter\\nbextensions\\toc2\\README.md\n",
      "[I 16:29:01 InstallContribNbextensionsApp] Copying: C:\\Users\\user\\miniconda3\\envs\\kdss_base\\lib\\site-packages\\jupyter_contrib_nbextensions\\nbextensions\\toc2\\toc2.js -> C:\\ProgramData\\jupyter\\nbextensions\\toc2\\toc2.js\n",
      "[I 16:29:01 InstallContribNbextensionsApp] Copying: C:\\Users\\user\\miniconda3\\envs\\kdss_base\\lib\\site-packages\\jupyter_contrib_nbextensions\\nbextensions\\toc2\\toc2.yaml -> C:\\ProgramData\\jupyter\\nbextensions\\toc2\\toc2.yaml\n",
      "[I 16:29:01 InstallContribNbextensionsApp] - Validating: ok\n",
      "[I 16:29:01 InstallContribNbextensionsApp] Installing C:\\Users\\user\\miniconda3\\envs\\kdss_base\\lib\\site-packages\\jupyter_contrib_nbextensions\\nbextensions\\toggle_all_line_numbers -> toggle_all_line_numbers\n",
      "[I 16:29:01 InstallContribNbextensionsApp] Making directory: C:\\ProgramData\\jupyter\\nbextensions\\toggle_all_line_numbers\\\n",
      "[I 16:29:01 InstallContribNbextensionsApp] Copying: C:\\Users\\user\\miniconda3\\envs\\kdss_base\\lib\\site-packages\\jupyter_contrib_nbextensions\\nbextensions\\toggle_all_line_numbers\\icon.png -> C:\\ProgramData\\jupyter\\nbextensions\\toggle_all_line_numbers\\icon.png\n",
      "[I 16:29:01 InstallContribNbextensionsApp] Copying: C:\\Users\\user\\miniconda3\\envs\\kdss_base\\lib\\site-packages\\jupyter_contrib_nbextensions\\nbextensions\\toggle_all_line_numbers\\main.js -> C:\\ProgramData\\jupyter\\nbextensions\\toggle_all_line_numbers\\main.js\n",
      "[I 16:29:01 InstallContribNbextensionsApp] Copying: C:\\Users\\user\\miniconda3\\envs\\kdss_base\\lib\\site-packages\\jupyter_contrib_nbextensions\\nbextensions\\toggle_all_line_numbers\\main.yaml -> C:\\ProgramData\\jupyter\\nbextensions\\toggle_all_line_numbers\\main.yaml\n",
      "[I 16:29:01 InstallContribNbextensionsApp] Copying: C:\\Users\\user\\miniconda3\\envs\\kdss_base\\lib\\site-packages\\jupyter_contrib_nbextensions\\nbextensions\\toggle_all_line_numbers\\readme.md -> C:\\ProgramData\\jupyter\\nbextensions\\toggle_all_line_numbers\\readme.md\n",
      "[I 16:29:01 InstallContribNbextensionsApp] - Validating: ok\n",
      "[I 16:29:01 InstallContribNbextensionsApp] Installing C:\\Users\\user\\miniconda3\\envs\\kdss_base\\lib\\site-packages\\jupyter_contrib_nbextensions\\nbextensions\\tree-filter -> tree-filter\n",
      "[I 16:29:01 InstallContribNbextensionsApp] Making directory: C:\\ProgramData\\jupyter\\nbextensions\\tree-filter\\\n",
      "[I 16:29:01 InstallContribNbextensionsApp] Copying: C:\\Users\\user\\miniconda3\\envs\\kdss_base\\lib\\site-packages\\jupyter_contrib_nbextensions\\nbextensions\\tree-filter\\demo.gif -> C:\\ProgramData\\jupyter\\nbextensions\\tree-filter\\demo.gif\n",
      "[I 16:29:01 InstallContribNbextensionsApp] Copying: C:\\Users\\user\\miniconda3\\envs\\kdss_base\\lib\\site-packages\\jupyter_contrib_nbextensions\\nbextensions\\tree-filter\\index.js -> C:\\ProgramData\\jupyter\\nbextensions\\tree-filter\\index.js\n",
      "[I 16:29:01 InstallContribNbextensionsApp] Copying: C:\\Users\\user\\miniconda3\\envs\\kdss_base\\lib\\site-packages\\jupyter_contrib_nbextensions\\nbextensions\\tree-filter\\readme.md -> C:\\ProgramData\\jupyter\\nbextensions\\tree-filter\\readme.md\n",
      "[I 16:29:01 InstallContribNbextensionsApp] Copying: C:\\Users\\user\\miniconda3\\envs\\kdss_base\\lib\\site-packages\\jupyter_contrib_nbextensions\\nbextensions\\tree-filter\\tree-filter.yaml -> C:\\ProgramData\\jupyter\\nbextensions\\tree-filter\\tree-filter.yaml\n",
      "[I 16:29:01 InstallContribNbextensionsApp] - Validating: ok\n",
      "[I 16:29:01 InstallContribNbextensionsApp] Installing C:\\Users\\user\\miniconda3\\envs\\kdss_base\\lib\\site-packages\\jupyter_contrib_nbextensions\\nbextensions\\varInspector -> varInspector\n",
      "[I 16:29:01 InstallContribNbextensionsApp] Making directory: C:\\ProgramData\\jupyter\\nbextensions\\varInspector\\\n",
      "[I 16:29:01 InstallContribNbextensionsApp] Copying: C:\\Users\\user\\miniconda3\\envs\\kdss_base\\lib\\site-packages\\jupyter_contrib_nbextensions\\nbextensions\\varInspector\\demo.gif -> C:\\ProgramData\\jupyter\\nbextensions\\varInspector\\demo.gif\n",
      "[I 16:29:01 InstallContribNbextensionsApp] Copying: C:\\Users\\user\\miniconda3\\envs\\kdss_base\\lib\\site-packages\\jupyter_contrib_nbextensions\\nbextensions\\varInspector\\icon.png -> C:\\ProgramData\\jupyter\\nbextensions\\varInspector\\icon.png\n",
      "[I 16:29:01 InstallContribNbextensionsApp] Copying: C:\\Users\\user\\miniconda3\\envs\\kdss_base\\lib\\site-packages\\jupyter_contrib_nbextensions\\nbextensions\\varInspector\\jquery.tablesorter.min.js -> C:\\ProgramData\\jupyter\\nbextensions\\varInspector\\jquery.tablesorter.min.js\n",
      "[I 16:29:01 InstallContribNbextensionsApp] Copying: C:\\Users\\user\\miniconda3\\envs\\kdss_base\\lib\\site-packages\\jupyter_contrib_nbextensions\\nbextensions\\varInspector\\main.css -> C:\\ProgramData\\jupyter\\nbextensions\\varInspector\\main.css\n",
      "[I 16:29:01 InstallContribNbextensionsApp] Copying: C:\\Users\\user\\miniconda3\\envs\\kdss_base\\lib\\site-packages\\jupyter_contrib_nbextensions\\nbextensions\\varInspector\\main.js -> C:\\ProgramData\\jupyter\\nbextensions\\varInspector\\main.js\n",
      "[I 16:29:01 InstallContribNbextensionsApp] Copying: C:\\Users\\user\\miniconda3\\envs\\kdss_base\\lib\\site-packages\\jupyter_contrib_nbextensions\\nbextensions\\varInspector\\README.md -> C:\\ProgramData\\jupyter\\nbextensions\\varInspector\\README.md\n",
      "[I 16:29:01 InstallContribNbextensionsApp] Copying: C:\\Users\\user\\miniconda3\\envs\\kdss_base\\lib\\site-packages\\jupyter_contrib_nbextensions\\nbextensions\\varInspector\\tablesorter_LICENSE.txt -> C:\\ProgramData\\jupyter\\nbextensions\\varInspector\\tablesorter_LICENSE.txt\n",
      "[I 16:29:01 InstallContribNbextensionsApp] Copying: C:\\Users\\user\\miniconda3\\envs\\kdss_base\\lib\\site-packages\\jupyter_contrib_nbextensions\\nbextensions\\varInspector\\varInspector.yaml -> C:\\ProgramData\\jupyter\\nbextensions\\varInspector\\varInspector.yaml\n",
      "[I 16:29:01 InstallContribNbextensionsApp] Copying: C:\\Users\\user\\miniconda3\\envs\\kdss_base\\lib\\site-packages\\jupyter_contrib_nbextensions\\nbextensions\\varInspector\\var_list.py -> C:\\ProgramData\\jupyter\\nbextensions\\varInspector\\var_list.py\n",
      "[I 16:29:01 InstallContribNbextensionsApp] Copying: C:\\Users\\user\\miniconda3\\envs\\kdss_base\\lib\\site-packages\\jupyter_contrib_nbextensions\\nbextensions\\varInspector\\var_list.r -> C:\\ProgramData\\jupyter\\nbextensions\\varInspector\\var_list.r\n",
      "[I 16:29:01 InstallContribNbextensionsApp] Making directory: C:\\ProgramData\\jupyter\\nbextensions\\varInspector\\__pycache__\n",
      "[I 16:29:01 InstallContribNbextensionsApp] Copying: C:\\Users\\user\\miniconda3\\envs\\kdss_base\\lib\\site-packages\\jupyter_contrib_nbextensions\\nbextensions\\varInspector\\__pycache__\\var_list.cpython-39.pyc -> C:\\ProgramData\\jupyter\\nbextensions\\varInspector\\__pycache__\\var_list.cpython-39.pyc\n",
      "[I 16:29:01 InstallContribNbextensionsApp] - Validating: ok\n",
      "[I 16:29:01 InstallContribNbextensionsApp] Installing C:\\Users\\user\\miniconda3\\envs\\kdss_base\\lib\\site-packages\\jupyter_contrib_nbextensions\\nbextensions\\zenmode -> zenmode\n",
      "[I 16:29:01 InstallContribNbextensionsApp] Making directory: C:\\ProgramData\\jupyter\\nbextensions\\zenmode\\\n",
      "[I 16:29:01 InstallContribNbextensionsApp] Copying: C:\\Users\\user\\miniconda3\\envs\\kdss_base\\lib\\site-packages\\jupyter_contrib_nbextensions\\nbextensions\\zenmode\\main.css -> C:\\ProgramData\\jupyter\\nbextensions\\zenmode\\main.css\n",
      "[I 16:29:01 InstallContribNbextensionsApp] Copying: C:\\Users\\user\\miniconda3\\envs\\kdss_base\\lib\\site-packages\\jupyter_contrib_nbextensions\\nbextensions\\zenmode\\main.js -> C:\\ProgramData\\jupyter\\nbextensions\\zenmode\\main.js\n",
      "[I 16:29:01 InstallContribNbextensionsApp] Copying: C:\\Users\\user\\miniconda3\\envs\\kdss_base\\lib\\site-packages\\jupyter_contrib_nbextensions\\nbextensions\\zenmode\\README.md -> C:\\ProgramData\\jupyter\\nbextensions\\zenmode\\README.md\n",
      "[I 16:29:01 InstallContribNbextensionsApp] Copying: C:\\Users\\user\\miniconda3\\envs\\kdss_base\\lib\\site-packages\\jupyter_contrib_nbextensions\\nbextensions\\zenmode\\zenmode.yaml -> C:\\ProgramData\\jupyter\\nbextensions\\zenmode\\zenmode.yaml\n",
      "[I 16:29:01 InstallContribNbextensionsApp] Making directory: C:\\ProgramData\\jupyter\\nbextensions\\zenmode\\images\n",
      "[I 16:29:01 InstallContribNbextensionsApp] Copying: C:\\Users\\user\\miniconda3\\envs\\kdss_base\\lib\\site-packages\\jupyter_contrib_nbextensions\\nbextensions\\zenmode\\images\\back1.jpg -> C:\\ProgramData\\jupyter\\nbextensions\\zenmode\\images\\back1.jpg\n",
      "[I 16:29:01 InstallContribNbextensionsApp] Copying: C:\\Users\\user\\miniconda3\\envs\\kdss_base\\lib\\site-packages\\jupyter_contrib_nbextensions\\nbextensions\\zenmode\\images\\back11.jpg -> C:\\ProgramData\\jupyter\\nbextensions\\zenmode\\images\\back11.jpg\n",
      "[I 16:29:01 InstallContribNbextensionsApp] Copying: C:\\Users\\user\\miniconda3\\envs\\kdss_base\\lib\\site-packages\\jupyter_contrib_nbextensions\\nbextensions\\zenmode\\images\\back12.jpg -> C:\\ProgramData\\jupyter\\nbextensions\\zenmode\\images\\back12.jpg\n",
      "[I 16:29:01 InstallContribNbextensionsApp] Copying: C:\\Users\\user\\miniconda3\\envs\\kdss_base\\lib\\site-packages\\jupyter_contrib_nbextensions\\nbextensions\\zenmode\\images\\back2.jpg -> C:\\ProgramData\\jupyter\\nbextensions\\zenmode\\images\\back2.jpg\n",
      "[I 16:29:01 InstallContribNbextensionsApp] Copying: C:\\Users\\user\\miniconda3\\envs\\kdss_base\\lib\\site-packages\\jupyter_contrib_nbextensions\\nbextensions\\zenmode\\images\\back21.jpg -> C:\\ProgramData\\jupyter\\nbextensions\\zenmode\\images\\back21.jpg\n",
      "[I 16:29:01 InstallContribNbextensionsApp] Copying: C:\\Users\\user\\miniconda3\\envs\\kdss_base\\lib\\site-packages\\jupyter_contrib_nbextensions\\nbextensions\\zenmode\\images\\back22.jpg -> C:\\ProgramData\\jupyter\\nbextensions\\zenmode\\images\\back22.jpg\n",
      "[I 16:29:01 InstallContribNbextensionsApp] Copying: C:\\Users\\user\\miniconda3\\envs\\kdss_base\\lib\\site-packages\\jupyter_contrib_nbextensions\\nbextensions\\zenmode\\images\\back3.jpg -> C:\\ProgramData\\jupyter\\nbextensions\\zenmode\\images\\back3.jpg\n",
      "[I 16:29:01 InstallContribNbextensionsApp] Copying: C:\\Users\\user\\miniconda3\\envs\\kdss_base\\lib\\site-packages\\jupyter_contrib_nbextensions\\nbextensions\\zenmode\\images\\ipynblogo0.png -> C:\\ProgramData\\jupyter\\nbextensions\\zenmode\\images\\ipynblogo0.png\n",
      "[I 16:29:01 InstallContribNbextensionsApp] Copying: C:\\Users\\user\\miniconda3\\envs\\kdss_base\\lib\\site-packages\\jupyter_contrib_nbextensions\\nbextensions\\zenmode\\images\\ipynblogo1.png -> C:\\ProgramData\\jupyter\\nbextensions\\zenmode\\images\\ipynblogo1.png\n",
      "[I 16:29:01 InstallContribNbextensionsApp] - Validating: ok\n",
      "[I 16:29:01 InstallContribNbextensionsApp] Installing C:\\Users\\user\\miniconda3\\envs\\kdss_base\\lib\\site-packages\\jupyter_highlight_selected_word\\static\\highlight_selected_word -> highlight_selected_word\n",
      "[I 16:29:01 InstallContribNbextensionsApp] Making directory: C:\\ProgramData\\jupyter\\nbextensions\\highlight_selected_word\\\n",
      "[I 16:29:01 InstallContribNbextensionsApp] Copying: C:\\Users\\user\\miniconda3\\envs\\kdss_base\\lib\\site-packages\\jupyter_highlight_selected_word\\static\\highlight_selected_word\\configurator.yaml -> C:\\ProgramData\\jupyter\\nbextensions\\highlight_selected_word\\configurator.yaml\n",
      "[I 16:29:01 InstallContribNbextensionsApp] Copying: C:\\Users\\user\\miniconda3\\envs\\kdss_base\\lib\\site-packages\\jupyter_highlight_selected_word\\static\\highlight_selected_word\\main.js -> C:\\ProgramData\\jupyter\\nbextensions\\highlight_selected_word\\main.js\n",
      "[I 16:29:01 InstallContribNbextensionsApp] Copying: C:\\Users\\user\\miniconda3\\envs\\kdss_base\\lib\\site-packages\\jupyter_highlight_selected_word\\static\\highlight_selected_word\\README.md -> C:\\ProgramData\\jupyter\\nbextensions\\highlight_selected_word\\README.md\n",
      "[I 16:29:01 InstallContribNbextensionsApp] - Validating: ok\n",
      "[I 16:29:01 InstallContribNbextensionsApp] Installing jupyter_contrib_nbextensions items to config in C:\\ProgramData\\jupyter\n",
      "Enabling: jupyter_nbextensions_configurator\n",
      "- Writing config: C:\\ProgramData\\jupyter\n",
      "    - Validating...\n",
      "      jupyter_nbextensions_configurator 0.6.3 ok\n",
      "Enabling notebook nbextension nbextensions_configurator/config_menu/main...\n",
      "Enabling tree nbextension nbextensions_configurator/tree_tab/main...\n",
      "[I 16:29:01 InstallContribNbextensionsApp] Enabling notebook extension contrib_nbextensions_help_item/main...\n",
      "[I 16:29:01 InstallContribNbextensionsApp]       - Validating: ok\n",
      "[I 16:29:01 InstallContribNbextensionsApp] - Editing config: C:\\ProgramData\\jupyter\\jupyter_nbconvert_config.json\n",
      "[I 16:29:01 InstallContribNbextensionsApp] --  Configuring nbconvert template path\n",
      "[I 16:29:01 InstallContribNbextensionsApp] --  Configuring nbconvert preprocessors\n",
      "[I 16:29:01 InstallContribNbextensionsApp] - Writing config: C:\\ProgramData\\jupyter\\jupyter_nbconvert_config.json\n",
      "[I 16:29:01 InstallContribNbextensionsApp] --  Writing updated config file C:\\ProgramData\\jupyter\\jupyter_nbconvert_config.json\n"
     ]
    }
   ],
   "source": [
    "!pip install jupyter_contrib_nbextensions && jupyter contrib nbextension install"
   ]
  },
  {
   "cell_type": "code",
   "execution_count": null,
   "id": "1ac3d707-ba83-427a-8d97-97a5a5a731a6",
   "metadata": {
    "canvas": {
     "comments": [],
     "componentType": "CodeCell",
     "copiedOriginId": null,
     "diskcache": false,
     "headerColor": "transparent",
     "id": "23b49fdc-a88e-4747-a1b5-083a3d3d04a2",
     "isComponent": false,
     "name": "",
     "parents": []
    }
   },
   "outputs": [],
   "source": []
  }
 ],
 "metadata": {
  "canvas": {
   "colorPalette": [
    "inherit",
    "inherit",
    "inherit",
    "inherit",
    "inherit",
    "inherit",
    "inherit",
    "inherit",
    "inherit",
    "inherit"
   ],
   "parameters": [],
   "version": "1.0"
  },
  "kernelspec": {
   "display_name": "Python 3 (ipykernel)",
   "language": "python",
   "name": "python3"
  },
  "language_info": {
   "codemirror_mode": {
    "name": "ipython",
    "version": 3
   },
   "file_extension": ".py",
   "mimetype": "text/x-python",
   "name": "python",
   "nbconvert_exporter": "python",
   "pygments_lexer": "ipython3",
   "version": "3.9.16"
  },
  "toc-autonumbering": true
 },
 "nbformat": 4,
 "nbformat_minor": 5
}
